{
 "cells": [
  {
   "cell_type": "markdown",
   "id": "725ed422",
   "metadata": {
    "papermill": {
     "duration": 0.02162,
     "end_time": "2021-08-27T03:28:04.237894",
     "exception": false,
     "start_time": "2021-08-27T03:28:04.216274",
     "status": "completed"
    },
    "tags": []
   },
   "source": [
    "**This notebook is an exercise in the [Data Visualization](https://www.kaggle.com/learn/data-visualization) course.  You can reference the tutorial at [this link](https://www.kaggle.com/alexisbcook/scatter-plots).**\n",
    "\n",
    "---\n"
   ]
  },
  {
   "cell_type": "markdown",
   "id": "a09aed84",
   "metadata": {
    "papermill": {
     "duration": 0.020398,
     "end_time": "2021-08-27T03:28:04.280215",
     "exception": false,
     "start_time": "2021-08-27T03:28:04.259817",
     "status": "completed"
    },
    "tags": []
   },
   "source": [
    "In this exercise, you will use your new knowledge to propose a solution to a real-world scenario.  To succeed, you will need to import data into Python, answer questions using the data, and generate **scatter plots** to understand patterns in the data.\n",
    "\n",
    "## Scenario\n",
    "\n",
    "You work for a major candy producer, and your goal is to write a report that your company can use to guide the design of its next product.  Soon after starting your research, you stumble across this [very interesting dataset](https://fivethirtyeight.com/features/the-ultimate-halloween-candy-power-ranking/) containing results from a fun survey to crowdsource favorite candies.\n",
    "\n",
    "## Setup\n",
    "\n",
    "Run the next cell to import and configure the Python libraries that you need to complete the exercise."
   ]
  },
  {
   "cell_type": "code",
   "execution_count": 1,
   "id": "f1ebf0bd",
   "metadata": {
    "execution": {
     "iopub.execute_input": "2021-08-27T03:28:04.334578Z",
     "iopub.status.busy": "2021-08-27T03:28:04.333872Z",
     "iopub.status.idle": "2021-08-27T03:28:05.363099Z",
     "shell.execute_reply": "2021-08-27T03:28:05.363818Z",
     "shell.execute_reply.started": "2021-08-27T03:19:19.985393Z"
    },
    "papermill": {
     "duration": 1.063145,
     "end_time": "2021-08-27T03:28:05.364217",
     "exception": false,
     "start_time": "2021-08-27T03:28:04.301072",
     "status": "completed"
    },
    "tags": []
   },
   "outputs": [
    {
     "name": "stdout",
     "output_type": "stream",
     "text": [
      "Setup Complete\n"
     ]
    }
   ],
   "source": [
    "import pandas as pd\n",
    "pd.plotting.register_matplotlib_converters()\n",
    "import matplotlib.pyplot as plt\n",
    "%matplotlib inline\n",
    "import seaborn as sns\n",
    "print(\"Setup Complete\")"
   ]
  },
  {
   "cell_type": "markdown",
   "id": "383477da",
   "metadata": {
    "papermill": {
     "duration": 0.02706,
     "end_time": "2021-08-27T03:28:05.421348",
     "exception": false,
     "start_time": "2021-08-27T03:28:05.394288",
     "status": "completed"
    },
    "tags": []
   },
   "source": [
    "The questions below will give you feedback on your work. Run the following cell to set up our feedback system."
   ]
  },
  {
   "cell_type": "code",
   "execution_count": 2,
   "id": "211064f6",
   "metadata": {
    "execution": {
     "iopub.execute_input": "2021-08-27T03:28:05.465684Z",
     "iopub.status.busy": "2021-08-27T03:28:05.465086Z",
     "iopub.status.idle": "2021-08-27T03:28:05.530623Z",
     "shell.execute_reply": "2021-08-27T03:28:05.530098Z",
     "shell.execute_reply.started": "2021-08-27T03:19:24.045837Z"
    },
    "papermill": {
     "duration": 0.088823,
     "end_time": "2021-08-27T03:28:05.530780",
     "exception": false,
     "start_time": "2021-08-27T03:28:05.441957",
     "status": "completed"
    },
    "tags": []
   },
   "outputs": [
    {
     "name": "stdout",
     "output_type": "stream",
     "text": [
      "Setup Complete\n"
     ]
    }
   ],
   "source": [
    "# Set up code checking\n",
    "import os\n",
    "if not os.path.exists(\"../input/candy.csv\"):\n",
    "    os.symlink(\"../input/data-for-datavis/candy.csv\", \"../input/candy.csv\") \n",
    "from learntools.core import binder\n",
    "binder.bind(globals())\n",
    "from learntools.data_viz_to_coder.ex4 import *\n",
    "print(\"Setup Complete\")"
   ]
  },
  {
   "cell_type": "markdown",
   "id": "8d8b92c6",
   "metadata": {
    "papermill": {
     "duration": 0.021747,
     "end_time": "2021-08-27T03:28:05.573474",
     "exception": false,
     "start_time": "2021-08-27T03:28:05.551727",
     "status": "completed"
    },
    "tags": []
   },
   "source": [
    "## Step 1: Load the Data\n",
    "\n",
    "Read the candy data file into `candy_data`.  Use the `\"id\"` column to label the rows."
   ]
  },
  {
   "cell_type": "code",
   "execution_count": 3,
   "id": "96d585d2",
   "metadata": {
    "execution": {
     "iopub.execute_input": "2021-08-27T03:28:05.620068Z",
     "iopub.status.busy": "2021-08-27T03:28:05.619438Z",
     "iopub.status.idle": "2021-08-27T03:28:05.632135Z",
     "shell.execute_reply": "2021-08-27T03:28:05.632564Z",
     "shell.execute_reply.started": "2021-08-27T03:20:29.229397Z"
    },
    "papermill": {
     "duration": 0.038299,
     "end_time": "2021-08-27T03:28:05.632766",
     "exception": false,
     "start_time": "2021-08-27T03:28:05.594467",
     "status": "completed"
    },
    "tags": []
   },
   "outputs": [
    {
     "data": {
      "application/javascript": [
       "parent.postMessage({\"jupyterEvent\": \"custom.exercise_interaction\", \"data\": {\"outcomeType\": 1, \"valueTowardsCompletion\": 0.3333333333333333, \"interactionType\": 1, \"questionType\": 1, \"questionId\": \"1_LoadData\", \"learnToolsVersion\": \"0.3.4\", \"failureMessage\": \"\", \"exceptionClass\": \"\", \"trace\": \"\"}}, \"*\")"
      ],
      "text/plain": [
       "<IPython.core.display.Javascript object>"
      ]
     },
     "metadata": {},
     "output_type": "display_data"
    },
    {
     "data": {
      "text/markdown": [
       "<span style=\"color:#33cc33\">Correct</span>"
      ],
      "text/plain": [
       "Correct"
      ]
     },
     "metadata": {},
     "output_type": "display_data"
    }
   ],
   "source": [
    "# Path of the file to read\n",
    "candy_filepath = \"../input/candy.csv\"\n",
    "\n",
    "# Fill in the line below to read the file into a variable candy_data\n",
    "candy_data = pd.read_csv(candy_filepath, index_col=\"id\")\n",
    "\n",
    "# Run the line below with no changes to check that you've loaded the data correctly\n",
    "step_1.check()"
   ]
  },
  {
   "cell_type": "code",
   "execution_count": 4,
   "id": "8da80c48",
   "metadata": {
    "execution": {
     "iopub.execute_input": "2021-08-27T03:28:05.680339Z",
     "iopub.status.busy": "2021-08-27T03:28:05.679376Z",
     "iopub.status.idle": "2021-08-27T03:28:05.682766Z",
     "shell.execute_reply": "2021-08-27T03:28:05.683182Z",
     "shell.execute_reply.started": "2021-08-27T03:20:17.105670Z"
    },
    "papermill": {
     "duration": 0.028849,
     "end_time": "2021-08-27T03:28:05.683359",
     "exception": false,
     "start_time": "2021-08-27T03:28:05.654510",
     "status": "completed"
    },
    "tags": []
   },
   "outputs": [],
   "source": [
    "# Lines below will give you a hint or solution code\n",
    "#step_1.hint()\n",
    "#step_1.solution()"
   ]
  },
  {
   "cell_type": "markdown",
   "id": "ad2c76b9",
   "metadata": {
    "papermill": {
     "duration": 0.021463,
     "end_time": "2021-08-27T03:28:05.726641",
     "exception": false,
     "start_time": "2021-08-27T03:28:05.705178",
     "status": "completed"
    },
    "tags": []
   },
   "source": [
    "## Step 2: Review the data\n",
    "\n",
    "Use a Python command to print the first five rows of the data."
   ]
  },
  {
   "cell_type": "code",
   "execution_count": 5,
   "id": "809f9826",
   "metadata": {
    "execution": {
     "iopub.execute_input": "2021-08-27T03:28:05.773432Z",
     "iopub.status.busy": "2021-08-27T03:28:05.772702Z",
     "iopub.status.idle": "2021-08-27T03:28:05.798361Z",
     "shell.execute_reply": "2021-08-27T03:28:05.797774Z",
     "shell.execute_reply.started": "2021-08-27T03:21:21.558779Z"
    },
    "papermill": {
     "duration": 0.050106,
     "end_time": "2021-08-27T03:28:05.798493",
     "exception": false,
     "start_time": "2021-08-27T03:28:05.748387",
     "status": "completed"
    },
    "tags": []
   },
   "outputs": [
    {
     "data": {
      "text/html": [
       "<div>\n",
       "<style scoped>\n",
       "    .dataframe tbody tr th:only-of-type {\n",
       "        vertical-align: middle;\n",
       "    }\n",
       "\n",
       "    .dataframe tbody tr th {\n",
       "        vertical-align: top;\n",
       "    }\n",
       "\n",
       "    .dataframe thead th {\n",
       "        text-align: right;\n",
       "    }\n",
       "</style>\n",
       "<table border=\"1\" class=\"dataframe\">\n",
       "  <thead>\n",
       "    <tr style=\"text-align: right;\">\n",
       "      <th></th>\n",
       "      <th>competitorname</th>\n",
       "      <th>chocolate</th>\n",
       "      <th>fruity</th>\n",
       "      <th>caramel</th>\n",
       "      <th>peanutyalmondy</th>\n",
       "      <th>nougat</th>\n",
       "      <th>crispedricewafer</th>\n",
       "      <th>hard</th>\n",
       "      <th>bar</th>\n",
       "      <th>pluribus</th>\n",
       "      <th>sugarpercent</th>\n",
       "      <th>pricepercent</th>\n",
       "      <th>winpercent</th>\n",
       "    </tr>\n",
       "    <tr>\n",
       "      <th>id</th>\n",
       "      <th></th>\n",
       "      <th></th>\n",
       "      <th></th>\n",
       "      <th></th>\n",
       "      <th></th>\n",
       "      <th></th>\n",
       "      <th></th>\n",
       "      <th></th>\n",
       "      <th></th>\n",
       "      <th></th>\n",
       "      <th></th>\n",
       "      <th></th>\n",
       "      <th></th>\n",
       "    </tr>\n",
       "  </thead>\n",
       "  <tbody>\n",
       "    <tr>\n",
       "      <th>0</th>\n",
       "      <td>100 Grand</td>\n",
       "      <td>Yes</td>\n",
       "      <td>No</td>\n",
       "      <td>Yes</td>\n",
       "      <td>No</td>\n",
       "      <td>No</td>\n",
       "      <td>Yes</td>\n",
       "      <td>No</td>\n",
       "      <td>Yes</td>\n",
       "      <td>No</td>\n",
       "      <td>0.732</td>\n",
       "      <td>0.860</td>\n",
       "      <td>66.971725</td>\n",
       "    </tr>\n",
       "    <tr>\n",
       "      <th>1</th>\n",
       "      <td>3 Musketeers</td>\n",
       "      <td>Yes</td>\n",
       "      <td>No</td>\n",
       "      <td>No</td>\n",
       "      <td>No</td>\n",
       "      <td>Yes</td>\n",
       "      <td>No</td>\n",
       "      <td>No</td>\n",
       "      <td>Yes</td>\n",
       "      <td>No</td>\n",
       "      <td>0.604</td>\n",
       "      <td>0.511</td>\n",
       "      <td>67.602936</td>\n",
       "    </tr>\n",
       "    <tr>\n",
       "      <th>2</th>\n",
       "      <td>Air Heads</td>\n",
       "      <td>No</td>\n",
       "      <td>Yes</td>\n",
       "      <td>No</td>\n",
       "      <td>No</td>\n",
       "      <td>No</td>\n",
       "      <td>No</td>\n",
       "      <td>No</td>\n",
       "      <td>No</td>\n",
       "      <td>No</td>\n",
       "      <td>0.906</td>\n",
       "      <td>0.511</td>\n",
       "      <td>52.341465</td>\n",
       "    </tr>\n",
       "    <tr>\n",
       "      <th>3</th>\n",
       "      <td>Almond Joy</td>\n",
       "      <td>Yes</td>\n",
       "      <td>No</td>\n",
       "      <td>No</td>\n",
       "      <td>Yes</td>\n",
       "      <td>No</td>\n",
       "      <td>No</td>\n",
       "      <td>No</td>\n",
       "      <td>Yes</td>\n",
       "      <td>No</td>\n",
       "      <td>0.465</td>\n",
       "      <td>0.767</td>\n",
       "      <td>50.347546</td>\n",
       "    </tr>\n",
       "    <tr>\n",
       "      <th>4</th>\n",
       "      <td>Baby Ruth</td>\n",
       "      <td>Yes</td>\n",
       "      <td>No</td>\n",
       "      <td>Yes</td>\n",
       "      <td>Yes</td>\n",
       "      <td>Yes</td>\n",
       "      <td>No</td>\n",
       "      <td>No</td>\n",
       "      <td>Yes</td>\n",
       "      <td>No</td>\n",
       "      <td>0.604</td>\n",
       "      <td>0.767</td>\n",
       "      <td>56.914547</td>\n",
       "    </tr>\n",
       "  </tbody>\n",
       "</table>\n",
       "</div>"
      ],
      "text/plain": [
       "   competitorname chocolate fruity caramel peanutyalmondy nougat  \\\n",
       "id                                                                 \n",
       "0       100 Grand       Yes     No     Yes             No     No   \n",
       "1    3 Musketeers       Yes     No      No             No    Yes   \n",
       "2       Air Heads        No    Yes      No             No     No   \n",
       "3      Almond Joy       Yes     No      No            Yes     No   \n",
       "4       Baby Ruth       Yes     No     Yes            Yes    Yes   \n",
       "\n",
       "   crispedricewafer hard  bar pluribus  sugarpercent  pricepercent  winpercent  \n",
       "id                                                                              \n",
       "0               Yes   No  Yes       No         0.732         0.860   66.971725  \n",
       "1                No   No  Yes       No         0.604         0.511   67.602936  \n",
       "2                No   No   No       No         0.906         0.511   52.341465  \n",
       "3                No   No  Yes       No         0.465         0.767   50.347546  \n",
       "4                No   No  Yes       No         0.604         0.767   56.914547  "
      ]
     },
     "execution_count": 5,
     "metadata": {},
     "output_type": "execute_result"
    }
   ],
   "source": [
    "# Print the first five rows of the data\n",
    "candy_data.head() # Your code here"
   ]
  },
  {
   "cell_type": "markdown",
   "id": "b69abcf8",
   "metadata": {
    "papermill": {
     "duration": 0.02206,
     "end_time": "2021-08-27T03:28:05.845252",
     "exception": false,
     "start_time": "2021-08-27T03:28:05.823192",
     "status": "completed"
    },
    "tags": []
   },
   "source": [
    "The dataset contains 83 rows, where each corresponds to a different candy bar.  There are 13 columns:\n",
    "- `'competitorname'` contains the name of the candy bar. \n",
    "- the next **9** columns (from `'chocolate'` to `'pluribus'`) describe the candy.  For instance, rows with chocolate candies have `\"Yes\"` in the `'chocolate'` column (and candies without chocolate have `\"No\"` in the same column).\n",
    "- `'sugarpercent'` provides some indication of the amount of sugar, where higher values signify higher sugar content.\n",
    "- `'pricepercent'` shows the price per unit, relative to the other candies in the dataset.\n",
    "- `'winpercent'` is calculated from the survey results; higher values indicate that the candy was more popular with survey respondents.\n",
    "\n",
    "Use the first five rows of the data to answer the questions below."
   ]
  },
  {
   "cell_type": "code",
   "execution_count": 6,
   "id": "45d76ca5",
   "metadata": {
    "execution": {
     "iopub.execute_input": "2021-08-27T03:28:05.906552Z",
     "iopub.status.busy": "2021-08-27T03:28:05.905626Z",
     "iopub.status.idle": "2021-08-27T03:28:05.913295Z",
     "shell.execute_reply": "2021-08-27T03:28:05.913778Z",
     "shell.execute_reply.started": "2021-08-27T03:21:53.162323Z"
    },
    "papermill": {
     "duration": 0.037396,
     "end_time": "2021-08-27T03:28:05.913952",
     "exception": false,
     "start_time": "2021-08-27T03:28:05.876556",
     "status": "completed"
    },
    "tags": []
   },
   "outputs": [
    {
     "data": {
      "application/javascript": [
       "parent.postMessage({\"jupyterEvent\": \"custom.exercise_interaction\", \"data\": {\"outcomeType\": 1, \"valueTowardsCompletion\": 0.3333333333333333, \"interactionType\": 1, \"questionType\": 1, \"questionId\": \"2_ReviewData\", \"learnToolsVersion\": \"0.3.4\", \"failureMessage\": \"\", \"exceptionClass\": \"\", \"trace\": \"\"}}, \"*\")"
      ],
      "text/plain": [
       "<IPython.core.display.Javascript object>"
      ]
     },
     "metadata": {},
     "output_type": "display_data"
    },
    {
     "data": {
      "text/markdown": [
       "<span style=\"color:#33cc33\">Correct</span>"
      ],
      "text/plain": [
       "Correct"
      ]
     },
     "metadata": {},
     "output_type": "display_data"
    }
   ],
   "source": [
    "# Fill in the line below: Which candy was more popular with survey respondents:\n",
    "# '3 Musketeers' or 'Almond Joy'?  (Please enclose your answer in single quotes.)\n",
    "more_popular = '3 Musketeers'\n",
    "\n",
    "# Fill in the line below: Which candy has higher sugar content: 'Air Heads'\n",
    "# or 'Baby Ruth'? (Please enclose your answer in single quotes.)\n",
    "more_sugar = 'Air Heads'\n",
    "\n",
    "# Check your answers\n",
    "step_2.check()"
   ]
  },
  {
   "cell_type": "code",
   "execution_count": 7,
   "id": "39f913b0",
   "metadata": {
    "execution": {
     "iopub.execute_input": "2021-08-27T03:28:05.967688Z",
     "iopub.status.busy": "2021-08-27T03:28:05.966682Z",
     "iopub.status.idle": "2021-08-27T03:28:05.971341Z",
     "shell.execute_reply": "2021-08-27T03:28:05.971873Z",
     "shell.execute_reply.started": "2021-08-27T03:21:32.465448Z"
    },
    "papermill": {
     "duration": 0.03508,
     "end_time": "2021-08-27T03:28:05.972079",
     "exception": false,
     "start_time": "2021-08-27T03:28:05.936999",
     "status": "completed"
    },
    "tags": []
   },
   "outputs": [],
   "source": [
    "# Lines below will give you a hint or solution code\n",
    "#step_2.hint()\n",
    "#step_2.solution()"
   ]
  },
  {
   "cell_type": "markdown",
   "id": "d9145b3f",
   "metadata": {
    "papermill": {
     "duration": 0.025149,
     "end_time": "2021-08-27T03:28:06.021774",
     "exception": false,
     "start_time": "2021-08-27T03:28:05.996625",
     "status": "completed"
    },
    "tags": []
   },
   "source": [
    "## Step 3: The role of sugar\n",
    "\n",
    "Do people tend to prefer candies with higher sugar content?  \n",
    "\n",
    "#### Part A\n",
    "\n",
    "Create a scatter plot that shows the relationship between `'sugarpercent'` (on the horizontal x-axis) and `'winpercent'` (on the vertical y-axis).  _Don't add a regression line just yet -- you'll do that in the next step!_"
   ]
  },
  {
   "cell_type": "code",
   "execution_count": 8,
   "id": "9bb6f7dc",
   "metadata": {
    "execution": {
     "iopub.execute_input": "2021-08-27T03:28:06.072689Z",
     "iopub.status.busy": "2021-08-27T03:28:06.072059Z",
     "iopub.status.idle": "2021-08-27T03:28:06.321462Z",
     "shell.execute_reply": "2021-08-27T03:28:06.320858Z",
     "shell.execute_reply.started": "2021-08-27T03:22:16.621615Z"
    },
    "papermill": {
     "duration": 0.275631,
     "end_time": "2021-08-27T03:28:06.321597",
     "exception": false,
     "start_time": "2021-08-27T03:28:06.045966",
     "status": "completed"
    },
    "tags": []
   },
   "outputs": [
    {
     "data": {
      "application/javascript": [
       "parent.postMessage({\"jupyterEvent\": \"custom.exercise_interaction\", \"data\": {\"outcomeType\": 1, \"valueTowardsCompletion\": 0.3333333333333333, \"interactionType\": 1, \"questionType\": 2, \"questionId\": \"3.1_PlotBlueScatter\", \"learnToolsVersion\": \"0.3.4\", \"failureMessage\": \"\", \"exceptionClass\": \"\", \"trace\": \"\"}}, \"*\")"
      ],
      "text/plain": [
       "<IPython.core.display.Javascript object>"
      ]
     },
     "metadata": {},
     "output_type": "display_data"
    },
    {
     "data": {
      "text/markdown": [
       "<span style=\"color:#33cc33\">Correct</span>"
      ],
      "text/plain": [
       "Correct"
      ]
     },
     "metadata": {},
     "output_type": "display_data"
    },
    {
     "data": {
      "image/png": "[encoded data removed]",
      "text/plain": [
       "<Figure size 432x288 with 1 Axes>"
      ]
     },
     "metadata": {
      "needs_background": "light"
     },
     "output_type": "display_data"
    }
   ],
   "source": [
    "# Scatter plot showing the relationship between 'sugarpercent' and 'winpercent'\n",
    "sns.scatterplot(x=candy_data['sugarpercent'], y=candy_data['winpercent']) # Your code here\n",
    "\n",
    "# Check your answer\n",
    "step_3.a.check()"
   ]
  },
  {
   "cell_type": "code",
   "execution_count": 9,
   "id": "d2c04247",
   "metadata": {
    "execution": {
     "iopub.execute_input": "2021-08-27T03:28:06.374709Z",
     "iopub.status.busy": "2021-08-27T03:28:06.374102Z",
     "iopub.status.idle": "2021-08-27T03:28:06.377449Z",
     "shell.execute_reply": "2021-08-27T03:28:06.376956Z",
     "shell.execute_reply.started": "2021-08-27T03:22:07.068712Z"
    },
    "papermill": {
     "duration": 0.031286,
     "end_time": "2021-08-27T03:28:06.377586",
     "exception": false,
     "start_time": "2021-08-27T03:28:06.346300",
     "status": "completed"
    },
    "tags": []
   },
   "outputs": [],
   "source": [
    "# Lines below will give you a hint or solution code\n",
    "#step_3.a.hint()\n",
    "#step_3.a.solution_plot()"
   ]
  },
  {
   "cell_type": "markdown",
   "id": "cf321f22",
   "metadata": {
    "papermill": {
     "duration": 0.024067,
     "end_time": "2021-08-27T03:28:06.426404",
     "exception": false,
     "start_time": "2021-08-27T03:28:06.402337",
     "status": "completed"
    },
    "tags": []
   },
   "source": [
    "#### Part B\n",
    "\n",
    "Does the scatter plot show a **strong** correlation between the two variables?  If so, are candies with more sugar relatively more or less popular with the survey respondents?"
   ]
  },
  {
   "cell_type": "code",
   "execution_count": 10,
   "id": "68aa7fa5",
   "metadata": {
    "execution": {
     "iopub.execute_input": "2021-08-27T03:28:06.480049Z",
     "iopub.status.busy": "2021-08-27T03:28:06.479394Z",
     "iopub.status.idle": "2021-08-27T03:28:06.482569Z",
     "shell.execute_reply": "2021-08-27T03:28:06.482128Z"
    },
    "papermill": {
     "duration": 0.031611,
     "end_time": "2021-08-27T03:28:06.482706",
     "exception": false,
     "start_time": "2021-08-27T03:28:06.451095",
     "status": "completed"
    },
    "tags": []
   },
   "outputs": [],
   "source": [
    "#step_3.b.hint()"
   ]
  },
  {
   "cell_type": "code",
   "execution_count": 11,
   "id": "2fe95148",
   "metadata": {
    "execution": {
     "iopub.execute_input": "2021-08-27T03:28:06.538469Z",
     "iopub.status.busy": "2021-08-27T03:28:06.537726Z",
     "iopub.status.idle": "2021-08-27T03:28:06.542292Z",
     "shell.execute_reply": "2021-08-27T03:28:06.541712Z",
     "shell.execute_reply.started": "2021-08-27T03:22:38.020960Z"
    },
    "papermill": {
     "duration": 0.033726,
     "end_time": "2021-08-27T03:28:06.542432",
     "exception": false,
     "start_time": "2021-08-27T03:28:06.508706",
     "status": "completed"
    },
    "tags": []
   },
   "outputs": [
    {
     "data": {
      "application/javascript": [
       "parent.postMessage({\"jupyterEvent\": \"custom.exercise_interaction\", \"data\": {\"interactionType\": 3, \"questionType\": 4, \"questionId\": \"3.2_ThinkBlueScatter\", \"learnToolsVersion\": \"0.3.4\", \"valueTowardsCompletion\": 0.0, \"failureMessage\": \"\", \"exceptionClass\": \"\", \"trace\": \"\", \"outcomeType\": 4}}, \"*\")"
      ],
      "text/plain": [
       "<IPython.core.display.Javascript object>"
      ]
     },
     "metadata": {},
     "output_type": "display_data"
    },
    {
     "data": {
      "text/markdown": [
       "<span style=\"color:#33cc99\">Solution:</span> The scatter plot does not show a strong correlation between the two variables. Since there is no clear relationship between the two variables, this tells us that sugar content does not play a strong role in candy popularity."
      ],
      "text/plain": [
       "Solution: The scatter plot does not show a strong correlation between the two variables. Since there is no clear relationship between the two variables, this tells us that sugar content does not play a strong role in candy popularity."
      ]
     },
     "metadata": {},
     "output_type": "display_data"
    }
   ],
   "source": [
    "# Check your answer (Run this code cell to receive credit!)\n",
    "step_3.b.solution()"
   ]
  },
  {
   "cell_type": "markdown",
   "id": "9c8eb7e6",
   "metadata": {
    "papermill": {
     "duration": 0.024803,
     "end_time": "2021-08-27T03:28:06.592629",
     "exception": false,
     "start_time": "2021-08-27T03:28:06.567826",
     "status": "completed"
    },
    "tags": []
   },
   "source": [
    "## Step 4: Take a closer look\n",
    "\n",
    "#### Part A\n",
    "\n",
    "Create the same scatter plot you created in **Step 3**, but now with a regression line!"
   ]
  },
  {
   "cell_type": "code",
   "execution_count": 12,
   "id": "4dda14d5",
   "metadata": {
    "execution": {
     "iopub.execute_input": "2021-08-27T03:28:06.673419Z",
     "iopub.status.busy": "2021-08-27T03:28:06.672683Z",
     "iopub.status.idle": "2021-08-27T03:28:06.927117Z",
     "shell.execute_reply": "2021-08-27T03:28:06.926595Z",
     "shell.execute_reply.started": "2021-08-27T03:23:34.897892Z"
    },
    "papermill": {
     "duration": 0.309019,
     "end_time": "2021-08-27T03:28:06.927261",
     "exception": false,
     "start_time": "2021-08-27T03:28:06.618242",
     "status": "completed"
    },
    "tags": []
   },
   "outputs": [
    {
     "data": {
      "application/javascript": [
       "parent.postMessage({\"jupyterEvent\": \"custom.exercise_interaction\", \"data\": {\"outcomeType\": 1, \"valueTowardsCompletion\": 0.3333333333333333, \"interactionType\": 1, \"questionType\": 2, \"questionId\": \"4.1_PlotBlueReg\", \"learnToolsVersion\": \"0.3.4\", \"failureMessage\": \"\", \"exceptionClass\": \"\", \"trace\": \"\"}}, \"*\")"
      ],
      "text/plain": [
       "<IPython.core.display.Javascript object>"
      ]
     },
     "metadata": {},
     "output_type": "display_data"
    },
    {
     "data": {
      "text/markdown": [
       "<span style=\"color:#33cc33\">Correct</span>"
      ],
      "text/plain": [
       "Correct"
      ]
     },
     "metadata": {},
     "output_type": "display_data"
    },
    {
     "data": {
      "image/png": "[encoded data removed]",
      "text/plain": [
       "<Figure size 432x288 with 1 Axes>"
      ]
     },
     "metadata": {
      "needs_background": "light"
     },
     "output_type": "display_data"
    }
   ],
   "source": [
    "# Scatter plot w/ regression line showing the relationship between 'sugarpercent' and 'winpercent'\n",
    "sns.regplot(x=candy_data['sugarpercent'], y=candy_data['winpercent']) # Your code here\n",
    "\n",
    "# Check your answer\n",
    "step_4.a.check()"
   ]
  },
  {
   "cell_type": "code",
   "execution_count": 13,
   "id": "d729ee52",
   "metadata": {
    "execution": {
     "iopub.execute_input": "2021-08-27T03:28:06.988380Z",
     "iopub.status.busy": "2021-08-27T03:28:06.987408Z",
     "iopub.status.idle": "2021-08-27T03:28:06.990578Z",
     "shell.execute_reply": "2021-08-27T03:28:06.990093Z"
    },
    "papermill": {
     "duration": 0.034634,
     "end_time": "2021-08-27T03:28:06.990713",
     "exception": false,
     "start_time": "2021-08-27T03:28:06.956079",
     "status": "completed"
    },
    "tags": []
   },
   "outputs": [],
   "source": [
    "# Lines below will give you a hint or solution code\n",
    "#step_4.a.hint()\n",
    "#step_4.a.solution_plot()"
   ]
  },
  {
   "cell_type": "markdown",
   "id": "1ba48374",
   "metadata": {
    "papermill": {
     "duration": 0.026477,
     "end_time": "2021-08-27T03:28:07.044175",
     "exception": false,
     "start_time": "2021-08-27T03:28:07.017698",
     "status": "completed"
    },
    "tags": []
   },
   "source": [
    "#### Part B\n",
    "\n",
    "According to the plot above, is there a **slight** correlation between `'winpercent'` and `'sugarpercent'`?  What does this tell you about the candy that people tend to prefer?"
   ]
  },
  {
   "cell_type": "code",
   "execution_count": 14,
   "id": "a0000302",
   "metadata": {
    "execution": {
     "iopub.execute_input": "2021-08-27T03:28:07.102581Z",
     "iopub.status.busy": "2021-08-27T03:28:07.101620Z",
     "iopub.status.idle": "2021-08-27T03:28:07.105064Z",
     "shell.execute_reply": "2021-08-27T03:28:07.104582Z"
    },
    "papermill": {
     "duration": 0.034248,
     "end_time": "2021-08-27T03:28:07.105208",
     "exception": false,
     "start_time": "2021-08-27T03:28:07.070960",
     "status": "completed"
    },
    "tags": []
   },
   "outputs": [],
   "source": [
    "#step_4.b.hint()"
   ]
  },
  {
   "cell_type": "code",
   "execution_count": 15,
   "id": "9c41edc7",
   "metadata": {
    "execution": {
     "iopub.execute_input": "2021-08-27T03:28:07.164780Z",
     "iopub.status.busy": "2021-08-27T03:28:07.164163Z",
     "iopub.status.idle": "2021-08-27T03:28:07.168309Z",
     "shell.execute_reply": "2021-08-27T03:28:07.168776Z",
     "shell.execute_reply.started": "2021-08-27T03:23:56.220739Z"
    },
    "papermill": {
     "duration": 0.035711,
     "end_time": "2021-08-27T03:28:07.168947",
     "exception": false,
     "start_time": "2021-08-27T03:28:07.133236",
     "status": "completed"
    },
    "tags": []
   },
   "outputs": [
    {
     "data": {
      "application/javascript": [
       "parent.postMessage({\"jupyterEvent\": \"custom.exercise_interaction\", \"data\": {\"interactionType\": 3, \"questionType\": 4, \"questionId\": \"4.2_ThinkBlueReg\", \"learnToolsVersion\": \"0.3.4\", \"valueTowardsCompletion\": 0.0, \"failureMessage\": \"\", \"exceptionClass\": \"\", \"trace\": \"\", \"outcomeType\": 4}}, \"*\")"
      ],
      "text/plain": [
       "<IPython.core.display.Javascript object>"
      ]
     },
     "metadata": {},
     "output_type": "display_data"
    },
    {
     "data": {
      "text/markdown": [
       "<span style=\"color:#33cc99\">Solution:</span> Since the regression line has a slightly positive slope, this tells us that there is a slightly positive correlation between `'winpercent'` and `'sugarpercent'`. Thus, people have a slight preference for candies containing relatively more sugar."
      ],
      "text/plain": [
       "Solution: Since the regression line has a slightly positive slope, this tells us that there is a slightly positive correlation between `'winpercent'` and `'sugarpercent'`. Thus, people have a slight preference for candies containing relatively more sugar."
      ]
     },
     "metadata": {},
     "output_type": "display_data"
    }
   ],
   "source": [
    "# Check your answer (Run this code cell to receive credit!)\n",
    "step_4.b.solution()"
   ]
  },
  {
   "cell_type": "markdown",
   "id": "d7e59225",
   "metadata": {
    "papermill": {
     "duration": 0.027144,
     "end_time": "2021-08-27T03:28:07.224249",
     "exception": false,
     "start_time": "2021-08-27T03:28:07.197105",
     "status": "completed"
    },
    "tags": []
   },
   "source": [
    "## Step 5: Chocolate!\n",
    "\n",
    "In the code cell below, create a scatter plot to show the relationship between `'pricepercent'` (on the horizontal x-axis) and `'winpercent'` (on the vertical y-axis). Use the `'chocolate'` column to color-code the points.  _Don't add any regression lines just yet -- you'll do that in the next step!_"
   ]
  },
  {
   "cell_type": "code",
   "execution_count": 16,
   "id": "f6ca3d8d",
   "metadata": {
    "execution": {
     "iopub.execute_input": "2021-08-27T03:28:07.282055Z",
     "iopub.status.busy": "2021-08-27T03:28:07.281482Z",
     "iopub.status.idle": "2021-08-27T03:28:07.424826Z",
     "shell.execute_reply": "2021-08-27T03:28:07.424313Z",
     "shell.execute_reply.started": "2021-08-27T03:24:55.421468Z"
    },
    "papermill": {
     "duration": 0.173239,
     "end_time": "2021-08-27T03:28:07.425002",
     "exception": false,
     "start_time": "2021-08-27T03:28:07.251763",
     "status": "completed"
    },
    "tags": []
   },
   "outputs": [
    {
     "data": {
      "application/javascript": [
       "parent.postMessage({\"jupyterEvent\": \"custom.exercise_interaction\", \"data\": {\"outcomeType\": 1, \"valueTowardsCompletion\": 0.3333333333333333, \"interactionType\": 1, \"questionType\": 2, \"questionId\": \"5_ColorScatter\", \"learnToolsVersion\": \"0.3.4\", \"failureMessage\": \"\", \"exceptionClass\": \"\", \"trace\": \"\"}}, \"*\")"
      ],
      "text/plain": [
       "<IPython.core.display.Javascript object>"
      ]
     },
     "metadata": {},
     "output_type": "display_data"
    },
    {
     "data": {
      "text/markdown": [
       "<span style=\"color:#33cc33\">Correct</span>"
      ],
      "text/plain": [
       "Correct"
      ]
     },
     "metadata": {},
     "output_type": "display_data"
    },
    {
     "data": {
      "image/png": "[encoded data removed]",
      "text/plain": [
       "<Figure size 432x288 with 1 Axes>"
      ]
     },
     "metadata": {
      "needs_background": "light"
     },
     "output_type": "display_data"
    }
   ],
   "source": [
    "# Scatter plot showing the relationship between 'pricepercent', 'winpercent', and 'chocolate'\n",
    "sns.scatterplot(x=candy_data['winpercent'], y=candy_data['chocolate']) # Your code here\n",
    "\n",
    "# Check your answer\n",
    "step_5.check()"
   ]
  },
  {
   "cell_type": "code",
   "execution_count": 17,
   "id": "fc780b28",
   "metadata": {
    "execution": {
     "iopub.execute_input": "2021-08-27T03:28:07.487646Z",
     "iopub.status.busy": "2021-08-27T03:28:07.487059Z",
     "iopub.status.idle": "2021-08-27T03:28:07.489703Z",
     "shell.execute_reply": "2021-08-27T03:28:07.489125Z"
    },
    "papermill": {
     "duration": 0.035131,
     "end_time": "2021-08-27T03:28:07.489856",
     "exception": false,
     "start_time": "2021-08-27T03:28:07.454725",
     "status": "completed"
    },
    "tags": []
   },
   "outputs": [],
   "source": [
    "# Lines below will give you a hint or solution code\n",
    "#step_5.hint()\n",
    "#step_5.solution_plot()"
   ]
  },
  {
   "cell_type": "markdown",
   "id": "f11d6636",
   "metadata": {
    "papermill": {
     "duration": 0.028907,
     "end_time": "2021-08-27T03:28:07.549612",
     "exception": false,
     "start_time": "2021-08-27T03:28:07.520705",
     "status": "completed"
    },
    "tags": []
   },
   "source": [
    "Can you see any interesting patterns in the scatter plot?  We'll investigate this plot further  by adding regression lines in the next step!\n",
    "\n",
    "## Step 6: Investigate chocolate\n",
    "\n",
    "#### Part A\n",
    "\n",
    "Create the same scatter plot you created in **Step 5**, but now with two regression lines, corresponding to (1) chocolate candies and (2) candies without chocolate."
   ]
  },
  {
   "cell_type": "code",
   "execution_count": 18,
   "id": "73e871e2",
   "metadata": {
    "execution": {
     "iopub.execute_input": "2021-08-27T03:28:07.645046Z",
     "iopub.status.busy": "2021-08-27T03:28:07.632061Z",
     "iopub.status.idle": "2021-08-27T03:28:08.200462Z",
     "shell.execute_reply": "2021-08-27T03:28:08.199838Z",
     "shell.execute_reply.started": "2021-08-27T03:25:20.533367Z"
    },
    "papermill": {
     "duration": 0.621609,
     "end_time": "2021-08-27T03:28:08.200600",
     "exception": false,
     "start_time": "2021-08-27T03:28:07.578991",
     "status": "completed"
    },
    "tags": []
   },
   "outputs": [
    {
     "data": {
      "application/javascript": [
       "parent.postMessage({\"jupyterEvent\": \"custom.exercise_interaction\", \"data\": {\"outcomeType\": 1, \"valueTowardsCompletion\": 0.3333333333333333, \"interactionType\": 1, \"questionType\": 2, \"questionId\": \"6.1_PlotColorReg\", \"learnToolsVersion\": \"0.3.4\", \"failureMessage\": \"\", \"exceptionClass\": \"\", \"trace\": \"\"}}, \"*\")"
      ],
      "text/plain": [
       "<IPython.core.display.Javascript object>"
      ]
     },
     "metadata": {},
     "output_type": "display_data"
    },
    {
     "data": {
      "text/markdown": [
       "<span style=\"color:#33cc33\">Correct</span>"
      ],
      "text/plain": [
       "Correct"
      ]
     },
     "metadata": {},
     "output_type": "display_data"
    },
    {
     "data": {
      "image/png": "[encoded data removed]",
      "text/plain": [
       "<Figure size 416.375x360 with 1 Axes>"
      ]
     },
     "metadata": {
      "needs_background": "light"
     },
     "output_type": "display_data"
    }
   ],
   "source": [
    "# Color-coded scatter plot w/ regression lines\n",
    "sns.lmplot(x=\"pricepercent\", y=\"winpercent\", hue=\"chocolate\", data=candy_data) # Your code here\n",
    "\n",
    "# Check your answer\n",
    "step_6.a.check()"
   ]
  },
  {
   "cell_type": "code",
   "execution_count": 19,
   "id": "b6114ad9",
   "metadata": {
    "execution": {
     "iopub.execute_input": "2021-08-27T03:28:08.267180Z",
     "iopub.status.busy": "2021-08-27T03:28:08.266517Z",
     "iopub.status.idle": "2021-08-27T03:28:08.269798Z",
     "shell.execute_reply": "2021-08-27T03:28:08.269231Z",
     "shell.execute_reply.started": "2021-08-27T03:25:07.941899Z"
    },
    "papermill": {
     "duration": 0.038014,
     "end_time": "2021-08-27T03:28:08.269948",
     "exception": false,
     "start_time": "2021-08-27T03:28:08.231934",
     "status": "completed"
    },
    "tags": []
   },
   "outputs": [],
   "source": [
    "# Lines below will give you a hint or solution code\n",
    "#step_6.a.hint()\n",
    "#step_6.a.solution_plot()"
   ]
  },
  {
   "cell_type": "markdown",
   "id": "67d5beff",
   "metadata": {
    "papermill": {
     "duration": 0.03158,
     "end_time": "2021-08-27T03:28:08.332909",
     "exception": false,
     "start_time": "2021-08-27T03:28:08.301329",
     "status": "completed"
    },
    "tags": []
   },
   "source": [
    "#### Part B\n",
    "\n",
    "Using the regression lines, what conclusions can you draw about the effects of chocolate and price on candy popularity?"
   ]
  },
  {
   "cell_type": "code",
   "execution_count": 20,
   "id": "67a37511",
   "metadata": {
    "execution": {
     "iopub.execute_input": "2021-08-27T03:28:08.404090Z",
     "iopub.status.busy": "2021-08-27T03:28:08.403365Z",
     "iopub.status.idle": "2021-08-27T03:28:08.407288Z",
     "shell.execute_reply": "2021-08-27T03:28:08.406337Z"
    },
    "papermill": {
     "duration": 0.043401,
     "end_time": "2021-08-27T03:28:08.407471",
     "exception": false,
     "start_time": "2021-08-27T03:28:08.364070",
     "status": "completed"
    },
    "tags": []
   },
   "outputs": [],
   "source": [
    "#step_6.b.hint()"
   ]
  },
  {
   "cell_type": "code",
   "execution_count": 21,
   "id": "05ffd732",
   "metadata": {
    "execution": {
     "iopub.execute_input": "2021-08-27T03:28:08.476712Z",
     "iopub.status.busy": "2021-08-27T03:28:08.476078Z",
     "iopub.status.idle": "2021-08-27T03:28:08.481529Z",
     "shell.execute_reply": "2021-08-27T03:28:08.480953Z",
     "shell.execute_reply.started": "2021-08-27T03:25:45.251227Z"
    },
    "papermill": {
     "duration": 0.042553,
     "end_time": "2021-08-27T03:28:08.481665",
     "exception": false,
     "start_time": "2021-08-27T03:28:08.439112",
     "status": "completed"
    },
    "tags": []
   },
   "outputs": [
    {
     "data": {
      "application/javascript": [
       "parent.postMessage({\"jupyterEvent\": \"custom.exercise_interaction\", \"data\": {\"interactionType\": 3, \"questionType\": 4, \"questionId\": \"6.2_ThinkColorReg\", \"learnToolsVersion\": \"0.3.4\", \"valueTowardsCompletion\": 0.0, \"failureMessage\": \"\", \"exceptionClass\": \"\", \"trace\": \"\", \"outcomeType\": 4}}, \"*\")"
      ],
      "text/plain": [
       "<IPython.core.display.Javascript object>"
      ]
     },
     "metadata": {},
     "output_type": "display_data"
    },
    {
     "data": {
      "text/markdown": [
       "<span style=\"color:#33cc99\">Solution:</span> We'll begin with the regression line for chocolate candies. Since this line has a slightly positive slope, we can say that more expensive chocolate candies tend to be more popular (than relatively cheaper chocolate candies).  Likewise, since the regression line for candies without chocolate has a negative slope, we can say that if candies don't contain chocolate, they tend to be more popular when they are cheaper.  One important note, however, is that the dataset is quite small -- so we shouldn't invest too much trust in these patterns!  To inspire more confidence in the results, we should add more candies to the dataset."
      ],
      "text/plain": [
       "Solution: We'll begin with the regression line for chocolate candies. Since this line has a slightly positive slope, we can say that more expensive chocolate candies tend to be more popular (than relatively cheaper chocolate candies).  Likewise, since the regression line for candies without chocolate has a negative slope, we can say that if candies don't contain chocolate, they tend to be more popular when they are cheaper.  One important note, however, is that the dataset is quite small -- so we shouldn't invest too much trust in these patterns!  To inspire more confidence in the results, we should add more candies to the dataset."
      ]
     },
     "metadata": {},
     "output_type": "display_data"
    }
   ],
   "source": [
    "# Check your answer (Run this code cell to receive credit!)\n",
    "step_6.b.solution()"
   ]
  },
  {
   "cell_type": "markdown",
   "id": "dabc9619",
   "metadata": {
    "papermill": {
     "duration": 0.031708,
     "end_time": "2021-08-27T03:28:08.547028",
     "exception": false,
     "start_time": "2021-08-27T03:28:08.515320",
     "status": "completed"
    },
    "tags": []
   },
   "source": [
    "## Step 7: Everybody loves chocolate.\n",
    "\n",
    "#### Part A\n",
    "\n",
    "Create a categorical scatter plot to highlight the relationship between `'chocolate'` and `'winpercent'`.  Put `'chocolate'` on the (horizontal) x-axis, and `'winpercent'` on the (vertical) y-axis."
   ]
  },
  {
   "cell_type": "code",
   "execution_count": 22,
   "id": "67dc0108",
   "metadata": {
    "execution": {
     "iopub.execute_input": "2021-08-27T03:28:08.636298Z",
     "iopub.status.busy": "2021-08-27T03:28:08.634799Z",
     "iopub.status.idle": "2021-08-27T03:28:08.808818Z",
     "shell.execute_reply": "2021-08-27T03:28:08.808289Z",
     "shell.execute_reply.started": "2021-08-27T03:27:22.920569Z"
    },
    "papermill": {
     "duration": 0.230185,
     "end_time": "2021-08-27T03:28:08.808968",
     "exception": false,
     "start_time": "2021-08-27T03:28:08.578783",
     "status": "completed"
    },
    "tags": []
   },
   "outputs": [
    {
     "data": {
      "application/javascript": [
       "parent.postMessage({\"jupyterEvent\": \"custom.exercise_interaction\", \"data\": {\"outcomeType\": 1, \"valueTowardsCompletion\": 0.3333333333333333, \"interactionType\": 1, \"questionType\": 2, \"questionId\": \"7.1_PlotSwarm\", \"learnToolsVersion\": \"0.3.4\", \"failureMessage\": \"\", \"exceptionClass\": \"\", \"trace\": \"\"}}, \"*\")"
      ],
      "text/plain": [
       "<IPython.core.display.Javascript object>"
      ]
     },
     "metadata": {},
     "output_type": "display_data"
    },
    {
     "data": {
      "text/markdown": [
       "<span style=\"color:#33cc33\">Correct</span>"
      ],
      "text/plain": [
       "Correct"
      ]
     },
     "metadata": {},
     "output_type": "display_data"
    },
    {
     "data": {
      "image/png": "[encoded data removed]",
      "text/plain": [
       "<Figure size 432x288 with 1 Axes>"
      ]
     },
     "metadata": {
      "needs_background": "light"
     },
     "output_type": "display_data"
    }
   ],
   "source": [
    "# Scatter plot showing the relationship between 'chocolate' and 'winpercent'\n",
    "sns.swarmplot(x=candy_data['chocolate'], y=candy_data['winpercent']) # Your code here\n",
    "\n",
    "# Check your answer\n",
    "step_7.a.check()"
   ]
  },
  {
   "cell_type": "code",
   "execution_count": 23,
   "id": "1dc1f10e",
   "metadata": {
    "execution": {
     "iopub.execute_input": "2021-08-27T03:28:08.878958Z",
     "iopub.status.busy": "2021-08-27T03:28:08.878293Z",
     "iopub.status.idle": "2021-08-27T03:28:08.883280Z",
     "shell.execute_reply": "2021-08-27T03:28:08.882715Z"
    },
    "papermill": {
     "duration": 0.041456,
     "end_time": "2021-08-27T03:28:08.883425",
     "exception": false,
     "start_time": "2021-08-27T03:28:08.841969",
     "status": "completed"
    },
    "tags": []
   },
   "outputs": [],
   "source": [
    "# Lines below will give you a hint or solution code\n",
    "#step_7.a.hint()\n",
    "#step_7.a.solution_plot()"
   ]
  },
  {
   "cell_type": "markdown",
   "id": "394b43f2",
   "metadata": {
    "papermill": {
     "duration": 0.03299,
     "end_time": "2021-08-27T03:28:08.949814",
     "exception": false,
     "start_time": "2021-08-27T03:28:08.916824",
     "status": "completed"
    },
    "tags": []
   },
   "source": [
    "#### Part B\n",
    "\n",
    "You decide to dedicate a section of your report to the fact that chocolate candies tend to be more popular than candies without chocolate.  Which plot is more appropriate to tell this story: the plot from **Step 6**, or the plot from **Step 7**?"
   ]
  },
  {
   "cell_type": "code",
   "execution_count": 24,
   "id": "ce4fc7a0",
   "metadata": {
    "execution": {
     "iopub.execute_input": "2021-08-27T03:28:09.022159Z",
     "iopub.status.busy": "2021-08-27T03:28:09.021154Z",
     "iopub.status.idle": "2021-08-27T03:28:09.023446Z",
     "shell.execute_reply": "2021-08-27T03:28:09.023869Z"
    },
    "papermill": {
     "duration": 0.041378,
     "end_time": "2021-08-27T03:28:09.024049",
     "exception": false,
     "start_time": "2021-08-27T03:28:08.982671",
     "status": "completed"
    },
    "tags": []
   },
   "outputs": [],
   "source": [
    "#step_7.b.hint()"
   ]
  },
  {
   "cell_type": "code",
   "execution_count": 25,
   "id": "496700da",
   "metadata": {
    "execution": {
     "iopub.execute_input": "2021-08-27T03:28:09.093759Z",
     "iopub.status.busy": "2021-08-27T03:28:09.092836Z",
     "iopub.status.idle": "2021-08-27T03:28:09.100077Z",
     "shell.execute_reply": "2021-08-27T03:28:09.100513Z",
     "shell.execute_reply.started": "2021-08-27T03:27:30.087314Z"
    },
    "papermill": {
     "duration": 0.04353,
     "end_time": "2021-08-27T03:28:09.100678",
     "exception": false,
     "start_time": "2021-08-27T03:28:09.057148",
     "status": "completed"
    },
    "tags": []
   },
   "outputs": [
    {
     "data": {
      "application/javascript": [
       "parent.postMessage({\"jupyterEvent\": \"custom.exercise_interaction\", \"data\": {\"interactionType\": 3, \"questionType\": 4, \"questionId\": \"7.2_ThinkSwarm\", \"learnToolsVersion\": \"0.3.4\", \"valueTowardsCompletion\": 0.0, \"failureMessage\": \"\", \"exceptionClass\": \"\", \"trace\": \"\", \"outcomeType\": 4}}, \"*\")"
      ],
      "text/plain": [
       "<IPython.core.display.Javascript object>"
      ]
     },
     "metadata": {},
     "output_type": "display_data"
    },
    {
     "data": {
      "text/markdown": [
       "<span style=\"color:#33cc99\">Solution:</span> In this case, the categorical scatter plot from **Step 7** is the more appropriate plot. While both plots tell the desired story, the plot from **Step 6** conveys far more information that could distract from the main point."
      ],
      "text/plain": [
       "Solution: In this case, the categorical scatter plot from **Step 7** is the more appropriate plot. While both plots tell the desired story, the plot from **Step 6** conveys far more information that could distract from the main point."
      ]
     },
     "metadata": {},
     "output_type": "display_data"
    }
   ],
   "source": [
    "# Check your answer (Run this code cell to receive credit!)\n",
    "step_7.b.solution()"
   ]
  },
  {
   "cell_type": "markdown",
   "id": "def68b3e",
   "metadata": {
    "papermill": {
     "duration": 0.033554,
     "end_time": "2021-08-27T03:28:09.168695",
     "exception": false,
     "start_time": "2021-08-27T03:28:09.135141",
     "status": "completed"
    },
    "tags": []
   },
   "source": [
    "## Keep going\n",
    "\n",
    "Explore **[histograms and density plots](https://www.kaggle.com/alexisbcook/distributions)**."
   ]
  },
  {
   "cell_type": "markdown",
   "id": "46f7645f",
   "metadata": {
    "papermill": {
     "duration": 0.033327,
     "end_time": "2021-08-27T03:28:09.236610",
     "exception": false,
     "start_time": "2021-08-27T03:28:09.203283",
     "status": "completed"
    },
    "tags": []
   },
   "source": [
    "---\n",
    "\n",
    "\n",
    "\n",
    "\n",
    "*Have questions or comments? Visit the [Learn Discussion forum](https://www.kaggle.com/learn-forum/161291) to chat with other Learners.*"
   ]
  }
 ],
 "metadata": {
  "kernelspec": {
   "display_name": "Python 3",
   "language": "python",
   "name": "python3"
  },
  "language_info": {
   "codemirror_mode": {
    "name": "ipython",
    "version": 3
   },
   "file_extension": ".py",
   "mimetype": "text/x-python",
   "name": "python",
   "nbconvert_exporter": "python",
   "pygments_lexer": "ipython3",
   "version": "3.7.10"
  },
  "papermill": {
   "default_parameters": {},
   "duration": 13.79535,
   "end_time": "2021-08-27T03:28:10.508678",
   "environment_variables": {},
   "exception": null,
   "input_path": "__notebook__.ipynb",
   "output_path": "__notebook__.ipynb",
   "parameters": {},
   "start_time": "2021-08-27T03:27:56.713328",
   "version": "2.3.3"
  }
 },
 "nbformat": 4,
 "nbformat_minor": 5
}
