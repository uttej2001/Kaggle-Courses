{
 "cells": [
  {
   "cell_type": "markdown",
   "id": "ecd70114",
   "metadata": {
    "papermill": {
     "duration": 0.018936,
     "end_time": "2021-08-31T06:59:05.240798",
     "exception": false,
     "start_time": "2021-08-31T06:59:05.221862",
     "status": "completed"
    },
    "tags": []
   },
   "source": [
    "**This notebook is an exercise in the [Feature Engineering](https://www.kaggle.com/learn/feature-engineering) course.  You can reference the tutorial at [this link](https://www.kaggle.com/ryanholbrook/target-encoding).**\n",
    "\n",
    "---\n"
   ]
  },
  {
   "cell_type": "markdown",
   "id": "27980d7e",
   "metadata": {
    "papermill": {
     "duration": 0.017749,
     "end_time": "2021-08-31T06:59:05.277165",
     "exception": false,
     "start_time": "2021-08-31T06:59:05.259416",
     "status": "completed"
    },
    "tags": []
   },
   "source": [
    "# Introduction #\n",
    "\n",
    "In this exercise, you'll apply target encoding to features in the [*Ames*](https://www.kaggle.com/c/house-prices-advanced-regression-techniques/data) dataset.\n",
    "\n",
    "Run this cell to set everything up!"
   ]
  },
  {
   "cell_type": "code",
   "execution_count": 1,
   "id": "88cffbca",
   "metadata": {
    "execution": {
     "iopub.execute_input": "2021-08-31T06:59:05.330056Z",
     "iopub.status.busy": "2021-08-31T06:59:05.329163Z",
     "iopub.status.idle": "2021-08-31T06:59:06.955561Z",
     "shell.execute_reply": "2021-08-31T06:59:06.954597Z",
     "shell.execute_reply.started": "2021-08-31T06:55:15.849913Z"
    },
    "papermill": {
     "duration": 1.660421,
     "end_time": "2021-08-31T06:59:06.955744",
     "exception": false,
     "start_time": "2021-08-31T06:59:05.295323",
     "status": "completed"
    },
    "tags": []
   },
   "outputs": [],
   "source": [
    "# Setup feedback system\n",
    "from learntools.core import binder\n",
    "binder.bind(globals())\n",
    "from learntools.feature_engineering_new.ex6 import *\n",
    "\n",
    "import matplotlib.pyplot as plt\n",
    "import numpy as np\n",
    "import pandas as pd\n",
    "import seaborn as sns\n",
    "import warnings\n",
    "from category_encoders import MEstimateEncoder\n",
    "from sklearn.model_selection import cross_val_score\n",
    "from xgboost import XGBRegressor\n",
    "\n",
    "# Set Matplotlib defaults\n",
    "plt.style.use(\"seaborn-whitegrid\")\n",
    "plt.rc(\"figure\", autolayout=True)\n",
    "plt.rc(\n",
    "    \"axes\",\n",
    "    labelweight=\"bold\",\n",
    "    labelsize=\"large\",\n",
    "    titleweight=\"bold\",\n",
    "    titlesize=14,\n",
    "    titlepad=10,\n",
    ")\n",
    "warnings.filterwarnings('ignore')\n",
    "\n",
    "\n",
    "def score_dataset(X, y, model=XGBRegressor()):\n",
    "    # Label encoding for categoricals\n",
    "    for colname in X.select_dtypes([\"category\", \"object\"]):\n",
    "        X[colname], _ = X[colname].factorize()\n",
    "    # Metric for Housing competition is RMSLE (Root Mean Squared Log Error)\n",
    "    score = cross_val_score(\n",
    "        model, X, y, cv=5, scoring=\"neg_mean_squared_log_error\",\n",
    "    )\n",
    "    score = -1 * score.mean()\n",
    "    score = np.sqrt(score)\n",
    "    return score\n",
    "\n",
    "\n",
    "df = pd.read_csv(\"../input/fe-course-data/ames.csv\")"
   ]
  },
  {
   "cell_type": "markdown",
   "id": "1a035b8c",
   "metadata": {
    "papermill": {
     "duration": 0.017922,
     "end_time": "2021-08-31T06:59:06.992204",
     "exception": false,
     "start_time": "2021-08-31T06:59:06.974282",
     "status": "completed"
    },
    "tags": []
   },
   "source": [
    "-------------------------------------------------------------------------------\n",
    "\n",
    "First you'll need to choose which features you want to apply a target encoding to. Categorical features with a large number of categories are often good candidates. Run this cell to see how many categories each categorical feature in the *Ames* dataset has."
   ]
  },
  {
   "cell_type": "code",
   "execution_count": 2,
   "id": "489d7d63",
   "metadata": {
    "execution": {
     "iopub.execute_input": "2021-08-31T06:59:07.040697Z",
     "iopub.status.busy": "2021-08-31T06:59:07.039719Z",
     "iopub.status.idle": "2021-08-31T06:59:07.087842Z",
     "shell.execute_reply": "2021-08-31T06:59:07.088333Z",
     "shell.execute_reply.started": "2021-08-31T06:55:25.303887Z"
    },
    "papermill": {
     "duration": 0.07821,
     "end_time": "2021-08-31T06:59:07.088504",
     "exception": false,
     "start_time": "2021-08-31T06:59:07.010294",
     "status": "completed"
    },
    "tags": []
   },
   "outputs": [
    {
     "data": {
      "text/plain": [
       "MSSubClass       16\n",
       "MSZoning          7\n",
       "Street            2\n",
       "Alley             3\n",
       "LotShape          4\n",
       "LandContour       4\n",
       "Utilities         3\n",
       "LotConfig         5\n",
       "LandSlope         3\n",
       "Neighborhood     28\n",
       "Condition1        9\n",
       "Condition2        8\n",
       "BldgType          5\n",
       "HouseStyle        8\n",
       "OverallQual      10\n",
       "OverallCond       9\n",
       "RoofStyle         6\n",
       "RoofMatl          8\n",
       "Exterior1st      16\n",
       "Exterior2nd      17\n",
       "MasVnrType        5\n",
       "ExterQual         4\n",
       "ExterCond         5\n",
       "Foundation        6\n",
       "BsmtQual          6\n",
       "BsmtCond          6\n",
       "BsmtExposure      5\n",
       "BsmtFinType1      7\n",
       "BsmtFinType2      7\n",
       "Heating           6\n",
       "HeatingQC         5\n",
       "CentralAir        2\n",
       "Electrical        6\n",
       "KitchenQual       5\n",
       "Functional        8\n",
       "FireplaceQu       6\n",
       "GarageType        7\n",
       "GarageFinish      4\n",
       "GarageQual        6\n",
       "GarageCond        6\n",
       "PavedDrive        3\n",
       "PoolQC            5\n",
       "Fence             5\n",
       "MiscFeature       6\n",
       "SaleType         10\n",
       "SaleCondition     6\n",
       "dtype: int64"
      ]
     },
     "execution_count": 2,
     "metadata": {},
     "output_type": "execute_result"
    }
   ],
   "source": [
    "df.select_dtypes([\"object\"]).nunique()"
   ]
  },
  {
   "cell_type": "markdown",
   "id": "5bbc488b",
   "metadata": {
    "papermill": {
     "duration": 0.018324,
     "end_time": "2021-08-31T06:59:07.126251",
     "exception": false,
     "start_time": "2021-08-31T06:59:07.107927",
     "status": "completed"
    },
    "tags": []
   },
   "source": [
    "We talked about how the M-estimate encoding uses smoothing to improve estimates for rare categories. To see how many times a category occurs in the dataset, you can use the `value_counts` method. This cell shows the counts for `SaleType`, but you might want to consider others as well."
   ]
  },
  {
   "cell_type": "code",
   "execution_count": 3,
   "id": "0b0698a1",
   "metadata": {
    "execution": {
     "iopub.execute_input": "2021-08-31T06:59:07.174377Z",
     "iopub.status.busy": "2021-08-31T06:59:07.173449Z",
     "iopub.status.idle": "2021-08-31T06:59:07.177875Z",
     "shell.execute_reply": "2021-08-31T06:59:07.177285Z",
     "shell.execute_reply.started": "2021-08-31T06:55:29.486511Z"
    },
    "papermill": {
     "duration": 0.033243,
     "end_time": "2021-08-31T06:59:07.178018",
     "exception": false,
     "start_time": "2021-08-31T06:59:07.144775",
     "status": "completed"
    },
    "tags": []
   },
   "outputs": [
    {
     "data": {
      "text/plain": [
       "WD       2536\n",
       "New       239\n",
       "COD        87\n",
       "ConLD      26\n",
       "CWD        12\n",
       "ConLI       9\n",
       "ConLw       8\n",
       "Oth         7\n",
       "Con         5\n",
       "VWD         1\n",
       "Name: SaleType, dtype: int64"
      ]
     },
     "execution_count": 3,
     "metadata": {},
     "output_type": "execute_result"
    }
   ],
   "source": [
    "df[\"SaleType\"].value_counts()"
   ]
  },
  {
   "cell_type": "markdown",
   "id": "6facb1c3",
   "metadata": {
    "papermill": {
     "duration": 0.018504,
     "end_time": "2021-08-31T06:59:07.215451",
     "exception": false,
     "start_time": "2021-08-31T06:59:07.196947",
     "status": "completed"
    },
    "tags": []
   },
   "source": [
    "# 1) Choose Features for Encoding\n",
    "\n",
    "Which features did you identify for target encoding? After you've thought about your answer, run the next cell for some discussion."
   ]
  },
  {
   "cell_type": "code",
   "execution_count": 4,
   "id": "1a44623e",
   "metadata": {
    "execution": {
     "iopub.execute_input": "2021-08-31T06:59:07.257823Z",
     "iopub.status.busy": "2021-08-31T06:59:07.257096Z",
     "iopub.status.idle": "2021-08-31T06:59:07.261876Z",
     "shell.execute_reply": "2021-08-31T06:59:07.262380Z",
     "shell.execute_reply.started": "2021-08-31T06:55:34.260422Z"
    },
    "papermill": {
     "duration": 0.028291,
     "end_time": "2021-08-31T06:59:07.262549",
     "exception": false,
     "start_time": "2021-08-31T06:59:07.234258",
     "status": "completed"
    },
    "tags": []
   },
   "outputs": [
    {
     "data": {
      "application/javascript": [
       "parent.postMessage({\"jupyterEvent\": \"custom.exercise_interaction\", \"data\": {\"outcomeType\": 1, \"valueTowardsCompletion\": 0.3333333333333333, \"interactionType\": 1, \"questionType\": 4, \"questionId\": \"1_Q1\", \"learnToolsVersion\": \"0.3.4\", \"failureMessage\": \"\", \"exceptionClass\": \"\", \"trace\": \"\"}}, \"*\")"
      ],
      "text/plain": [
       "<IPython.core.display.Javascript object>"
      ]
     },
     "metadata": {},
     "output_type": "display_data"
    },
    {
     "data": {
      "text/markdown": [
       "<span style=\"color:#33cc33\">Correct:</span> \n",
       "\n",
       " The `Neighborhood` feature looks promising. It has the most categories of any feature, and several categories are rare. Others that could be worth considering are `SaleType`, `MSSubClass`, `Exterior1st`, `Exterior2nd`. In fact, almost any of the nominal features would be worth trying because of the prevalence of rare categories."
      ],
      "text/plain": [
       "Correct: \n",
       "\n",
       " The `Neighborhood` feature looks promising. It has the most categories of any feature, and several categories are rare. Others that could be worth considering are `SaleType`, `MSSubClass`, `Exterior1st`, `Exterior2nd`. In fact, almost any of the nominal features would be worth trying because of the prevalence of rare categories."
      ]
     },
     "metadata": {},
     "output_type": "display_data"
    }
   ],
   "source": [
    "# View the solution (Run this cell to receive credit!)\n",
    "q_1.check()"
   ]
  },
  {
   "cell_type": "markdown",
   "id": "d7ed2d88",
   "metadata": {
    "papermill": {
     "duration": 0.019404,
     "end_time": "2021-08-31T06:59:07.301851",
     "exception": false,
     "start_time": "2021-08-31T06:59:07.282447",
     "status": "completed"
    },
    "tags": []
   },
   "source": [
    "-------------------------------------------------------------------------------\n",
    "\n",
    "Now you'll apply a target encoding to your choice of feature. As we discussed in the tutorial, to avoid overfitting, we need to fit the encoder on data heldout from the training set. Run this cell to create the encoding and training splits:"
   ]
  },
  {
   "cell_type": "code",
   "execution_count": 5,
   "id": "baeac4c5",
   "metadata": {
    "execution": {
     "iopub.execute_input": "2021-08-31T06:59:07.345020Z",
     "iopub.status.busy": "2021-08-31T06:59:07.344070Z",
     "iopub.status.idle": "2021-08-31T06:59:07.355937Z",
     "shell.execute_reply": "2021-08-31T06:59:07.356416Z",
     "shell.execute_reply.started": "2021-08-31T06:55:39.667334Z"
    },
    "lines_to_next_cell": 2,
    "papermill": {
     "duration": 0.034943,
     "end_time": "2021-08-31T06:59:07.356611",
     "exception": false,
     "start_time": "2021-08-31T06:59:07.321668",
     "status": "completed"
    },
    "tags": []
   },
   "outputs": [],
   "source": [
    "# Encoding split\n",
    "X_encode = df.sample(frac=0.20, random_state=0)\n",
    "y_encode = X_encode.pop(\"SalePrice\")\n",
    "\n",
    "# Training split\n",
    "X_pretrain = df.drop(X_encode.index)\n",
    "y_train = X_pretrain.pop(\"SalePrice\")"
   ]
  },
  {
   "cell_type": "markdown",
   "id": "e65d7f3f",
   "metadata": {
    "papermill": {
     "duration": 0.019343,
     "end_time": "2021-08-31T06:59:07.395837",
     "exception": false,
     "start_time": "2021-08-31T06:59:07.376494",
     "status": "completed"
    },
    "tags": []
   },
   "source": [
    "# 2) Apply M-Estimate Encoding\n",
    "\n",
    "Apply a target encoding to your choice of categorical features. Also choose a value for the smoothing parameter `m` (any value is okay for a correct answer)."
   ]
  },
  {
   "cell_type": "code",
   "execution_count": 6,
   "id": "3d75018c",
   "metadata": {
    "execution": {
     "iopub.execute_input": "2021-08-31T06:59:07.441254Z",
     "iopub.status.busy": "2021-08-31T06:59:07.440613Z",
     "iopub.status.idle": "2021-08-31T06:59:07.512693Z",
     "shell.execute_reply": "2021-08-31T06:59:07.512204Z",
     "shell.execute_reply.started": "2021-08-31T06:57:18.092665Z"
    },
    "lines_to_next_cell": 0,
    "papermill": {
     "duration": 0.097413,
     "end_time": "2021-08-31T06:59:07.512830",
     "exception": false,
     "start_time": "2021-08-31T06:59:07.415417",
     "status": "completed"
    },
    "tags": []
   },
   "outputs": [
    {
     "data": {
      "application/javascript": [
       "parent.postMessage({\"jupyterEvent\": \"custom.exercise_interaction\", \"data\": {\"outcomeType\": 1, \"valueTowardsCompletion\": 0.3333333333333333, \"interactionType\": 1, \"questionType\": 2, \"questionId\": \"2_Q2\", \"learnToolsVersion\": \"0.3.4\", \"failureMessage\": \"\", \"exceptionClass\": \"\", \"trace\": \"\"}}, \"*\")"
      ],
      "text/plain": [
       "<IPython.core.display.Javascript object>"
      ]
     },
     "metadata": {},
     "output_type": "display_data"
    },
    {
     "data": {
      "text/markdown": [
       "<span style=\"color:#33cc33\">Correct</span>"
      ],
      "text/plain": [
       "Correct"
      ]
     },
     "metadata": {},
     "output_type": "display_data"
    }
   ],
   "source": [
    "# YOUR CODE HERE: Create the MEstimateEncoder\n",
    "# Choose a set of features to encode and a value for m\n",
    "encoder = MEstimateEncoder(cols=[\"Neighborhood\"],m=1.0,)\n",
    "\n",
    "# Fit the encoder on the encoding split\n",
    "encoder.fit(X_encode, y_encode)\n",
    "\n",
    "# Encode the training split\n",
    "X_train = encoder.transform(X_pretrain, y_train)\n",
    "\n",
    "# Check your answer\n",
    "q_2.check()"
   ]
  },
  {
   "cell_type": "code",
   "execution_count": 7,
   "id": "0cd845f6",
   "metadata": {
    "execution": {
     "iopub.execute_input": "2021-08-31T06:59:07.558620Z",
     "iopub.status.busy": "2021-08-31T06:59:07.557872Z",
     "iopub.status.idle": "2021-08-31T06:59:07.560774Z",
     "shell.execute_reply": "2021-08-31T06:59:07.560283Z",
     "shell.execute_reply.started": "2021-08-31T06:56:26.526308Z"
    },
    "lines_to_next_cell": 0,
    "papermill": {
     "duration": 0.027254,
     "end_time": "2021-08-31T06:59:07.560934",
     "exception": false,
     "start_time": "2021-08-31T06:59:07.533680",
     "status": "completed"
    },
    "tags": []
   },
   "outputs": [],
   "source": [
    "# Lines below will give you a hint or solution code\n",
    "#q_2.hint()\n",
    "#q_2.solution()"
   ]
  },
  {
   "cell_type": "markdown",
   "id": "46a73608",
   "metadata": {
    "papermill": {
     "duration": 0.020578,
     "end_time": "2021-08-31T06:59:07.602514",
     "exception": false,
     "start_time": "2021-08-31T06:59:07.581936",
     "status": "completed"
    },
    "tags": []
   },
   "source": [
    "If you'd like to see how the encoded feature compares to the target, you can run this cell:"
   ]
  },
  {
   "cell_type": "code",
   "execution_count": 8,
   "id": "16ef2aad",
   "metadata": {
    "execution": {
     "iopub.execute_input": "2021-08-31T06:59:07.665675Z",
     "iopub.status.busy": "2021-08-31T06:59:07.665005Z",
     "iopub.status.idle": "2021-08-31T06:59:08.112055Z",
     "shell.execute_reply": "2021-08-31T06:59:08.111512Z",
     "shell.execute_reply.started": "2021-08-31T06:57:33.209421Z"
    },
    "papermill": {
     "duration": 0.488624,
     "end_time": "2021-08-31T06:59:08.112207",
     "exception": false,
     "start_time": "2021-08-31T06:59:07.623583",
     "status": "completed"
    },
    "tags": []
   },
   "outputs": [
    {
     "data": {
      "image/png": "[encoded data removed]",
      "text/plain": [
       "<Figure size 540x360 with 1 Axes>"
      ]
     },
     "metadata": {},
     "output_type": "display_data"
    }
   ],
   "source": [
    "feature = encoder.cols\n",
    "\n",
    "plt.figure(dpi=90)\n",
    "ax = sns.distplot(y_train, kde=True, hist=False)\n",
    "ax = sns.distplot(X_train[feature], color='r', ax=ax, hist=True, kde=False, norm_hist=True)\n",
    "ax.set_xlabel(\"SalePrice\");"
   ]
  },
  {
   "cell_type": "markdown",
   "id": "3c55a999",
   "metadata": {
    "papermill": {
     "duration": 0.021766,
     "end_time": "2021-08-31T06:59:08.156232",
     "exception": false,
     "start_time": "2021-08-31T06:59:08.134466",
     "status": "completed"
    },
    "tags": []
   },
   "source": [
    "From the distribution plots, does it seem like the encoding is informative?\n",
    "\n",
    "And this cell will show you the score of the encoded set compared to the original set:"
   ]
  },
  {
   "cell_type": "code",
   "execution_count": 9,
   "id": "6a53b664",
   "metadata": {
    "execution": {
     "iopub.execute_input": "2021-08-31T06:59:08.205422Z",
     "iopub.status.busy": "2021-08-31T06:59:08.204671Z",
     "iopub.status.idle": "2021-08-31T06:59:14.329620Z",
     "shell.execute_reply": "2021-08-31T06:59:14.330331Z",
     "shell.execute_reply.started": "2021-08-31T06:57:40.754179Z"
    },
    "papermill": {
     "duration": 6.152188,
     "end_time": "2021-08-31T06:59:14.330527",
     "exception": false,
     "start_time": "2021-08-31T06:59:08.178339",
     "status": "completed"
    },
    "tags": []
   },
   "outputs": [
    {
     "name": "stdout",
     "output_type": "stream",
     "text": [
      "Baseline Score: 0.1428 RMSLE\n",
      "Score with Encoding: 0.1402 RMSLE\n"
     ]
    }
   ],
   "source": [
    "X = df.copy()\n",
    "y = X.pop(\"SalePrice\")\n",
    "score_base = score_dataset(X, y)\n",
    "score_new = score_dataset(X_train, y_train)\n",
    "\n",
    "print(f\"Baseline Score: {score_base:.4f} RMSLE\")\n",
    "print(f\"Score with Encoding: {score_new:.4f} RMSLE\")"
   ]
  },
  {
   "cell_type": "markdown",
   "id": "bf351bd1",
   "metadata": {
    "papermill": {
     "duration": 0.021875,
     "end_time": "2021-08-31T06:59:14.377035",
     "exception": false,
     "start_time": "2021-08-31T06:59:14.355160",
     "status": "completed"
    },
    "tags": []
   },
   "source": [
    "Do you think that target encoding was worthwhile in this case? Depending on which feature or features you chose, you may have ended up with a score significantly worse than the baseline. In that case, it's likely the extra information gained by the encoding couldn't make up for the loss of data used for the encoding."
   ]
  },
  {
   "cell_type": "markdown",
   "id": "9695a9c3",
   "metadata": {
    "papermill": {
     "duration": 0.021973,
     "end_time": "2021-08-31T06:59:14.421235",
     "exception": false,
     "start_time": "2021-08-31T06:59:14.399262",
     "status": "completed"
    },
    "tags": []
   },
   "source": [
    "-------------------------------------------------------------------------------\n",
    "\n",
    "In this question, you'll explore the problem of overfitting with target encodings. This will illustrate this importance of training fitting target encoders on data held-out from the training set.\n",
    "\n",
    "So let's see what happens when we fit the encoder and the model on the *same* dataset. To emphasize how dramatic the overfitting can be, we'll mean-encode a feature that should have no relationship with `SalePrice`, a count: `0, 1, 2, 3, 4, 5, ...`."
   ]
  },
  {
   "cell_type": "code",
   "execution_count": 10,
   "id": "c1ed4192",
   "metadata": {
    "execution": {
     "iopub.execute_input": "2021-08-31T06:59:14.473876Z",
     "iopub.status.busy": "2021-08-31T06:59:14.472821Z",
     "iopub.status.idle": "2021-08-31T06:59:17.538734Z",
     "shell.execute_reply": "2021-08-31T06:59:17.539583Z",
     "shell.execute_reply.started": "2021-08-31T06:58:27.251593Z"
    },
    "papermill": {
     "duration": 3.096306,
     "end_time": "2021-08-31T06:59:17.539782",
     "exception": false,
     "start_time": "2021-08-31T06:59:14.443476",
     "status": "completed"
    },
    "tags": []
   },
   "outputs": [
    {
     "name": "stdout",
     "output_type": "stream",
     "text": [
      "Score: 0.0303 RMSLE\n"
     ]
    }
   ],
   "source": [
    "# Try experimenting with the smoothing parameter m\n",
    "# Try 0, 1, 5, 50\n",
    "m = 50\n",
    "\n",
    "X = df.copy()\n",
    "y = X.pop('SalePrice')\n",
    "\n",
    "# Create an uninformative feature\n",
    "X[\"Count\"] = range(len(X))\n",
    "X[\"Count\"][1] = 0  # actually need one duplicate value to circumvent error-checking in MEstimateEncoder\n",
    "\n",
    "# fit and transform on the same dataset\n",
    "encoder = MEstimateEncoder(cols=\"Count\", m=m)\n",
    "X = encoder.fit_transform(X, y)\n",
    "\n",
    "# Results\n",
    "score =  score_dataset(X, y)\n",
    "print(f\"Score: {score:.4f} RMSLE\")"
   ]
  },
  {
   "cell_type": "markdown",
   "id": "08b90a82",
   "metadata": {
    "papermill": {
     "duration": 0.02204,
     "end_time": "2021-08-31T06:59:17.586692",
     "exception": false,
     "start_time": "2021-08-31T06:59:17.564652",
     "status": "completed"
    },
    "tags": []
   },
   "source": [
    "Almost a perfect score!"
   ]
  },
  {
   "cell_type": "code",
   "execution_count": 11,
   "id": "b5cc2094",
   "metadata": {
    "execution": {
     "iopub.execute_input": "2021-08-31T06:59:17.661569Z",
     "iopub.status.busy": "2021-08-31T06:59:17.660552Z",
     "iopub.status.idle": "2021-08-31T06:59:18.080554Z",
     "shell.execute_reply": "2021-08-31T06:59:18.079885Z",
     "shell.execute_reply.started": "2021-08-31T06:58:33.727840Z"
    },
    "papermill": {
     "duration": 0.471444,
     "end_time": "2021-08-31T06:59:18.080694",
     "exception": false,
     "start_time": "2021-08-31T06:59:17.609250",
     "status": "completed"
    },
    "tags": []
   },
   "outputs": [
    {
     "data": {
      "image/png": "[encoded data removed]",
      "text/plain": [
       "<Figure size 540x360 with 1 Axes>"
      ]
     },
     "metadata": {},
     "output_type": "display_data"
    }
   ],
   "source": [
    "plt.figure(dpi=90)\n",
    "ax = sns.distplot(y, kde=True, hist=False)\n",
    "ax = sns.distplot(X[\"Count\"], color='r', ax=ax, hist=True, kde=False, norm_hist=True)\n",
    "ax.set_xlabel(\"SalePrice\");"
   ]
  },
  {
   "cell_type": "markdown",
   "id": "3c8a48b9",
   "metadata": {
    "papermill": {
     "duration": 0.023993,
     "end_time": "2021-08-31T06:59:18.128074",
     "exception": false,
     "start_time": "2021-08-31T06:59:18.104081",
     "status": "completed"
    },
    "tags": []
   },
   "source": [
    "And the distributions are almost exactly the same, too.\n",
    "\n",
    "# 3) Overfitting with Target Encoders\n",
    "\n",
    "Based on your understanding of how mean-encoding works, can you explain how XGBoost was able to get an almost a perfect fit after mean-encoding the count feature?"
   ]
  },
  {
   "cell_type": "code",
   "execution_count": 12,
   "id": "53f6dc69",
   "metadata": {
    "execution": {
     "iopub.execute_input": "2021-08-31T06:59:18.181326Z",
     "iopub.status.busy": "2021-08-31T06:59:18.180630Z",
     "iopub.status.idle": "2021-08-31T06:59:18.187146Z",
     "shell.execute_reply": "2021-08-31T06:59:18.186605Z",
     "shell.execute_reply.started": "2021-08-31T06:58:41.026775Z"
    },
    "lines_to_next_cell": 0,
    "papermill": {
     "duration": 0.03561,
     "end_time": "2021-08-31T06:59:18.187295",
     "exception": false,
     "start_time": "2021-08-31T06:59:18.151685",
     "status": "completed"
    },
    "tags": []
   },
   "outputs": [
    {
     "data": {
      "application/javascript": [
       "parent.postMessage({\"jupyterEvent\": \"custom.exercise_interaction\", \"data\": {\"outcomeType\": 1, \"valueTowardsCompletion\": 0.3333333333333333, \"interactionType\": 1, \"questionType\": 4, \"questionId\": \"3_Q3\", \"learnToolsVersion\": \"0.3.4\", \"failureMessage\": \"\", \"exceptionClass\": \"\", \"trace\": \"\"}}, \"*\")"
      ],
      "text/plain": [
       "<IPython.core.display.Javascript object>"
      ]
     },
     "metadata": {},
     "output_type": "display_data"
    },
    {
     "data": {
      "text/markdown": [
       "<span style=\"color:#33cc33\">Correct:</span> \n",
       "\n",
       "\n",
       "Since `Count` never has any duplicate values, the mean-encoded `Count` is essentially an exact copy of the target. In other words, mean-encoding turned a completely meaningless feature into a perfect feature.\n",
       "\n",
       "Now, the only reason this worked is because we trained XGBoost on the same set we used to train the encoder. If we had used a hold-out set instead, none of this \"fake\" encoding would have transferred to the training data.\n",
       "\n",
       "The lesson is that when using a target encoder it's very important to use separate data sets for training the encoder and training the model. Otherwise the results can be very disappointing!\n"
      ],
      "text/plain": [
       "Correct: \n",
       "\n",
       "\n",
       "Since `Count` never has any duplicate values, the mean-encoded `Count` is essentially an exact copy of the target. In other words, mean-encoding turned a completely meaningless feature into a perfect feature.\n",
       "\n",
       "Now, the only reason this worked is because we trained XGBoost on the same set we used to train the encoder. If we had used a hold-out set instead, none of this \"fake\" encoding would have transferred to the training data.\n",
       "\n",
       "The lesson is that when using a target encoder it's very important to use separate data sets for training the encoder and training the model. Otherwise the results can be very disappointing!"
      ]
     },
     "metadata": {},
     "output_type": "display_data"
    }
   ],
   "source": [
    "# View the solution (Run this cell to receive credit!)\n",
    "q_3.check()"
   ]
  },
  {
   "cell_type": "code",
   "execution_count": 13,
   "id": "8c70a2b6",
   "metadata": {
    "execution": {
     "iopub.execute_input": "2021-08-31T06:59:18.239145Z",
     "iopub.status.busy": "2021-08-31T06:59:18.238521Z",
     "iopub.status.idle": "2021-08-31T06:59:18.241551Z",
     "shell.execute_reply": "2021-08-31T06:59:18.242075Z"
    },
    "papermill": {
     "duration": 0.030407,
     "end_time": "2021-08-31T06:59:18.242256",
     "exception": false,
     "start_time": "2021-08-31T06:59:18.211849",
     "status": "completed"
    },
    "tags": []
   },
   "outputs": [],
   "source": [
    "# Uncomment this if you'd like a hint before seeing the answer\n",
    "#q_3.hint()"
   ]
  },
  {
   "cell_type": "markdown",
   "id": "1bc56fb8",
   "metadata": {
    "papermill": {
     "duration": 0.02403,
     "end_time": "2021-08-31T06:59:18.290840",
     "exception": false,
     "start_time": "2021-08-31T06:59:18.266810",
     "status": "completed"
    },
    "tags": []
   },
   "source": [
    "# The End #\n",
    "\n",
    "That's it for *Feature Engineering*! We hope you enjoyed your time with us.\n",
    "\n",
    "Now, are you ready to try out your new skills? Now would be a great time to join our [Housing Prices](https://www.kaggle.com/c/house-prices-advanced-regression-techniques) Getting Started competition. We've even prepared a [Bonus Lesson]() that collects all the work we've done together into a starter notebook.\n",
    "\n",
    "# References #\n",
    "Here are some great resources you might like to consult for more information. They all played a part in shaping this course:\n",
    "- *The Art of Feature Engineering*, a book by Pablo Duboue.\n",
    "- *An Empirical Analysis of Feature Engineering for Predictive Modeling*, an article by Jeff Heaton.\n",
    "- *Feature Engineering for Machine Learning*, a book by Alice Zheng and Amanda Casari. The tutorial on clustering was inspired by this excellent book.\n",
    "- *Feature Engineering and Selection*, a book by Max Kuhn and Kjell Johnson."
   ]
  },
  {
   "cell_type": "markdown",
   "id": "5a8b6676",
   "metadata": {
    "papermill": {
     "duration": 0.024157,
     "end_time": "2021-08-31T06:59:18.340376",
     "exception": false,
     "start_time": "2021-08-31T06:59:18.316219",
     "status": "completed"
    },
    "tags": []
   },
   "source": [
    "---\n",
    "\n",
    "\n",
    "\n",
    "\n",
    "*Have questions or comments? Visit the [Learn Discussion forum](https://www.kaggle.com/learn-forum/221677) to chat with other Learners.*"
   ]
  }
 ],
 "metadata": {
  "kernelspec": {
   "display_name": "Python 3",
   "language": "python",
   "name": "python3"
  },
  "language_info": {
   "codemirror_mode": {
    "name": "ipython",
    "version": 3
   },
   "file_extension": ".py",
   "mimetype": "text/x-python",
   "name": "python",
   "nbconvert_exporter": "python",
   "pygments_lexer": "ipython3",
   "version": "3.7.10"
  },
  "papermill": {
   "default_parameters": {},
   "duration": 22.822723,
   "end_time": "2021-08-31T06:59:20.049462",
   "environment_variables": {},
   "exception": null,
   "input_path": "__notebook__.ipynb",
   "output_path": "__notebook__.ipynb",
   "parameters": {},
   "start_time": "2021-08-31T06:58:57.226739",
   "version": "2.3.3"
  }
 },
 "nbformat": 4,
 "nbformat_minor": 5
}
