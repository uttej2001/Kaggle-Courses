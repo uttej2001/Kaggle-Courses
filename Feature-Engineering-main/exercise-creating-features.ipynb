{
 "cells": [
  {
   "cell_type": "markdown",
   "id": "27801006",
   "metadata": {
    "papermill": {
     "duration": 0.017601,
     "end_time": "2021-08-31T06:45:22.914769",
     "exception": false,
     "start_time": "2021-08-31T06:45:22.897168",
     "status": "completed"
    },
    "tags": []
   },
   "source": [
    "**This notebook is an exercise in the [Feature Engineering](https://www.kaggle.com/learn/feature-engineering) course.  You can reference the tutorial at [this link](https://www.kaggle.com/ryanholbrook/creating-features).**\n",
    "\n",
    "---\n"
   ]
  },
  {
   "cell_type": "markdown",
   "id": "8ea6bc12",
   "metadata": {
    "papermill": {
     "duration": 0.016937,
     "end_time": "2021-08-31T06:45:22.949272",
     "exception": false,
     "start_time": "2021-08-31T06:45:22.932335",
     "status": "completed"
    },
    "tags": []
   },
   "source": [
    "# Introduction #\n",
    "\n",
    "In this exercise you'll start developing the features you identified in Exercise 2 as having the most potential. As you work through this exercise, you might take a moment to look at the data documentation again and consider whether the features we're creating make sense from a real-world perspective, and whether there are any useful combinations that stand out to you.\n",
    "\n",
    "Run this cell to set everything up!"
   ]
  },
  {
   "cell_type": "code",
   "execution_count": 1,
   "id": "ab3a2a0f",
   "metadata": {
    "execution": {
     "iopub.execute_input": "2021-08-31T06:45:22.988003Z",
     "iopub.status.busy": "2021-08-31T06:45:22.986769Z",
     "iopub.status.idle": "2021-08-31T06:45:24.709658Z",
     "shell.execute_reply": "2021-08-31T06:45:24.708837Z",
     "shell.execute_reply.started": "2021-08-31T06:42:22.772380Z"
    },
    "papermill": {
     "duration": 1.743377,
     "end_time": "2021-08-31T06:45:24.709837",
     "exception": false,
     "start_time": "2021-08-31T06:45:22.966460",
     "status": "completed"
    },
    "tags": []
   },
   "outputs": [],
   "source": [
    "# Setup feedback system\n",
    "from learntools.core import binder\n",
    "binder.bind(globals())\n",
    "from learntools.feature_engineering_new.ex3 import *\n",
    "\n",
    "import numpy as np\n",
    "import pandas as pd\n",
    "from sklearn.model_selection import cross_val_score\n",
    "from xgboost import XGBRegressor\n",
    "\n",
    "\n",
    "def score_dataset(X, y, model=XGBRegressor()):\n",
    "    # Label encoding for categoricals\n",
    "    for colname in X.select_dtypes([\"category\", \"object\"]):\n",
    "        X[colname], _ = X[colname].factorize()\n",
    "    # Metric for Housing competition is RMSLE (Root Mean Squared Log Error)\n",
    "    score = cross_val_score(\n",
    "        model, X, y, cv=5, scoring=\"neg_mean_squared_log_error\",\n",
    "    )\n",
    "    score = -1 * score.mean()\n",
    "    score = np.sqrt(score)\n",
    "    return score\n",
    "\n",
    "\n",
    "# Prepare data\n",
    "df = pd.read_csv(\"../input/fe-course-data/ames.csv\")\n",
    "X = df.copy()\n",
    "y = X.pop(\"SalePrice\")"
   ]
  },
  {
   "cell_type": "markdown",
   "id": "7569a3b6",
   "metadata": {
    "papermill": {
     "duration": 0.016367,
     "end_time": "2021-08-31T06:45:24.743244",
     "exception": false,
     "start_time": "2021-08-31T06:45:24.726877",
     "status": "completed"
    },
    "tags": []
   },
   "source": [
    "-------------------------------------------------------------------------------\n",
    "\n",
    "Let's start with a few mathematical combinations. We'll focus on features describing areas -- having the same units (square-feet) makes it easy to combine them in sensible ways. Since we're using XGBoost (a tree-based model), we'll focus on ratios and sums.\n",
    "\n",
    "# 1) Create Mathematical Transforms\n",
    "\n",
    "Create the following features:\n",
    "\n",
    "- `LivLotRatio`: the ratio of `GrLivArea` to `LotArea`\n",
    "- `Spaciousness`: the sum of `FirstFlrSF` and `SecondFlrSF` divided by `TotRmsAbvGrd`\n",
    "- `TotalOutsideSF`: the sum of `WoodDeckSF`, `OpenPorchSF`, `EnclosedPorch`, `Threeseasonporch`, and `ScreenPorch`"
   ]
  },
  {
   "cell_type": "code",
   "execution_count": 2,
   "id": "836a65da",
   "metadata": {
    "execution": {
     "iopub.execute_input": "2021-08-31T06:45:24.783983Z",
     "iopub.status.busy": "2021-08-31T06:45:24.783238Z",
     "iopub.status.idle": "2021-08-31T06:45:24.818658Z",
     "shell.execute_reply": "2021-08-31T06:45:24.819206Z",
     "shell.execute_reply.started": "2021-08-31T06:42:55.091293Z"
    },
    "lines_to_next_cell": 0,
    "papermill": {
     "duration": 0.05933,
     "end_time": "2021-08-31T06:45:24.819394",
     "exception": false,
     "start_time": "2021-08-31T06:45:24.760064",
     "status": "completed"
    },
    "tags": []
   },
   "outputs": [
    {
     "data": {
      "application/javascript": [
       "parent.postMessage({\"jupyterEvent\": \"custom.exercise_interaction\", \"data\": {\"outcomeType\": 1, \"valueTowardsCompletion\": 0.2, \"interactionType\": 1, \"questionType\": 2, \"questionId\": \"1_Q1\", \"learnToolsVersion\": \"0.3.4\", \"failureMessage\": \"\", \"exceptionClass\": \"\", \"trace\": \"\"}}, \"*\")"
      ],
      "text/plain": [
       "<IPython.core.display.Javascript object>"
      ]
     },
     "metadata": {},
     "output_type": "display_data"
    },
    {
     "data": {
      "text/markdown": [
       "<span style=\"color:#33cc33\">Correct</span>"
      ],
      "text/plain": [
       "Correct"
      ]
     },
     "metadata": {},
     "output_type": "display_data"
    }
   ],
   "source": [
    "# YOUR CODE HERE\n",
    "X_1 = pd.DataFrame()  # dataframe to hold new features\n",
    "\n",
    "X_1[\"LivLotRatio\"] = df.GrLivArea / df.LotArea\n",
    "X_1[\"Spaciousness\"] = (df.FirstFlrSF + df.SecondFlrSF) / df.TotRmsAbvGrd\n",
    "X_1[\"TotalOutsideSF\"] = df.WoodDeckSF + df.OpenPorchSF + df.EnclosedPorch + df.Threeseasonporch + df.ScreenPorch\n",
    "\n",
    "\n",
    "# Check your answer\n",
    "q_1.check()"
   ]
  },
  {
   "cell_type": "code",
   "execution_count": 3,
   "id": "79a668e4",
   "metadata": {
    "execution": {
     "iopub.execute_input": "2021-08-31T06:45:24.858972Z",
     "iopub.status.busy": "2021-08-31T06:45:24.858257Z",
     "iopub.status.idle": "2021-08-31T06:45:24.860983Z",
     "shell.execute_reply": "2021-08-31T06:45:24.861546Z",
     "shell.execute_reply.started": "2021-08-31T06:42:43.653530Z"
    },
    "lines_to_next_cell": 0,
    "papermill": {
     "duration": 0.024038,
     "end_time": "2021-08-31T06:45:24.861719",
     "exception": false,
     "start_time": "2021-08-31T06:45:24.837681",
     "status": "completed"
    },
    "tags": []
   },
   "outputs": [],
   "source": [
    "# Lines below will give you a hint or solution code\n",
    "#q_1.hint()\n",
    "#q_1.solution()"
   ]
  },
  {
   "cell_type": "markdown",
   "id": "87df970e",
   "metadata": {
    "papermill": {
     "duration": 0.01761,
     "end_time": "2021-08-31T06:45:24.897240",
     "exception": false,
     "start_time": "2021-08-31T06:45:24.879630",
     "status": "completed"
    },
    "tags": []
   },
   "source": [
    "-------------------------------------------------------------------------------\n",
    "\n",
    "If you've discovered an interaction effect between a numeric feature and a categorical feature, you might want to model it explicitly using a one-hot encoding, like so:\n",
    "\n",
    "```\n",
    "# One-hot encode Categorical feature, adding a column prefix \"Cat\"\n",
    "X_new = pd.get_dummies(df.Categorical, prefix=\"Cat\")\n",
    "\n",
    "# Multiply row-by-row\n",
    "X_new = X_new.mul(df.Continuous, axis=0)\n",
    "\n",
    "# Join the new features to the feature set\n",
    "X = X.join(X_new)\n",
    "```\n",
    "\n",
    "# 2) Interaction with a Categorical\n",
    "\n",
    "We discovered an interaction between `BldgType` and `GrLivArea` in Exercise 2. Now create their interaction features."
   ]
  },
  {
   "cell_type": "code",
   "execution_count": 4,
   "id": "c12e1586",
   "metadata": {
    "execution": {
     "iopub.execute_input": "2021-08-31T06:45:24.936144Z",
     "iopub.status.busy": "2021-08-31T06:45:24.935513Z",
     "iopub.status.idle": "2021-08-31T06:45:24.957425Z",
     "shell.execute_reply": "2021-08-31T06:45:24.957946Z",
     "shell.execute_reply.started": "2021-08-31T06:43:13.065944Z"
    },
    "lines_to_next_cell": 0,
    "papermill": {
     "duration": 0.042906,
     "end_time": "2021-08-31T06:45:24.958119",
     "exception": false,
     "start_time": "2021-08-31T06:45:24.915213",
     "status": "completed"
    },
    "tags": []
   },
   "outputs": [
    {
     "data": {
      "application/javascript": [
       "parent.postMessage({\"jupyterEvent\": \"custom.exercise_interaction\", \"data\": {\"outcomeType\": 1, \"valueTowardsCompletion\": 0.2, \"interactionType\": 1, \"questionType\": 2, \"questionId\": \"2_Q2\", \"learnToolsVersion\": \"0.3.4\", \"failureMessage\": \"\", \"exceptionClass\": \"\", \"trace\": \"\"}}, \"*\")"
      ],
      "text/plain": [
       "<IPython.core.display.Javascript object>"
      ]
     },
     "metadata": {},
     "output_type": "display_data"
    },
    {
     "data": {
      "text/markdown": [
       "<span style=\"color:#33cc33\">Correct</span>"
      ],
      "text/plain": [
       "Correct"
      ]
     },
     "metadata": {},
     "output_type": "display_data"
    }
   ],
   "source": [
    "# YOUR CODE HERE\n",
    "# One-hot encode BldgType. Use `prefix=\"Bldg\"` in `get_dummies`\n",
    "X_2 = pd.get_dummies(df.BldgType, prefix=\"Bldg\")\n",
    "X_2 = X_2.mul(df.GrLivArea, axis=0)\n",
    "\n",
    "\n",
    "# Check your answer\n",
    "q_2.check()"
   ]
  },
  {
   "cell_type": "code",
   "execution_count": 5,
   "id": "bdd06730",
   "metadata": {
    "execution": {
     "iopub.execute_input": "2021-08-31T06:45:24.999091Z",
     "iopub.status.busy": "2021-08-31T06:45:24.998430Z",
     "iopub.status.idle": "2021-08-31T06:45:25.001425Z",
     "shell.execute_reply": "2021-08-31T06:45:25.001971Z",
     "shell.execute_reply.started": "2021-08-31T06:43:03.487590Z"
    },
    "lines_to_next_cell": 0,
    "papermill": {
     "duration": 0.02506,
     "end_time": "2021-08-31T06:45:25.002146",
     "exception": false,
     "start_time": "2021-08-31T06:45:24.977086",
     "status": "completed"
    },
    "tags": []
   },
   "outputs": [],
   "source": [
    "# Lines below will give you a hint or solution code\n",
    "#q_2.hint()\n",
    "#q_2.solution()"
   ]
  },
  {
   "cell_type": "markdown",
   "id": "44f585b2",
   "metadata": {
    "lines_to_next_cell": 0,
    "papermill": {
     "duration": 0.018322,
     "end_time": "2021-08-31T06:45:25.039597",
     "exception": false,
     "start_time": "2021-08-31T06:45:25.021275",
     "status": "completed"
    },
    "tags": []
   },
   "source": [
    "# 3) Count Feature\n",
    "\n",
    "Let's try creating a feature that describes how many kinds of outdoor areas a dwelling has. Create a feature `PorchTypes` that counts how many of the following are greater than 0.0:\n",
    "\n",
    "```\n",
    "WoodDeckSF\n",
    "OpenPorchSF\n",
    "EnclosedPorch\n",
    "Threeseasonporch\n",
    "ScreenPorch\n",
    "```"
   ]
  },
  {
   "cell_type": "code",
   "execution_count": 6,
   "id": "442bffa1",
   "metadata": {
    "execution": {
     "iopub.execute_input": "2021-08-31T06:45:25.080396Z",
     "iopub.status.busy": "2021-08-31T06:45:25.079664Z",
     "iopub.status.idle": "2021-08-31T06:45:25.097360Z",
     "shell.execute_reply": "2021-08-31T06:45:25.096802Z",
     "shell.execute_reply.started": "2021-08-31T06:44:08.524807Z"
    },
    "lines_to_next_cell": 0,
    "papermill": {
     "duration": 0.039176,
     "end_time": "2021-08-31T06:45:25.097525",
     "exception": false,
     "start_time": "2021-08-31T06:45:25.058349",
     "status": "completed"
    },
    "tags": []
   },
   "outputs": [
    {
     "data": {
      "application/javascript": [
       "parent.postMessage({\"jupyterEvent\": \"custom.exercise_interaction\", \"data\": {\"outcomeType\": 1, \"valueTowardsCompletion\": 0.2, \"interactionType\": 1, \"questionType\": 2, \"questionId\": \"3_Q3\", \"learnToolsVersion\": \"0.3.4\", \"failureMessage\": \"\", \"exceptionClass\": \"\", \"trace\": \"\"}}, \"*\")"
      ],
      "text/plain": [
       "<IPython.core.display.Javascript object>"
      ]
     },
     "metadata": {},
     "output_type": "display_data"
    },
    {
     "data": {
      "text/markdown": [
       "<span style=\"color:#33cc33\">Correct</span>"
      ],
      "text/plain": [
       "Correct"
      ]
     },
     "metadata": {},
     "output_type": "display_data"
    }
   ],
   "source": [
    "X_3 = pd.DataFrame()\n",
    "\n",
    "# YOUR CODE HERE\n",
    "X_3[\"PorchTypes\"] = df[[\"WoodDeckSF\",\"OpenPorchSF\",\"EnclosedPorch\",\"Threeseasonporch\",\"ScreenPorch\",]].gt(0.0).sum(axis=1)\n",
    "\n",
    "# Check your answer\n",
    "q_3.check()"
   ]
  },
  {
   "cell_type": "code",
   "execution_count": 7,
   "id": "acad93cf",
   "metadata": {
    "execution": {
     "iopub.execute_input": "2021-08-31T06:45:25.140441Z",
     "iopub.status.busy": "2021-08-31T06:45:25.139835Z",
     "iopub.status.idle": "2021-08-31T06:45:25.143672Z",
     "shell.execute_reply": "2021-08-31T06:45:25.143122Z",
     "shell.execute_reply.started": "2021-08-31T06:43:22.102643Z"
    },
    "lines_to_next_cell": 0,
    "papermill": {
     "duration": 0.025928,
     "end_time": "2021-08-31T06:45:25.143814",
     "exception": false,
     "start_time": "2021-08-31T06:45:25.117886",
     "status": "completed"
    },
    "tags": []
   },
   "outputs": [],
   "source": [
    "# Lines below will give you a hint or solution code\n",
    "#q_3.hint()\n",
    "#q_3.solution()"
   ]
  },
  {
   "cell_type": "markdown",
   "id": "3f1287a2",
   "metadata": {
    "papermill": {
     "duration": 0.020347,
     "end_time": "2021-08-31T06:45:25.184321",
     "exception": false,
     "start_time": "2021-08-31T06:45:25.163974",
     "status": "completed"
    },
    "tags": []
   },
   "source": [
    "# 4) Break Down a Categorical Feature\n",
    "\n",
    "`MSSubClass` describes the type of a dwelling:"
   ]
  },
  {
   "cell_type": "code",
   "execution_count": 8,
   "id": "203212b1",
   "metadata": {
    "execution": {
     "iopub.execute_input": "2021-08-31T06:45:25.227307Z",
     "iopub.status.busy": "2021-08-31T06:45:25.226618Z",
     "iopub.status.idle": "2021-08-31T06:45:25.234407Z",
     "shell.execute_reply": "2021-08-31T06:45:25.233786Z",
     "shell.execute_reply.started": "2021-08-31T06:44:12.212771Z"
    },
    "papermill": {
     "duration": 0.030369,
     "end_time": "2021-08-31T06:45:25.234565",
     "exception": false,
     "start_time": "2021-08-31T06:45:25.204196",
     "status": "completed"
    },
    "tags": []
   },
   "outputs": [
    {
     "data": {
      "text/plain": [
       "array(['One_Story_1946_and_Newer_All_Styles', 'Two_Story_1946_and_Newer',\n",
       "       'One_Story_PUD_1946_and_Newer',\n",
       "       'One_and_Half_Story_Finished_All_Ages', 'Split_Foyer',\n",
       "       'Two_Story_PUD_1946_and_Newer', 'Split_or_Multilevel',\n",
       "       'One_Story_1945_and_Older', 'Duplex_All_Styles_and_Ages',\n",
       "       'Two_Family_conversion_All_Styles_and_Ages',\n",
       "       'One_and_Half_Story_Unfinished_All_Ages',\n",
       "       'Two_Story_1945_and_Older', 'Two_and_Half_Story_All_Ages',\n",
       "       'One_Story_with_Finished_Attic_All_Ages',\n",
       "       'PUD_Multilevel_Split_Level_Foyer',\n",
       "       'One_and_Half_Story_PUD_All_Ages'], dtype=object)"
      ]
     },
     "execution_count": 8,
     "metadata": {},
     "output_type": "execute_result"
    }
   ],
   "source": [
    "df.MSSubClass.unique()"
   ]
  },
  {
   "cell_type": "markdown",
   "id": "9041aa2d",
   "metadata": {
    "papermill": {
     "duration": 0.019869,
     "end_time": "2021-08-31T06:45:25.274554",
     "exception": false,
     "start_time": "2021-08-31T06:45:25.254685",
     "status": "completed"
    },
    "tags": []
   },
   "source": [
    "You can see that there is a more general categorization described (roughly) by the first word of each category. Create a feature containing only these first words by splitting `MSSubClass` at the first underscore `_`. (Hint: In the `split` method use an argument `n=1`.)"
   ]
  },
  {
   "cell_type": "code",
   "execution_count": 9,
   "id": "b7ce7e79",
   "metadata": {
    "execution": {
     "iopub.execute_input": "2021-08-31T06:45:25.342179Z",
     "iopub.status.busy": "2021-08-31T06:45:25.341470Z",
     "iopub.status.idle": "2021-08-31T06:45:25.347148Z",
     "shell.execute_reply": "2021-08-31T06:45:25.346651Z",
     "shell.execute_reply.started": "2021-08-31T06:44:27.279197Z"
    },
    "lines_to_next_cell": 0,
    "papermill": {
     "duration": 0.052502,
     "end_time": "2021-08-31T06:45:25.347290",
     "exception": false,
     "start_time": "2021-08-31T06:45:25.294788",
     "status": "completed"
    },
    "tags": []
   },
   "outputs": [
    {
     "data": {
      "application/javascript": [
       "parent.postMessage({\"jupyterEvent\": \"custom.exercise_interaction\", \"data\": {\"outcomeType\": 1, \"valueTowardsCompletion\": 0.2, \"interactionType\": 1, \"questionType\": 2, \"questionId\": \"4_Q4\", \"learnToolsVersion\": \"0.3.4\", \"failureMessage\": \"\", \"exceptionClass\": \"\", \"trace\": \"\"}}, \"*\")"
      ],
      "text/plain": [
       "<IPython.core.display.Javascript object>"
      ]
     },
     "metadata": {},
     "output_type": "display_data"
    },
    {
     "data": {
      "text/markdown": [
       "<span style=\"color:#33cc33\">Correct</span>"
      ],
      "text/plain": [
       "Correct"
      ]
     },
     "metadata": {},
     "output_type": "display_data"
    }
   ],
   "source": [
    "X_4 = pd.DataFrame()\n",
    "\n",
    "# YOUR CODE HERE\n",
    "X_4[\"MSClass\"] = df.MSSubClass.str.split(\"_\", n=1, expand=True)[0]\n",
    "\n",
    "# Check your answer\n",
    "q_4.check()"
   ]
  },
  {
   "cell_type": "code",
   "execution_count": 10,
   "id": "15e24d01",
   "metadata": {
    "execution": {
     "iopub.execute_input": "2021-08-31T06:45:25.394407Z",
     "iopub.status.busy": "2021-08-31T06:45:25.393395Z",
     "iopub.status.idle": "2021-08-31T06:45:25.396207Z",
     "shell.execute_reply": "2021-08-31T06:45:25.396690Z",
     "shell.execute_reply.started": "2021-08-31T06:44:17.723406Z"
    },
    "lines_to_next_cell": 0,
    "papermill": {
     "duration": 0.028473,
     "end_time": "2021-08-31T06:45:25.396872",
     "exception": false,
     "start_time": "2021-08-31T06:45:25.368399",
     "status": "completed"
    },
    "tags": []
   },
   "outputs": [],
   "source": [
    "# Lines below will give you a hint or solution code\n",
    "#q_4.hint()\n",
    "#q_4.solution()"
   ]
  },
  {
   "cell_type": "markdown",
   "id": "d1824868",
   "metadata": {
    "papermill": {
     "duration": 0.020942,
     "end_time": "2021-08-31T06:45:25.439166",
     "exception": false,
     "start_time": "2021-08-31T06:45:25.418224",
     "status": "completed"
    },
    "tags": []
   },
   "source": [
    "# 5) Use a Grouped Transform\n",
    "\n",
    "The value of a home often depends on how it compares to typical homes in its neighborhood. Create a feature `MedNhbdArea` that describes the *median* of `GrLivArea` grouped on `Neighborhood`."
   ]
  },
  {
   "cell_type": "code",
   "execution_count": 11,
   "id": "9d65c48d",
   "metadata": {
    "execution": {
     "iopub.execute_input": "2021-08-31T06:45:25.484909Z",
     "iopub.status.busy": "2021-08-31T06:45:25.484218Z",
     "iopub.status.idle": "2021-08-31T06:45:25.506139Z",
     "shell.execute_reply": "2021-08-31T06:45:25.506644Z",
     "shell.execute_reply.started": "2021-08-31T06:44:48.351438Z"
    },
    "lines_to_next_cell": 0,
    "papermill": {
     "duration": 0.046408,
     "end_time": "2021-08-31T06:45:25.506815",
     "exception": false,
     "start_time": "2021-08-31T06:45:25.460407",
     "status": "completed"
    },
    "tags": []
   },
   "outputs": [
    {
     "data": {
      "application/javascript": [
       "parent.postMessage({\"jupyterEvent\": \"custom.exercise_interaction\", \"data\": {\"outcomeType\": 1, \"valueTowardsCompletion\": 0.2, \"interactionType\": 1, \"questionType\": 2, \"questionId\": \"5_Q5\", \"learnToolsVersion\": \"0.3.4\", \"failureMessage\": \"\", \"exceptionClass\": \"\", \"trace\": \"\"}}, \"*\")"
      ],
      "text/plain": [
       "<IPython.core.display.Javascript object>"
      ]
     },
     "metadata": {},
     "output_type": "display_data"
    },
    {
     "data": {
      "text/markdown": [
       "<span style=\"color:#33cc33\">Correct</span>"
      ],
      "text/plain": [
       "Correct"
      ]
     },
     "metadata": {},
     "output_type": "display_data"
    }
   ],
   "source": [
    "X_5 = pd.DataFrame()\n",
    "\n",
    "# YOUR CODE HERE\n",
    "X_5[\"MedNhbdArea\"] = df.groupby(\"Neighborhood\")[\"GrLivArea\"].transform(\"median\")\n",
    "\n",
    "# Check your answer\n",
    "q_5.check()"
   ]
  },
  {
   "cell_type": "code",
   "execution_count": 12,
   "id": "11670907",
   "metadata": {
    "execution": {
     "iopub.execute_input": "2021-08-31T06:45:25.555567Z",
     "iopub.status.busy": "2021-08-31T06:45:25.554808Z",
     "iopub.status.idle": "2021-08-31T06:45:25.559046Z",
     "shell.execute_reply": "2021-08-31T06:45:25.558349Z",
     "shell.execute_reply.started": "2021-08-31T06:44:36.389836Z"
    },
    "lines_to_next_cell": 0,
    "papermill": {
     "duration": 0.029326,
     "end_time": "2021-08-31T06:45:25.559192",
     "exception": false,
     "start_time": "2021-08-31T06:45:25.529866",
     "status": "completed"
    },
    "tags": []
   },
   "outputs": [],
   "source": [
    "# Lines below will give you a hint or solution code\n",
    "#q_5.hint()\n",
    "#q_5.solution()"
   ]
  },
  {
   "cell_type": "markdown",
   "id": "a80b4e56",
   "metadata": {
    "papermill": {
     "duration": 0.022876,
     "end_time": "2021-08-31T06:45:25.604294",
     "exception": false,
     "start_time": "2021-08-31T06:45:25.581418",
     "status": "completed"
    },
    "tags": []
   },
   "source": [
    "Now you've made your first new feature set! If you like, you can run the cell below to score the model with all of your new features added:"
   ]
  },
  {
   "cell_type": "code",
   "execution_count": 13,
   "id": "cc694f06",
   "metadata": {
    "execution": {
     "iopub.execute_input": "2021-08-31T06:45:25.652351Z",
     "iopub.status.busy": "2021-08-31T06:45:25.651712Z",
     "iopub.status.idle": "2021-08-31T06:45:29.222332Z",
     "shell.execute_reply": "2021-08-31T06:45:29.222919Z",
     "shell.execute_reply.started": "2021-08-31T06:44:54.286408Z"
    },
    "papermill": {
     "duration": 3.596381,
     "end_time": "2021-08-31T06:45:29.223125",
     "exception": false,
     "start_time": "2021-08-31T06:45:25.626744",
     "status": "completed"
    },
    "tags": []
   },
   "outputs": [
    {
     "data": {
      "text/plain": [
       "0.13847331710099203"
      ]
     },
     "execution_count": 13,
     "metadata": {},
     "output_type": "execute_result"
    }
   ],
   "source": [
    "X_new = X.join([X_1, X_2, X_3, X_4, X_5])\n",
    "score_dataset(X_new, y)"
   ]
  },
  {
   "cell_type": "markdown",
   "id": "a4835f6b",
   "metadata": {
    "papermill": {
     "duration": 0.022663,
     "end_time": "2021-08-31T06:45:29.269407",
     "exception": false,
     "start_time": "2021-08-31T06:45:29.246744",
     "status": "completed"
    },
    "tags": []
   },
   "source": [
    "# Keep Going #\n",
    "\n",
    "[**Untangle spatial relationships**](https://www.kaggle.com/ryanholbrook/clustering-with-k-means) by adding cluster labels to your dataset."
   ]
  },
  {
   "cell_type": "markdown",
   "id": "e1feb07c",
   "metadata": {
    "papermill": {
     "duration": 0.02297,
     "end_time": "2021-08-31T06:45:29.315142",
     "exception": false,
     "start_time": "2021-08-31T06:45:29.292172",
     "status": "completed"
    },
    "tags": []
   },
   "source": [
    "---\n",
    "\n",
    "\n",
    "\n",
    "\n",
    "*Have questions or comments? Visit the [Learn Discussion forum](https://www.kaggle.com/learn-forum/221677) to chat with other Learners.*"
   ]
  }
 ],
 "metadata": {
  "kernelspec": {
   "display_name": "Python 3",
   "language": "python",
   "name": "python3"
  },
  "language_info": {
   "codemirror_mode": {
    "name": "ipython",
    "version": 3
   },
   "file_extension": ".py",
   "mimetype": "text/x-python",
   "name": "python",
   "nbconvert_exporter": "python",
   "pygments_lexer": "ipython3",
   "version": "3.7.10"
  },
  "papermill": {
   "default_parameters": {},
   "duration": 17.162699,
   "end_time": "2021-08-31T06:45:30.650519",
   "environment_variables": {},
   "exception": null,
   "input_path": "__notebook__.ipynb",
   "output_path": "__notebook__.ipynb",
   "parameters": {},
   "start_time": "2021-08-31T06:45:13.487820",
   "version": "2.3.3"
  }
 },
 "nbformat": 4,
 "nbformat_minor": 5
}
