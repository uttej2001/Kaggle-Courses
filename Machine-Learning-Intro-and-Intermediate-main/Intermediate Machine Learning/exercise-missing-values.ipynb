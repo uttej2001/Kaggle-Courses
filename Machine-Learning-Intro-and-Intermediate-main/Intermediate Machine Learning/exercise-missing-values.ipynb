{
 "cells": [
  {
   "cell_type": "markdown",
   "id": "a07617ee",
   "metadata": {
    "papermill": {
     "duration": 0.022731,
     "end_time": "2021-08-30T11:14:28.340203",
     "exception": false,
     "start_time": "2021-08-30T11:14:28.317472",
     "status": "completed"
    },
    "tags": []
   },
   "source": [
    "**This notebook is an exercise in the [Intermediate Machine Learning](https://www.kaggle.com/learn/intermediate-machine-learning) course.  You can reference the tutorial at [this link](https://www.kaggle.com/alexisbcook/missing-values).**\n",
    "\n",
    "---\n"
   ]
  },
  {
   "cell_type": "markdown",
   "id": "b914847b",
   "metadata": {
    "papermill": {
     "duration": 0.020359,
     "end_time": "2021-08-30T11:14:28.384841",
     "exception": false,
     "start_time": "2021-08-30T11:14:28.364482",
     "status": "completed"
    },
    "tags": []
   },
   "source": [
    "Now it's your turn to test your new knowledge of **missing values** handling. You'll probably find it makes a big difference.\n",
    "\n",
    "# Setup\n",
    "\n",
    "The questions will give you feedback on your work. Run the following cell to set up the feedback system."
   ]
  },
  {
   "cell_type": "code",
   "execution_count": 1,
   "id": "1f5a66f5",
   "metadata": {
    "execution": {
     "iopub.execute_input": "2021-08-30T11:14:28.438302Z",
     "iopub.status.busy": "2021-08-30T11:14:28.434774Z",
     "iopub.status.idle": "2021-08-30T11:14:28.567320Z",
     "shell.execute_reply": "2021-08-30T11:14:28.567967Z",
     "shell.execute_reply.started": "2021-08-30T11:08:32.606845Z"
    },
    "papermill": {
     "duration": 0.162975,
     "end_time": "2021-08-30T11:14:28.568339",
     "exception": false,
     "start_time": "2021-08-30T11:14:28.405364",
     "status": "completed"
    },
    "tags": []
   },
   "outputs": [
    {
     "name": "stdout",
     "output_type": "stream",
     "text": [
      "Setup Complete\n"
     ]
    }
   ],
   "source": [
    "# Set up code checking\n",
    "import os\n",
    "if not os.path.exists(\"../input/train.csv\"):\n",
    "    os.symlink(\"../input/home-data-for-ml-course/train.csv\", \"../input/train.csv\")  \n",
    "    os.symlink(\"../input/home-data-for-ml-course/test.csv\", \"../input/test.csv\") \n",
    "from learntools.core import binder\n",
    "binder.bind(globals())\n",
    "from learntools.ml_intermediate.ex2 import *\n",
    "print(\"Setup Complete\")"
   ]
  },
  {
   "cell_type": "markdown",
   "id": "30ee22dd",
   "metadata": {
    "papermill": {
     "duration": 0.020953,
     "end_time": "2021-08-30T11:14:28.611916",
     "exception": false,
     "start_time": "2021-08-30T11:14:28.590963",
     "status": "completed"
    },
    "tags": []
   },
   "source": [
    "In this exercise, you will work with data from the [Housing Prices Competition for Kaggle Learn Users](https://www.kaggle.com/c/home-data-for-ml-course). \n",
    "\n",
    "![Ames Housing dataset image](https://i.imgur.com/lTJVG4e.png)\n",
    "\n",
    "Run the next code cell without changes to load the training and validation sets in `X_train`, `X_valid`, `y_train`, and `y_valid`.  The test set is loaded in `X_test`."
   ]
  },
  {
   "cell_type": "code",
   "execution_count": 2,
   "id": "e5032643",
   "metadata": {
    "execution": {
     "iopub.execute_input": "2021-08-30T11:14:28.659995Z",
     "iopub.status.busy": "2021-08-30T11:14:28.659347Z",
     "iopub.status.idle": "2021-08-30T11:14:29.625125Z",
     "shell.execute_reply": "2021-08-30T11:14:29.625573Z",
     "shell.execute_reply.started": "2021-08-30T11:08:37.586472Z"
    },
    "papermill": {
     "duration": 0.993167,
     "end_time": "2021-08-30T11:14:29.625773",
     "exception": false,
     "start_time": "2021-08-30T11:14:28.632606",
     "status": "completed"
    },
    "tags": []
   },
   "outputs": [],
   "source": [
    "import pandas as pd\n",
    "from sklearn.model_selection import train_test_split\n",
    "\n",
    "# Read the data\n",
    "X_full = pd.read_csv('../input/train.csv', index_col='Id')\n",
    "X_test_full = pd.read_csv('../input/test.csv', index_col='Id')\n",
    "\n",
    "# Remove rows with missing target, separate target from predictors\n",
    "X_full.dropna(axis=0, subset=['SalePrice'], inplace=True)\n",
    "y = X_full.SalePrice\n",
    "X_full.drop(['SalePrice'], axis=1, inplace=True)\n",
    "\n",
    "# To keep things simple, we'll use only numerical predictors\n",
    "X = X_full.select_dtypes(exclude=['object'])\n",
    "X_test = X_test_full.select_dtypes(exclude=['object'])\n",
    "\n",
    "# Break off validation set from training data\n",
    "X_train, X_valid, y_train, y_valid = train_test_split(X, y, train_size=0.8, test_size=0.2,\n",
    "                                                      random_state=0)"
   ]
  },
  {
   "cell_type": "markdown",
   "id": "7a180839",
   "metadata": {
    "papermill": {
     "duration": 0.021023,
     "end_time": "2021-08-30T11:14:29.667777",
     "exception": false,
     "start_time": "2021-08-30T11:14:29.646754",
     "status": "completed"
    },
    "tags": []
   },
   "source": [
    "Use the next code cell to print the first five rows of the data."
   ]
  },
  {
   "cell_type": "code",
   "execution_count": 3,
   "id": "dcd49d59",
   "metadata": {
    "execution": {
     "iopub.execute_input": "2021-08-30T11:14:29.712148Z",
     "iopub.status.busy": "2021-08-30T11:14:29.711568Z",
     "iopub.status.idle": "2021-08-30T11:14:29.738002Z",
     "shell.execute_reply": "2021-08-30T11:14:29.738402Z",
     "shell.execute_reply.started": "2021-08-30T11:08:46.651910Z"
    },
    "papermill": {
     "duration": 0.050363,
     "end_time": "2021-08-30T11:14:29.738570",
     "exception": false,
     "start_time": "2021-08-30T11:14:29.688207",
     "status": "completed"
    },
    "tags": []
   },
   "outputs": [
    {
     "data": {
      "text/html": [
       "<div>\n",
       "<style scoped>\n",
       "    .dataframe tbody tr th:only-of-type {\n",
       "        vertical-align: middle;\n",
       "    }\n",
       "\n",
       "    .dataframe tbody tr th {\n",
       "        vertical-align: top;\n",
       "    }\n",
       "\n",
       "    .dataframe thead th {\n",
       "        text-align: right;\n",
       "    }\n",
       "</style>\n",
       "<table border=\"1\" class=\"dataframe\">\n",
       "  <thead>\n",
       "    <tr style=\"text-align: right;\">\n",
       "      <th></th>\n",
       "      <th>MSSubClass</th>\n",
       "      <th>LotFrontage</th>\n",
       "      <th>LotArea</th>\n",
       "      <th>OverallQual</th>\n",
       "      <th>OverallCond</th>\n",
       "      <th>YearBuilt</th>\n",
       "      <th>YearRemodAdd</th>\n",
       "      <th>MasVnrArea</th>\n",
       "      <th>BsmtFinSF1</th>\n",
       "      <th>BsmtFinSF2</th>\n",
       "      <th>...</th>\n",
       "      <th>GarageArea</th>\n",
       "      <th>WoodDeckSF</th>\n",
       "      <th>OpenPorchSF</th>\n",
       "      <th>EnclosedPorch</th>\n",
       "      <th>3SsnPorch</th>\n",
       "      <th>ScreenPorch</th>\n",
       "      <th>PoolArea</th>\n",
       "      <th>MiscVal</th>\n",
       "      <th>MoSold</th>\n",
       "      <th>YrSold</th>\n",
       "    </tr>\n",
       "    <tr>\n",
       "      <th>Id</th>\n",
       "      <th></th>\n",
       "      <th></th>\n",
       "      <th></th>\n",
       "      <th></th>\n",
       "      <th></th>\n",
       "      <th></th>\n",
       "      <th></th>\n",
       "      <th></th>\n",
       "      <th></th>\n",
       "      <th></th>\n",
       "      <th></th>\n",
       "      <th></th>\n",
       "      <th></th>\n",
       "      <th></th>\n",
       "      <th></th>\n",
       "      <th></th>\n",
       "      <th></th>\n",
       "      <th></th>\n",
       "      <th></th>\n",
       "      <th></th>\n",
       "      <th></th>\n",
       "    </tr>\n",
       "  </thead>\n",
       "  <tbody>\n",
       "    <tr>\n",
       "      <th>619</th>\n",
       "      <td>20</td>\n",
       "      <td>90.0</td>\n",
       "      <td>11694</td>\n",
       "      <td>9</td>\n",
       "      <td>5</td>\n",
       "      <td>2007</td>\n",
       "      <td>2007</td>\n",
       "      <td>452.0</td>\n",
       "      <td>48</td>\n",
       "      <td>0</td>\n",
       "      <td>...</td>\n",
       "      <td>774</td>\n",
       "      <td>0</td>\n",
       "      <td>108</td>\n",
       "      <td>0</td>\n",
       "      <td>0</td>\n",
       "      <td>260</td>\n",
       "      <td>0</td>\n",
       "      <td>0</td>\n",
       "      <td>7</td>\n",
       "      <td>2007</td>\n",
       "    </tr>\n",
       "    <tr>\n",
       "      <th>871</th>\n",
       "      <td>20</td>\n",
       "      <td>60.0</td>\n",
       "      <td>6600</td>\n",
       "      <td>5</td>\n",
       "      <td>5</td>\n",
       "      <td>1962</td>\n",
       "      <td>1962</td>\n",
       "      <td>0.0</td>\n",
       "      <td>0</td>\n",
       "      <td>0</td>\n",
       "      <td>...</td>\n",
       "      <td>308</td>\n",
       "      <td>0</td>\n",
       "      <td>0</td>\n",
       "      <td>0</td>\n",
       "      <td>0</td>\n",
       "      <td>0</td>\n",
       "      <td>0</td>\n",
       "      <td>0</td>\n",
       "      <td>8</td>\n",
       "      <td>2009</td>\n",
       "    </tr>\n",
       "    <tr>\n",
       "      <th>93</th>\n",
       "      <td>30</td>\n",
       "      <td>80.0</td>\n",
       "      <td>13360</td>\n",
       "      <td>5</td>\n",
       "      <td>7</td>\n",
       "      <td>1921</td>\n",
       "      <td>2006</td>\n",
       "      <td>0.0</td>\n",
       "      <td>713</td>\n",
       "      <td>0</td>\n",
       "      <td>...</td>\n",
       "      <td>432</td>\n",
       "      <td>0</td>\n",
       "      <td>0</td>\n",
       "      <td>44</td>\n",
       "      <td>0</td>\n",
       "      <td>0</td>\n",
       "      <td>0</td>\n",
       "      <td>0</td>\n",
       "      <td>8</td>\n",
       "      <td>2009</td>\n",
       "    </tr>\n",
       "    <tr>\n",
       "      <th>818</th>\n",
       "      <td>20</td>\n",
       "      <td>NaN</td>\n",
       "      <td>13265</td>\n",
       "      <td>8</td>\n",
       "      <td>5</td>\n",
       "      <td>2002</td>\n",
       "      <td>2002</td>\n",
       "      <td>148.0</td>\n",
       "      <td>1218</td>\n",
       "      <td>0</td>\n",
       "      <td>...</td>\n",
       "      <td>857</td>\n",
       "      <td>150</td>\n",
       "      <td>59</td>\n",
       "      <td>0</td>\n",
       "      <td>0</td>\n",
       "      <td>0</td>\n",
       "      <td>0</td>\n",
       "      <td>0</td>\n",
       "      <td>7</td>\n",
       "      <td>2008</td>\n",
       "    </tr>\n",
       "    <tr>\n",
       "      <th>303</th>\n",
       "      <td>20</td>\n",
       "      <td>118.0</td>\n",
       "      <td>13704</td>\n",
       "      <td>7</td>\n",
       "      <td>5</td>\n",
       "      <td>2001</td>\n",
       "      <td>2002</td>\n",
       "      <td>150.0</td>\n",
       "      <td>0</td>\n",
       "      <td>0</td>\n",
       "      <td>...</td>\n",
       "      <td>843</td>\n",
       "      <td>468</td>\n",
       "      <td>81</td>\n",
       "      <td>0</td>\n",
       "      <td>0</td>\n",
       "      <td>0</td>\n",
       "      <td>0</td>\n",
       "      <td>0</td>\n",
       "      <td>1</td>\n",
       "      <td>2006</td>\n",
       "    </tr>\n",
       "  </tbody>\n",
       "</table>\n",
       "<p>5 rows × 36 columns</p>\n",
       "</div>"
      ],
      "text/plain": [
       "     MSSubClass  LotFrontage  LotArea  OverallQual  OverallCond  YearBuilt  \\\n",
       "Id                                                                           \n",
       "619          20         90.0    11694            9            5       2007   \n",
       "871          20         60.0     6600            5            5       1962   \n",
       "93           30         80.0    13360            5            7       1921   \n",
       "818          20          NaN    13265            8            5       2002   \n",
       "303          20        118.0    13704            7            5       2001   \n",
       "\n",
       "     YearRemodAdd  MasVnrArea  BsmtFinSF1  BsmtFinSF2  ...  GarageArea  \\\n",
       "Id                                                     ...               \n",
       "619          2007       452.0          48           0  ...         774   \n",
       "871          1962         0.0           0           0  ...         308   \n",
       "93           2006         0.0         713           0  ...         432   \n",
       "818          2002       148.0        1218           0  ...         857   \n",
       "303          2002       150.0           0           0  ...         843   \n",
       "\n",
       "     WoodDeckSF  OpenPorchSF  EnclosedPorch  3SsnPorch  ScreenPorch  PoolArea  \\\n",
       "Id                                                                              \n",
       "619           0          108              0          0          260         0   \n",
       "871           0            0              0          0            0         0   \n",
       "93            0            0             44          0            0         0   \n",
       "818         150           59              0          0            0         0   \n",
       "303         468           81              0          0            0         0   \n",
       "\n",
       "     MiscVal  MoSold  YrSold  \n",
       "Id                            \n",
       "619        0       7    2007  \n",
       "871        0       8    2009  \n",
       "93         0       8    2009  \n",
       "818        0       7    2008  \n",
       "303        0       1    2006  \n",
       "\n",
       "[5 rows x 36 columns]"
      ]
     },
     "execution_count": 3,
     "metadata": {},
     "output_type": "execute_result"
    }
   ],
   "source": [
    "X_train.head()"
   ]
  },
  {
   "cell_type": "markdown",
   "id": "5979a554",
   "metadata": {
    "papermill": {
     "duration": 0.020898,
     "end_time": "2021-08-30T11:14:29.780719",
     "exception": false,
     "start_time": "2021-08-30T11:14:29.759821",
     "status": "completed"
    },
    "tags": []
   },
   "source": [
    "You can already see a few missing values in the first several rows.  In the next step, you'll obtain a more comprehensive understanding of the missing values in the dataset.\n",
    "\n",
    "# Step 1: Preliminary investigation\n",
    "\n",
    "Run the code cell below without changes."
   ]
  },
  {
   "cell_type": "code",
   "execution_count": 4,
   "id": "2602eb94",
   "metadata": {
    "execution": {
     "iopub.execute_input": "2021-08-30T11:14:29.828226Z",
     "iopub.status.busy": "2021-08-30T11:14:29.827594Z",
     "iopub.status.idle": "2021-08-30T11:14:29.835075Z",
     "shell.execute_reply": "2021-08-30T11:14:29.835500Z",
     "shell.execute_reply.started": "2021-08-30T11:08:51.933421Z"
    },
    "papermill": {
     "duration": 0.0333,
     "end_time": "2021-08-30T11:14:29.835686",
     "exception": false,
     "start_time": "2021-08-30T11:14:29.802386",
     "status": "completed"
    },
    "tags": []
   },
   "outputs": [
    {
     "name": "stdout",
     "output_type": "stream",
     "text": [
      "(1168, 36)\n",
      "LotFrontage    212\n",
      "MasVnrArea       6\n",
      "GarageYrBlt     58\n",
      "dtype: int64\n"
     ]
    }
   ],
   "source": [
    "# Shape of training data (num_rows, num_columns)\n",
    "print(X_train.shape)\n",
    "\n",
    "# Number of missing values in each column of training data\n",
    "missing_val_count_by_column = (X_train.isnull().sum())\n",
    "print(missing_val_count_by_column[missing_val_count_by_column > 0])"
   ]
  },
  {
   "cell_type": "markdown",
   "id": "b2b43181",
   "metadata": {
    "papermill": {
     "duration": 0.021604,
     "end_time": "2021-08-30T11:14:29.878793",
     "exception": false,
     "start_time": "2021-08-30T11:14:29.857189",
     "status": "completed"
    },
    "tags": []
   },
   "source": [
    "### Part A\n",
    "\n",
    "Use the above output to answer the questions below."
   ]
  },
  {
   "cell_type": "code",
   "execution_count": 5,
   "id": "c100b6f1",
   "metadata": {
    "execution": {
     "iopub.execute_input": "2021-08-30T11:14:29.928160Z",
     "iopub.status.busy": "2021-08-30T11:14:29.927553Z",
     "iopub.status.idle": "2021-08-30T11:14:29.933589Z",
     "shell.execute_reply": "2021-08-30T11:14:29.933031Z",
     "shell.execute_reply.started": "2021-08-30T11:10:09.361022Z"
    },
    "papermill": {
     "duration": 0.033027,
     "end_time": "2021-08-30T11:14:29.933766",
     "exception": false,
     "start_time": "2021-08-30T11:14:29.900739",
     "status": "completed"
    },
    "tags": []
   },
   "outputs": [
    {
     "data": {
      "application/javascript": [
       "parent.postMessage({\"jupyterEvent\": \"custom.exercise_interaction\", \"data\": {\"outcomeType\": 1, \"valueTowardsCompletion\": 1.0, \"interactionType\": 1, \"questionType\": 1, \"questionId\": \"1.1_InvestigateEquality\", \"learnToolsVersion\": \"0.3.4\", \"failureMessage\": \"\", \"exceptionClass\": \"\", \"trace\": \"\"}}, \"*\")"
      ],
      "text/plain": [
       "<IPython.core.display.Javascript object>"
      ]
     },
     "metadata": {},
     "output_type": "display_data"
    },
    {
     "data": {
      "text/markdown": [
       "<span style=\"color:#33cc33\">Correct</span>"
      ],
      "text/plain": [
       "Correct"
      ]
     },
     "metadata": {},
     "output_type": "display_data"
    }
   ],
   "source": [
    "# Fill in the line below: How many rows are in the training data?\n",
    "num_rows = 1168\n",
    "\n",
    "# Fill in the line below: How many columns in the training data\n",
    "# have missing values?\n",
    "num_cols_with_missing = 3\n",
    "\n",
    "# Fill in the line below: How many missing entries are contained in \n",
    "# all of the training data?\n",
    "tot_missing = 276\n",
    "\n",
    "# Check your answers\n",
    "step_1.a.check()"
   ]
  },
  {
   "cell_type": "code",
   "execution_count": 6,
   "id": "bfd9e0f5",
   "metadata": {
    "execution": {
     "iopub.execute_input": "2021-08-30T11:14:29.981977Z",
     "iopub.status.busy": "2021-08-30T11:14:29.981368Z",
     "iopub.status.idle": "2021-08-30T11:14:29.984402Z",
     "shell.execute_reply": "2021-08-30T11:14:29.983827Z"
    },
    "papermill": {
     "duration": 0.02842,
     "end_time": "2021-08-30T11:14:29.984531",
     "exception": false,
     "start_time": "2021-08-30T11:14:29.956111",
     "status": "completed"
    },
    "tags": []
   },
   "outputs": [],
   "source": [
    "# Lines below will give you a hint or solution code\n",
    "#step_1.a.hint()\n",
    "#step_1.a.solution()"
   ]
  },
  {
   "cell_type": "markdown",
   "id": "f030c98c",
   "metadata": {
    "papermill": {
     "duration": 0.023017,
     "end_time": "2021-08-30T11:14:30.030882",
     "exception": false,
     "start_time": "2021-08-30T11:14:30.007865",
     "status": "completed"
    },
    "tags": []
   },
   "source": [
    "### Part B\n",
    "Considering your answers above, what do you think is likely the best approach to dealing with the missing values?"
   ]
  },
  {
   "cell_type": "code",
   "execution_count": 7,
   "id": "69238f05",
   "metadata": {
    "execution": {
     "iopub.execute_input": "2021-08-30T11:14:30.081369Z",
     "iopub.status.busy": "2021-08-30T11:14:30.080708Z",
     "iopub.status.idle": "2021-08-30T11:14:30.091848Z",
     "shell.execute_reply": "2021-08-30T11:14:30.088473Z",
     "shell.execute_reply.started": "2021-08-30T11:10:16.028329Z"
    },
    "papermill": {
     "duration": 0.037818,
     "end_time": "2021-08-30T11:14:30.092067",
     "exception": false,
     "start_time": "2021-08-30T11:14:30.054249",
     "status": "completed"
    },
    "tags": []
   },
   "outputs": [
    {
     "data": {
      "application/javascript": [
       "parent.postMessage({\"jupyterEvent\": \"custom.exercise_interaction\", \"data\": {\"outcomeType\": 1, \"valueTowardsCompletion\": 1.0, \"interactionType\": 1, \"questionType\": 4, \"questionId\": \"1.2_InvestigateThought\", \"learnToolsVersion\": \"0.3.4\", \"failureMessage\": \"\", \"exceptionClass\": \"\", \"trace\": \"\"}}, \"*\")"
      ],
      "text/plain": [
       "<IPython.core.display.Javascript object>"
      ]
     },
     "metadata": {},
     "output_type": "display_data"
    },
    {
     "data": {
      "text/markdown": [
       "<span style=\"color:#33cc33\">Correct:</span> \n",
       "\n",
       "Since there are relatively few missing entries in the data (the column with the greatest percentage of missing values is missing less than 20% of its entries), we can expect that dropping columns is unlikely to yield good results.  This is because we'd be throwing away a lot of valuable data, and so imputation will likely perform better."
      ],
      "text/plain": [
       "Correct: \n",
       "\n",
       "Since there are relatively few missing entries in the data (the column with the greatest percentage of missing values is missing less than 20% of its entries), we can expect that dropping columns is unlikely to yield good results.  This is because we'd be throwing away a lot of valuable data, and so imputation will likely perform better."
      ]
     },
     "metadata": {},
     "output_type": "display_data"
    }
   ],
   "source": [
    "# Check your answer (Run this code cell to receive credit!)\n",
    "step_1.b.check()"
   ]
  },
  {
   "cell_type": "code",
   "execution_count": 8,
   "id": "63fa9aff",
   "metadata": {
    "execution": {
     "iopub.execute_input": "2021-08-30T11:14:30.155699Z",
     "iopub.status.busy": "2021-08-30T11:14:30.155103Z",
     "iopub.status.idle": "2021-08-30T11:14:30.158876Z",
     "shell.execute_reply": "2021-08-30T11:14:30.158082Z"
    },
    "papermill": {
     "duration": 0.038902,
     "end_time": "2021-08-30T11:14:30.159065",
     "exception": false,
     "start_time": "2021-08-30T11:14:30.120163",
     "status": "completed"
    },
    "tags": []
   },
   "outputs": [],
   "source": [
    "#step_1.b.hint()"
   ]
  },
  {
   "cell_type": "markdown",
   "id": "6ca73aa0",
   "metadata": {
    "papermill": {
     "duration": 0.024835,
     "end_time": "2021-08-30T11:14:30.215371",
     "exception": false,
     "start_time": "2021-08-30T11:14:30.190536",
     "status": "completed"
    },
    "tags": []
   },
   "source": [
    "To compare different approaches to dealing with missing values, you'll use the same `score_dataset()` function from the tutorial.  This function reports the [mean absolute error](https://en.wikipedia.org/wiki/Mean_absolute_error) (MAE) from a random forest model."
   ]
  },
  {
   "cell_type": "code",
   "execution_count": 9,
   "id": "be746aec",
   "metadata": {
    "execution": {
     "iopub.execute_input": "2021-08-30T11:14:30.265885Z",
     "iopub.status.busy": "2021-08-30T11:14:30.265287Z",
     "iopub.status.idle": "2021-08-30T11:14:30.460552Z",
     "shell.execute_reply": "2021-08-30T11:14:30.459900Z",
     "shell.execute_reply.started": "2021-08-30T11:10:24.461996Z"
    },
    "papermill": {
     "duration": 0.221424,
     "end_time": "2021-08-30T11:14:30.460726",
     "exception": false,
     "start_time": "2021-08-30T11:14:30.239302",
     "status": "completed"
    },
    "tags": []
   },
   "outputs": [],
   "source": [
    "from sklearn.ensemble import RandomForestRegressor\n",
    "from sklearn.metrics import mean_absolute_error\n",
    "\n",
    "# Function for comparing different approaches\n",
    "def score_dataset(X_train, X_valid, y_train, y_valid):\n",
    "    model = RandomForestRegressor(n_estimators=100, random_state=0)\n",
    "    model.fit(X_train, y_train)\n",
    "    preds = model.predict(X_valid)\n",
    "    return mean_absolute_error(y_valid, preds)"
   ]
  },
  {
   "cell_type": "markdown",
   "id": "4b6e2665",
   "metadata": {
    "papermill": {
     "duration": 0.022698,
     "end_time": "2021-08-30T11:14:30.506550",
     "exception": false,
     "start_time": "2021-08-30T11:14:30.483852",
     "status": "completed"
    },
    "tags": []
   },
   "source": [
    "# Step 2: Drop columns with missing values\n",
    "\n",
    "In this step, you'll preprocess the data in `X_train` and `X_valid` to remove columns with missing values.  Set the preprocessed DataFrames to `reduced_X_train` and `reduced_X_valid`, respectively.  "
   ]
  },
  {
   "cell_type": "code",
   "execution_count": 10,
   "id": "319ea4bc",
   "metadata": {
    "execution": {
     "iopub.execute_input": "2021-08-30T11:14:30.578637Z",
     "iopub.status.busy": "2021-08-30T11:14:30.577704Z",
     "iopub.status.idle": "2021-08-30T11:14:30.584164Z",
     "shell.execute_reply": "2021-08-30T11:14:30.583579Z",
     "shell.execute_reply.started": "2021-08-30T11:11:32.969367Z"
    },
    "papermill": {
     "duration": 0.054429,
     "end_time": "2021-08-30T11:14:30.584293",
     "exception": false,
     "start_time": "2021-08-30T11:14:30.529864",
     "status": "completed"
    },
    "tags": []
   },
   "outputs": [
    {
     "data": {
      "application/javascript": [
       "parent.postMessage({\"jupyterEvent\": \"custom.exercise_interaction\", \"data\": {\"outcomeType\": 1, \"valueTowardsCompletion\": 1.0, \"interactionType\": 1, \"questionType\": 2, \"questionId\": \"2_DropMissing\", \"learnToolsVersion\": \"0.3.4\", \"failureMessage\": \"\", \"exceptionClass\": \"\", \"trace\": \"\"}}, \"*\")"
      ],
      "text/plain": [
       "<IPython.core.display.Javascript object>"
      ]
     },
     "metadata": {},
     "output_type": "display_data"
    },
    {
     "data": {
      "text/markdown": [
       "<span style=\"color:#33cc33\">Correct</span>"
      ],
      "text/plain": [
       "Correct"
      ]
     },
     "metadata": {},
     "output_type": "display_data"
    }
   ],
   "source": [
    "# Fill in the line below: get names of columns with missing values\n",
    "cols_with_missing = [col for col in X_train.columns if X_train[col].isnull().any()] # Your code here\n",
    "\n",
    "# Fill in the lines below: drop columns in training and validation data\n",
    "reduced_X_train = X_train.drop(cols_with_missing, axis=1)\n",
    "reduced_X_valid = X_valid.drop(cols_with_missing, axis=1)\n",
    "\n",
    "# Check your answers\n",
    "step_2.check()"
   ]
  },
  {
   "cell_type": "code",
   "execution_count": 11,
   "id": "679f4b23",
   "metadata": {
    "execution": {
     "iopub.execute_input": "2021-08-30T11:14:30.636560Z",
     "iopub.status.busy": "2021-08-30T11:14:30.635952Z",
     "iopub.status.idle": "2021-08-30T11:14:30.638764Z",
     "shell.execute_reply": "2021-08-30T11:14:30.639187Z",
     "shell.execute_reply.started": "2021-08-30T11:10:53.322455Z"
    },
    "papermill": {
     "duration": 0.030758,
     "end_time": "2021-08-30T11:14:30.639348",
     "exception": false,
     "start_time": "2021-08-30T11:14:30.608590",
     "status": "completed"
    },
    "tags": []
   },
   "outputs": [],
   "source": [
    "# Lines below will give you a hint or solution code\n",
    "#step_2.hint()\n",
    "#step_2.solution()"
   ]
  },
  {
   "cell_type": "markdown",
   "id": "f0d19737",
   "metadata": {
    "papermill": {
     "duration": 0.023544,
     "end_time": "2021-08-30T11:14:30.687497",
     "exception": false,
     "start_time": "2021-08-30T11:14:30.663953",
     "status": "completed"
    },
    "tags": []
   },
   "source": [
    "Run the next code cell without changes to obtain the MAE for this approach."
   ]
  },
  {
   "cell_type": "code",
   "execution_count": 12,
   "id": "a57244a1",
   "metadata": {
    "execution": {
     "iopub.execute_input": "2021-08-30T11:14:30.747210Z",
     "iopub.status.busy": "2021-08-30T11:14:30.741082Z",
     "iopub.status.idle": "2021-08-30T11:14:31.934705Z",
     "shell.execute_reply": "2021-08-30T11:14:31.935502Z",
     "shell.execute_reply.started": "2021-08-30T11:11:41.520386Z"
    },
    "papermill": {
     "duration": 1.22443,
     "end_time": "2021-08-30T11:14:31.935788",
     "exception": false,
     "start_time": "2021-08-30T11:14:30.711358",
     "status": "completed"
    },
    "tags": []
   },
   "outputs": [
    {
     "name": "stdout",
     "output_type": "stream",
     "text": [
      "MAE (Drop columns with missing values):\n",
      "17837.82570776256\n"
     ]
    }
   ],
   "source": [
    "print(\"MAE (Drop columns with missing values):\")\n",
    "print(score_dataset(reduced_X_train, reduced_X_valid, y_train, y_valid))"
   ]
  },
  {
   "cell_type": "markdown",
   "id": "034384d6",
   "metadata": {
    "papermill": {
     "duration": 0.024084,
     "end_time": "2021-08-30T11:14:31.985339",
     "exception": false,
     "start_time": "2021-08-30T11:14:31.961255",
     "status": "completed"
    },
    "tags": []
   },
   "source": [
    "# Step 3: Imputation\n",
    "\n",
    "### Part A\n",
    "\n",
    "Use the next code cell to impute missing values with the mean value along each column.  Set the preprocessed DataFrames to `imputed_X_train` and `imputed_X_valid`.  Make sure that the column names match those in `X_train` and `X_valid`."
   ]
  },
  {
   "cell_type": "code",
   "execution_count": 13,
   "id": "ae46ec80",
   "metadata": {
    "execution": {
     "iopub.execute_input": "2021-08-30T11:14:32.039981Z",
     "iopub.status.busy": "2021-08-30T11:14:32.039239Z",
     "iopub.status.idle": "2021-08-30T11:14:32.068857Z",
     "shell.execute_reply": "2021-08-30T11:14:32.069314Z",
     "shell.execute_reply.started": "2021-08-30T11:12:41.849362Z"
    },
    "papermill": {
     "duration": 0.059675,
     "end_time": "2021-08-30T11:14:32.069475",
     "exception": false,
     "start_time": "2021-08-30T11:14:32.009800",
     "status": "completed"
    },
    "tags": []
   },
   "outputs": [
    {
     "data": {
      "application/javascript": [
       "parent.postMessage({\"jupyterEvent\": \"custom.exercise_interaction\", \"data\": {\"outcomeType\": 1, \"valueTowardsCompletion\": 1.0, \"interactionType\": 1, \"questionType\": 2, \"questionId\": \"3.1_ImputeCode\", \"learnToolsVersion\": \"0.3.4\", \"failureMessage\": \"\", \"exceptionClass\": \"\", \"trace\": \"\"}}, \"*\")"
      ],
      "text/plain": [
       "<IPython.core.display.Javascript object>"
      ]
     },
     "metadata": {},
     "output_type": "display_data"
    },
    {
     "data": {
      "text/markdown": [
       "<span style=\"color:#33cc33\">Correct</span>"
      ],
      "text/plain": [
       "Correct"
      ]
     },
     "metadata": {},
     "output_type": "display_data"
    }
   ],
   "source": [
    "from sklearn.impute import SimpleImputer\n",
    "\n",
    "# Fill in the lines below: imputation\n",
    "my_imputer = SimpleImputer() # Your code here\n",
    "\n",
    "imputed_X_train = pd.DataFrame(my_imputer.fit_transform(X_train))\n",
    "imputed_X_valid = pd.DataFrame(my_imputer.transform(X_valid))\n",
    "\n",
    "# Fill in the lines below: imputation removed column names; put them back\n",
    "imputed_X_train.columns = X_train.columns\n",
    "imputed_X_valid.columns = X_valid.columns\n",
    "\n",
    "# Check your answers\n",
    "step_3.a.check()"
   ]
  },
  {
   "cell_type": "code",
   "execution_count": 14,
   "id": "4f9d6d1b",
   "metadata": {
    "execution": {
     "iopub.execute_input": "2021-08-30T11:14:32.122250Z",
     "iopub.status.busy": "2021-08-30T11:14:32.121644Z",
     "iopub.status.idle": "2021-08-30T11:14:32.124603Z",
     "shell.execute_reply": "2021-08-30T11:14:32.125058Z",
     "shell.execute_reply.started": "2021-08-30T11:11:59.581536Z"
    },
    "papermill": {
     "duration": 0.030932,
     "end_time": "2021-08-30T11:14:32.125214",
     "exception": false,
     "start_time": "2021-08-30T11:14:32.094282",
     "status": "completed"
    },
    "tags": []
   },
   "outputs": [],
   "source": [
    "# Lines below will give you a hint or solution code\n",
    "#step_3.a.hint()\n",
    "#step_3.a.solution()"
   ]
  },
  {
   "cell_type": "markdown",
   "id": "1dcd7f9e",
   "metadata": {
    "papermill": {
     "duration": 0.024687,
     "end_time": "2021-08-30T11:14:32.174975",
     "exception": false,
     "start_time": "2021-08-30T11:14:32.150288",
     "status": "completed"
    },
    "tags": []
   },
   "source": [
    "Run the next code cell without changes to obtain the MAE for this approach."
   ]
  },
  {
   "cell_type": "code",
   "execution_count": 15,
   "id": "3df80d9f",
   "metadata": {
    "execution": {
     "iopub.execute_input": "2021-08-30T11:14:32.227957Z",
     "iopub.status.busy": "2021-08-30T11:14:32.227373Z",
     "iopub.status.idle": "2021-08-30T11:14:33.548626Z",
     "shell.execute_reply": "2021-08-30T11:14:33.547597Z",
     "shell.execute_reply.started": "2021-08-30T11:12:50.385903Z"
    },
    "papermill": {
     "duration": 1.348862,
     "end_time": "2021-08-30T11:14:33.548852",
     "exception": false,
     "start_time": "2021-08-30T11:14:32.199990",
     "status": "completed"
    },
    "tags": []
   },
   "outputs": [
    {
     "name": "stdout",
     "output_type": "stream",
     "text": [
      "MAE (Imputation):\n",
      "18062.894611872147\n"
     ]
    }
   ],
   "source": [
    "print(\"MAE (Imputation):\")\n",
    "print(score_dataset(imputed_X_train, imputed_X_valid, y_train, y_valid))"
   ]
  },
  {
   "cell_type": "markdown",
   "id": "86742764",
   "metadata": {
    "papermill": {
     "duration": 0.026157,
     "end_time": "2021-08-30T11:14:33.601581",
     "exception": false,
     "start_time": "2021-08-30T11:14:33.575424",
     "status": "completed"
    },
    "tags": []
   },
   "source": [
    "### Part B\n",
    "\n",
    "Compare the MAE from each approach.  Does anything surprise you about the results?  Why do you think one approach performed better than the other?"
   ]
  },
  {
   "cell_type": "code",
   "execution_count": 16,
   "id": "8c2dde15",
   "metadata": {
    "execution": {
     "iopub.execute_input": "2021-08-30T11:14:33.657557Z",
     "iopub.status.busy": "2021-08-30T11:14:33.656618Z",
     "iopub.status.idle": "2021-08-30T11:14:33.662497Z",
     "shell.execute_reply": "2021-08-30T11:14:33.662930Z",
     "shell.execute_reply.started": "2021-08-30T11:12:55.655524Z"
    },
    "papermill": {
     "duration": 0.036136,
     "end_time": "2021-08-30T11:14:33.663100",
     "exception": false,
     "start_time": "2021-08-30T11:14:33.626964",
     "status": "completed"
    },
    "tags": []
   },
   "outputs": [
    {
     "data": {
      "application/javascript": [
       "parent.postMessage({\"jupyterEvent\": \"custom.exercise_interaction\", \"data\": {\"outcomeType\": 1, \"valueTowardsCompletion\": 1.0, \"interactionType\": 1, \"questionType\": 4, \"questionId\": \"3.2_ImputeThought\", \"learnToolsVersion\": \"0.3.4\", \"failureMessage\": \"\", \"exceptionClass\": \"\", \"trace\": \"\"}}, \"*\")"
      ],
      "text/plain": [
       "<IPython.core.display.Javascript object>"
      ]
     },
     "metadata": {},
     "output_type": "display_data"
    },
    {
     "data": {
      "text/markdown": [
       "<span style=\"color:#33cc33\">Correct:</span> \n",
       "\n",
       "Given that thre are so few missing values in the dataset, we'd expect imputation to perform better than dropping columns entirely.  However, we see that dropping columns performs slightly better!  While this can probably partially be attributed to noise in the dataset, another potential explanation is that the imputation method is not a great match to this dataset.  That is, maybe instead of filling in the mean value, it makes more sense to set every missing value to a value of 0, to fill in the most frequently encountered value, or to use some other method.  For instance, consider the `GarageYrBlt` column (which indicates the year that the garage was built).  It's likely that in some cases, a missing value could indicate a house that does not have a garage.  Does it make more sense to fill in the median value along each column in this case?  Or could we get better results by filling in the minimum value along each column?  It's not quite clear what's best in this case, but perhaps we can rule out some options immediately - for instance, setting missing values in this column to 0 is likely to yield horrible results!"
      ],
      "text/plain": [
       "Correct: \n",
       "\n",
       "Given that thre are so few missing values in the dataset, we'd expect imputation to perform better than dropping columns entirely.  However, we see that dropping columns performs slightly better!  While this can probably partially be attributed to noise in the dataset, another potential explanation is that the imputation method is not a great match to this dataset.  That is, maybe instead of filling in the mean value, it makes more sense to set every missing value to a value of 0, to fill in the most frequently encountered value, or to use some other method.  For instance, consider the `GarageYrBlt` column (which indicates the year that the garage was built).  It's likely that in some cases, a missing value could indicate a house that does not have a garage.  Does it make more sense to fill in the median value along each column in this case?  Or could we get better results by filling in the minimum value along each column?  It's not quite clear what's best in this case, but perhaps we can rule out some options immediately - for instance, setting missing values in this column to 0 is likely to yield horrible results!"
      ]
     },
     "metadata": {},
     "output_type": "display_data"
    }
   ],
   "source": [
    "# Check your answer (Run this code cell to receive credit!)\n",
    "step_3.b.check()"
   ]
  },
  {
   "cell_type": "code",
   "execution_count": 17,
   "id": "b7a954ea",
   "metadata": {
    "execution": {
     "iopub.execute_input": "2021-08-30T11:14:33.719438Z",
     "iopub.status.busy": "2021-08-30T11:14:33.718890Z",
     "iopub.status.idle": "2021-08-30T11:14:33.721556Z",
     "shell.execute_reply": "2021-08-30T11:14:33.721085Z"
    },
    "papermill": {
     "duration": 0.032485,
     "end_time": "2021-08-30T11:14:33.721707",
     "exception": false,
     "start_time": "2021-08-30T11:14:33.689222",
     "status": "completed"
    },
    "tags": []
   },
   "outputs": [],
   "source": [
    "#step_3.b.hint()"
   ]
  },
  {
   "cell_type": "markdown",
   "id": "676df5e4",
   "metadata": {
    "papermill": {
     "duration": 0.025977,
     "end_time": "2021-08-30T11:14:33.774126",
     "exception": false,
     "start_time": "2021-08-30T11:14:33.748149",
     "status": "completed"
    },
    "tags": []
   },
   "source": [
    "# Step 4: Generate test predictions\n",
    "\n",
    "In this final step, you'll use any approach of your choosing to deal with missing values.  Once you've preprocessed the training and validation features, you'll train and evaluate a random forest model.  Then, you'll preprocess the test data before generating predictions that can be submitted to the competition!\n",
    "\n",
    "### Part A\n",
    "\n",
    "Use the next code cell to preprocess the training and validation data.  Set the preprocessed DataFrames to `final_X_train` and `final_X_valid`.  **You can use any approach of your choosing here!**  in order for this step to be marked as correct, you need only ensure:\n",
    "- the preprocessed DataFrames have the same number of columns,\n",
    "- the preprocessed DataFrames have no missing values, \n",
    "- `final_X_train` and `y_train` have the same number of rows, and\n",
    "- `final_X_valid` and `y_valid` have the same number of rows."
   ]
  },
  {
   "cell_type": "code",
   "execution_count": 18,
   "id": "66033523",
   "metadata": {
    "execution": {
     "iopub.execute_input": "2021-08-30T11:14:33.833481Z",
     "iopub.status.busy": "2021-08-30T11:14:33.832878Z",
     "iopub.status.idle": "2021-08-30T11:14:33.857938Z",
     "shell.execute_reply": "2021-08-30T11:14:33.857494Z",
     "shell.execute_reply.started": "2021-08-30T11:13:14.255200Z"
    },
    "papermill": {
     "duration": 0.057579,
     "end_time": "2021-08-30T11:14:33.858074",
     "exception": false,
     "start_time": "2021-08-30T11:14:33.800495",
     "status": "completed"
    },
    "tags": []
   },
   "outputs": [
    {
     "data": {
      "application/javascript": [
       "parent.postMessage({\"jupyterEvent\": \"custom.exercise_interaction\", \"data\": {\"outcomeType\": 1, \"valueTowardsCompletion\": 1.0, \"interactionType\": 1, \"questionType\": 2, \"questionId\": \"4.1_PredsCodeA\", \"learnToolsVersion\": \"0.3.4\", \"failureMessage\": \"\", \"exceptionClass\": \"\", \"trace\": \"\"}}, \"*\")"
      ],
      "text/plain": [
       "<IPython.core.display.Javascript object>"
      ]
     },
     "metadata": {},
     "output_type": "display_data"
    },
    {
     "data": {
      "text/markdown": [
       "<span style=\"color:#33cc33\">Correct</span>"
      ],
      "text/plain": [
       "Correct"
      ]
     },
     "metadata": {},
     "output_type": "display_data"
    }
   ],
   "source": [
    "# Preprocessed training and validation features\n",
    "final_imputer = SimpleImputer(strategy='median')\n",
    "final_X_train = pd.DataFrame(final_imputer.fit_transform(X_train))\n",
    "final_X_valid = pd.DataFrame(final_imputer.transform(X_valid))\n",
    "\n",
    "# Check your answers\n",
    "step_4.a.check()"
   ]
  },
  {
   "cell_type": "code",
   "execution_count": 19,
   "id": "038b617d",
   "metadata": {
    "execution": {
     "iopub.execute_input": "2021-08-30T11:14:33.916321Z",
     "iopub.status.busy": "2021-08-30T11:14:33.915759Z",
     "iopub.status.idle": "2021-08-30T11:14:33.917488Z",
     "shell.execute_reply": "2021-08-30T11:14:33.917965Z",
     "shell.execute_reply.started": "2021-08-30T11:13:03.933117Z"
    },
    "papermill": {
     "duration": 0.033032,
     "end_time": "2021-08-30T11:14:33.918121",
     "exception": false,
     "start_time": "2021-08-30T11:14:33.885089",
     "status": "completed"
    },
    "tags": []
   },
   "outputs": [],
   "source": [
    "# Lines below will give you a hint or solution code\n",
    "#step_4.a.hint()\n",
    "#step_4.a.solution()"
   ]
  },
  {
   "cell_type": "markdown",
   "id": "2bba4dd2",
   "metadata": {
    "papermill": {
     "duration": 0.02678,
     "end_time": "2021-08-30T11:14:33.972634",
     "exception": false,
     "start_time": "2021-08-30T11:14:33.945854",
     "status": "completed"
    },
    "tags": []
   },
   "source": [
    "Run the next code cell to train and evaluate a random forest model.  (*Note that we don't use the `score_dataset()` function above, because we will soon use the trained model to generate test predictions!*)"
   ]
  },
  {
   "cell_type": "code",
   "execution_count": 20,
   "id": "27ad68a3",
   "metadata": {
    "execution": {
     "iopub.execute_input": "2021-08-30T11:14:34.029793Z",
     "iopub.status.busy": "2021-08-30T11:14:34.029181Z",
     "iopub.status.idle": "2021-08-30T11:14:35.345575Z",
     "shell.execute_reply": "2021-08-30T11:14:35.345097Z",
     "shell.execute_reply.started": "2021-08-30T11:13:20.860430Z"
    },
    "papermill": {
     "duration": 1.346063,
     "end_time": "2021-08-30T11:14:35.345737",
     "exception": false,
     "start_time": "2021-08-30T11:14:33.999674",
     "status": "completed"
    },
    "tags": []
   },
   "outputs": [
    {
     "name": "stdout",
     "output_type": "stream",
     "text": [
      "MAE (Your approach):\n",
      "17791.59899543379\n"
     ]
    }
   ],
   "source": [
    "# Define and fit model\n",
    "model = RandomForestRegressor(n_estimators=100, random_state=0)\n",
    "model.fit(final_X_train, y_train)\n",
    "\n",
    "# Get validation predictions and MAE\n",
    "preds_valid = model.predict(final_X_valid)\n",
    "print(\"MAE (Your approach):\")\n",
    "print(mean_absolute_error(y_valid, preds_valid))"
   ]
  },
  {
   "cell_type": "markdown",
   "id": "c85c29d8",
   "metadata": {
    "papermill": {
     "duration": 0.027054,
     "end_time": "2021-08-30T11:14:35.401089",
     "exception": false,
     "start_time": "2021-08-30T11:14:35.374035",
     "status": "completed"
    },
    "tags": []
   },
   "source": [
    "### Part B\n",
    "\n",
    "Use the next code cell to preprocess your test data.  Make sure that you use a method that agrees with how you preprocessed the training and validation data, and set the preprocessed test features to `final_X_test`.\n",
    "\n",
    "Then, use the preprocessed test features and the trained model to generate test predictions in `preds_test`.\n",
    "\n",
    "In order for this step to be marked correct, you need only ensure:\n",
    "- the preprocessed test DataFrame has no missing values, and\n",
    "- `final_X_test` has the same number of rows as `X_test`."
   ]
  },
  {
   "cell_type": "code",
   "execution_count": 21,
   "id": "308dc4e2",
   "metadata": {
    "execution": {
     "iopub.execute_input": "2021-08-30T11:14:35.462789Z",
     "iopub.status.busy": "2021-08-30T11:14:35.462169Z",
     "iopub.status.idle": "2021-08-30T11:14:35.504569Z",
     "shell.execute_reply": "2021-08-30T11:14:35.505099Z",
     "shell.execute_reply.started": "2021-08-30T11:13:51.532892Z"
    },
    "papermill": {
     "duration": 0.076569,
     "end_time": "2021-08-30T11:14:35.505254",
     "exception": false,
     "start_time": "2021-08-30T11:14:35.428685",
     "status": "completed"
    },
    "tags": []
   },
   "outputs": [
    {
     "data": {
      "application/javascript": [
       "parent.postMessage({\"jupyterEvent\": \"custom.exercise_interaction\", \"data\": {\"outcomeType\": 1, \"valueTowardsCompletion\": 1.0, \"interactionType\": 1, \"questionType\": 2, \"questionId\": \"4.2_PredsCodeB\", \"learnToolsVersion\": \"0.3.4\", \"failureMessage\": \"\", \"exceptionClass\": \"\", \"trace\": \"\"}}, \"*\")"
      ],
      "text/plain": [
       "<IPython.core.display.Javascript object>"
      ]
     },
     "metadata": {},
     "output_type": "display_data"
    },
    {
     "data": {
      "text/markdown": [
       "<span style=\"color:#33cc33\">Correct</span>"
      ],
      "text/plain": [
       "Correct"
      ]
     },
     "metadata": {},
     "output_type": "display_data"
    }
   ],
   "source": [
    "# Fill in the line below: preprocess test data\n",
    "# Preprocess test data\n",
    "final_X_test = pd.DataFrame(final_imputer.transform(X_test))\n",
    "\n",
    "# Fill in the line below: get test predictions\n",
    "# Get test predictions\n",
    "preds_test = model.predict(final_X_test)\n",
    "\n",
    "# Check your answers\n",
    "step_4.b.check()"
   ]
  },
  {
   "cell_type": "code",
   "execution_count": 22,
   "id": "fdcdbe8c",
   "metadata": {
    "execution": {
     "iopub.execute_input": "2021-08-30T11:14:35.565635Z",
     "iopub.status.busy": "2021-08-30T11:14:35.565042Z",
     "iopub.status.idle": "2021-08-30T11:14:35.567959Z",
     "shell.execute_reply": "2021-08-30T11:14:35.568398Z",
     "shell.execute_reply.started": "2021-08-30T11:13:31.224089Z"
    },
    "papermill": {
     "duration": 0.03471,
     "end_time": "2021-08-30T11:14:35.568581",
     "exception": false,
     "start_time": "2021-08-30T11:14:35.533871",
     "status": "completed"
    },
    "tags": []
   },
   "outputs": [],
   "source": [
    "# Lines below will give you a hint or solution code\n",
    "#step_4.b.hint()\n",
    "#step_4.b.solution()"
   ]
  },
  {
   "cell_type": "markdown",
   "id": "5e9cadb4",
   "metadata": {
    "papermill": {
     "duration": 0.028176,
     "end_time": "2021-08-30T11:14:35.624995",
     "exception": false,
     "start_time": "2021-08-30T11:14:35.596819",
     "status": "completed"
    },
    "tags": []
   },
   "source": [
    "Run the next code cell without changes to save your results to a CSV file that can be submitted directly to the competition."
   ]
  },
  {
   "cell_type": "code",
   "execution_count": 23,
   "id": "10c3a3ec",
   "metadata": {
    "execution": {
     "iopub.execute_input": "2021-08-30T11:14:35.684466Z",
     "iopub.status.busy": "2021-08-30T11:14:35.683922Z",
     "iopub.status.idle": "2021-08-30T11:14:35.695796Z",
     "shell.execute_reply": "2021-08-30T11:14:35.695160Z",
     "shell.execute_reply.started": "2021-08-30T11:13:59.534633Z"
    },
    "papermill": {
     "duration": 0.042602,
     "end_time": "2021-08-30T11:14:35.695945",
     "exception": false,
     "start_time": "2021-08-30T11:14:35.653343",
     "status": "completed"
    },
    "tags": []
   },
   "outputs": [],
   "source": [
    "# Save test predictions to file\n",
    "output = pd.DataFrame({'Id': X_test.index,\n",
    "                       'SalePrice': preds_test})\n",
    "output.to_csv('submission.csv', index=False)"
   ]
  },
  {
   "cell_type": "markdown",
   "id": "9ef218cc",
   "metadata": {
    "papermill": {
     "duration": 0.02794,
     "end_time": "2021-08-30T11:14:35.752392",
     "exception": false,
     "start_time": "2021-08-30T11:14:35.724452",
     "status": "completed"
    },
    "tags": []
   },
   "source": [
    "# Submit your results\n",
    "\n",
    "Once you have successfully completed Step 4, you're ready to submit your results to the leaderboard!  (_You also learned how to do this in the previous exercise.  If you need a reminder of how to do this, please use the instructions below._)  \n",
    "\n",
    "First, you'll need to join the competition if you haven't already.  So open a new window by clicking on [this link](https://www.kaggle.com/c/home-data-for-ml-course).  Then click on the **Join Competition** button.\n",
    "\n",
    "![join competition image](https://i.imgur.com/wLmFtH3.png)\n",
    "\n",
    "Next, follow the instructions below:\n",
    "1. Begin by clicking on the blue **Save Version** button in the top right corner of the window.  This will generate a pop-up window.  \n",
    "2. Ensure that the **Save and Run All** option is selected, and then click on the blue **Save** button.\n",
    "3. This generates a window in the bottom left corner of the notebook.  After it has finished running, click on the number to the right of the **Save Version** button.  This pulls up a list of versions on the right of the screen.  Click on the ellipsis **(...)** to the right of the most recent version, and select **Open in Viewer**.  This brings you into view mode of the same page. You will need to scroll down to get back to these instructions.\n",
    "4. Click on the **Output** tab on the right of the screen.  Then, click on the file you would like to submit, and click on the blue **Submit** button to submit your results to the leaderboard.\n",
    "\n",
    "You have now successfully submitted to the competition!\n",
    "\n",
    "If you want to keep working to improve your performance, select the blue **Edit** button in the top right of the screen. Then you can change your code and repeat the process. There's a lot of room to improve, and you will climb up the leaderboard as you work.\n",
    "\n",
    "\n",
    "# Keep going\n",
    "\n",
    "Move on to learn what **[categorical variables](https://www.kaggle.com/alexisbcook/categorical-variables)** are, along with how to incorporate them into your machine learning models.  Categorical variables are very common in real-world data, but you'll get an error if you try to plug them into your models without processing them first!"
   ]
  },
  {
   "cell_type": "markdown",
   "id": "1a9fc1bc",
   "metadata": {
    "papermill": {
     "duration": 0.027686,
     "end_time": "2021-08-30T11:14:35.808254",
     "exception": false,
     "start_time": "2021-08-30T11:14:35.780568",
     "status": "completed"
    },
    "tags": []
   },
   "source": [
    "---\n",
    "\n",
    "\n",
    "\n",
    "\n",
    "*Have questions or comments? Visit the [Learn Discussion forum](https://www.kaggle.com/learn-forum/161289) to chat with other Learners.*"
   ]
  }
 ],
 "metadata": {
  "kernelspec": {
   "display_name": "Python 3",
   "language": "python",
   "name": "python3"
  },
  "language_info": {
   "codemirror_mode": {
    "name": "ipython",
    "version": 3
   },
   "file_extension": ".py",
   "mimetype": "text/x-python",
   "name": "python",
   "nbconvert_exporter": "python",
   "pygments_lexer": "ipython3",
   "version": "3.7.10"
  },
  "papermill": {
   "default_parameters": {},
   "duration": 15.286009,
   "end_time": "2021-08-30T11:14:36.545919",
   "environment_variables": {},
   "exception": null,
   "input_path": "__notebook__.ipynb",
   "output_path": "__notebook__.ipynb",
   "parameters": {},
   "start_time": "2021-08-30T11:14:21.259910",
   "version": "2.3.3"
  }
 },
 "nbformat": 4,
 "nbformat_minor": 5
}
