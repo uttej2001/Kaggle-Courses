{
 "cells": [
  {
   "cell_type": "markdown",
   "id": "774be951",
   "metadata": {
    "papermill": {
     "duration": 0.016353,
     "end_time": "2021-08-31T05:15:23.856278",
     "exception": false,
     "start_time": "2021-08-31T05:15:23.839925",
     "status": "completed"
    },
    "tags": []
   },
   "source": [
    "**This notebook is an exercise in the [Intermediate Machine Learning](https://www.kaggle.com/learn/intermediate-machine-learning) course.  You can reference the tutorial at [this link](https://www.kaggle.com/alexisbcook/xgboost).**\n",
    "\n",
    "---\n"
   ]
  },
  {
   "cell_type": "markdown",
   "id": "bafbe33d",
   "metadata": {
    "papermill": {
     "duration": 0.015112,
     "end_time": "2021-08-31T05:15:23.887090",
     "exception": false,
     "start_time": "2021-08-31T05:15:23.871978",
     "status": "completed"
    },
    "tags": []
   },
   "source": [
    "In this exercise, you will use your new knowledge to train a model with **gradient boosting**.\n",
    "\n",
    "# Setup\n",
    "\n",
    "The questions below will give you feedback on your work. Run the following cell to set up the feedback system."
   ]
  },
  {
   "cell_type": "code",
   "execution_count": 1,
   "id": "724117e2",
   "metadata": {
    "execution": {
     "iopub.execute_input": "2021-08-31T05:15:23.921614Z",
     "iopub.status.busy": "2021-08-31T05:15:23.920411Z",
     "iopub.status.idle": "2021-08-31T05:15:26.182267Z",
     "shell.execute_reply": "2021-08-31T05:15:26.182807Z",
     "shell.execute_reply.started": "2021-08-31T04:52:36.332713Z"
    },
    "papermill": {
     "duration": 2.281036,
     "end_time": "2021-08-31T05:15:26.183115",
     "exception": false,
     "start_time": "2021-08-31T05:15:23.902079",
     "status": "completed"
    },
    "tags": []
   },
   "outputs": [
    {
     "name": "stdout",
     "output_type": "stream",
     "text": [
      "Setup Complete\n"
     ]
    }
   ],
   "source": [
    "# Set up code checking\n",
    "import os\n",
    "if not os.path.exists(\"../input/train.csv\"):\n",
    "    os.symlink(\"../input/home-data-for-ml-course/train.csv\", \"../input/train.csv\")  \n",
    "    os.symlink(\"../input/home-data-for-ml-course/test.csv\", \"../input/test.csv\") \n",
    "from learntools.core import binder\n",
    "binder.bind(globals())\n",
    "from learntools.ml_intermediate.ex6 import *\n",
    "print(\"Setup Complete\")"
   ]
  },
  {
   "cell_type": "markdown",
   "id": "90772df6",
   "metadata": {
    "papermill": {
     "duration": 0.01529,
     "end_time": "2021-08-31T05:15:26.214481",
     "exception": false,
     "start_time": "2021-08-31T05:15:26.199191",
     "status": "completed"
    },
    "tags": []
   },
   "source": [
    "You will work with the [Housing Prices Competition for Kaggle Learn Users](https://www.kaggle.com/c/home-data-for-ml-course) dataset from the previous exercise. \n",
    "\n",
    "![Ames Housing dataset image](https://i.imgur.com/lTJVG4e.png)\n",
    "\n",
    "Run the next code cell without changes to load the training and validation sets in `X_train`, `X_valid`, `y_train`, and `y_valid`.  The test set is loaded in `X_test`."
   ]
  },
  {
   "cell_type": "code",
   "execution_count": 2,
   "id": "0e6a9766",
   "metadata": {
    "execution": {
     "iopub.execute_input": "2021-08-31T05:15:26.256949Z",
     "iopub.status.busy": "2021-08-31T05:15:26.256190Z",
     "iopub.status.idle": "2021-08-31T05:15:26.483236Z",
     "shell.execute_reply": "2021-08-31T05:15:26.482650Z",
     "shell.execute_reply.started": "2021-08-31T05:02:02.620840Z"
    },
    "papermill": {
     "duration": 0.253407,
     "end_time": "2021-08-31T05:15:26.483383",
     "exception": false,
     "start_time": "2021-08-31T05:15:26.229976",
     "status": "completed"
    },
    "tags": []
   },
   "outputs": [],
   "source": [
    "import pandas as pd\n",
    "from sklearn.model_selection import train_test_split\n",
    "\n",
    "# Read the data\n",
    "X = pd.read_csv('../input/train.csv', index_col='Id')\n",
    "X_test_full = pd.read_csv('../input/test.csv', index_col='Id')\n",
    "\n",
    "# Remove rows with missing target, separate target from predictors\n",
    "X.dropna(axis=0, subset=['SalePrice'], inplace=True)\n",
    "y = X.SalePrice              \n",
    "X.drop(['SalePrice'], axis=1, inplace=True)\n",
    "\n",
    "# Break off validation set from training data\n",
    "X_train_full, X_valid_full, y_train, y_valid = train_test_split(X, y, train_size=0.8, test_size=0.2,\n",
    "                                                                random_state=0)\n",
    "\n",
    "# \"Cardinality\" means the number of unique values in a column\n",
    "# Select categorical columns with relatively low cardinality (convenient but arbitrary)\n",
    "low_cardinality_cols = [cname for cname in X_train_full.columns if X_train_full[cname].nunique() < 10 and \n",
    "                        X_train_full[cname].dtype == \"object\"]\n",
    "\n",
    "# Select numeric columns\n",
    "numeric_cols = [cname for cname in X_train_full.columns if X_train_full[cname].dtype in ['int64', 'float64']]\n",
    "\n",
    "# Keep selected columns only\n",
    "my_cols = low_cardinality_cols + numeric_cols\n",
    "X_train = X_train_full[my_cols].copy()\n",
    "X_valid = X_valid_full[my_cols].copy()\n",
    "X_test = X_test_full[my_cols].copy()\n",
    "\n",
    "# One-hot encode the data (to shorten the code, we use pandas)\n",
    "X_train = pd.get_dummies(X_train)\n",
    "X_valid = pd.get_dummies(X_valid)\n",
    "X_test = pd.get_dummies(X_test)\n",
    "X_train, X_valid = X_train.align(X_valid, join='left', axis=1)\n",
    "X_train, X_test = X_train.align(X_test, join='left', axis=1)"
   ]
  },
  {
   "cell_type": "markdown",
   "id": "54f46fa4",
   "metadata": {
    "papermill": {
     "duration": 0.015134,
     "end_time": "2021-08-31T05:15:26.514575",
     "exception": false,
     "start_time": "2021-08-31T05:15:26.499441",
     "status": "completed"
    },
    "tags": []
   },
   "source": [
    "# Step 1: Build model\n",
    "\n",
    "### Part A\n",
    "\n",
    "In this step, you'll build and train your first model with gradient boosting.\n",
    "\n",
    "- Begin by setting `my_model_1` to an XGBoost model.  Use the [XGBRegressor](https://xgboost.readthedocs.io/en/latest/python/python_api.html#xgboost.XGBRegressor) class, and set the random seed to 0 (`random_state=0`).  **Leave all other parameters as default.**\n",
    "- Then, fit the model to the training data in `X_train` and `y_train`."
   ]
  },
  {
   "cell_type": "code",
   "execution_count": 3,
   "id": "b09dfc30",
   "metadata": {
    "execution": {
     "iopub.execute_input": "2021-08-31T05:15:26.556756Z",
     "iopub.status.busy": "2021-08-31T05:15:26.550048Z",
     "iopub.status.idle": "2021-08-31T05:15:27.250803Z",
     "shell.execute_reply": "2021-08-31T05:15:27.251311Z",
     "shell.execute_reply.started": "2021-08-31T05:03:49.285098Z"
    },
    "papermill": {
     "duration": 0.721536,
     "end_time": "2021-08-31T05:15:27.251486",
     "exception": false,
     "start_time": "2021-08-31T05:15:26.529950",
     "status": "completed"
    },
    "tags": []
   },
   "outputs": [
    {
     "data": {
      "application/javascript": [
       "parent.postMessage({\"jupyterEvent\": \"custom.exercise_interaction\", \"data\": {\"outcomeType\": 1, \"valueTowardsCompletion\": 0.5, \"interactionType\": 1, \"questionType\": 2, \"questionId\": \"1.1_Model1A\", \"learnToolsVersion\": \"0.3.4\", \"failureMessage\": \"\", \"exceptionClass\": \"\", \"trace\": \"\"}}, \"*\")"
      ],
      "text/plain": [
       "<IPython.core.display.Javascript object>"
      ]
     },
     "metadata": {},
     "output_type": "display_data"
    },
    {
     "data": {
      "text/markdown": [
       "<span style=\"color:#33cc33\">Correct</span>"
      ],
      "text/plain": [
       "Correct"
      ]
     },
     "metadata": {},
     "output_type": "display_data"
    }
   ],
   "source": [
    "from xgboost import XGBRegressor\n",
    "\n",
    "# Define the model\n",
    "my_model_1 = XGBRegressor(random_state=0) # Your code here\n",
    "\n",
    "# Fit the model\n",
    "my_model_1.fit(X_train,y_train) # Your code here\n",
    "\n",
    "# Check your answer\n",
    "step_1.a.check()"
   ]
  },
  {
   "cell_type": "code",
   "execution_count": 4,
   "id": "7bce9bd0",
   "metadata": {
    "execution": {
     "iopub.execute_input": "2021-08-31T05:15:27.288951Z",
     "iopub.status.busy": "2021-08-31T05:15:27.287969Z",
     "iopub.status.idle": "2021-08-31T05:15:27.290847Z",
     "shell.execute_reply": "2021-08-31T05:15:27.290236Z"
    },
    "papermill": {
     "duration": 0.022941,
     "end_time": "2021-08-31T05:15:27.290985",
     "exception": false,
     "start_time": "2021-08-31T05:15:27.268044",
     "status": "completed"
    },
    "tags": []
   },
   "outputs": [],
   "source": [
    "# Lines below will give you a hint or solution code\n",
    "#step_1.a.hint()\n",
    "#step_1.a.solution()"
   ]
  },
  {
   "cell_type": "markdown",
   "id": "835bb71b",
   "metadata": {
    "papermill": {
     "duration": 0.01687,
     "end_time": "2021-08-31T05:15:27.324593",
     "exception": false,
     "start_time": "2021-08-31T05:15:27.307723",
     "status": "completed"
    },
    "tags": []
   },
   "source": [
    "### Part B\n",
    "\n",
    "Set `predictions_1` to the model's predictions for the validation data.  Recall that the validation features are stored in `X_valid`."
   ]
  },
  {
   "cell_type": "code",
   "execution_count": 5,
   "id": "390fb87f",
   "metadata": {
    "execution": {
     "iopub.execute_input": "2021-08-31T05:15:27.361236Z",
     "iopub.status.busy": "2021-08-31T05:15:27.360239Z",
     "iopub.status.idle": "2021-08-31T05:15:27.374069Z",
     "shell.execute_reply": "2021-08-31T05:15:27.374579Z",
     "shell.execute_reply.started": "2021-08-31T05:04:31.245125Z"
    },
    "papermill": {
     "duration": 0.033638,
     "end_time": "2021-08-31T05:15:27.374771",
     "exception": false,
     "start_time": "2021-08-31T05:15:27.341133",
     "status": "completed"
    },
    "tags": []
   },
   "outputs": [
    {
     "data": {
      "application/javascript": [
       "parent.postMessage({\"jupyterEvent\": \"custom.exercise_interaction\", \"data\": {\"outcomeType\": 1, \"valueTowardsCompletion\": 0.5, \"interactionType\": 1, \"questionType\": 2, \"questionId\": \"1.2_Model1B\", \"learnToolsVersion\": \"0.3.4\", \"failureMessage\": \"\", \"exceptionClass\": \"\", \"trace\": \"\"}}, \"*\")"
      ],
      "text/plain": [
       "<IPython.core.display.Javascript object>"
      ]
     },
     "metadata": {},
     "output_type": "display_data"
    },
    {
     "data": {
      "text/markdown": [
       "<span style=\"color:#33cc33\">Correct</span>"
      ],
      "text/plain": [
       "Correct"
      ]
     },
     "metadata": {},
     "output_type": "display_data"
    }
   ],
   "source": [
    "from sklearn.metrics import mean_absolute_error\n",
    "\n",
    "# Get predictions\n",
    "predictions_1 = my_model_1.predict(X_valid) # Your code here\n",
    "\n",
    "# Check your answer\n",
    "step_1.b.check()"
   ]
  },
  {
   "cell_type": "code",
   "execution_count": 6,
   "id": "c7103012",
   "metadata": {
    "execution": {
     "iopub.execute_input": "2021-08-31T05:15:27.415406Z",
     "iopub.status.busy": "2021-08-31T05:15:27.414459Z",
     "iopub.status.idle": "2021-08-31T05:15:27.417821Z",
     "shell.execute_reply": "2021-08-31T05:15:27.417200Z"
    },
    "papermill": {
     "duration": 0.024548,
     "end_time": "2021-08-31T05:15:27.417969",
     "exception": false,
     "start_time": "2021-08-31T05:15:27.393421",
     "status": "completed"
    },
    "tags": []
   },
   "outputs": [],
   "source": [
    "# Lines below will give you a hint or solution code\n",
    "#step_1.b.hint()\n",
    "#step_1.b.solution()"
   ]
  },
  {
   "cell_type": "markdown",
   "id": "7a586372",
   "metadata": {
    "papermill": {
     "duration": 0.017144,
     "end_time": "2021-08-31T05:15:27.452746",
     "exception": false,
     "start_time": "2021-08-31T05:15:27.435602",
     "status": "completed"
    },
    "tags": []
   },
   "source": [
    "### Part C\n",
    "\n",
    "Finally, use the `mean_absolute_error()` function to calculate the mean absolute error (MAE) corresponding to the predictions for the validation set.  Recall that the labels for the validation data are stored in `y_valid`."
   ]
  },
  {
   "cell_type": "code",
   "execution_count": 7,
   "id": "f7b14ff8",
   "metadata": {
    "execution": {
     "iopub.execute_input": "2021-08-31T05:15:27.494368Z",
     "iopub.status.busy": "2021-08-31T05:15:27.493679Z",
     "iopub.status.idle": "2021-08-31T05:15:27.499921Z",
     "shell.execute_reply": "2021-08-31T05:15:27.499252Z",
     "shell.execute_reply.started": "2021-08-31T05:06:16.343148Z"
    },
    "papermill": {
     "duration": 0.029874,
     "end_time": "2021-08-31T05:15:27.500061",
     "exception": false,
     "start_time": "2021-08-31T05:15:27.470187",
     "status": "completed"
    },
    "tags": []
   },
   "outputs": [
    {
     "name": "stdout",
     "output_type": "stream",
     "text": [
      "Mean Absolute Error: 17662.736729452055\n"
     ]
    },
    {
     "data": {
      "application/javascript": [
       "parent.postMessage({\"jupyterEvent\": \"custom.exercise_interaction\", \"data\": {\"outcomeType\": 1, \"valueTowardsCompletion\": 0.5, \"interactionType\": 1, \"questionType\": 2, \"questionId\": \"1.3_Model1C\", \"learnToolsVersion\": \"0.3.4\", \"failureMessage\": \"\", \"exceptionClass\": \"\", \"trace\": \"\"}}, \"*\")"
      ],
      "text/plain": [
       "<IPython.core.display.Javascript object>"
      ]
     },
     "metadata": {},
     "output_type": "display_data"
    },
    {
     "data": {
      "text/markdown": [
       "<span style=\"color:#33cc33\">Correct</span>"
      ],
      "text/plain": [
       "Correct"
      ]
     },
     "metadata": {},
     "output_type": "display_data"
    }
   ],
   "source": [
    "# Calculate MAE\n",
    "mae_1 = (mean_absolute_error(predictions_1, y_valid)) # Your code here\n",
    "\n",
    "# Uncomment to print MAE\n",
    "print(\"Mean Absolute Error:\" , mae_1)\n",
    "\n",
    "# Check your answer\n",
    "step_1.c.check()"
   ]
  },
  {
   "cell_type": "code",
   "execution_count": 8,
   "id": "5e029615",
   "metadata": {
    "execution": {
     "iopub.execute_input": "2021-08-31T05:15:27.542218Z",
     "iopub.status.busy": "2021-08-31T05:15:27.541613Z",
     "iopub.status.idle": "2021-08-31T05:15:27.545039Z",
     "shell.execute_reply": "2021-08-31T05:15:27.545624Z",
     "shell.execute_reply.started": "2021-08-31T05:06:02.835484Z"
    },
    "papermill": {
     "duration": 0.026304,
     "end_time": "2021-08-31T05:15:27.545787",
     "exception": false,
     "start_time": "2021-08-31T05:15:27.519483",
     "status": "completed"
    },
    "tags": []
   },
   "outputs": [],
   "source": [
    "# Lines below will give you a hint or solution code\n",
    "#step_1.c.hint()\n",
    "#step_1.c.solution()"
   ]
  },
  {
   "cell_type": "markdown",
   "id": "ea1933b4",
   "metadata": {
    "papermill": {
     "duration": 0.0184,
     "end_time": "2021-08-31T05:15:27.583130",
     "exception": false,
     "start_time": "2021-08-31T05:15:27.564730",
     "status": "completed"
    },
    "tags": []
   },
   "source": [
    "# Step 2: Improve the model\n",
    "\n",
    "Now that you've trained a default model as baseline, it's time to tinker with the parameters, to see if you can get better performance!\n",
    "- Begin by setting `my_model_2` to an XGBoost model, using the [XGBRegressor](https://xgboost.readthedocs.io/en/latest/python/python_api.html#xgboost.XGBRegressor) class.  Use what you learned in the previous tutorial to figure out how to change the default parameters (like `n_estimators` and `learning_rate`) to get better results.\n",
    "- Then, fit the model to the training data in `X_train` and `y_train`.\n",
    "- Set `predictions_2` to the model's predictions for the validation data.  Recall that the validation features are stored in `X_valid`.\n",
    "- Finally, use the `mean_absolute_error()` function to calculate the mean absolute error (MAE) corresponding to the predictions on the validation set.  Recall that the labels for the validation data are stored in `y_valid`.\n",
    "\n",
    "In order for this step to be marked correct, your model in `my_model_2` must attain lower MAE than the model in `my_model_1`. "
   ]
  },
  {
   "cell_type": "code",
   "execution_count": 9,
   "id": "6c40fe28",
   "metadata": {
    "execution": {
     "iopub.execute_input": "2021-08-31T05:15:27.624019Z",
     "iopub.status.busy": "2021-08-31T05:15:27.623341Z",
     "iopub.status.idle": "2021-08-31T05:15:29.420916Z",
     "shell.execute_reply": "2021-08-31T05:15:29.421870Z",
     "shell.execute_reply.started": "2021-08-31T05:10:59.245677Z"
    },
    "papermill": {
     "duration": 1.820238,
     "end_time": "2021-08-31T05:15:29.422073",
     "exception": false,
     "start_time": "2021-08-31T05:15:27.601835",
     "status": "completed"
    },
    "tags": []
   },
   "outputs": [
    {
     "name": "stdout",
     "output_type": "stream",
     "text": [
      "Mean Absolute Error: 16802.965325342466\n"
     ]
    },
    {
     "data": {
      "application/javascript": [
       "parent.postMessage({\"jupyterEvent\": \"custom.exercise_interaction\", \"data\": {\"outcomeType\": 1, \"valueTowardsCompletion\": 0.5, \"interactionType\": 1, \"questionType\": 2, \"questionId\": \"2_Model2\", \"learnToolsVersion\": \"0.3.4\", \"failureMessage\": \"\", \"exceptionClass\": \"\", \"trace\": \"\"}}, \"*\")"
      ],
      "text/plain": [
       "<IPython.core.display.Javascript object>"
      ]
     },
     "metadata": {},
     "output_type": "display_data"
    },
    {
     "data": {
      "text/markdown": [
       "<span style=\"color:#33cc33\">Correct</span>"
      ],
      "text/plain": [
       "Correct"
      ]
     },
     "metadata": {},
     "output_type": "display_data"
    }
   ],
   "source": [
    "# Define the model\n",
    "my_model_2 = XGBRegressor(n_estimators=1000, learning_rate=0.05) # Your code here\n",
    "\n",
    "# Fit the model\n",
    "my_model_2.fit(X_train, y_train, \n",
    "             early_stopping_rounds=5, \n",
    "             eval_set=[(X_valid, y_valid)],\n",
    "             verbose=False) # Your code here\n",
    "\n",
    "# Get predictions\n",
    "predictions_2 = my_model_2.predict(X_valid) # Your code here\n",
    "\n",
    "# Calculate MAE\n",
    "mae_2 = mean_absolute_error(predictions_2, y_valid) # Your code here\n",
    "\n",
    "# Uncomment to print MAE\n",
    "print(\"Mean Absolute Error:\" , mae_2)\n",
    "\n",
    "# Check your answer\n",
    "step_2.check()"
   ]
  },
  {
   "cell_type": "code",
   "execution_count": 10,
   "id": "3d78816d",
   "metadata": {
    "execution": {
     "iopub.execute_input": "2021-08-31T05:15:29.468474Z",
     "iopub.status.busy": "2021-08-31T05:15:29.467822Z",
     "iopub.status.idle": "2021-08-31T05:15:29.471368Z",
     "shell.execute_reply": "2021-08-31T05:15:29.470853Z"
    },
    "papermill": {
     "duration": 0.027819,
     "end_time": "2021-08-31T05:15:29.471689",
     "exception": false,
     "start_time": "2021-08-31T05:15:29.443870",
     "status": "completed"
    },
    "tags": []
   },
   "outputs": [],
   "source": [
    "# Lines below will give you a hint or solution code\n",
    "#step_2.hint()\n",
    "#step_2.solution()"
   ]
  },
  {
   "cell_type": "markdown",
   "id": "720a9072",
   "metadata": {
    "papermill": {
     "duration": 0.019845,
     "end_time": "2021-08-31T05:15:29.511922",
     "exception": false,
     "start_time": "2021-08-31T05:15:29.492077",
     "status": "completed"
    },
    "tags": []
   },
   "source": [
    "# Step 3: Break the model\n",
    "\n",
    "In this step, you will create a model that performs worse than the original model in Step 1.  This will help you to develop your intuition for how to set parameters.  You might even find that you accidentally get better performance, which is ultimately a nice problem to have and a valuable learning experience!\n",
    "- Begin by setting `my_model_3` to an XGBoost model, using the [XGBRegressor](https://xgboost.readthedocs.io/en/latest/python/python_api.html#xgboost.XGBRegressor) class.  Use what you learned in the previous tutorial to figure out how to change the default parameters (like `n_estimators` and `learning_rate`) to design a model to get high MAE.\n",
    "- Then, fit the model to the training data in `X_train` and `y_train`.\n",
    "- Set `predictions_3` to the model's predictions for the validation data.  Recall that the validation features are stored in `X_valid`.\n",
    "- Finally, use the `mean_absolute_error()` function to calculate the mean absolute error (MAE) corresponding to the predictions on the validation set.  Recall that the labels for the validation data are stored in `y_valid`.\n",
    "\n",
    "In order for this step to be marked correct, your model in `my_model_3` must attain higher MAE than the model in `my_model_1`. "
   ]
  },
  {
   "cell_type": "code",
   "execution_count": 11,
   "id": "69dc4a6c",
   "metadata": {
    "execution": {
     "iopub.execute_input": "2021-08-31T05:15:29.565877Z",
     "iopub.status.busy": "2021-08-31T05:15:29.564737Z",
     "iopub.status.idle": "2021-08-31T05:15:29.737799Z",
     "shell.execute_reply": "2021-08-31T05:15:29.738698Z",
     "shell.execute_reply.started": "2021-08-31T05:14:58.881549Z"
    },
    "papermill": {
     "duration": 0.206656,
     "end_time": "2021-08-31T05:15:29.738924",
     "exception": false,
     "start_time": "2021-08-31T05:15:29.532268",
     "status": "completed"
    },
    "tags": []
   },
   "outputs": [
    {
     "name": "stdout",
     "output_type": "stream",
     "text": [
      "Mean Absolute Error: 20487.370237585616\n"
     ]
    },
    {
     "data": {
      "application/javascript": [
       "parent.postMessage({\"jupyterEvent\": \"custom.exercise_interaction\", \"data\": {\"outcomeType\": 1, \"valueTowardsCompletion\": 0.5, \"interactionType\": 1, \"questionType\": 2, \"questionId\": \"3_Model3\", \"learnToolsVersion\": \"0.3.4\", \"failureMessage\": \"\", \"exceptionClass\": \"\", \"trace\": \"\"}}, \"*\")"
      ],
      "text/plain": [
       "<IPython.core.display.Javascript object>"
      ]
     },
     "metadata": {},
     "output_type": "display_data"
    },
    {
     "data": {
      "text/markdown": [
       "<span style=\"color:#33cc33\">Correct</span>"
      ],
      "text/plain": [
       "Correct"
      ]
     },
     "metadata": {},
     "output_type": "display_data"
    }
   ],
   "source": [
    "# Define the model\n",
    "my_model_3 = XGBRegressor(n_estimators=100, learning_rate=0.5)\n",
    "\n",
    "# Fit the model\n",
    "my_model_3.fit(X_train, y_train, \n",
    "             early_stopping_rounds=5, \n",
    "             eval_set=[(X_valid, y_valid)],\n",
    "             verbose=False) # Your code here\n",
    "\n",
    "# Get predictions\n",
    "predictions_3 = my_model_3.predict(X_valid)\n",
    "\n",
    "# Calculate MAE\n",
    "mae_3 = mean_absolute_error(predictions_3, y_valid)\n",
    "\n",
    "# Uncomment to print MAE\n",
    "print(\"Mean Absolute Error:\" , mae_3)\n",
    "\n",
    "# Check your answer\n",
    "step_3.check()"
   ]
  },
  {
   "cell_type": "code",
   "execution_count": 12,
   "id": "f10a3b0a",
   "metadata": {
    "execution": {
     "iopub.execute_input": "2021-08-31T05:15:29.789477Z",
     "iopub.status.busy": "2021-08-31T05:15:29.788824Z",
     "iopub.status.idle": "2021-08-31T05:15:29.791559Z",
     "shell.execute_reply": "2021-08-31T05:15:29.792090Z"
    },
    "papermill": {
     "duration": 0.02912,
     "end_time": "2021-08-31T05:15:29.792286",
     "exception": false,
     "start_time": "2021-08-31T05:15:29.763166",
     "status": "completed"
    },
    "tags": []
   },
   "outputs": [],
   "source": [
    "# Lines below will give you a hint or solution code\n",
    "#step_3.hint()\n",
    "#step_3.solution()"
   ]
  },
  {
   "cell_type": "markdown",
   "id": "4469c168",
   "metadata": {
    "papermill": {
     "duration": 0.021481,
     "end_time": "2021-08-31T05:15:29.835783",
     "exception": false,
     "start_time": "2021-08-31T05:15:29.814302",
     "status": "completed"
    },
    "tags": []
   },
   "source": [
    "# Keep going\n",
    "\n",
    "Continue to learn about **[data leakage](https://www.kaggle.com/alexisbcook/data-leakage)**.  This is an important issue for a data scientist to understand, and it has the potential to ruin your models in subtle and dangerous ways!"
   ]
  },
  {
   "cell_type": "markdown",
   "id": "25109b7d",
   "metadata": {
    "papermill": {
     "duration": 0.021261,
     "end_time": "2021-08-31T05:15:29.878908",
     "exception": false,
     "start_time": "2021-08-31T05:15:29.857647",
     "status": "completed"
    },
    "tags": []
   },
   "source": [
    "---\n",
    "\n",
    "\n",
    "\n",
    "\n",
    "*Have questions or comments? Visit the [Learn Discussion forum](https://www.kaggle.com/learn-forum/161289) to chat with other Learners.*"
   ]
  }
 ],
 "metadata": {
  "kernelspec": {
   "display_name": "Python 3",
   "language": "python",
   "name": "python3"
  },
  "language_info": {
   "codemirror_mode": {
    "name": "ipython",
    "version": 3
   },
   "file_extension": ".py",
   "mimetype": "text/x-python",
   "name": "python",
   "nbconvert_exporter": "python",
   "pygments_lexer": "ipython3",
   "version": "3.7.10"
  },
  "papermill": {
   "default_parameters": {},
   "duration": 15.839604,
   "end_time": "2021-08-31T05:15:31.324342",
   "environment_variables": {},
   "exception": null,
   "input_path": "__notebook__.ipynb",
   "output_path": "__notebook__.ipynb",
   "parameters": {},
   "start_time": "2021-08-31T05:15:15.484738",
   "version": "2.3.3"
  }
 },
 "nbformat": 4,
 "nbformat_minor": 5
}
