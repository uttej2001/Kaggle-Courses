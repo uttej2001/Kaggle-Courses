{
 "cells": [
  {
   "cell_type": "markdown",
   "id": "b3c3c5c8",
   "metadata": {
    "papermill": {
     "duration": 0.03031,
     "end_time": "2021-08-31T04:15:18.807813",
     "exception": false,
     "start_time": "2021-08-31T04:15:18.777503",
     "status": "completed"
    },
    "tags": []
   },
   "source": [
    "**This notebook is an exercise in the [Intermediate Machine Learning](https://www.kaggle.com/learn/intermediate-machine-learning) course.  You can reference the tutorial at [this link](https://www.kaggle.com/alexisbcook/categorical-variables).**\n",
    "\n",
    "---\n"
   ]
  },
  {
   "cell_type": "markdown",
   "id": "84e4f3e9",
   "metadata": {
    "papermill": {
     "duration": 0.028714,
     "end_time": "2021-08-31T04:15:18.866044",
     "exception": false,
     "start_time": "2021-08-31T04:15:18.837330",
     "status": "completed"
    },
    "tags": []
   },
   "source": [
    "By encoding **categorical variables**, you'll obtain your best results thus far!\n",
    "\n",
    "# Setup\n",
    "\n",
    "The questions below will give you feedback on your work. Run the following cell to set up the feedback system."
   ]
  },
  {
   "cell_type": "code",
   "execution_count": 1,
   "id": "07bc8062",
   "metadata": {
    "execution": {
     "iopub.execute_input": "2021-08-31T04:15:18.930015Z",
     "iopub.status.busy": "2021-08-31T04:15:18.928866Z",
     "iopub.status.idle": "2021-08-31T04:15:19.077078Z",
     "shell.execute_reply": "2021-08-31T04:15:19.076431Z",
     "shell.execute_reply.started": "2021-08-31T03:52:07.566539Z"
    },
    "papermill": {
     "duration": 0.181529,
     "end_time": "2021-08-31T04:15:19.077245",
     "exception": false,
     "start_time": "2021-08-31T04:15:18.895716",
     "status": "completed"
    },
    "tags": []
   },
   "outputs": [
    {
     "name": "stdout",
     "output_type": "stream",
     "text": [
      "Setup Complete\n"
     ]
    }
   ],
   "source": [
    "# Set up code checking\n",
    "import os\n",
    "if not os.path.exists(\"../input/train.csv\"):\n",
    "    os.symlink(\"../input/home-data-for-ml-course/train.csv\", \"../input/train.csv\")  \n",
    "    os.symlink(\"../input/home-data-for-ml-course/test.csv\", \"../input/test.csv\") \n",
    "from learntools.core import binder\n",
    "binder.bind(globals())\n",
    "from learntools.ml_intermediate.ex3 import *\n",
    "print(\"Setup Complete\")"
   ]
  },
  {
   "cell_type": "markdown",
   "id": "54972ebf",
   "metadata": {
    "papermill": {
     "duration": 0.029395,
     "end_time": "2021-08-31T04:15:19.137640",
     "exception": false,
     "start_time": "2021-08-31T04:15:19.108245",
     "status": "completed"
    },
    "tags": []
   },
   "source": [
    "In this exercise, you will work with data from the [Housing Prices Competition for Kaggle Learn Users](https://www.kaggle.com/c/home-data-for-ml-course). \n",
    "\n",
    "![Ames Housing dataset image](https://i.imgur.com/lTJVG4e.png)\n",
    "\n",
    "Run the next code cell without changes to load the training and validation sets in `X_train`, `X_valid`, `y_train`, and `y_valid`.  The test set is loaded in `X_test`."
   ]
  },
  {
   "cell_type": "code",
   "execution_count": 2,
   "id": "e5a8e878",
   "metadata": {
    "execution": {
     "iopub.execute_input": "2021-08-31T04:15:19.206162Z",
     "iopub.status.busy": "2021-08-31T04:15:19.205488Z",
     "iopub.status.idle": "2021-08-31T04:15:20.315550Z",
     "shell.execute_reply": "2021-08-31T04:15:20.314907Z",
     "shell.execute_reply.started": "2021-08-31T03:52:14.525212Z"
    },
    "papermill": {
     "duration": 1.148313,
     "end_time": "2021-08-31T04:15:20.315689",
     "exception": false,
     "start_time": "2021-08-31T04:15:19.167376",
     "status": "completed"
    },
    "tags": []
   },
   "outputs": [],
   "source": [
    "import pandas as pd\n",
    "from sklearn.model_selection import train_test_split\n",
    "\n",
    "# Read the data\n",
    "X = pd.read_csv('../input/train.csv', index_col='Id') \n",
    "X_test = pd.read_csv('../input/test.csv', index_col='Id')\n",
    "\n",
    "# Remove rows with missing target, separate target from predictors\n",
    "X.dropna(axis=0, subset=['SalePrice'], inplace=True)\n",
    "y = X.SalePrice\n",
    "X.drop(['SalePrice'], axis=1, inplace=True)\n",
    "\n",
    "# To keep things simple, we'll drop columns with missing values\n",
    "cols_with_missing = [col for col in X.columns if X[col].isnull().any()] \n",
    "X.drop(cols_with_missing, axis=1, inplace=True)\n",
    "X_test.drop(cols_with_missing, axis=1, inplace=True)\n",
    "\n",
    "# Break off validation set from training data\n",
    "X_train, X_valid, y_train, y_valid = train_test_split(X, y,\n",
    "                                                      train_size=0.8, test_size=0.2,\n",
    "                                                      random_state=0)"
   ]
  },
  {
   "cell_type": "markdown",
   "id": "e7074daf",
   "metadata": {
    "papermill": {
     "duration": 0.030102,
     "end_time": "2021-08-31T04:15:20.375690",
     "exception": false,
     "start_time": "2021-08-31T04:15:20.345588",
     "status": "completed"
    },
    "tags": []
   },
   "source": [
    "Use the next code cell to print the first five rows of the data."
   ]
  },
  {
   "cell_type": "code",
   "execution_count": 3,
   "id": "713c6d54",
   "metadata": {
    "execution": {
     "iopub.execute_input": "2021-08-31T04:15:20.444266Z",
     "iopub.status.busy": "2021-08-31T04:15:20.443575Z",
     "iopub.status.idle": "2021-08-31T04:15:20.471320Z",
     "shell.execute_reply": "2021-08-31T04:15:20.471870Z",
     "shell.execute_reply.started": "2021-08-31T03:52:22.737545Z"
    },
    "papermill": {
     "duration": 0.066734,
     "end_time": "2021-08-31T04:15:20.472041",
     "exception": false,
     "start_time": "2021-08-31T04:15:20.405307",
     "status": "completed"
    },
    "tags": []
   },
   "outputs": [
    {
     "data": {
      "text/html": [
       "<div>\n",
       "<style scoped>\n",
       "    .dataframe tbody tr th:only-of-type {\n",
       "        vertical-align: middle;\n",
       "    }\n",
       "\n",
       "    .dataframe tbody tr th {\n",
       "        vertical-align: top;\n",
       "    }\n",
       "\n",
       "    .dataframe thead th {\n",
       "        text-align: right;\n",
       "    }\n",
       "</style>\n",
       "<table border=\"1\" class=\"dataframe\">\n",
       "  <thead>\n",
       "    <tr style=\"text-align: right;\">\n",
       "      <th></th>\n",
       "      <th>MSSubClass</th>\n",
       "      <th>MSZoning</th>\n",
       "      <th>LotArea</th>\n",
       "      <th>Street</th>\n",
       "      <th>LotShape</th>\n",
       "      <th>LandContour</th>\n",
       "      <th>Utilities</th>\n",
       "      <th>LotConfig</th>\n",
       "      <th>LandSlope</th>\n",
       "      <th>Neighborhood</th>\n",
       "      <th>...</th>\n",
       "      <th>OpenPorchSF</th>\n",
       "      <th>EnclosedPorch</th>\n",
       "      <th>3SsnPorch</th>\n",
       "      <th>ScreenPorch</th>\n",
       "      <th>PoolArea</th>\n",
       "      <th>MiscVal</th>\n",
       "      <th>MoSold</th>\n",
       "      <th>YrSold</th>\n",
       "      <th>SaleType</th>\n",
       "      <th>SaleCondition</th>\n",
       "    </tr>\n",
       "    <tr>\n",
       "      <th>Id</th>\n",
       "      <th></th>\n",
       "      <th></th>\n",
       "      <th></th>\n",
       "      <th></th>\n",
       "      <th></th>\n",
       "      <th></th>\n",
       "      <th></th>\n",
       "      <th></th>\n",
       "      <th></th>\n",
       "      <th></th>\n",
       "      <th></th>\n",
       "      <th></th>\n",
       "      <th></th>\n",
       "      <th></th>\n",
       "      <th></th>\n",
       "      <th></th>\n",
       "      <th></th>\n",
       "      <th></th>\n",
       "      <th></th>\n",
       "      <th></th>\n",
       "      <th></th>\n",
       "    </tr>\n",
       "  </thead>\n",
       "  <tbody>\n",
       "    <tr>\n",
       "      <th>619</th>\n",
       "      <td>20</td>\n",
       "      <td>RL</td>\n",
       "      <td>11694</td>\n",
       "      <td>Pave</td>\n",
       "      <td>Reg</td>\n",
       "      <td>Lvl</td>\n",
       "      <td>AllPub</td>\n",
       "      <td>Inside</td>\n",
       "      <td>Gtl</td>\n",
       "      <td>NridgHt</td>\n",
       "      <td>...</td>\n",
       "      <td>108</td>\n",
       "      <td>0</td>\n",
       "      <td>0</td>\n",
       "      <td>260</td>\n",
       "      <td>0</td>\n",
       "      <td>0</td>\n",
       "      <td>7</td>\n",
       "      <td>2007</td>\n",
       "      <td>New</td>\n",
       "      <td>Partial</td>\n",
       "    </tr>\n",
       "    <tr>\n",
       "      <th>871</th>\n",
       "      <td>20</td>\n",
       "      <td>RL</td>\n",
       "      <td>6600</td>\n",
       "      <td>Pave</td>\n",
       "      <td>Reg</td>\n",
       "      <td>Lvl</td>\n",
       "      <td>AllPub</td>\n",
       "      <td>Inside</td>\n",
       "      <td>Gtl</td>\n",
       "      <td>NAmes</td>\n",
       "      <td>...</td>\n",
       "      <td>0</td>\n",
       "      <td>0</td>\n",
       "      <td>0</td>\n",
       "      <td>0</td>\n",
       "      <td>0</td>\n",
       "      <td>0</td>\n",
       "      <td>8</td>\n",
       "      <td>2009</td>\n",
       "      <td>WD</td>\n",
       "      <td>Normal</td>\n",
       "    </tr>\n",
       "    <tr>\n",
       "      <th>93</th>\n",
       "      <td>30</td>\n",
       "      <td>RL</td>\n",
       "      <td>13360</td>\n",
       "      <td>Pave</td>\n",
       "      <td>IR1</td>\n",
       "      <td>HLS</td>\n",
       "      <td>AllPub</td>\n",
       "      <td>Inside</td>\n",
       "      <td>Gtl</td>\n",
       "      <td>Crawfor</td>\n",
       "      <td>...</td>\n",
       "      <td>0</td>\n",
       "      <td>44</td>\n",
       "      <td>0</td>\n",
       "      <td>0</td>\n",
       "      <td>0</td>\n",
       "      <td>0</td>\n",
       "      <td>8</td>\n",
       "      <td>2009</td>\n",
       "      <td>WD</td>\n",
       "      <td>Normal</td>\n",
       "    </tr>\n",
       "    <tr>\n",
       "      <th>818</th>\n",
       "      <td>20</td>\n",
       "      <td>RL</td>\n",
       "      <td>13265</td>\n",
       "      <td>Pave</td>\n",
       "      <td>IR1</td>\n",
       "      <td>Lvl</td>\n",
       "      <td>AllPub</td>\n",
       "      <td>CulDSac</td>\n",
       "      <td>Gtl</td>\n",
       "      <td>Mitchel</td>\n",
       "      <td>...</td>\n",
       "      <td>59</td>\n",
       "      <td>0</td>\n",
       "      <td>0</td>\n",
       "      <td>0</td>\n",
       "      <td>0</td>\n",
       "      <td>0</td>\n",
       "      <td>7</td>\n",
       "      <td>2008</td>\n",
       "      <td>WD</td>\n",
       "      <td>Normal</td>\n",
       "    </tr>\n",
       "    <tr>\n",
       "      <th>303</th>\n",
       "      <td>20</td>\n",
       "      <td>RL</td>\n",
       "      <td>13704</td>\n",
       "      <td>Pave</td>\n",
       "      <td>IR1</td>\n",
       "      <td>Lvl</td>\n",
       "      <td>AllPub</td>\n",
       "      <td>Corner</td>\n",
       "      <td>Gtl</td>\n",
       "      <td>CollgCr</td>\n",
       "      <td>...</td>\n",
       "      <td>81</td>\n",
       "      <td>0</td>\n",
       "      <td>0</td>\n",
       "      <td>0</td>\n",
       "      <td>0</td>\n",
       "      <td>0</td>\n",
       "      <td>1</td>\n",
       "      <td>2006</td>\n",
       "      <td>WD</td>\n",
       "      <td>Normal</td>\n",
       "    </tr>\n",
       "  </tbody>\n",
       "</table>\n",
       "<p>5 rows × 60 columns</p>\n",
       "</div>"
      ],
      "text/plain": [
       "     MSSubClass MSZoning  LotArea Street LotShape LandContour Utilities  \\\n",
       "Id                                                                        \n",
       "619          20       RL    11694   Pave      Reg         Lvl    AllPub   \n",
       "871          20       RL     6600   Pave      Reg         Lvl    AllPub   \n",
       "93           30       RL    13360   Pave      IR1         HLS    AllPub   \n",
       "818          20       RL    13265   Pave      IR1         Lvl    AllPub   \n",
       "303          20       RL    13704   Pave      IR1         Lvl    AllPub   \n",
       "\n",
       "    LotConfig LandSlope Neighborhood  ... OpenPorchSF EnclosedPorch 3SsnPorch  \\\n",
       "Id                                    ...                                       \n",
       "619    Inside       Gtl      NridgHt  ...         108             0         0   \n",
       "871    Inside       Gtl        NAmes  ...           0             0         0   \n",
       "93     Inside       Gtl      Crawfor  ...           0            44         0   \n",
       "818   CulDSac       Gtl      Mitchel  ...          59             0         0   \n",
       "303    Corner       Gtl      CollgCr  ...          81             0         0   \n",
       "\n",
       "    ScreenPorch  PoolArea  MiscVal  MoSold  YrSold SaleType SaleCondition  \n",
       "Id                                                                         \n",
       "619         260         0        0       7    2007      New       Partial  \n",
       "871           0         0        0       8    2009       WD        Normal  \n",
       "93            0         0        0       8    2009       WD        Normal  \n",
       "818           0         0        0       7    2008       WD        Normal  \n",
       "303           0         0        0       1    2006       WD        Normal  \n",
       "\n",
       "[5 rows x 60 columns]"
      ]
     },
     "execution_count": 3,
     "metadata": {},
     "output_type": "execute_result"
    }
   ],
   "source": [
    "X_train.head()"
   ]
  },
  {
   "cell_type": "markdown",
   "id": "25f5ccdf",
   "metadata": {
    "papermill": {
     "duration": 0.030149,
     "end_time": "2021-08-31T04:15:20.532539",
     "exception": false,
     "start_time": "2021-08-31T04:15:20.502390",
     "status": "completed"
    },
    "tags": []
   },
   "source": [
    "Notice that the dataset contains both numerical and categorical variables.  You'll need to encode the categorical data before training a model.\n",
    "\n",
    "To compare different models, you'll use the same `score_dataset()` function from the tutorial.  This function reports the [mean absolute error](https://en.wikipedia.org/wiki/Mean_absolute_error) (MAE) from a random forest model."
   ]
  },
  {
   "cell_type": "code",
   "execution_count": 4,
   "id": "d6439985",
   "metadata": {
    "execution": {
     "iopub.execute_input": "2021-08-31T04:15:20.599286Z",
     "iopub.status.busy": "2021-08-31T04:15:20.598505Z",
     "iopub.status.idle": "2021-08-31T04:15:20.800414Z",
     "shell.execute_reply": "2021-08-31T04:15:20.799700Z",
     "shell.execute_reply.started": "2021-08-31T03:52:28.286827Z"
    },
    "papermill": {
     "duration": 0.237676,
     "end_time": "2021-08-31T04:15:20.800554",
     "exception": false,
     "start_time": "2021-08-31T04:15:20.562878",
     "status": "completed"
    },
    "tags": []
   },
   "outputs": [],
   "source": [
    "from sklearn.ensemble import RandomForestRegressor\n",
    "from sklearn.metrics import mean_absolute_error\n",
    "\n",
    "# function for comparing different approaches\n",
    "def score_dataset(X_train, X_valid, y_train, y_valid):\n",
    "    model = RandomForestRegressor(n_estimators=100, random_state=0)\n",
    "    model.fit(X_train, y_train)\n",
    "    preds = model.predict(X_valid)\n",
    "    return mean_absolute_error(y_valid, preds)"
   ]
  },
  {
   "cell_type": "markdown",
   "id": "25616a08",
   "metadata": {
    "papermill": {
     "duration": 0.030129,
     "end_time": "2021-08-31T04:15:20.862363",
     "exception": false,
     "start_time": "2021-08-31T04:15:20.832234",
     "status": "completed"
    },
    "tags": []
   },
   "source": [
    "# Step 1: Drop columns with categorical data\n",
    "\n",
    "You'll get started with the most straightforward approach.  Use the code cell below to preprocess the data in `X_train` and `X_valid` to remove columns with categorical data.  Set the preprocessed DataFrames to `drop_X_train` and `drop_X_valid`, respectively.  "
   ]
  },
  {
   "cell_type": "code",
   "execution_count": 5,
   "id": "738d13c5",
   "metadata": {
    "execution": {
     "iopub.execute_input": "2021-08-31T04:15:20.935298Z",
     "iopub.status.busy": "2021-08-31T04:15:20.934652Z",
     "iopub.status.idle": "2021-08-31T04:15:20.941031Z",
     "shell.execute_reply": "2021-08-31T04:15:20.940398Z",
     "shell.execute_reply.started": "2021-08-31T03:53:38.327209Z"
    },
    "papermill": {
     "duration": 0.048369,
     "end_time": "2021-08-31T04:15:20.941185",
     "exception": false,
     "start_time": "2021-08-31T04:15:20.892816",
     "status": "completed"
    },
    "tags": []
   },
   "outputs": [
    {
     "data": {
      "application/javascript": [
       "parent.postMessage({\"jupyterEvent\": \"custom.exercise_interaction\", \"data\": {\"outcomeType\": 1, \"valueTowardsCompletion\": 0.5, \"interactionType\": 1, \"questionType\": 2, \"questionId\": \"1_Drop\", \"learnToolsVersion\": \"0.3.4\", \"failureMessage\": \"\", \"exceptionClass\": \"\", \"trace\": \"\"}}, \"*\")"
      ],
      "text/plain": [
       "<IPython.core.display.Javascript object>"
      ]
     },
     "metadata": {},
     "output_type": "display_data"
    },
    {
     "data": {
      "text/markdown": [
       "<span style=\"color:#33cc33\">Correct</span>"
      ],
      "text/plain": [
       "Correct"
      ]
     },
     "metadata": {},
     "output_type": "display_data"
    }
   ],
   "source": [
    "# Fill in the lines below: drop columns in training and validation data\n",
    "drop_X_train = X_train.select_dtypes(exclude=['object'])\n",
    "drop_X_valid = X_valid.select_dtypes(exclude=['object'])\n",
    "\n",
    "# Check your answers\n",
    "step_1.check()"
   ]
  },
  {
   "cell_type": "code",
   "execution_count": 6,
   "id": "b1f79df2",
   "metadata": {
    "execution": {
     "iopub.execute_input": "2021-08-31T04:15:21.009091Z",
     "iopub.status.busy": "2021-08-31T04:15:21.008337Z",
     "iopub.status.idle": "2021-08-31T04:15:21.010386Z",
     "shell.execute_reply": "2021-08-31T04:15:21.010895Z"
    },
    "papermill": {
     "duration": 0.038178,
     "end_time": "2021-08-31T04:15:21.011070",
     "exception": false,
     "start_time": "2021-08-31T04:15:20.972892",
     "status": "completed"
    },
    "tags": []
   },
   "outputs": [],
   "source": [
    "# Lines below will give you a hint or solution code\n",
    "#step_1.hint()\n",
    "#step_1.solution()"
   ]
  },
  {
   "cell_type": "markdown",
   "id": "6a15ee38",
   "metadata": {
    "papermill": {
     "duration": 0.031472,
     "end_time": "2021-08-31T04:15:21.074507",
     "exception": false,
     "start_time": "2021-08-31T04:15:21.043035",
     "status": "completed"
    },
    "tags": []
   },
   "source": [
    "Run the next code cell to get the MAE for this approach."
   ]
  },
  {
   "cell_type": "code",
   "execution_count": 7,
   "id": "e1b47ecb",
   "metadata": {
    "execution": {
     "iopub.execute_input": "2021-08-31T04:15:21.142269Z",
     "iopub.status.busy": "2021-08-31T04:15:21.141506Z",
     "iopub.status.idle": "2021-08-31T04:15:22.409528Z",
     "shell.execute_reply": "2021-08-31T04:15:22.410060Z",
     "shell.execute_reply.started": "2021-08-31T03:53:42.730109Z"
    },
    "papermill": {
     "duration": 1.303908,
     "end_time": "2021-08-31T04:15:22.410242",
     "exception": false,
     "start_time": "2021-08-31T04:15:21.106334",
     "status": "completed"
    },
    "tags": []
   },
   "outputs": [
    {
     "name": "stdout",
     "output_type": "stream",
     "text": [
      "MAE from Approach 1 (Drop categorical variables):\n",
      "17837.82570776256\n"
     ]
    }
   ],
   "source": [
    "print(\"MAE from Approach 1 (Drop categorical variables):\")\n",
    "print(score_dataset(drop_X_train, drop_X_valid, y_train, y_valid))"
   ]
  },
  {
   "cell_type": "markdown",
   "id": "4560a012",
   "metadata": {
    "papermill": {
     "duration": 0.032342,
     "end_time": "2021-08-31T04:15:22.475428",
     "exception": false,
     "start_time": "2021-08-31T04:15:22.443086",
     "status": "completed"
    },
    "tags": []
   },
   "source": [
    "Before jumping into ordinal encoding, we'll investigate the dataset.  Specifically, we'll look at the `'Condition2'` column.  The code cell below prints the unique entries in both the training and validation sets."
   ]
  },
  {
   "cell_type": "code",
   "execution_count": 8,
   "id": "8e188d2b",
   "metadata": {
    "execution": {
     "iopub.execute_input": "2021-08-31T04:15:22.548379Z",
     "iopub.status.busy": "2021-08-31T04:15:22.547416Z",
     "iopub.status.idle": "2021-08-31T04:15:22.551437Z",
     "shell.execute_reply": "2021-08-31T04:15:22.550774Z",
     "shell.execute_reply.started": "2021-08-31T03:53:48.220497Z"
    },
    "papermill": {
     "duration": 0.043679,
     "end_time": "2021-08-31T04:15:22.551582",
     "exception": false,
     "start_time": "2021-08-31T04:15:22.507903",
     "status": "completed"
    },
    "tags": []
   },
   "outputs": [
    {
     "name": "stdout",
     "output_type": "stream",
     "text": [
      "Unique values in 'Condition2' column in training data: ['Norm' 'PosA' 'Feedr' 'PosN' 'Artery' 'RRAe']\n",
      "\n",
      "Unique values in 'Condition2' column in validation data: ['Norm' 'RRAn' 'RRNn' 'Artery' 'Feedr' 'PosN']\n"
     ]
    }
   ],
   "source": [
    "print(\"Unique values in 'Condition2' column in training data:\", X_train['Condition2'].unique())\n",
    "print(\"\\nUnique values in 'Condition2' column in validation data:\", X_valid['Condition2'].unique())"
   ]
  },
  {
   "cell_type": "markdown",
   "id": "7e0056a6",
   "metadata": {
    "papermill": {
     "duration": 0.033224,
     "end_time": "2021-08-31T04:15:22.618009",
     "exception": false,
     "start_time": "2021-08-31T04:15:22.584785",
     "status": "completed"
    },
    "tags": []
   },
   "source": [
    "# Step 2: Ordinal encoding\n",
    "\n",
    "### Part A\n",
    "\n",
    "If you now write code to: \n",
    "- fit an ordinal encoder to the training data, and then \n",
    "- use it to transform both the training and validation data, \n",
    "\n",
    "you'll get an error.  Can you see why this is the case?  (_You'll need  to use the above output to answer this question._)"
   ]
  },
  {
   "cell_type": "code",
   "execution_count": 9,
   "id": "ae748210",
   "metadata": {
    "execution": {
     "iopub.execute_input": "2021-08-31T04:15:22.689959Z",
     "iopub.status.busy": "2021-08-31T04:15:22.689181Z",
     "iopub.status.idle": "2021-08-31T04:15:22.695568Z",
     "shell.execute_reply": "2021-08-31T04:15:22.695086Z",
     "shell.execute_reply.started": "2021-08-31T03:54:05.833357Z"
    },
    "papermill": {
     "duration": 0.043531,
     "end_time": "2021-08-31T04:15:22.695715",
     "exception": false,
     "start_time": "2021-08-31T04:15:22.652184",
     "status": "completed"
    },
    "tags": []
   },
   "outputs": [
    {
     "data": {
      "application/javascript": [
       "parent.postMessage({\"jupyterEvent\": \"custom.exercise_interaction\", \"data\": {\"outcomeType\": 1, \"valueTowardsCompletion\": 0.5, \"interactionType\": 1, \"questionType\": 4, \"questionId\": \"2.1_LabelA\", \"learnToolsVersion\": \"0.3.4\", \"failureMessage\": \"\", \"exceptionClass\": \"\", \"trace\": \"\"}}, \"*\")"
      ],
      "text/plain": [
       "<IPython.core.display.Javascript object>"
      ]
     },
     "metadata": {},
     "output_type": "display_data"
    },
    {
     "data": {
      "text/markdown": [
       "<span style=\"color:#33cc33\">Correct:</span> \n",
       "\n",
       "Fitting an ordinal encoder to a column in the training data creates a corresponding integer-valued label for each unique value **that appears in the training data**. In the case that the validation data contains values that don't also appear in the training data, the encoder will throw an error, because these values won't have an integer assigned to them.  Notice that the `'Condition2'` column in the validation data contains the values `'RRAn'` and `'RRNn'`, but these don't appear in the training data -- thus, if we try to use an ordinal encoder with scikit-learn, the code will throw an error."
      ],
      "text/plain": [
       "Correct: \n",
       "\n",
       "Fitting an ordinal encoder to a column in the training data creates a corresponding integer-valued label for each unique value **that appears in the training data**. In the case that the validation data contains values that don't also appear in the training data, the encoder will throw an error, because these values won't have an integer assigned to them.  Notice that the `'Condition2'` column in the validation data contains the values `'RRAn'` and `'RRNn'`, but these don't appear in the training data -- thus, if we try to use an ordinal encoder with scikit-learn, the code will throw an error."
      ]
     },
     "metadata": {},
     "output_type": "display_data"
    }
   ],
   "source": [
    "# Check your answer (Run this code cell to receive credit!)\n",
    "step_2.a.check()"
   ]
  },
  {
   "cell_type": "code",
   "execution_count": 10,
   "id": "0a4c671a",
   "metadata": {
    "execution": {
     "iopub.execute_input": "2021-08-31T04:15:22.768675Z",
     "iopub.status.busy": "2021-08-31T04:15:22.768026Z",
     "iopub.status.idle": "2021-08-31T04:15:22.770670Z",
     "shell.execute_reply": "2021-08-31T04:15:22.770133Z"
    },
    "papermill": {
     "duration": 0.040564,
     "end_time": "2021-08-31T04:15:22.770804",
     "exception": false,
     "start_time": "2021-08-31T04:15:22.730240",
     "status": "completed"
    },
    "tags": []
   },
   "outputs": [],
   "source": [
    "#step_2.a.hint()"
   ]
  },
  {
   "cell_type": "markdown",
   "id": "ba60705e",
   "metadata": {
    "papermill": {
     "duration": 0.033609,
     "end_time": "2021-08-31T04:15:22.838984",
     "exception": false,
     "start_time": "2021-08-31T04:15:22.805375",
     "status": "completed"
    },
    "tags": []
   },
   "source": [
    "This is a common problem that you'll encounter with real-world data, and there are many approaches to fixing this issue.  For instance, you can write a custom ordinal encoder to deal with new categories.  The simplest approach, however, is to drop the problematic categorical columns.  \n",
    "\n",
    "Run the code cell below to save the problematic columns to a Python list `bad_label_cols`.  Likewise, columns that can be safely ordinal encoded are stored in `good_label_cols`."
   ]
  },
  {
   "cell_type": "code",
   "execution_count": 11,
   "id": "220cb344",
   "metadata": {
    "execution": {
     "iopub.execute_input": "2021-08-31T04:15:22.910209Z",
     "iopub.status.busy": "2021-08-31T04:15:22.909555Z",
     "iopub.status.idle": "2021-08-31T04:15:22.926416Z",
     "shell.execute_reply": "2021-08-31T04:15:22.925817Z",
     "shell.execute_reply.started": "2021-08-31T03:54:25.744886Z"
    },
    "papermill": {
     "duration": 0.053248,
     "end_time": "2021-08-31T04:15:22.926559",
     "exception": false,
     "start_time": "2021-08-31T04:15:22.873311",
     "status": "completed"
    },
    "tags": []
   },
   "outputs": [
    {
     "name": "stdout",
     "output_type": "stream",
     "text": [
      "Categorical columns that will be ordinal encoded: ['MSZoning', 'Street', 'LotShape', 'LandContour', 'Utilities', 'LotConfig', 'LandSlope', 'Neighborhood', 'Condition1', 'BldgType', 'HouseStyle', 'RoofStyle', 'Exterior1st', 'Exterior2nd', 'ExterQual', 'ExterCond', 'Foundation', 'Heating', 'HeatingQC', 'CentralAir', 'KitchenQual', 'PavedDrive', 'SaleType', 'SaleCondition']\n",
      "\n",
      "Categorical columns that will be dropped from the dataset: ['RoofMatl', 'Functional', 'Condition2']\n"
     ]
    }
   ],
   "source": [
    "# Categorical columns in the training data\n",
    "object_cols = [col for col in X_train.columns if X_train[col].dtype == \"object\"]\n",
    "\n",
    "# Columns that can be safely ordinal encoded\n",
    "good_label_cols = [col for col in object_cols if \n",
    "                   set(X_valid[col]).issubset(set(X_train[col]))]\n",
    "        \n",
    "# Problematic columns that will be dropped from the dataset\n",
    "bad_label_cols = list(set(object_cols)-set(good_label_cols))\n",
    "        \n",
    "print('Categorical columns that will be ordinal encoded:', good_label_cols)\n",
    "print('\\nCategorical columns that will be dropped from the dataset:', bad_label_cols)"
   ]
  },
  {
   "cell_type": "markdown",
   "id": "9b164b18",
   "metadata": {
    "papermill": {
     "duration": 0.033523,
     "end_time": "2021-08-31T04:15:22.993957",
     "exception": false,
     "start_time": "2021-08-31T04:15:22.960434",
     "status": "completed"
    },
    "tags": []
   },
   "source": [
    "### Part B\n",
    "\n",
    "Use the next code cell to ordinal encode the data in `X_train` and `X_valid`.  Set the preprocessed DataFrames to `label_X_train` and `label_X_valid`, respectively.  \n",
    "- We have provided code below to drop the categorical columns in `bad_label_cols` from the dataset. \n",
    "- You should ordinal encode the categorical columns in `good_label_cols`.  "
   ]
  },
  {
   "cell_type": "code",
   "execution_count": 12,
   "id": "d2d1e63e",
   "metadata": {
    "execution": {
     "iopub.execute_input": "2021-08-31T04:15:23.070595Z",
     "iopub.status.busy": "2021-08-31T04:15:23.069936Z",
     "iopub.status.idle": "2021-08-31T04:15:24.738636Z",
     "shell.execute_reply": "2021-08-31T04:15:24.739098Z",
     "shell.execute_reply.started": "2021-08-31T04:00:10.092699Z"
    },
    "papermill": {
     "duration": 1.711087,
     "end_time": "2021-08-31T04:15:24.739281",
     "exception": false,
     "start_time": "2021-08-31T04:15:23.028194",
     "status": "completed"
    },
    "tags": []
   },
   "outputs": [
    {
     "name": "stdout",
     "output_type": "stream",
     "text": [
      "MAE from Approach 2 (Ordinal Encoding):\n",
      "17098.01649543379\n"
     ]
    },
    {
     "data": {
      "application/javascript": [
       "parent.postMessage({\"jupyterEvent\": \"custom.exercise_interaction\", \"data\": {\"outcomeType\": 1, \"valueTowardsCompletion\": 0.5, \"interactionType\": 1, \"questionType\": 2, \"questionId\": \"2.2_LabelB\", \"learnToolsVersion\": \"0.3.4\", \"failureMessage\": \"\", \"exceptionClass\": \"\", \"trace\": \"\"}}, \"*\")"
      ],
      "text/plain": [
       "<IPython.core.display.Javascript object>"
      ]
     },
     "metadata": {},
     "output_type": "display_data"
    },
    {
     "data": {
      "text/markdown": [
       "<span style=\"color:#33cc33\">Correct</span>"
      ],
      "text/plain": [
       "Correct"
      ]
     },
     "metadata": {},
     "output_type": "display_data"
    }
   ],
   "source": [
    "from sklearn.preprocessing import OrdinalEncoder\n",
    "\n",
    "# Drop categorical columns that will not be encoded\n",
    "label_X_train = X_train.drop(bad_label_cols, axis=1)\n",
    "label_X_valid = X_valid.drop(bad_label_cols, axis=1)\n",
    "\n",
    "# Apply ordinal encoder \n",
    "ordinal_encoder = OrdinalEncoder()\n",
    "label_X_train[good_label_cols] = ordinal_encoder.fit_transform(X_train[good_label_cols])\n",
    "label_X_valid[good_label_cols] = ordinal_encoder.transform(X_valid[good_label_cols]) # Your code here\n",
    "print(\"MAE from Approach 2 (Ordinal Encoding):\") \n",
    "print(score_dataset(label_X_train, label_X_valid, y_train, y_valid))\n",
    "# Check your answer\n",
    "step_2.b.check()"
   ]
  },
  {
   "cell_type": "code",
   "execution_count": 13,
   "id": "2d961603",
   "metadata": {
    "execution": {
     "iopub.execute_input": "2021-08-31T04:15:24.815074Z",
     "iopub.status.busy": "2021-08-31T04:15:24.814440Z",
     "iopub.status.idle": "2021-08-31T04:15:24.818371Z",
     "shell.execute_reply": "2021-08-31T04:15:24.817705Z",
     "shell.execute_reply.started": "2021-08-31T03:59:19.415801Z"
    },
    "papermill": {
     "duration": 0.043354,
     "end_time": "2021-08-31T04:15:24.818511",
     "exception": false,
     "start_time": "2021-08-31T04:15:24.775157",
     "status": "completed"
    },
    "tags": []
   },
   "outputs": [],
   "source": [
    "# Lines below will give you a hint or solution code\n",
    "#step_2.b.hint()\n",
    "#step_2.b.solution()"
   ]
  },
  {
   "cell_type": "markdown",
   "id": "fe554875",
   "metadata": {
    "papermill": {
     "duration": 0.03544,
     "end_time": "2021-08-31T04:15:24.889959",
     "exception": false,
     "start_time": "2021-08-31T04:15:24.854519",
     "status": "completed"
    },
    "tags": []
   },
   "source": [
    "Run the next code cell to get the MAE for this approach."
   ]
  },
  {
   "cell_type": "code",
   "execution_count": 14,
   "id": "f8b45022",
   "metadata": {
    "execution": {
     "iopub.execute_input": "2021-08-31T04:15:24.971153Z",
     "iopub.status.busy": "2021-08-31T04:15:24.970453Z",
     "iopub.status.idle": "2021-08-31T04:15:26.562686Z",
     "shell.execute_reply": "2021-08-31T04:15:26.562026Z",
     "shell.execute_reply.started": "2021-08-31T04:00:20.390552Z"
    },
    "papermill": {
     "duration": 1.635692,
     "end_time": "2021-08-31T04:15:26.562839",
     "exception": false,
     "start_time": "2021-08-31T04:15:24.927147",
     "status": "completed"
    },
    "tags": []
   },
   "outputs": [
    {
     "name": "stdout",
     "output_type": "stream",
     "text": [
      "MAE from Approach 2 (Ordinal Encoding):\n",
      "17098.01649543379\n"
     ]
    }
   ],
   "source": [
    "print(\"MAE from Approach 2 (Ordinal Encoding):\") \n",
    "print(score_dataset(label_X_train, label_X_valid, y_train, y_valid))"
   ]
  },
  {
   "cell_type": "markdown",
   "id": "f903e154",
   "metadata": {
    "papermill": {
     "duration": 0.041582,
     "end_time": "2021-08-31T04:15:26.640919",
     "exception": false,
     "start_time": "2021-08-31T04:15:26.599337",
     "status": "completed"
    },
    "tags": []
   },
   "source": [
    "So far, you've tried two different approaches to dealing with categorical variables.  And, you've seen that encoding categorical data yields better results than removing columns from the dataset.\n",
    "\n",
    "Soon, you'll try one-hot encoding.  Before then, there's one additional topic we need to cover.  Begin by running the next code cell without changes.  "
   ]
  },
  {
   "cell_type": "code",
   "execution_count": 15,
   "id": "677a34eb",
   "metadata": {
    "execution": {
     "iopub.execute_input": "2021-08-31T04:15:26.723292Z",
     "iopub.status.busy": "2021-08-31T04:15:26.722222Z",
     "iopub.status.idle": "2021-08-31T04:15:26.739524Z",
     "shell.execute_reply": "2021-08-31T04:15:26.738840Z",
     "shell.execute_reply.started": "2021-08-31T04:00:49.614413Z"
    },
    "papermill": {
     "duration": 0.062538,
     "end_time": "2021-08-31T04:15:26.739662",
     "exception": false,
     "start_time": "2021-08-31T04:15:26.677124",
     "status": "completed"
    },
    "tags": []
   },
   "outputs": [
    {
     "data": {
      "text/plain": [
       "[('Street', 2),\n",
       " ('Utilities', 2),\n",
       " ('CentralAir', 2),\n",
       " ('LandSlope', 3),\n",
       " ('PavedDrive', 3),\n",
       " ('LotShape', 4),\n",
       " ('LandContour', 4),\n",
       " ('ExterQual', 4),\n",
       " ('KitchenQual', 4),\n",
       " ('MSZoning', 5),\n",
       " ('LotConfig', 5),\n",
       " ('BldgType', 5),\n",
       " ('ExterCond', 5),\n",
       " ('HeatingQC', 5),\n",
       " ('Condition2', 6),\n",
       " ('RoofStyle', 6),\n",
       " ('Foundation', 6),\n",
       " ('Heating', 6),\n",
       " ('Functional', 6),\n",
       " ('SaleCondition', 6),\n",
       " ('RoofMatl', 7),\n",
       " ('HouseStyle', 8),\n",
       " ('Condition1', 9),\n",
       " ('SaleType', 9),\n",
       " ('Exterior1st', 15),\n",
       " ('Exterior2nd', 16),\n",
       " ('Neighborhood', 25)]"
      ]
     },
     "execution_count": 15,
     "metadata": {},
     "output_type": "execute_result"
    }
   ],
   "source": [
    "# Get number of unique entries in each column with categorical data\n",
    "object_nunique = list(map(lambda col: X_train[col].nunique(), object_cols))\n",
    "d = dict(zip(object_cols, object_nunique))\n",
    "\n",
    "# Print number of unique entries by column, in ascending order\n",
    "sorted(d.items(), key=lambda x: x[1])"
   ]
  },
  {
   "cell_type": "markdown",
   "id": "9402184d",
   "metadata": {
    "papermill": {
     "duration": 0.036487,
     "end_time": "2021-08-31T04:15:26.813329",
     "exception": false,
     "start_time": "2021-08-31T04:15:26.776842",
     "status": "completed"
    },
    "tags": []
   },
   "source": [
    "# Step 3: Investigating cardinality\n",
    "\n",
    "### Part A\n",
    "\n",
    "The output above shows, for each column with categorical data, the number of unique values in the column.  For instance, the `'Street'` column in the training data has two unique values: `'Grvl'` and `'Pave'`, corresponding to a gravel road and a paved road, respectively.\n",
    "\n",
    "We refer to the number of unique entries of a categorical variable as the **cardinality** of that categorical variable.  For instance, the `'Street'` variable has cardinality 2.\n",
    "\n",
    "Use the output above to answer the questions below."
   ]
  },
  {
   "cell_type": "code",
   "execution_count": 16,
   "id": "ec9ac445",
   "metadata": {
    "execution": {
     "iopub.execute_input": "2021-08-31T04:15:26.892343Z",
     "iopub.status.busy": "2021-08-31T04:15:26.891289Z",
     "iopub.status.idle": "2021-08-31T04:15:26.899468Z",
     "shell.execute_reply": "2021-08-31T04:15:26.900033Z",
     "shell.execute_reply.started": "2021-08-31T04:08:07.740113Z"
    },
    "papermill": {
     "duration": 0.048862,
     "end_time": "2021-08-31T04:15:26.900216",
     "exception": false,
     "start_time": "2021-08-31T04:15:26.851354",
     "status": "completed"
    },
    "tags": []
   },
   "outputs": [
    {
     "data": {
      "application/javascript": [
       "parent.postMessage({\"jupyterEvent\": \"custom.exercise_interaction\", \"data\": {\"outcomeType\": 1, \"valueTowardsCompletion\": 0.5, \"interactionType\": 1, \"questionType\": 1, \"questionId\": \"3.1_CardinalityA\", \"learnToolsVersion\": \"0.3.4\", \"failureMessage\": \"\", \"exceptionClass\": \"\", \"trace\": \"\"}}, \"*\")"
      ],
      "text/plain": [
       "<IPython.core.display.Javascript object>"
      ]
     },
     "metadata": {},
     "output_type": "display_data"
    },
    {
     "data": {
      "text/markdown": [
       "<span style=\"color:#33cc33\">Correct</span>"
      ],
      "text/plain": [
       "Correct"
      ]
     },
     "metadata": {},
     "output_type": "display_data"
    }
   ],
   "source": [
    "# Fill in the line below: How many categorical variables in the training data\n",
    "# have cardinality greater than 10?\n",
    "high_cardinality_numcols = 3\n",
    "\n",
    "# Fill in the line below: How many columns are needed to one-hot encode the \n",
    "# 'Neighborhood' variable in the training data?\n",
    "num_cols_neighborhood = 25\n",
    "\n",
    "# Check your answers\n",
    "step_3.a.check()"
   ]
  },
  {
   "cell_type": "code",
   "execution_count": 17,
   "id": "1779c7b6",
   "metadata": {
    "execution": {
     "iopub.execute_input": "2021-08-31T04:15:26.981554Z",
     "iopub.status.busy": "2021-08-31T04:15:26.980519Z",
     "iopub.status.idle": "2021-08-31T04:15:26.984270Z",
     "shell.execute_reply": "2021-08-31T04:15:26.984819Z",
     "shell.execute_reply.started": "2021-08-31T04:07:50.665208Z"
    },
    "papermill": {
     "duration": 0.045649,
     "end_time": "2021-08-31T04:15:26.985035",
     "exception": false,
     "start_time": "2021-08-31T04:15:26.939386",
     "status": "completed"
    },
    "tags": []
   },
   "outputs": [],
   "source": [
    "# Lines below will give you a hint or solution code\n",
    "#step_3.a.hint()\n",
    "#step_3.a.solution()"
   ]
  },
  {
   "cell_type": "markdown",
   "id": "72f22ae6",
   "metadata": {
    "papermill": {
     "duration": 0.037608,
     "end_time": "2021-08-31T04:15:27.061082",
     "exception": false,
     "start_time": "2021-08-31T04:15:27.023474",
     "status": "completed"
    },
    "tags": []
   },
   "source": [
    "### Part B\n",
    "\n",
    "For large datasets with many rows, one-hot encoding can greatly expand the size of the dataset.  For this reason, we typically will only one-hot encode columns with relatively low cardinality.  Then, high cardinality columns can either be dropped from the dataset, or we can use ordinal encoding.\n",
    "\n",
    "As an example, consider a dataset with 10,000 rows, and containing one categorical column with 100 unique entries.  \n",
    "- If this column is replaced with the corresponding one-hot encoding, how many entries are added to the dataset?  \n",
    "- If we instead replace the column with the ordinal encoding, how many entries are added?  \n",
    "\n",
    "Use your answers to fill in the lines below."
   ]
  },
  {
   "cell_type": "code",
   "execution_count": 18,
   "id": "314c0944",
   "metadata": {
    "execution": {
     "iopub.execute_input": "2021-08-31T04:15:27.141415Z",
     "iopub.status.busy": "2021-08-31T04:15:27.140364Z",
     "iopub.status.idle": "2021-08-31T04:15:27.149644Z",
     "shell.execute_reply": "2021-08-31T04:15:27.149028Z",
     "shell.execute_reply.started": "2021-08-31T04:09:04.838396Z"
    },
    "papermill": {
     "duration": 0.04997,
     "end_time": "2021-08-31T04:15:27.149779",
     "exception": false,
     "start_time": "2021-08-31T04:15:27.099809",
     "status": "completed"
    },
    "tags": []
   },
   "outputs": [
    {
     "data": {
      "application/javascript": [
       "parent.postMessage({\"jupyterEvent\": \"custom.exercise_interaction\", \"data\": {\"outcomeType\": 1, \"valueTowardsCompletion\": 0.5, \"interactionType\": 1, \"questionType\": 1, \"questionId\": \"3.2_CardinalityB\", \"learnToolsVersion\": \"0.3.4\", \"failureMessage\": \"\", \"exceptionClass\": \"\", \"trace\": \"\"}}, \"*\")"
      ],
      "text/plain": [
       "<IPython.core.display.Javascript object>"
      ]
     },
     "metadata": {},
     "output_type": "display_data"
    },
    {
     "data": {
      "text/markdown": [
       "<span style=\"color:#33cc33\">Correct</span>"
      ],
      "text/plain": [
       "Correct"
      ]
     },
     "metadata": {},
     "output_type": "display_data"
    }
   ],
   "source": [
    "# Fill in the line below: How many entries are added to the dataset by \n",
    "# replacing the column with a one-hot encoding?\n",
    "OH_entries_added = 1e4*100 - 1e4\n",
    "\n",
    "# Fill in the line below: How many entries are added to the dataset by\n",
    "# replacing the column with an ordinal encoding?\n",
    "label_entries_added = 0\n",
    "\n",
    "# Check your answers\n",
    "step_3.b.check()"
   ]
  },
  {
   "cell_type": "code",
   "execution_count": 19,
   "id": "b2d14089",
   "metadata": {
    "execution": {
     "iopub.execute_input": "2021-08-31T04:15:27.230039Z",
     "iopub.status.busy": "2021-08-31T04:15:27.229411Z",
     "iopub.status.idle": "2021-08-31T04:15:27.233175Z",
     "shell.execute_reply": "2021-08-31T04:15:27.232655Z",
     "shell.execute_reply.started": "2021-08-31T04:08:46.177925Z"
    },
    "papermill": {
     "duration": 0.044984,
     "end_time": "2021-08-31T04:15:27.233320",
     "exception": false,
     "start_time": "2021-08-31T04:15:27.188336",
     "status": "completed"
    },
    "tags": []
   },
   "outputs": [],
   "source": [
    "# Lines below will give you a hint or solution code\n",
    "#step_3.b.hint()\n",
    "#step_3.b.solution()"
   ]
  },
  {
   "cell_type": "markdown",
   "id": "b3082f87",
   "metadata": {
    "papermill": {
     "duration": 0.038601,
     "end_time": "2021-08-31T04:15:27.310367",
     "exception": false,
     "start_time": "2021-08-31T04:15:27.271766",
     "status": "completed"
    },
    "tags": []
   },
   "source": [
    "Next, you'll experiment with one-hot encoding.  But, instead of encoding all of the categorical variables in the dataset, you'll only create a one-hot encoding for columns with cardinality less than 10.\n",
    "\n",
    "Run the code cell below without changes to set `low_cardinality_cols` to a Python list containing the columns that will be one-hot encoded.  Likewise, `high_cardinality_cols` contains a list of categorical columns that will be dropped from the dataset."
   ]
  },
  {
   "cell_type": "code",
   "execution_count": 20,
   "id": "fc15f975",
   "metadata": {
    "execution": {
     "iopub.execute_input": "2021-08-31T04:15:27.395277Z",
     "iopub.status.busy": "2021-08-31T04:15:27.394487Z",
     "iopub.status.idle": "2021-08-31T04:15:27.410228Z",
     "shell.execute_reply": "2021-08-31T04:15:27.409640Z",
     "shell.execute_reply.started": "2021-08-31T04:09:22.774181Z"
    },
    "papermill": {
     "duration": 0.061613,
     "end_time": "2021-08-31T04:15:27.410369",
     "exception": false,
     "start_time": "2021-08-31T04:15:27.348756",
     "status": "completed"
    },
    "tags": []
   },
   "outputs": [
    {
     "name": "stdout",
     "output_type": "stream",
     "text": [
      "Categorical columns that will be one-hot encoded: ['MSZoning', 'Street', 'LotShape', 'LandContour', 'Utilities', 'LotConfig', 'LandSlope', 'Condition1', 'Condition2', 'BldgType', 'HouseStyle', 'RoofStyle', 'RoofMatl', 'ExterQual', 'ExterCond', 'Foundation', 'Heating', 'HeatingQC', 'CentralAir', 'KitchenQual', 'Functional', 'PavedDrive', 'SaleType', 'SaleCondition']\n",
      "\n",
      "Categorical columns that will be dropped from the dataset: ['Neighborhood', 'Exterior2nd', 'Exterior1st']\n"
     ]
    }
   ],
   "source": [
    "# Columns that will be one-hot encoded\n",
    "low_cardinality_cols = [col for col in object_cols if X_train[col].nunique() < 10]\n",
    "\n",
    "# Columns that will be dropped from the dataset\n",
    "high_cardinality_cols = list(set(object_cols)-set(low_cardinality_cols))\n",
    "\n",
    "print('Categorical columns that will be one-hot encoded:', low_cardinality_cols)\n",
    "print('\\nCategorical columns that will be dropped from the dataset:', high_cardinality_cols)"
   ]
  },
  {
   "cell_type": "markdown",
   "id": "d11158ec",
   "metadata": {
    "papermill": {
     "duration": 0.038768,
     "end_time": "2021-08-31T04:15:27.488275",
     "exception": false,
     "start_time": "2021-08-31T04:15:27.449507",
     "status": "completed"
    },
    "tags": []
   },
   "source": [
    "# Step 4: One-hot encoding\n",
    "\n",
    "Use the next code cell to one-hot encode the data in `X_train` and `X_valid`.  Set the preprocessed DataFrames to `OH_X_train` and `OH_X_valid`, respectively.  \n",
    "- The full list of categorical columns in the dataset can be found in the Python list `object_cols`.\n",
    "- You should only one-hot encode the categorical columns in `low_cardinality_cols`.  All other categorical columns should be dropped from the dataset. "
   ]
  },
  {
   "cell_type": "code",
   "execution_count": 21,
   "id": "21155af1",
   "metadata": {
    "execution": {
     "iopub.execute_input": "2021-08-31T04:15:27.595364Z",
     "iopub.status.busy": "2021-08-31T04:15:27.594616Z",
     "iopub.status.idle": "2021-08-31T04:15:27.615825Z",
     "shell.execute_reply": "2021-08-31T04:15:27.615333Z",
     "shell.execute_reply.started": "2021-08-31T04:14:46.814696Z"
    },
    "papermill": {
     "duration": 0.088658,
     "end_time": "2021-08-31T04:15:27.615984",
     "exception": false,
     "start_time": "2021-08-31T04:15:27.527326",
     "status": "completed"
    },
    "tags": []
   },
   "outputs": [
    {
     "data": {
      "application/javascript": [
       "parent.postMessage({\"jupyterEvent\": \"custom.exercise_interaction\", \"data\": {\"outcomeType\": 1, \"valueTowardsCompletion\": 0.5, \"interactionType\": 1, \"questionType\": 2, \"questionId\": \"4_OneHot\", \"learnToolsVersion\": \"0.3.4\", \"failureMessage\": \"\", \"exceptionClass\": \"\", \"trace\": \"\"}}, \"*\")"
      ],
      "text/plain": [
       "<IPython.core.display.Javascript object>"
      ]
     },
     "metadata": {},
     "output_type": "display_data"
    },
    {
     "data": {
      "text/markdown": [
       "<span style=\"color:#33cc33\">Correct</span>"
      ],
      "text/plain": [
       "Correct"
      ]
     },
     "metadata": {},
     "output_type": "display_data"
    }
   ],
   "source": [
    "from sklearn.preprocessing import OneHotEncoder\n",
    "\n",
    "# Use as many lines of code as you need!\n",
    "OH_encoder = OneHotEncoder(handle_unknown='ignore', sparse=False)\n",
    "OH_cols_train = pd.DataFrame(OH_encoder.fit_transform(X_train[low_cardinality_cols])) # Your code here\n",
    "OH_cols_valid = pd.DataFrame(OH_encoder.transform(X_valid[low_cardinality_cols])) # Your code here\n",
    "\n",
    "OH_cols_train.index = X_train.index\n",
    "OH_cols_valid.index = X_valid.index\n",
    "\n",
    "# Remove categorical columns (will replace with one-hot encoding)\n",
    "num_X_train = X_train.drop(object_cols, axis=1)\n",
    "num_X_valid = X_valid.drop(object_cols, axis=1)\n",
    "\n",
    "# Add one-hot encoded columns to numerical features\n",
    "OH_X_train = pd.concat([num_X_train, OH_cols_train], axis=1)\n",
    "OH_X_valid = pd.concat([num_X_valid, OH_cols_valid], axis=1)\n",
    "\n",
    "# Check your answer\n",
    "step_4.check()"
   ]
  },
  {
   "cell_type": "code",
   "execution_count": 22,
   "id": "cf932953",
   "metadata": {
    "execution": {
     "iopub.execute_input": "2021-08-31T04:15:27.701996Z",
     "iopub.status.busy": "2021-08-31T04:15:27.701197Z",
     "iopub.status.idle": "2021-08-31T04:15:27.704295Z",
     "shell.execute_reply": "2021-08-31T04:15:27.703757Z",
     "shell.execute_reply.started": "2021-08-31T04:13:32.933366Z"
    },
    "papermill": {
     "duration": 0.046545,
     "end_time": "2021-08-31T04:15:27.704440",
     "exception": false,
     "start_time": "2021-08-31T04:15:27.657895",
     "status": "completed"
    },
    "tags": []
   },
   "outputs": [],
   "source": [
    "# Lines below will give you a hint or solution code\n",
    "#step_4.hint()\n",
    "#step_4.solution()"
   ]
  },
  {
   "cell_type": "markdown",
   "id": "67fe467b",
   "metadata": {
    "papermill": {
     "duration": 0.039735,
     "end_time": "2021-08-31T04:15:27.784658",
     "exception": false,
     "start_time": "2021-08-31T04:15:27.744923",
     "status": "completed"
    },
    "tags": []
   },
   "source": [
    "Run the next code cell to get the MAE for this approach."
   ]
  },
  {
   "cell_type": "code",
   "execution_count": 23,
   "id": "9cece3da",
   "metadata": {
    "execution": {
     "iopub.execute_input": "2021-08-31T04:15:27.873438Z",
     "iopub.status.busy": "2021-08-31T04:15:27.872744Z",
     "iopub.status.idle": "2021-08-31T04:15:29.870219Z",
     "shell.execute_reply": "2021-08-31T04:15:29.870722Z",
     "shell.execute_reply.started": "2021-08-31T04:14:54.985565Z"
    },
    "papermill": {
     "duration": 2.046135,
     "end_time": "2021-08-31T04:15:29.870911",
     "exception": false,
     "start_time": "2021-08-31T04:15:27.824776",
     "status": "completed"
    },
    "tags": []
   },
   "outputs": [
    {
     "name": "stdout",
     "output_type": "stream",
     "text": [
      "MAE from Approach 3 (One-Hot Encoding):\n",
      "17525.345719178084\n"
     ]
    }
   ],
   "source": [
    "print(\"MAE from Approach 3 (One-Hot Encoding):\") \n",
    "print(score_dataset(OH_X_train, OH_X_valid, y_train, y_valid))"
   ]
  },
  {
   "cell_type": "markdown",
   "id": "11d611a2",
   "metadata": {
    "papermill": {
     "duration": 0.041846,
     "end_time": "2021-08-31T04:15:29.953446",
     "exception": false,
     "start_time": "2021-08-31T04:15:29.911600",
     "status": "completed"
    },
    "tags": []
   },
   "source": [
    "# Generate test predictions and submit your results\n",
    "\n",
    "After you complete Step 4, if you'd like to use what you've learned to submit your results to the leaderboard, you'll need to preprocess the test data before generating predictions.\n",
    "\n",
    "**This step is completely optional, and you do not need to submit results to the leaderboard to successfully complete the exercise.**\n",
    "\n",
    "Check out the previous exercise if you need help with remembering how to [join the competition](https://www.kaggle.com/c/home-data-for-ml-course) or save your results to CSV.  Once you have generated a file with your results, follow the instructions below:\n",
    "1. Begin by clicking on the **Save Version** button in the top right corner of the window.  This will generate a pop-up window.  \n",
    "2. Ensure that the **Save and Run All** option is selected, and then click on the **Save** button.\n",
    "3. This generates a window in the bottom left corner of the notebook.  After it has finished running, click on the number to the right of the **Save Version** button.  This pulls up a list of versions on the right of the screen.  Click on the ellipsis **(...)** to the right of the most recent version, and select **Open in Viewer**.  This brings you into view mode of the same page. You will need to scroll down to get back to these instructions.\n",
    "4. Click on the **Output** tab on the right of the screen.  Then, click on the file you would like to submit, and click on the blue **Submit** button to submit your results to the leaderboard.\n",
    "\n",
    "You have now successfully submitted to the competition!\n",
    "\n",
    "If you want to keep working to improve your performance, select the **Edit** button in the top right of the screen. Then you can change your code and repeat the process. There's a lot of room to improve, and you will climb up the leaderboard as you work.\n"
   ]
  },
  {
   "cell_type": "code",
   "execution_count": 24,
   "id": "1d14d672",
   "metadata": {
    "execution": {
     "iopub.execute_input": "2021-08-31T04:15:30.040123Z",
     "iopub.status.busy": "2021-08-31T04:15:30.039486Z",
     "iopub.status.idle": "2021-08-31T04:15:30.043074Z",
     "shell.execute_reply": "2021-08-31T04:15:30.042514Z"
    },
    "papermill": {
     "duration": 0.048546,
     "end_time": "2021-08-31T04:15:30.043213",
     "exception": false,
     "start_time": "2021-08-31T04:15:29.994667",
     "status": "completed"
    },
    "tags": []
   },
   "outputs": [],
   "source": [
    "# (Optional) Your code here"
   ]
  },
  {
   "cell_type": "markdown",
   "id": "1577ac28",
   "metadata": {
    "papermill": {
     "duration": 0.042201,
     "end_time": "2021-08-31T04:15:30.126750",
     "exception": false,
     "start_time": "2021-08-31T04:15:30.084549",
     "status": "completed"
    },
    "tags": []
   },
   "source": [
    "# Keep going\n",
    "\n",
    "With missing value handling and categorical encoding, your modeling process is getting complex. This complexity gets worse when you want to save your model to use in the future. The key to managing this complexity is something called **pipelines**. \n",
    "\n",
    "**[Learn to use pipelines](https://www.kaggle.com/alexisbcook/pipelines)** to preprocess datasets with categorical variables, missing values and any other messiness your data throws at you."
   ]
  },
  {
   "cell_type": "markdown",
   "id": "1019bd79",
   "metadata": {
    "papermill": {
     "duration": 0.040386,
     "end_time": "2021-08-31T04:15:30.208192",
     "exception": false,
     "start_time": "2021-08-31T04:15:30.167806",
     "status": "completed"
    },
    "tags": []
   },
   "source": [
    "---\n",
    "\n",
    "\n",
    "\n",
    "\n",
    "*Have questions or comments? Visit the [Learn Discussion forum](https://www.kaggle.com/learn-forum/161289) to chat with other Learners.*"
   ]
  }
 ],
 "metadata": {
  "kernelspec": {
   "display_name": "Python 3",
   "language": "python",
   "name": "python3"
  },
  "language_info": {
   "codemirror_mode": {
    "name": "ipython",
    "version": 3
   },
   "file_extension": ".py",
   "mimetype": "text/x-python",
   "name": "python",
   "nbconvert_exporter": "python",
   "pygments_lexer": "ipython3",
   "version": "3.7.10"
  },
  "papermill": {
   "default_parameters": {},
   "duration": 21.905364,
   "end_time": "2021-08-31T04:15:31.931205",
   "environment_variables": {},
   "exception": null,
   "input_path": "__notebook__.ipynb",
   "output_path": "__notebook__.ipynb",
   "parameters": {},
   "start_time": "2021-08-31T04:15:10.025841",
   "version": "2.3.3"
  }
 },
 "nbformat": 4,
 "nbformat_minor": 5
}
