{
 "cells": [
  {
   "cell_type": "markdown",
   "id": "bb73841e",
   "metadata": {
    "papermill": {
     "duration": 0.016459,
     "end_time": "2021-08-30T09:44:50.227294",
     "exception": false,
     "start_time": "2021-08-30T09:44:50.210835",
     "status": "completed"
    },
    "tags": []
   },
   "source": [
    "**This notebook is an exercise in the [Introduction to Machine Learning](https://www.kaggle.com/learn/intro-to-machine-learning) course.  You can reference the tutorial at [this link](https://www.kaggle.com/dansbecker/your-first-machine-learning-model).**\n",
    "\n",
    "---\n"
   ]
  },
  {
   "cell_type": "markdown",
   "id": "7db55bb3",
   "metadata": {
    "papermill": {
     "duration": 0.01481,
     "end_time": "2021-08-30T09:44:50.257645",
     "exception": false,
     "start_time": "2021-08-30T09:44:50.242835",
     "status": "completed"
    },
    "tags": []
   },
   "source": [
    "## Recap\n",
    "So far, you have loaded your data and reviewed it with the following code. Run this cell to set up your coding environment where the previous step left off."
   ]
  },
  {
   "cell_type": "code",
   "execution_count": 1,
   "id": "27419938",
   "metadata": {
    "execution": {
     "iopub.execute_input": "2021-08-30T09:44:50.292216Z",
     "iopub.status.busy": "2021-08-30T09:44:50.290978Z",
     "iopub.status.idle": "2021-08-30T09:44:51.588001Z",
     "shell.execute_reply": "2021-08-30T09:44:51.588621Z",
     "shell.execute_reply.started": "2021-08-30T09:36:13.802821Z"
    },
    "papermill": {
     "duration": 1.316175,
     "end_time": "2021-08-30T09:44:51.588928",
     "exception": false,
     "start_time": "2021-08-30T09:44:50.272753",
     "status": "completed"
    },
    "tags": []
   },
   "outputs": [
    {
     "name": "stdout",
     "output_type": "stream",
     "text": [
      "Setup Complete\n"
     ]
    }
   ],
   "source": [
    "# Code you have previously used to load data\n",
    "import pandas as pd\n",
    "\n",
    "# Path of the file to read\n",
    "iowa_file_path = '../input/home-data-for-ml-course/train.csv'\n",
    "\n",
    "home_data = pd.read_csv(iowa_file_path)\n",
    "\n",
    "# Set up code checking\n",
    "from learntools.core import binder\n",
    "binder.bind(globals())\n",
    "from learntools.machine_learning.ex3 import *\n",
    "\n",
    "print(\"Setup Complete\")"
   ]
  },
  {
   "cell_type": "markdown",
   "id": "619d5c54",
   "metadata": {
    "papermill": {
     "duration": 0.015179,
     "end_time": "2021-08-30T09:44:51.620033",
     "exception": false,
     "start_time": "2021-08-30T09:44:51.604854",
     "status": "completed"
    },
    "tags": []
   },
   "source": [
    "# Exercises\n",
    "\n",
    "## Step 1: Specify Prediction Target\n",
    "Select the target variable, which corresponds to the sales price. Save this to a new variable called `y`. You'll need to print a list of the columns to find the name of the column you need.\n"
   ]
  },
  {
   "cell_type": "code",
   "execution_count": 2,
   "id": "7ace5bd9",
   "metadata": {
    "execution": {
     "iopub.execute_input": "2021-08-30T09:44:51.660279Z",
     "iopub.status.busy": "2021-08-30T09:44:51.659322Z",
     "iopub.status.idle": "2021-08-30T09:44:51.664061Z",
     "shell.execute_reply": "2021-08-30T09:44:51.663557Z",
     "shell.execute_reply.started": "2021-08-30T09:36:50.431309Z"
    },
    "papermill": {
     "duration": 0.028728,
     "end_time": "2021-08-30T09:44:51.664205",
     "exception": false,
     "start_time": "2021-08-30T09:44:51.635477",
     "status": "completed"
    },
    "tags": []
   },
   "outputs": [
    {
     "data": {
      "text/plain": [
       "Index(['Id', 'MSSubClass', 'MSZoning', 'LotFrontage', 'LotArea', 'Street',\n",
       "       'Alley', 'LotShape', 'LandContour', 'Utilities', 'LotConfig',\n",
       "       'LandSlope', 'Neighborhood', 'Condition1', 'Condition2', 'BldgType',\n",
       "       'HouseStyle', 'OverallQual', 'OverallCond', 'YearBuilt', 'YearRemodAdd',\n",
       "       'RoofStyle', 'RoofMatl', 'Exterior1st', 'Exterior2nd', 'MasVnrType',\n",
       "       'MasVnrArea', 'ExterQual', 'ExterCond', 'Foundation', 'BsmtQual',\n",
       "       'BsmtCond', 'BsmtExposure', 'BsmtFinType1', 'BsmtFinSF1',\n",
       "       'BsmtFinType2', 'BsmtFinSF2', 'BsmtUnfSF', 'TotalBsmtSF', 'Heating',\n",
       "       'HeatingQC', 'CentralAir', 'Electrical', '1stFlrSF', '2ndFlrSF',\n",
       "       'LowQualFinSF', 'GrLivArea', 'BsmtFullBath', 'BsmtHalfBath', 'FullBath',\n",
       "       'HalfBath', 'BedroomAbvGr', 'KitchenAbvGr', 'KitchenQual',\n",
       "       'TotRmsAbvGrd', 'Functional', 'Fireplaces', 'FireplaceQu', 'GarageType',\n",
       "       'GarageYrBlt', 'GarageFinish', 'GarageCars', 'GarageArea', 'GarageQual',\n",
       "       'GarageCond', 'PavedDrive', 'WoodDeckSF', 'OpenPorchSF',\n",
       "       'EnclosedPorch', '3SsnPorch', 'ScreenPorch', 'PoolArea', 'PoolQC',\n",
       "       'Fence', 'MiscFeature', 'MiscVal', 'MoSold', 'YrSold', 'SaleType',\n",
       "       'SaleCondition', 'SalePrice'],\n",
       "      dtype='object')"
      ]
     },
     "execution_count": 2,
     "metadata": {},
     "output_type": "execute_result"
    }
   ],
   "source": [
    "# print the list of columns in the dataset to find the name of the prediction target\n",
    "home_data.columns"
   ]
  },
  {
   "cell_type": "code",
   "execution_count": 3,
   "id": "e5ff8fee",
   "metadata": {
    "execution": {
     "iopub.execute_input": "2021-08-30T09:44:51.709779Z",
     "iopub.status.busy": "2021-08-30T09:44:51.708702Z",
     "iopub.status.idle": "2021-08-30T09:44:51.715114Z",
     "shell.execute_reply": "2021-08-30T09:44:51.715929Z",
     "shell.execute_reply.started": "2021-08-30T09:37:21.776441Z"
    },
    "papermill": {
     "duration": 0.036169,
     "end_time": "2021-08-30T09:44:51.716193",
     "exception": false,
     "start_time": "2021-08-30T09:44:51.680024",
     "status": "completed"
    },
    "tags": []
   },
   "outputs": [
    {
     "data": {
      "application/javascript": [
       "parent.postMessage({\"jupyterEvent\": \"custom.exercise_interaction\", \"data\": {\"outcomeType\": 1, \"valueTowardsCompletion\": 0.25, \"interactionType\": 1, \"questionType\": 2, \"questionId\": \"1_SetTarget\", \"learnToolsVersion\": \"0.3.4\", \"failureMessage\": \"\", \"exceptionClass\": \"\", \"trace\": \"\"}}, \"*\")"
      ],
      "text/plain": [
       "<IPython.core.display.Javascript object>"
      ]
     },
     "metadata": {},
     "output_type": "display_data"
    },
    {
     "data": {
      "text/markdown": [
       "<span style=\"color:#33cc33\">Correct</span>"
      ],
      "text/plain": [
       "Correct"
      ]
     },
     "metadata": {},
     "output_type": "display_data"
    }
   ],
   "source": [
    "y = home_data['SalePrice']\n",
    "\n",
    "# Check your answer\n",
    "step_1.check()"
   ]
  },
  {
   "cell_type": "code",
   "execution_count": 4,
   "id": "b8f798d6",
   "metadata": {
    "collapsed": true,
    "execution": {
     "iopub.execute_input": "2021-08-30T09:44:51.763228Z",
     "iopub.status.busy": "2021-08-30T09:44:51.762561Z",
     "iopub.status.idle": "2021-08-30T09:44:51.768687Z",
     "shell.execute_reply": "2021-08-30T09:44:51.768115Z"
    },
    "jupyter": {
     "outputs_hidden": true
    },
    "papermill": {
     "duration": 0.029361,
     "end_time": "2021-08-30T09:44:51.768842",
     "exception": false,
     "start_time": "2021-08-30T09:44:51.739481",
     "status": "completed"
    },
    "tags": []
   },
   "outputs": [],
   "source": [
    "# The lines below will show you a hint or the solution.\n",
    "# step_1.hint() \n",
    "# step_1.solution()"
   ]
  },
  {
   "cell_type": "markdown",
   "id": "f38c8318",
   "metadata": {
    "papermill": {
     "duration": 0.020003,
     "end_time": "2021-08-30T09:44:51.807502",
     "exception": false,
     "start_time": "2021-08-30T09:44:51.787499",
     "status": "completed"
    },
    "tags": []
   },
   "source": [
    "## Step 2: Create X\n",
    "Now you will create a DataFrame called `X` holding the predictive features.\n",
    "\n",
    "Since you want only some columns from the original data, you'll first create a list with the names of the columns you want in `X`.\n",
    "\n",
    "You'll use just the following columns in the list (you can copy and paste the whole list to save some typing, though you'll still need to add quotes):\n",
    "    * LotArea\n",
    "    * YearBuilt\n",
    "    * 1stFlrSF\n",
    "    * 2ndFlrSF\n",
    "    * FullBath\n",
    "    * BedroomAbvGr\n",
    "    * TotRmsAbvGrd\n",
    "\n",
    "After you've created that list of features, use it to create the DataFrame that you'll use to fit the model."
   ]
  },
  {
   "cell_type": "code",
   "execution_count": 5,
   "id": "068f95c1",
   "metadata": {
    "execution": {
     "iopub.execute_input": "2021-08-30T09:44:51.855025Z",
     "iopub.status.busy": "2021-08-30T09:44:51.854268Z",
     "iopub.status.idle": "2021-08-30T09:44:51.860265Z",
     "shell.execute_reply": "2021-08-30T09:44:51.860873Z",
     "shell.execute_reply.started": "2021-08-30T09:39:32.656330Z"
    },
    "papermill": {
     "duration": 0.032113,
     "end_time": "2021-08-30T09:44:51.861049",
     "exception": false,
     "start_time": "2021-08-30T09:44:51.828936",
     "status": "completed"
    },
    "tags": []
   },
   "outputs": [
    {
     "data": {
      "application/javascript": [
       "parent.postMessage({\"jupyterEvent\": \"custom.exercise_interaction\", \"data\": {\"outcomeType\": 1, \"valueTowardsCompletion\": 0.25, \"interactionType\": 1, \"questionType\": 2, \"questionId\": \"2_SelectPredictionData\", \"learnToolsVersion\": \"0.3.4\", \"failureMessage\": \"\", \"exceptionClass\": \"\", \"trace\": \"\"}}, \"*\")"
      ],
      "text/plain": [
       "<IPython.core.display.Javascript object>"
      ]
     },
     "metadata": {},
     "output_type": "display_data"
    },
    {
     "data": {
      "text/markdown": [
       "<span style=\"color:#33cc33\">Correct</span>"
      ],
      "text/plain": [
       "Correct"
      ]
     },
     "metadata": {},
     "output_type": "display_data"
    }
   ],
   "source": [
    "# Create the list of features below\n",
    "feature_names = ['LotArea', 'YearBuilt', '1stFlrSF', '2ndFlrSF', 'FullBath', 'BedroomAbvGr', 'TotRmsAbvGrd']\n",
    "\n",
    "# Select data corresponding to features in feature_names\n",
    "X = home_data[feature_names]\n",
    "\n",
    "# Check your answer\n",
    "step_2.check()"
   ]
  },
  {
   "cell_type": "code",
   "execution_count": 6,
   "id": "f078425d",
   "metadata": {
    "collapsed": true,
    "execution": {
     "iopub.execute_input": "2021-08-30T09:44:51.901494Z",
     "iopub.status.busy": "2021-08-30T09:44:51.900487Z",
     "iopub.status.idle": "2021-08-30T09:44:51.903830Z",
     "shell.execute_reply": "2021-08-30T09:44:51.904277Z"
    },
    "jupyter": {
     "outputs_hidden": true
    },
    "papermill": {
     "duration": 0.025189,
     "end_time": "2021-08-30T09:44:51.904469",
     "exception": false,
     "start_time": "2021-08-30T09:44:51.879280",
     "status": "completed"
    },
    "tags": []
   },
   "outputs": [],
   "source": [
    "# step_2.hint()\n",
    "# step_2.solution()"
   ]
  },
  {
   "cell_type": "markdown",
   "id": "9a64d270",
   "metadata": {
    "papermill": {
     "duration": 0.023055,
     "end_time": "2021-08-30T09:44:51.952141",
     "exception": false,
     "start_time": "2021-08-30T09:44:51.929086",
     "status": "completed"
    },
    "tags": []
   },
   "source": [
    "## Review Data\n",
    "Before building a model, take a quick look at **X** to verify it looks sensible"
   ]
  },
  {
   "cell_type": "code",
   "execution_count": 7,
   "id": "12241a19",
   "metadata": {
    "execution": {
     "iopub.execute_input": "2021-08-30T09:44:51.999424Z",
     "iopub.status.busy": "2021-08-30T09:44:51.998394Z",
     "iopub.status.idle": "2021-08-30T09:44:52.017061Z",
     "shell.execute_reply": "2021-08-30T09:44:52.017916Z",
     "shell.execute_reply.started": "2021-08-30T09:41:22.017172Z"
    },
    "papermill": {
     "duration": 0.047776,
     "end_time": "2021-08-30T09:44:52.018180",
     "exception": false,
     "start_time": "2021-08-30T09:44:51.970404",
     "status": "completed"
    },
    "tags": []
   },
   "outputs": [
    {
     "data": {
      "text/html": [
       "<div>\n",
       "<style scoped>\n",
       "    .dataframe tbody tr th:only-of-type {\n",
       "        vertical-align: middle;\n",
       "    }\n",
       "\n",
       "    .dataframe tbody tr th {\n",
       "        vertical-align: top;\n",
       "    }\n",
       "\n",
       "    .dataframe thead th {\n",
       "        text-align: right;\n",
       "    }\n",
       "</style>\n",
       "<table border=\"1\" class=\"dataframe\">\n",
       "  <thead>\n",
       "    <tr style=\"text-align: right;\">\n",
       "      <th></th>\n",
       "      <th>LotArea</th>\n",
       "      <th>YearBuilt</th>\n",
       "      <th>1stFlrSF</th>\n",
       "      <th>2ndFlrSF</th>\n",
       "      <th>FullBath</th>\n",
       "      <th>BedroomAbvGr</th>\n",
       "      <th>TotRmsAbvGrd</th>\n",
       "    </tr>\n",
       "  </thead>\n",
       "  <tbody>\n",
       "    <tr>\n",
       "      <th>0</th>\n",
       "      <td>8450</td>\n",
       "      <td>2003</td>\n",
       "      <td>856</td>\n",
       "      <td>854</td>\n",
       "      <td>2</td>\n",
       "      <td>3</td>\n",
       "      <td>8</td>\n",
       "    </tr>\n",
       "    <tr>\n",
       "      <th>1</th>\n",
       "      <td>9600</td>\n",
       "      <td>1976</td>\n",
       "      <td>1262</td>\n",
       "      <td>0</td>\n",
       "      <td>2</td>\n",
       "      <td>3</td>\n",
       "      <td>6</td>\n",
       "    </tr>\n",
       "    <tr>\n",
       "      <th>2</th>\n",
       "      <td>11250</td>\n",
       "      <td>2001</td>\n",
       "      <td>920</td>\n",
       "      <td>866</td>\n",
       "      <td>2</td>\n",
       "      <td>3</td>\n",
       "      <td>6</td>\n",
       "    </tr>\n",
       "    <tr>\n",
       "      <th>3</th>\n",
       "      <td>9550</td>\n",
       "      <td>1915</td>\n",
       "      <td>961</td>\n",
       "      <td>756</td>\n",
       "      <td>1</td>\n",
       "      <td>3</td>\n",
       "      <td>7</td>\n",
       "    </tr>\n",
       "    <tr>\n",
       "      <th>4</th>\n",
       "      <td>14260</td>\n",
       "      <td>2000</td>\n",
       "      <td>1145</td>\n",
       "      <td>1053</td>\n",
       "      <td>2</td>\n",
       "      <td>4</td>\n",
       "      <td>9</td>\n",
       "    </tr>\n",
       "  </tbody>\n",
       "</table>\n",
       "</div>"
      ],
      "text/plain": [
       "   LotArea  YearBuilt  1stFlrSF  2ndFlrSF  FullBath  BedroomAbvGr  \\\n",
       "0     8450       2003       856       854         2             3   \n",
       "1     9600       1976      1262         0         2             3   \n",
       "2    11250       2001       920       866         2             3   \n",
       "3     9550       1915       961       756         1             3   \n",
       "4    14260       2000      1145      1053         2             4   \n",
       "\n",
       "   TotRmsAbvGrd  \n",
       "0             8  \n",
       "1             6  \n",
       "2             6  \n",
       "3             7  \n",
       "4             9  "
      ]
     },
     "execution_count": 7,
     "metadata": {},
     "output_type": "execute_result"
    }
   ],
   "source": [
    "# Review data\n",
    "# print description or statistics from X\n",
    "#print(X.describe)\n",
    "X.describe\n",
    "# print the top few lines\n",
    "#print(X.head())\n",
    "X.head()"
   ]
  },
  {
   "cell_type": "markdown",
   "id": "9b5c38f9",
   "metadata": {
    "papermill": {
     "duration": 0.021815,
     "end_time": "2021-08-30T09:44:52.066478",
     "exception": false,
     "start_time": "2021-08-30T09:44:52.044663",
     "status": "completed"
    },
    "tags": []
   },
   "source": [
    "## Step 3: Specify and Fit Model\n",
    "Create a `DecisionTreeRegressor` and save it iowa_model. Ensure you've done the relevant import from sklearn to run this command.\n",
    "\n",
    "Then fit the model you just created using the data in `X` and `y` that you saved above."
   ]
  },
  {
   "cell_type": "code",
   "execution_count": 8,
   "id": "50ac235e",
   "metadata": {
    "execution": {
     "iopub.execute_input": "2021-08-30T09:44:52.114867Z",
     "iopub.status.busy": "2021-08-30T09:44:52.113875Z",
     "iopub.status.idle": "2021-08-30T09:44:52.130103Z",
     "shell.execute_reply": "2021-08-30T09:44:52.129491Z",
     "shell.execute_reply.started": "2021-08-30T09:42:47.416310Z"
    },
    "papermill": {
     "duration": 0.044335,
     "end_time": "2021-08-30T09:44:52.130273",
     "exception": false,
     "start_time": "2021-08-30T09:44:52.085938",
     "status": "completed"
    },
    "tags": []
   },
   "outputs": [
    {
     "data": {
      "application/javascript": [
       "parent.postMessage({\"jupyterEvent\": \"custom.exercise_interaction\", \"data\": {\"outcomeType\": 1, \"valueTowardsCompletion\": 0.25, \"interactionType\": 1, \"questionType\": 2, \"questionId\": \"3_CreateModel\", \"learnToolsVersion\": \"0.3.4\", \"failureMessage\": \"\", \"exceptionClass\": \"\", \"trace\": \"\"}}, \"*\")"
      ],
      "text/plain": [
       "<IPython.core.display.Javascript object>"
      ]
     },
     "metadata": {},
     "output_type": "display_data"
    },
    {
     "data": {
      "text/markdown": [
       "<span style=\"color:#33cc33\">Correct</span>"
      ],
      "text/plain": [
       "Correct"
      ]
     },
     "metadata": {},
     "output_type": "display_data"
    }
   ],
   "source": [
    "# from _ import _\n",
    "from sklearn.tree import DecisionTreeRegressor\n",
    "#specify the model. \n",
    "#For model reproducibility, set a numeric value for random_state when specifying the model\n",
    "iowa_model = DecisionTreeRegressor(random_state=1)\n",
    "\n",
    "# Fit the model\n",
    "iowa_model.fit(X, y)\n",
    "\n",
    "# Check your answer\n",
    "step_3.check()"
   ]
  },
  {
   "cell_type": "code",
   "execution_count": 9,
   "id": "c65d59a0",
   "metadata": {
    "collapsed": true,
    "execution": {
     "iopub.execute_input": "2021-08-30T09:44:52.173892Z",
     "iopub.status.busy": "2021-08-30T09:44:52.173185Z",
     "iopub.status.idle": "2021-08-30T09:44:52.177227Z",
     "shell.execute_reply": "2021-08-30T09:44:52.177830Z"
    },
    "jupyter": {
     "outputs_hidden": true
    },
    "papermill": {
     "duration": 0.027894,
     "end_time": "2021-08-30T09:44:52.178010",
     "exception": false,
     "start_time": "2021-08-30T09:44:52.150116",
     "status": "completed"
    },
    "tags": []
   },
   "outputs": [],
   "source": [
    "# step_3.hint()\n",
    "# step_3.solution()"
   ]
  },
  {
   "cell_type": "markdown",
   "id": "b86ea52b",
   "metadata": {
    "papermill": {
     "duration": 0.02082,
     "end_time": "2021-08-30T09:44:52.219971",
     "exception": false,
     "start_time": "2021-08-30T09:44:52.199151",
     "status": "completed"
    },
    "tags": []
   },
   "source": [
    "## Step 4: Make Predictions\n",
    "Make predictions with the model's `predict` command using `X` as the data. Save the results to a variable called `predictions`."
   ]
  },
  {
   "cell_type": "code",
   "execution_count": 10,
   "id": "c18d3beb",
   "metadata": {
    "execution": {
     "iopub.execute_input": "2021-08-30T09:44:52.263251Z",
     "iopub.status.busy": "2021-08-30T09:44:52.262574Z",
     "iopub.status.idle": "2021-08-30T09:44:52.280859Z",
     "shell.execute_reply": "2021-08-30T09:44:52.281463Z",
     "shell.execute_reply.started": "2021-08-30T09:44:07.217000Z"
    },
    "papermill": {
     "duration": 0.042081,
     "end_time": "2021-08-30T09:44:52.281655",
     "exception": false,
     "start_time": "2021-08-30T09:44:52.239574",
     "status": "completed"
    },
    "tags": []
   },
   "outputs": [
    {
     "name": "stdout",
     "output_type": "stream",
     "text": [
      "[208500. 181500. 223500. ... 266500. 142125. 147500.]\n"
     ]
    },
    {
     "data": {
      "application/javascript": [
       "parent.postMessage({\"jupyterEvent\": \"custom.exercise_interaction\", \"data\": {\"outcomeType\": 1, \"valueTowardsCompletion\": 0.25, \"interactionType\": 1, \"questionType\": 2, \"questionId\": \"4_MakePredictions\", \"learnToolsVersion\": \"0.3.4\", \"failureMessage\": \"\", \"exceptionClass\": \"\", \"trace\": \"\"}}, \"*\")"
      ],
      "text/plain": [
       "<IPython.core.display.Javascript object>"
      ]
     },
     "metadata": {},
     "output_type": "display_data"
    },
    {
     "data": {
      "text/markdown": [
       "<span style=\"color:#33cc33\">Correct</span>"
      ],
      "text/plain": [
       "Correct"
      ]
     },
     "metadata": {},
     "output_type": "display_data"
    }
   ],
   "source": [
    "predictions = iowa_model.predict(X)\n",
    "print(predictions)\n",
    "\n",
    "# Check your answer\n",
    "step_4.check()"
   ]
  },
  {
   "cell_type": "code",
   "execution_count": 11,
   "id": "4230bb3a",
   "metadata": {
    "execution": {
     "iopub.execute_input": "2021-08-30T09:44:52.329177Z",
     "iopub.status.busy": "2021-08-30T09:44:52.328143Z",
     "iopub.status.idle": "2021-08-30T09:44:52.331334Z",
     "shell.execute_reply": "2021-08-30T09:44:52.330786Z",
     "shell.execute_reply.started": "2021-08-30T09:43:54.777630Z"
    },
    "papermill": {
     "duration": 0.028745,
     "end_time": "2021-08-30T09:44:52.331508",
     "exception": false,
     "start_time": "2021-08-30T09:44:52.302763",
     "status": "completed"
    },
    "tags": []
   },
   "outputs": [],
   "source": [
    "# step_4.hint()\n",
    "#step_4.solution()"
   ]
  },
  {
   "cell_type": "markdown",
   "id": "29ae0b0f",
   "metadata": {
    "papermill": {
     "duration": 0.020699,
     "end_time": "2021-08-30T09:44:52.373526",
     "exception": false,
     "start_time": "2021-08-30T09:44:52.352827",
     "status": "completed"
    },
    "tags": []
   },
   "source": [
    "## Think About Your Results\n",
    "\n",
    "Use the `head` method to compare the top few predictions to the actual home values (in `y`) for those same homes. Anything surprising?\n"
   ]
  },
  {
   "cell_type": "code",
   "execution_count": 12,
   "id": "14031172",
   "metadata": {
    "execution": {
     "iopub.execute_input": "2021-08-30T09:44:52.422889Z",
     "iopub.status.busy": "2021-08-30T09:44:52.421766Z",
     "iopub.status.idle": "2021-08-30T09:44:52.425355Z",
     "shell.execute_reply": "2021-08-30T09:44:52.424771Z"
    },
    "papermill": {
     "duration": 0.031118,
     "end_time": "2021-08-30T09:44:52.425558",
     "exception": false,
     "start_time": "2021-08-30T09:44:52.394440",
     "status": "completed"
    },
    "tags": []
   },
   "outputs": [],
   "source": [
    "# You can write code in this cell\n"
   ]
  },
  {
   "cell_type": "markdown",
   "id": "fed0d453",
   "metadata": {
    "papermill": {
     "duration": 0.021099,
     "end_time": "2021-08-30T09:44:52.468720",
     "exception": false,
     "start_time": "2021-08-30T09:44:52.447621",
     "status": "completed"
    },
    "tags": []
   },
   "source": [
    "It's natural to ask how accurate the model's predictions will be and how you can improve that. That will be you're next step.\n",
    "\n",
    "# Keep Going\n",
    "\n",
    "You are ready for **[Model Validation](https://www.kaggle.com/dansbecker/model-validation).**\n"
   ]
  },
  {
   "cell_type": "markdown",
   "id": "c8046190",
   "metadata": {
    "papermill": {
     "duration": 0.020556,
     "end_time": "2021-08-30T09:44:52.512901",
     "exception": false,
     "start_time": "2021-08-30T09:44:52.492345",
     "status": "completed"
    },
    "tags": []
   },
   "source": [
    "---\n",
    "\n",
    "\n",
    "\n",
    "\n",
    "*Have questions or comments? Visit the [Learn Discussion forum](https://www.kaggle.com/learn-forum/161285) to chat with other Learners.*"
   ]
  }
 ],
 "metadata": {
  "kernelspec": {
   "display_name": "Python 3",
   "language": "python",
   "name": "python3"
  },
  "language_info": {
   "codemirror_mode": {
    "name": "ipython",
    "version": 3
   },
   "file_extension": ".py",
   "mimetype": "text/x-python",
   "name": "python",
   "nbconvert_exporter": "python",
   "pygments_lexer": "ipython3",
   "version": "3.7.10"
  },
  "papermill": {
   "default_parameters": {},
   "duration": 11.393872,
   "end_time": "2021-08-30T09:44:53.344059",
   "environment_variables": {},
   "exception": null,
   "input_path": "__notebook__.ipynb",
   "output_path": "__notebook__.ipynb",
   "parameters": {},
   "start_time": "2021-08-30T09:44:41.950187",
   "version": "2.3.3"
  }
 },
 "nbformat": 4,
 "nbformat_minor": 5
}
