{
 "cells": [
  {
   "cell_type": "markdown",
   "id": "612af68e",
   "metadata": {
    "papermill": {
     "duration": 0.007885,
     "end_time": "2021-08-30T10:07:02.214737",
     "exception": false,
     "start_time": "2021-08-30T10:07:02.206852",
     "status": "completed"
    },
    "tags": []
   },
   "source": [
    "**This notebook is an exercise in the [Introduction to Machine Learning](https://www.kaggle.com/learn/intro-to-machine-learning) course.  You can reference the tutorial at [this link](https://www.kaggle.com/dansbecker/random-forests).**\n",
    "\n",
    "---\n"
   ]
  },
  {
   "cell_type": "markdown",
   "id": "7dcc4c2c",
   "metadata": {
    "papermill": {
     "duration": 0.006374,
     "end_time": "2021-08-30T10:07:02.228264",
     "exception": false,
     "start_time": "2021-08-30T10:07:02.221890",
     "status": "completed"
    },
    "tags": []
   },
   "source": [
    "## Recap\n",
    "Here's the code you've written so far."
   ]
  },
  {
   "cell_type": "code",
   "execution_count": 1,
   "id": "ca4b6680",
   "metadata": {
    "execution": {
     "iopub.execute_input": "2021-08-30T10:07:02.246562Z",
     "iopub.status.busy": "2021-08-30T10:07:02.245398Z",
     "iopub.status.idle": "2021-08-30T10:07:03.634392Z",
     "shell.execute_reply": "2021-08-30T10:07:03.634907Z",
     "shell.execute_reply.started": "2021-08-30T10:02:06.149256Z"
    },
    "papermill": {
     "duration": 1.400269,
     "end_time": "2021-08-30T10:07:03.635238",
     "exception": false,
     "start_time": "2021-08-30T10:07:02.234969",
     "status": "completed"
    },
    "tags": []
   },
   "outputs": [
    {
     "name": "stdout",
     "output_type": "stream",
     "text": [
      "Validation MAE when not specifying max_leaf_nodes: 29,653\n",
      "Validation MAE for best value of max_leaf_nodes: 27,283\n",
      "\n",
      "Setup complete\n"
     ]
    }
   ],
   "source": [
    "# Code you have previously used to load data\n",
    "import pandas as pd\n",
    "from sklearn.metrics import mean_absolute_error\n",
    "from sklearn.model_selection import train_test_split\n",
    "from sklearn.tree import DecisionTreeRegressor\n",
    "\n",
    "\n",
    "# Path of the file to read\n",
    "iowa_file_path = '../input/home-data-for-ml-course/train.csv'\n",
    "\n",
    "home_data = pd.read_csv(iowa_file_path)\n",
    "# Create target object and call it y\n",
    "y = home_data.SalePrice\n",
    "# Create X\n",
    "features = ['LotArea', 'YearBuilt', '1stFlrSF', '2ndFlrSF', 'FullBath', 'BedroomAbvGr', 'TotRmsAbvGrd']\n",
    "X = home_data[features]\n",
    "\n",
    "# Split into validation and training data\n",
    "train_X, val_X, train_y, val_y = train_test_split(X, y, random_state=1)\n",
    "\n",
    "# Specify Model\n",
    "iowa_model = DecisionTreeRegressor(random_state=1)\n",
    "# Fit Model\n",
    "iowa_model.fit(train_X, train_y)\n",
    "\n",
    "# Make validation predictions and calculate mean absolute error\n",
    "val_predictions = iowa_model.predict(val_X)\n",
    "val_mae = mean_absolute_error(val_predictions, val_y)\n",
    "print(\"Validation MAE when not specifying max_leaf_nodes: {:,.0f}\".format(val_mae))\n",
    "\n",
    "# Using best value for max_leaf_nodes\n",
    "iowa_model = DecisionTreeRegressor(max_leaf_nodes=100, random_state=1)\n",
    "iowa_model.fit(train_X, train_y)\n",
    "val_predictions = iowa_model.predict(val_X)\n",
    "val_mae = mean_absolute_error(val_predictions, val_y)\n",
    "print(\"Validation MAE for best value of max_leaf_nodes: {:,.0f}\".format(val_mae))\n",
    "\n",
    "\n",
    "# Set up code checking\n",
    "from learntools.core import binder\n",
    "binder.bind(globals())\n",
    "from learntools.machine_learning.ex6 import *\n",
    "print(\"\\nSetup complete\")"
   ]
  },
  {
   "cell_type": "markdown",
   "id": "aae1fa88",
   "metadata": {
    "papermill": {
     "duration": 0.006823,
     "end_time": "2021-08-30T10:07:03.649648",
     "exception": false,
     "start_time": "2021-08-30T10:07:03.642825",
     "status": "completed"
    },
    "tags": []
   },
   "source": [
    "# Exercises\n",
    "Data science isn't always this easy. But replacing the decision tree with a Random Forest is going to be an easy win."
   ]
  },
  {
   "cell_type": "markdown",
   "id": "c3b9570c",
   "metadata": {
    "papermill": {
     "duration": 0.006729,
     "end_time": "2021-08-30T10:07:03.663509",
     "exception": false,
     "start_time": "2021-08-30T10:07:03.656780",
     "status": "completed"
    },
    "tags": []
   },
   "source": [
    "## Step 1: Use a Random Forest"
   ]
  },
  {
   "cell_type": "code",
   "execution_count": 2,
   "id": "02b8b2ad",
   "metadata": {
    "execution": {
     "iopub.execute_input": "2021-08-30T10:07:03.682459Z",
     "iopub.status.busy": "2021-08-30T10:07:03.681767Z",
     "iopub.status.idle": "2021-08-30T10:07:04.242977Z",
     "shell.execute_reply": "2021-08-30T10:07:04.243439Z",
     "shell.execute_reply.started": "2021-08-30T10:06:33.080763Z"
    },
    "papermill": {
     "duration": 0.572384,
     "end_time": "2021-08-30T10:07:04.243658",
     "exception": false,
     "start_time": "2021-08-30T10:07:03.671274",
     "status": "completed"
    },
    "tags": []
   },
   "outputs": [
    {
     "data": {
      "application/javascript": [
       "parent.postMessage({\"jupyterEvent\": \"custom.exercise_interaction\", \"data\": {\"outcomeType\": 1, \"valueTowardsCompletion\": 1.0, \"interactionType\": 1, \"questionType\": 2, \"questionId\": \"1_CheckRfScore\", \"learnToolsVersion\": \"0.3.4\", \"failureMessage\": \"\", \"exceptionClass\": \"\", \"trace\": \"\"}}, \"*\")"
      ],
      "text/plain": [
       "<IPython.core.display.Javascript object>"
      ]
     },
     "metadata": {},
     "output_type": "display_data"
    },
    {
     "data": {
      "text/markdown": [
       "<span style=\"color:#33cc33\">Correct</span>"
      ],
      "text/plain": [
       "Correct"
      ]
     },
     "metadata": {},
     "output_type": "display_data"
    }
   ],
   "source": [
    "from sklearn.ensemble import RandomForestRegressor\n",
    "\n",
    "# Define the model. Set random_state to 1\n",
    "rf_model = RandomForestRegressor('random_state = 1')\n",
    "\n",
    "# fit your model\n",
    "rf_model = RandomForestRegressor()\n",
    "\n",
    "# fit your model\n",
    "rf_model.fit(train_X, train_y)\n",
    "\n",
    "# Calculate the mean absolute error of your Random Forest model on the validation data\n",
    "rf_val_predictions = rf_model.predict(val_X)\n",
    "rf_val_mae = mean_absolute_error(rf_val_predictions, val_y)\n",
    "\n",
    "# Check your answer\n",
    "step_1.check()"
   ]
  },
  {
   "cell_type": "code",
   "execution_count": 3,
   "id": "33a1fcdc",
   "metadata": {
    "execution": {
     "iopub.execute_input": "2021-08-30T10:07:04.263573Z",
     "iopub.status.busy": "2021-08-30T10:07:04.262914Z",
     "iopub.status.idle": "2021-08-30T10:07:04.266756Z",
     "shell.execute_reply": "2021-08-30T10:07:04.267265Z",
     "shell.execute_reply.started": "2021-08-30T10:04:32.398474Z"
    },
    "papermill": {
     "duration": 0.015709,
     "end_time": "2021-08-30T10:07:04.267442",
     "exception": false,
     "start_time": "2021-08-30T10:07:04.251733",
     "status": "completed"
    },
    "tags": []
   },
   "outputs": [],
   "source": [
    "# The lines below will show you a hint or the solution.\n",
    "# step_1.hint() \n",
    "# step_1.solution()\n"
   ]
  },
  {
   "cell_type": "markdown",
   "id": "bea873e0",
   "metadata": {
    "papermill": {
     "duration": 0.007869,
     "end_time": "2021-08-30T10:07:04.283597",
     "exception": false,
     "start_time": "2021-08-30T10:07:04.275728",
     "status": "completed"
    },
    "tags": []
   },
   "source": [
    "So far, you have followed specific instructions at each step of your project. This helped learn key ideas and build your first model, but now you know enough to try things on your own. \n",
    "\n",
    "Machine Learning competitions are a great way to try your own ideas and learn more as you independently navigate a machine learning project. \n",
    "\n",
    "# Keep Going\n",
    "\n",
    "You are ready for **[Machine Learning Competitions](https://www.kaggle.com/alexisbcook/machine-learning-competitions).**\n"
   ]
  },
  {
   "cell_type": "markdown",
   "id": "f6fca96c",
   "metadata": {
    "papermill": {
     "duration": 0.007792,
     "end_time": "2021-08-30T10:07:04.299730",
     "exception": false,
     "start_time": "2021-08-30T10:07:04.291938",
     "status": "completed"
    },
    "tags": []
   },
   "source": [
    "---\n",
    "\n",
    "\n",
    "\n",
    "\n",
    "*Have questions or comments? Visit the [Learn Discussion forum](https://www.kaggle.com/learn-forum/161285) to chat with other Learners.*"
   ]
  }
 ],
 "metadata": {
  "kernelspec": {
   "display_name": "Python 3",
   "language": "python",
   "name": "python3"
  },
  "language_info": {
   "codemirror_mode": {
    "name": "ipython",
    "version": 3
   },
   "file_extension": ".py",
   "mimetype": "text/x-python",
   "name": "python",
   "nbconvert_exporter": "python",
   "pygments_lexer": "ipython3",
   "version": "3.7.10"
  },
  "papermill": {
   "default_parameters": {},
   "duration": 11.778007,
   "end_time": "2021-08-30T10:07:05.672738",
   "environment_variables": {},
   "exception": null,
   "input_path": "__notebook__.ipynb",
   "output_path": "__notebook__.ipynb",
   "parameters": {},
   "start_time": "2021-08-30T10:06:53.894731",
   "version": "2.3.3"
  }
 },
 "nbformat": 4,
 "nbformat_minor": 5
}
