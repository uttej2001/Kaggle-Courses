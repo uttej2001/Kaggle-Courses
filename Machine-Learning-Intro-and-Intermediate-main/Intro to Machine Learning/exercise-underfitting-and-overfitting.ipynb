{
 "cells": [
  {
   "cell_type": "markdown",
   "id": "6536fc82",
   "metadata": {
    "papermill": {
     "duration": 0.011007,
     "end_time": "2021-08-30T10:01:27.698121",
     "exception": false,
     "start_time": "2021-08-30T10:01:27.687114",
     "status": "completed"
    },
    "tags": []
   },
   "source": [
    "**This notebook is an exercise in the [Introduction to Machine Learning](https://www.kaggle.com/learn/intro-to-machine-learning) course.  You can reference the tutorial at [this link](https://www.kaggle.com/dansbecker/underfitting-and-overfitting).**\n",
    "\n",
    "---\n"
   ]
  },
  {
   "cell_type": "markdown",
   "id": "a9c526d4",
   "metadata": {
    "papermill": {
     "duration": 0.009899,
     "end_time": "2021-08-30T10:01:27.718777",
     "exception": false,
     "start_time": "2021-08-30T10:01:27.708878",
     "status": "completed"
    },
    "tags": []
   },
   "source": [
    "## Recap\n",
    "You've built your first model, and now it's time to optimize the size of the tree to make better predictions. Run this cell to set up your coding environment where the previous step left off."
   ]
  },
  {
   "cell_type": "code",
   "execution_count": 1,
   "id": "e4bca4e9",
   "metadata": {
    "execution": {
     "iopub.execute_input": "2021-08-30T10:01:27.743658Z",
     "iopub.status.busy": "2021-08-30T10:01:27.742374Z",
     "iopub.status.idle": "2021-08-30T10:01:29.060370Z",
     "shell.execute_reply": "2021-08-30T10:01:29.061060Z",
     "shell.execute_reply.started": "2021-08-30T09:53:54.763181Z"
    },
    "papermill": {
     "duration": 1.332468,
     "end_time": "2021-08-30T10:01:29.061409",
     "exception": false,
     "start_time": "2021-08-30T10:01:27.728941",
     "status": "completed"
    },
    "tags": []
   },
   "outputs": [
    {
     "name": "stdout",
     "output_type": "stream",
     "text": [
      "Validation MAE: 29,653\n",
      "\n",
      "Setup complete\n"
     ]
    }
   ],
   "source": [
    "# Code you have previously used to load data\n",
    "import pandas as pd\n",
    "from sklearn.metrics import mean_absolute_error\n",
    "from sklearn.model_selection import train_test_split\n",
    "from sklearn.tree import DecisionTreeRegressor\n",
    "\n",
    "\n",
    "# Path of the file to read\n",
    "iowa_file_path = '../input/home-data-for-ml-course/train.csv'\n",
    "\n",
    "home_data = pd.read_csv(iowa_file_path)\n",
    "# Create target object and call it y\n",
    "y = home_data.SalePrice\n",
    "# Create X\n",
    "features = ['LotArea', 'YearBuilt', '1stFlrSF', '2ndFlrSF', 'FullBath', 'BedroomAbvGr', 'TotRmsAbvGrd']\n",
    "X = home_data[features]\n",
    "\n",
    "# Split into validation and training data\n",
    "train_X, val_X, train_y, val_y = train_test_split(X, y, random_state=1)\n",
    "\n",
    "# Specify Model\n",
    "iowa_model = DecisionTreeRegressor(random_state=1)\n",
    "# Fit Model\n",
    "iowa_model.fit(train_X, train_y)\n",
    "\n",
    "# Make validation predictions and calculate mean absolute error\n",
    "val_predictions = iowa_model.predict(val_X)\n",
    "val_mae = mean_absolute_error(val_predictions, val_y)\n",
    "print(\"Validation MAE: {:,.0f}\".format(val_mae))\n",
    "\n",
    "# Set up code checking\n",
    "from learntools.core import binder\n",
    "binder.bind(globals())\n",
    "from learntools.machine_learning.ex5 import *\n",
    "print(\"\\nSetup complete\")"
   ]
  },
  {
   "cell_type": "markdown",
   "id": "4a67618e",
   "metadata": {
    "papermill": {
     "duration": 0.009669,
     "end_time": "2021-08-30T10:01:29.081716",
     "exception": false,
     "start_time": "2021-08-30T10:01:29.072047",
     "status": "completed"
    },
    "tags": []
   },
   "source": [
    "# Exercises\n",
    "You could write the function `get_mae` yourself. For now, we'll supply it. This is the same function you read about in the previous lesson. Just run the cell below."
   ]
  },
  {
   "cell_type": "code",
   "execution_count": 2,
   "id": "d0a377b1",
   "metadata": {
    "execution": {
     "iopub.execute_input": "2021-08-30T10:01:29.108821Z",
     "iopub.status.busy": "2021-08-30T10:01:29.108151Z",
     "iopub.status.idle": "2021-08-30T10:01:29.110114Z",
     "shell.execute_reply": "2021-08-30T10:01:29.110691Z",
     "shell.execute_reply.started": "2021-08-30T09:54:01.708085Z"
    },
    "papermill": {
     "duration": 0.019171,
     "end_time": "2021-08-30T10:01:29.110881",
     "exception": false,
     "start_time": "2021-08-30T10:01:29.091710",
     "status": "completed"
    },
    "tags": []
   },
   "outputs": [],
   "source": [
    "def get_mae(max_leaf_nodes, train_X, val_X, train_y, val_y):\n",
    "    model = DecisionTreeRegressor(max_leaf_nodes=max_leaf_nodes, random_state=0)\n",
    "    model.fit(train_X, train_y)\n",
    "    preds_val = model.predict(val_X)\n",
    "    mae = mean_absolute_error(val_y, preds_val)\n",
    "    return(mae)"
   ]
  },
  {
   "cell_type": "markdown",
   "id": "71877e0d",
   "metadata": {
    "papermill": {
     "duration": 0.009658,
     "end_time": "2021-08-30T10:01:29.130858",
     "exception": false,
     "start_time": "2021-08-30T10:01:29.121200",
     "status": "completed"
    },
    "tags": []
   },
   "source": [
    "## Step 1: Compare Different Tree Sizes\n",
    "Write a loop that tries the following values for *max_leaf_nodes* from a set of possible values.\n",
    "\n",
    "Call the *get_mae* function on each value of max_leaf_nodes. Store the output in some way that allows you to select the value of `max_leaf_nodes` that gives the most accurate model on your data."
   ]
  },
  {
   "cell_type": "code",
   "execution_count": 3,
   "id": "58eb31dc",
   "metadata": {
    "execution": {
     "iopub.execute_input": "2021-08-30T10:01:29.154406Z",
     "iopub.status.busy": "2021-08-30T10:01:29.153717Z",
     "iopub.status.idle": "2021-08-30T10:01:29.208893Z",
     "shell.execute_reply": "2021-08-30T10:01:29.209514Z",
     "shell.execute_reply.started": "2021-08-30T09:58:32.776592Z"
    },
    "papermill": {
     "duration": 0.06872,
     "end_time": "2021-08-30T10:01:29.209705",
     "exception": false,
     "start_time": "2021-08-30T10:01:29.140985",
     "status": "completed"
    },
    "tags": []
   },
   "outputs": [
    {
     "data": {
      "application/javascript": [
       "parent.postMessage({\"jupyterEvent\": \"custom.exercise_interaction\", \"data\": {\"outcomeType\": 1, \"valueTowardsCompletion\": 0.5, \"interactionType\": 1, \"questionType\": 1, \"questionId\": \"1_BestTreeSize\", \"learnToolsVersion\": \"0.3.4\", \"failureMessage\": \"\", \"exceptionClass\": \"\", \"trace\": \"\"}}, \"*\")"
      ],
      "text/plain": [
       "<IPython.core.display.Javascript object>"
      ]
     },
     "metadata": {},
     "output_type": "display_data"
    },
    {
     "data": {
      "text/markdown": [
       "<span style=\"color:#33cc33\">Correct</span>"
      ],
      "text/plain": [
       "Correct"
      ]
     },
     "metadata": {},
     "output_type": "display_data"
    }
   ],
   "source": [
    "candidate_max_leaf_nodes = [5, 25, 50, 100, 250, 500]\n",
    "# Write loop to find the ideal tree size from candidate_max_leaf_nodes\n",
    "\n",
    "scores = {leaf_size: get_mae(leaf_size, train_X, val_X, train_y, val_y) for leaf_size in candidate_max_leaf_nodes}\n",
    "# Store the best value of max_leaf_nodes (it will be either 5, 25, 50, 100, 250 or 500)\n",
    "best_tree_size = min(scores, key=scores.get)\n",
    "\n",
    "# Check your answer\n",
    "step_1.check()"
   ]
  },
  {
   "cell_type": "code",
   "execution_count": 4,
   "id": "24b3d497",
   "metadata": {
    "execution": {
     "iopub.execute_input": "2021-08-30T10:01:29.235826Z",
     "iopub.status.busy": "2021-08-30T10:01:29.235191Z",
     "iopub.status.idle": "2021-08-30T10:01:29.238316Z",
     "shell.execute_reply": "2021-08-30T10:01:29.238882Z",
     "shell.execute_reply.started": "2021-08-30T09:57:38.851323Z"
    },
    "papermill": {
     "duration": 0.018387,
     "end_time": "2021-08-30T10:01:29.239105",
     "exception": false,
     "start_time": "2021-08-30T10:01:29.220718",
     "status": "completed"
    },
    "tags": []
   },
   "outputs": [],
   "source": [
    "# The lines below will show you a hint or the solution.\n",
    "# step_1.hint() \n",
    "# step_1.solution()"
   ]
  },
  {
   "cell_type": "markdown",
   "id": "e2e26ed3",
   "metadata": {
    "papermill": {
     "duration": 0.010761,
     "end_time": "2021-08-30T10:01:29.261494",
     "exception": false,
     "start_time": "2021-08-30T10:01:29.250733",
     "status": "completed"
    },
    "tags": []
   },
   "source": [
    "## Step 2: Fit Model Using All Data\n",
    "You know the best tree size. If you were going to deploy this model in practice, you would make it even more accurate by using all of the data and keeping that tree size.  That is, you don't need to hold out the validation data now that you've made all your modeling decisions."
   ]
  },
  {
   "cell_type": "code",
   "execution_count": 5,
   "id": "87430058",
   "metadata": {
    "execution": {
     "iopub.execute_input": "2021-08-30T10:01:29.286792Z",
     "iopub.status.busy": "2021-08-30T10:01:29.286120Z",
     "iopub.status.idle": "2021-08-30T10:01:29.303655Z",
     "shell.execute_reply": "2021-08-30T10:01:29.303114Z",
     "shell.execute_reply.started": "2021-08-30T10:01:01.400065Z"
    },
    "papermill": {
     "duration": 0.031276,
     "end_time": "2021-08-30T10:01:29.303816",
     "exception": false,
     "start_time": "2021-08-30T10:01:29.272540",
     "status": "completed"
    },
    "tags": []
   },
   "outputs": [
    {
     "data": {
      "application/javascript": [
       "parent.postMessage({\"jupyterEvent\": \"custom.exercise_interaction\", \"data\": {\"outcomeType\": 1, \"valueTowardsCompletion\": 0.5, \"interactionType\": 1, \"questionType\": 2, \"questionId\": \"2_FitModelWithAllData\", \"learnToolsVersion\": \"0.3.4\", \"failureMessage\": \"\", \"exceptionClass\": \"\", \"trace\": \"\"}}, \"*\")"
      ],
      "text/plain": [
       "<IPython.core.display.Javascript object>"
      ]
     },
     "metadata": {},
     "output_type": "display_data"
    },
    {
     "data": {
      "text/markdown": [
       "<span style=\"color:#33cc33\">Correct</span>"
      ],
      "text/plain": [
       "Correct"
      ]
     },
     "metadata": {},
     "output_type": "display_data"
    }
   ],
   "source": [
    "# Fill in argument to make optimal size and uncomment\n",
    "final_model = DecisionTreeRegressor(max_leaf_nodes=best_tree_size, random_state=1)\n",
    "\n",
    "# fit the final model and uncomment the next two lines\n",
    "final_model.fit(X, y)\n",
    "\n",
    "# Check your answer\n",
    "step_2.check()"
   ]
  },
  {
   "cell_type": "code",
   "execution_count": 6,
   "id": "eb3abd0f",
   "metadata": {
    "execution": {
     "iopub.execute_input": "2021-08-30T10:01:29.332372Z",
     "iopub.status.busy": "2021-08-30T10:01:29.331704Z",
     "iopub.status.idle": "2021-08-30T10:01:29.333612Z",
     "shell.execute_reply": "2021-08-30T10:01:29.334206Z",
     "shell.execute_reply.started": "2021-08-30T10:00:26.202428Z"
    },
    "papermill": {
     "duration": 0.018368,
     "end_time": "2021-08-30T10:01:29.334395",
     "exception": false,
     "start_time": "2021-08-30T10:01:29.316027",
     "status": "completed"
    },
    "tags": []
   },
   "outputs": [],
   "source": [
    "# step_2.hint()\n",
    "# step_2.solution()"
   ]
  },
  {
   "cell_type": "markdown",
   "id": "a2142fe2",
   "metadata": {
    "papermill": {
     "duration": 0.01136,
     "end_time": "2021-08-30T10:01:29.357638",
     "exception": false,
     "start_time": "2021-08-30T10:01:29.346278",
     "status": "completed"
    },
    "tags": []
   },
   "source": [
    "You've tuned this model and improved your results. But we are still using Decision Tree models, which are not very sophisticated by modern machine learning standards. In the next step you will learn to use Random Forests to improve your models even more.\n",
    "\n",
    "# Keep Going\n",
    "\n",
    "You are ready for **[Random Forests](https://www.kaggle.com/dansbecker/random-forests).**\n"
   ]
  },
  {
   "cell_type": "markdown",
   "id": "8b4376f2",
   "metadata": {
    "papermill": {
     "duration": 0.011253,
     "end_time": "2021-08-30T10:01:29.380618",
     "exception": false,
     "start_time": "2021-08-30T10:01:29.369365",
     "status": "completed"
    },
    "tags": []
   },
   "source": [
    "---\n",
    "\n",
    "\n",
    "\n",
    "\n",
    "*Have questions or comments? Visit the [Learn Discussion forum](https://www.kaggle.com/learn-forum/161285) to chat with other Learners.*"
   ]
  }
 ],
 "metadata": {
  "kernelspec": {
   "display_name": "Python 3",
   "language": "python",
   "name": "python3"
  },
  "language_info": {
   "codemirror_mode": {
    "name": "ipython",
    "version": 3
   },
   "file_extension": ".py",
   "mimetype": "text/x-python",
   "name": "python",
   "nbconvert_exporter": "python",
   "pygments_lexer": "ipython3",
   "version": "3.7.10"
  },
  "papermill": {
   "default_parameters": {},
   "duration": 11.789778,
   "end_time": "2021-08-30T10:01:30.304778",
   "environment_variables": {},
   "exception": null,
   "input_path": "__notebook__.ipynb",
   "output_path": "__notebook__.ipynb",
   "parameters": {},
   "start_time": "2021-08-30T10:01:18.515000",
   "version": "2.3.3"
  }
 },
 "nbformat": 4,
 "nbformat_minor": 5
}
