{
 "cells": [
  {
   "cell_type": "markdown",
   "id": "80a628dd",
   "metadata": {
    "papermill": {
     "duration": 0.022911,
     "end_time": "2021-08-26T12:05:18.868736",
     "exception": false,
     "start_time": "2021-08-26T12:05:18.845825",
     "status": "completed"
    },
    "tags": []
   },
   "source": [
    "**This notebook is an exercise in the [Data Cleaning](https://www.kaggle.com/learn/data-cleaning) course.  You can reference the tutorial at [this link](https://www.kaggle.com/alexisbcook/handling-missing-values).**\n",
    "\n",
    "---\n"
   ]
  },
  {
   "cell_type": "markdown",
   "id": "017285e2",
   "metadata": {
    "papermill": {
     "duration": 0.02045,
     "end_time": "2021-08-26T12:05:18.913132",
     "exception": false,
     "start_time": "2021-08-26T12:05:18.892682",
     "status": "completed"
    },
    "tags": []
   },
   "source": [
    "In this exercise, you'll apply what you learned in the **Handling missing values** tutorial.\n",
    "\n",
    "# Setup\n",
    "\n",
    "The questions below will give you feedback on your work. Run the following cell to set up the feedback system."
   ]
  },
  {
   "cell_type": "code",
   "execution_count": 1,
   "id": "48fd88b9",
   "metadata": {
    "execution": {
     "iopub.execute_input": "2021-08-26T12:05:18.970340Z",
     "iopub.status.busy": "2021-08-26T12:05:18.969656Z",
     "iopub.status.idle": "2021-08-26T12:05:24.436702Z",
     "shell.execute_reply": "2021-08-26T12:05:24.435773Z",
     "shell.execute_reply.started": "2021-08-26T10:53:11.536546Z"
    },
    "papermill": {
     "duration": 5.502315,
     "end_time": "2021-08-26T12:05:24.436916",
     "exception": false,
     "start_time": "2021-08-26T12:05:18.934601",
     "status": "completed"
    },
    "tags": []
   },
   "outputs": [
    {
     "name": "stderr",
     "output_type": "stream",
     "text": [
      "/opt/conda/lib/python3.7/site-packages/IPython/core/interactiveshell.py:3361: DtypeWarning: Columns (22,32) have mixed types.Specify dtype option on import or set low_memory=False.\n",
      "  if (await self.run_code(code, result,  async_=asy)):\n"
     ]
    },
    {
     "name": "stdout",
     "output_type": "stream",
     "text": [
      "Setup Complete\n"
     ]
    }
   ],
   "source": [
    "from learntools.core import binder\n",
    "binder.bind(globals())\n",
    "from learntools.data_cleaning.ex1 import *\n",
    "print(\"Setup Complete\")"
   ]
  },
  {
   "cell_type": "markdown",
   "id": "7487b19b",
   "metadata": {
    "papermill": {
     "duration": 0.022128,
     "end_time": "2021-08-26T12:05:24.481948",
     "exception": false,
     "start_time": "2021-08-26T12:05:24.459820",
     "status": "completed"
    },
    "tags": []
   },
   "source": [
    "# 1) Take a first look at the data\n",
    "\n",
    "Run the next code cell to load in the libraries and dataset you'll use to complete the exercise."
   ]
  },
  {
   "cell_type": "code",
   "execution_count": 2,
   "id": "8d46dd80",
   "metadata": {
    "execution": {
     "iopub.execute_input": "2021-08-26T12:05:24.531603Z",
     "iopub.status.busy": "2021-08-26T12:05:24.530517Z",
     "iopub.status.idle": "2021-08-26T12:05:26.763606Z",
     "shell.execute_reply": "2021-08-26T12:05:26.762694Z",
     "shell.execute_reply.started": "2021-08-26T10:53:36.878132Z"
    },
    "papermill": {
     "duration": 2.259853,
     "end_time": "2021-08-26T12:05:26.763773",
     "exception": false,
     "start_time": "2021-08-26T12:05:24.503920",
     "status": "completed"
    },
    "tags": []
   },
   "outputs": [
    {
     "name": "stderr",
     "output_type": "stream",
     "text": [
      "/opt/conda/lib/python3.7/site-packages/IPython/core/interactiveshell.py:3170: DtypeWarning: Columns (22,32) have mixed types.Specify dtype option on import or set low_memory=False.\n",
      "  interactivity=interactivity, compiler=compiler, result=result)\n"
     ]
    }
   ],
   "source": [
    "# modules we'll use\n",
    "import pandas as pd\n",
    "import numpy as np\n",
    "\n",
    "# read in all our data\n",
    "sf_permits = pd.read_csv(\"../input/building-permit-applications-data/Building_Permits.csv\")\n",
    "\n",
    "# set seed for reproducibility\n",
    "np.random.seed(0) "
   ]
  },
  {
   "cell_type": "markdown",
   "id": "58d158d0",
   "metadata": {
    "papermill": {
     "duration": 0.021786,
     "end_time": "2021-08-26T12:05:26.808237",
     "exception": false,
     "start_time": "2021-08-26T12:05:26.786451",
     "status": "completed"
    },
    "tags": []
   },
   "source": [
    "Use the code cell below to print the first five rows of the `sf_permits` DataFrame."
   ]
  },
  {
   "cell_type": "code",
   "execution_count": 3,
   "id": "7acc82cb",
   "metadata": {
    "execution": {
     "iopub.execute_input": "2021-08-26T12:05:26.863143Z",
     "iopub.status.busy": "2021-08-26T12:05:26.861579Z",
     "iopub.status.idle": "2021-08-26T12:05:26.901483Z",
     "shell.execute_reply": "2021-08-26T12:05:26.900776Z",
     "shell.execute_reply.started": "2021-08-26T10:54:30.285945Z"
    },
    "papermill": {
     "duration": 0.072136,
     "end_time": "2021-08-26T12:05:26.901633",
     "exception": false,
     "start_time": "2021-08-26T12:05:26.829497",
     "status": "completed"
    },
    "tags": []
   },
   "outputs": [
    {
     "data": {
      "text/html": [
       "<div>\n",
       "<style scoped>\n",
       "    .dataframe tbody tr th:only-of-type {\n",
       "        vertical-align: middle;\n",
       "    }\n",
       "\n",
       "    .dataframe tbody tr th {\n",
       "        vertical-align: top;\n",
       "    }\n",
       "\n",
       "    .dataframe thead th {\n",
       "        text-align: right;\n",
       "    }\n",
       "</style>\n",
       "<table border=\"1\" class=\"dataframe\">\n",
       "  <thead>\n",
       "    <tr style=\"text-align: right;\">\n",
       "      <th></th>\n",
       "      <th>Permit Number</th>\n",
       "      <th>Permit Type</th>\n",
       "      <th>Permit Type Definition</th>\n",
       "      <th>Permit Creation Date</th>\n",
       "      <th>Block</th>\n",
       "      <th>Lot</th>\n",
       "      <th>Street Number</th>\n",
       "      <th>Street Number Suffix</th>\n",
       "      <th>Street Name</th>\n",
       "      <th>Street Suffix</th>\n",
       "      <th>...</th>\n",
       "      <th>Existing Construction Type</th>\n",
       "      <th>Existing Construction Type Description</th>\n",
       "      <th>Proposed Construction Type</th>\n",
       "      <th>Proposed Construction Type Description</th>\n",
       "      <th>Site Permit</th>\n",
       "      <th>Supervisor District</th>\n",
       "      <th>Neighborhoods - Analysis Boundaries</th>\n",
       "      <th>Zipcode</th>\n",
       "      <th>Location</th>\n",
       "      <th>Record ID</th>\n",
       "    </tr>\n",
       "  </thead>\n",
       "  <tbody>\n",
       "    <tr>\n",
       "      <th>0</th>\n",
       "      <td>201505065519</td>\n",
       "      <td>4</td>\n",
       "      <td>sign - erect</td>\n",
       "      <td>05/06/2015</td>\n",
       "      <td>0326</td>\n",
       "      <td>023</td>\n",
       "      <td>140</td>\n",
       "      <td>NaN</td>\n",
       "      <td>Ellis</td>\n",
       "      <td>St</td>\n",
       "      <td>...</td>\n",
       "      <td>3.0</td>\n",
       "      <td>constr type 3</td>\n",
       "      <td>NaN</td>\n",
       "      <td>NaN</td>\n",
       "      <td>NaN</td>\n",
       "      <td>3.0</td>\n",
       "      <td>Tenderloin</td>\n",
       "      <td>94102.0</td>\n",
       "      <td>(37.785719256680785, -122.40852313194863)</td>\n",
       "      <td>1380611233945</td>\n",
       "    </tr>\n",
       "    <tr>\n",
       "      <th>1</th>\n",
       "      <td>201604195146</td>\n",
       "      <td>4</td>\n",
       "      <td>sign - erect</td>\n",
       "      <td>04/19/2016</td>\n",
       "      <td>0306</td>\n",
       "      <td>007</td>\n",
       "      <td>440</td>\n",
       "      <td>NaN</td>\n",
       "      <td>Geary</td>\n",
       "      <td>St</td>\n",
       "      <td>...</td>\n",
       "      <td>3.0</td>\n",
       "      <td>constr type 3</td>\n",
       "      <td>NaN</td>\n",
       "      <td>NaN</td>\n",
       "      <td>NaN</td>\n",
       "      <td>3.0</td>\n",
       "      <td>Tenderloin</td>\n",
       "      <td>94102.0</td>\n",
       "      <td>(37.78733980600732, -122.41063199757738)</td>\n",
       "      <td>1420164406718</td>\n",
       "    </tr>\n",
       "    <tr>\n",
       "      <th>2</th>\n",
       "      <td>201605278609</td>\n",
       "      <td>3</td>\n",
       "      <td>additions alterations or repairs</td>\n",
       "      <td>05/27/2016</td>\n",
       "      <td>0595</td>\n",
       "      <td>203</td>\n",
       "      <td>1647</td>\n",
       "      <td>NaN</td>\n",
       "      <td>Pacific</td>\n",
       "      <td>Av</td>\n",
       "      <td>...</td>\n",
       "      <td>1.0</td>\n",
       "      <td>constr type 1</td>\n",
       "      <td>1.0</td>\n",
       "      <td>constr type 1</td>\n",
       "      <td>NaN</td>\n",
       "      <td>3.0</td>\n",
       "      <td>Russian Hill</td>\n",
       "      <td>94109.0</td>\n",
       "      <td>(37.7946573324287, -122.42232562979227)</td>\n",
       "      <td>1424856504716</td>\n",
       "    </tr>\n",
       "    <tr>\n",
       "      <th>3</th>\n",
       "      <td>201611072166</td>\n",
       "      <td>8</td>\n",
       "      <td>otc alterations permit</td>\n",
       "      <td>11/07/2016</td>\n",
       "      <td>0156</td>\n",
       "      <td>011</td>\n",
       "      <td>1230</td>\n",
       "      <td>NaN</td>\n",
       "      <td>Pacific</td>\n",
       "      <td>Av</td>\n",
       "      <td>...</td>\n",
       "      <td>5.0</td>\n",
       "      <td>wood frame (5)</td>\n",
       "      <td>5.0</td>\n",
       "      <td>wood frame (5)</td>\n",
       "      <td>NaN</td>\n",
       "      <td>3.0</td>\n",
       "      <td>Nob Hill</td>\n",
       "      <td>94109.0</td>\n",
       "      <td>(37.79595867909168, -122.41557405519474)</td>\n",
       "      <td>1443574295566</td>\n",
       "    </tr>\n",
       "    <tr>\n",
       "      <th>4</th>\n",
       "      <td>201611283529</td>\n",
       "      <td>6</td>\n",
       "      <td>demolitions</td>\n",
       "      <td>11/28/2016</td>\n",
       "      <td>0342</td>\n",
       "      <td>001</td>\n",
       "      <td>950</td>\n",
       "      <td>NaN</td>\n",
       "      <td>Market</td>\n",
       "      <td>St</td>\n",
       "      <td>...</td>\n",
       "      <td>3.0</td>\n",
       "      <td>constr type 3</td>\n",
       "      <td>NaN</td>\n",
       "      <td>NaN</td>\n",
       "      <td>NaN</td>\n",
       "      <td>6.0</td>\n",
       "      <td>Tenderloin</td>\n",
       "      <td>94102.0</td>\n",
       "      <td>(37.78315261897309, -122.40950883997789)</td>\n",
       "      <td>144548169992</td>\n",
       "    </tr>\n",
       "  </tbody>\n",
       "</table>\n",
       "<p>5 rows × 43 columns</p>\n",
       "</div>"
      ],
      "text/plain": [
       "  Permit Number  Permit Type            Permit Type Definition  \\\n",
       "0  201505065519            4                      sign - erect   \n",
       "1  201604195146            4                      sign - erect   \n",
       "2  201605278609            3  additions alterations or repairs   \n",
       "3  201611072166            8            otc alterations permit   \n",
       "4  201611283529            6                       demolitions   \n",
       "\n",
       "  Permit Creation Date Block  Lot  Street Number Street Number Suffix  \\\n",
       "0           05/06/2015  0326  023            140                  NaN   \n",
       "1           04/19/2016  0306  007            440                  NaN   \n",
       "2           05/27/2016  0595  203           1647                  NaN   \n",
       "3           11/07/2016  0156  011           1230                  NaN   \n",
       "4           11/28/2016  0342  001            950                  NaN   \n",
       "\n",
       "  Street Name Street Suffix  ...  Existing Construction Type  \\\n",
       "0       Ellis            St  ...                         3.0   \n",
       "1       Geary            St  ...                         3.0   \n",
       "2     Pacific            Av  ...                         1.0   \n",
       "3     Pacific            Av  ...                         5.0   \n",
       "4      Market            St  ...                         3.0   \n",
       "\n",
       "  Existing Construction Type Description Proposed Construction Type  \\\n",
       "0                          constr type 3                        NaN   \n",
       "1                          constr type 3                        NaN   \n",
       "2                          constr type 1                        1.0   \n",
       "3                         wood frame (5)                        5.0   \n",
       "4                          constr type 3                        NaN   \n",
       "\n",
       "  Proposed Construction Type Description Site Permit Supervisor District  \\\n",
       "0                                    NaN         NaN                 3.0   \n",
       "1                                    NaN         NaN                 3.0   \n",
       "2                          constr type 1         NaN                 3.0   \n",
       "3                         wood frame (5)         NaN                 3.0   \n",
       "4                                    NaN         NaN                 6.0   \n",
       "\n",
       "  Neighborhoods - Analysis Boundaries  Zipcode  \\\n",
       "0                          Tenderloin  94102.0   \n",
       "1                          Tenderloin  94102.0   \n",
       "2                        Russian Hill  94109.0   \n",
       "3                            Nob Hill  94109.0   \n",
       "4                          Tenderloin  94102.0   \n",
       "\n",
       "                                    Location      Record ID  \n",
       "0  (37.785719256680785, -122.40852313194863)  1380611233945  \n",
       "1   (37.78733980600732, -122.41063199757738)  1420164406718  \n",
       "2    (37.7946573324287, -122.42232562979227)  1424856504716  \n",
       "3   (37.79595867909168, -122.41557405519474)  1443574295566  \n",
       "4   (37.78315261897309, -122.40950883997789)   144548169992  \n",
       "\n",
       "[5 rows x 43 columns]"
      ]
     },
     "execution_count": 3,
     "metadata": {},
     "output_type": "execute_result"
    }
   ],
   "source": [
    "# TODO: Your code here!\n",
    "sf_permits.head(5)"
   ]
  },
  {
   "cell_type": "markdown",
   "id": "b768ff9a",
   "metadata": {
    "papermill": {
     "duration": 0.020931,
     "end_time": "2021-08-26T12:05:26.945029",
     "exception": false,
     "start_time": "2021-08-26T12:05:26.924098",
     "status": "completed"
    },
    "tags": []
   },
   "source": [
    "Does the dataset have any missing values?  Once you have an answer, run the code cell below to get credit for your work."
   ]
  },
  {
   "cell_type": "code",
   "execution_count": 4,
   "id": "f1a5f6e2",
   "metadata": {
    "execution": {
     "iopub.execute_input": "2021-08-26T12:05:26.997133Z",
     "iopub.status.busy": "2021-08-26T12:05:26.996114Z",
     "iopub.status.idle": "2021-08-26T12:05:27.004000Z",
     "shell.execute_reply": "2021-08-26T12:05:27.003278Z",
     "shell.execute_reply.started": "2021-08-26T10:55:13.882859Z"
    },
    "papermill": {
     "duration": 0.036731,
     "end_time": "2021-08-26T12:05:27.004172",
     "exception": false,
     "start_time": "2021-08-26T12:05:26.967441",
     "status": "completed"
    },
    "tags": []
   },
   "outputs": [
    {
     "data": {
      "application/javascript": [
       "parent.postMessage({\"jupyterEvent\": \"custom.exercise_interaction\", \"data\": {\"outcomeType\": 1, \"valueTowardsCompletion\": 0.16666666666666666, \"interactionType\": 1, \"questionType\": 4, \"questionId\": \"1_TakeFirstLook\", \"learnToolsVersion\": \"0.3.4\", \"failureMessage\": \"\", \"exceptionClass\": \"\", \"trace\": \"\"}}, \"*\")"
      ],
      "text/plain": [
       "<IPython.core.display.Javascript object>"
      ]
     },
     "metadata": {},
     "output_type": "display_data"
    },
    {
     "data": {
      "text/markdown": [
       "<span style=\"color:#33cc33\">Correct:</span> \n",
       "\n",
       "The first five rows of the data does show that several columns have missing values.  You can see this in the \"Street Number Suffix\", \"Proposed Construction Type\" and \"Site Permit\" columns, among others."
      ],
      "text/plain": [
       "Correct: \n",
       "\n",
       "The first five rows of the data does show that several columns have missing values.  You can see this in the \"Street Number Suffix\", \"Proposed Construction Type\" and \"Site Permit\" columns, among others."
      ]
     },
     "metadata": {},
     "output_type": "display_data"
    }
   ],
   "source": [
    "# Check your answer (Run this code cell to receive credit!)\n",
    "q1.check()"
   ]
  },
  {
   "cell_type": "code",
   "execution_count": 5,
   "id": "dbde1336",
   "metadata": {
    "execution": {
     "iopub.execute_input": "2021-08-26T12:05:27.055753Z",
     "iopub.status.busy": "2021-08-26T12:05:27.054446Z",
     "iopub.status.idle": "2021-08-26T12:05:27.059305Z",
     "shell.execute_reply": "2021-08-26T12:05:27.058017Z",
     "shell.execute_reply.started": "2021-08-26T10:55:30.200657Z"
    },
    "papermill": {
     "duration": 0.031692,
     "end_time": "2021-08-26T12:05:27.059540",
     "exception": false,
     "start_time": "2021-08-26T12:05:27.027848",
     "status": "completed"
    },
    "tags": []
   },
   "outputs": [],
   "source": [
    "# Line below will give you a hint\n",
    "#q1.hint()"
   ]
  },
  {
   "cell_type": "markdown",
   "id": "7c5ca2d9",
   "metadata": {
    "papermill": {
     "duration": 0.02465,
     "end_time": "2021-08-26T12:05:27.108541",
     "exception": false,
     "start_time": "2021-08-26T12:05:27.083891",
     "status": "completed"
    },
    "tags": []
   },
   "source": [
    "# 2) How many missing data points do we have?\n",
    "\n",
    "What percentage of the values in the dataset are missing?  Your answer should be a number between 0 and 100.  (If 1/4 of the values in the dataset are missing, the answer is 25.)"
   ]
  },
  {
   "cell_type": "code",
   "execution_count": 6,
   "id": "1d7c918b",
   "metadata": {
    "execution": {
     "iopub.execute_input": "2021-08-26T12:05:27.162809Z",
     "iopub.status.busy": "2021-08-26T12:05:27.162072Z",
     "iopub.status.idle": "2021-08-26T12:05:27.648074Z",
     "shell.execute_reply": "2021-08-26T12:05:27.648704Z",
     "shell.execute_reply.started": "2021-08-26T10:58:47.75351Z"
    },
    "papermill": {
     "duration": 0.517434,
     "end_time": "2021-08-26T12:05:27.648919",
     "exception": false,
     "start_time": "2021-08-26T12:05:27.131485",
     "status": "completed"
    },
    "tags": []
   },
   "outputs": [
    {
     "name": "stdout",
     "output_type": "stream",
     "text": [
      "26.26002315058403\n"
     ]
    },
    {
     "data": {
      "application/javascript": [
       "parent.postMessage({\"jupyterEvent\": \"custom.exercise_interaction\", \"data\": {\"outcomeType\": 1, \"valueTowardsCompletion\": 0.16666666666666666, \"interactionType\": 1, \"questionType\": 1, \"questionId\": \"2_PercentMissingValues\", \"learnToolsVersion\": \"0.3.4\", \"failureMessage\": \"\", \"exceptionClass\": \"\", \"trace\": \"\"}}, \"*\")"
      ],
      "text/plain": [
       "<IPython.core.display.Javascript object>"
      ]
     },
     "metadata": {},
     "output_type": "display_data"
    },
    {
     "data": {
      "text/markdown": [
       "<span style=\"color:#33cc33\">Correct</span>"
      ],
      "text/plain": [
       "Correct"
      ]
     },
     "metadata": {},
     "output_type": "display_data"
    }
   ],
   "source": [
    "# TODO: Your code here!\n",
    "missing_values_count = sf_permits.isnull().sum()\n",
    "total_cells = np.product(sf_permits.shape)\n",
    "total_missing = missing_values_count.sum()\n",
    "\n",
    "# percent of data that is missing\n",
    "percent_missing = (total_missing/total_cells) * 100\n",
    "print(percent_missing)\n",
    "\n",
    "# Check your answer\n",
    "q2.check()"
   ]
  },
  {
   "cell_type": "code",
   "execution_count": 7,
   "id": "2c4270ef",
   "metadata": {
    "execution": {
     "iopub.execute_input": "2021-08-26T12:05:27.704626Z",
     "iopub.status.busy": "2021-08-26T12:05:27.703662Z",
     "iopub.status.idle": "2021-08-26T12:05:27.706113Z",
     "shell.execute_reply": "2021-08-26T12:05:27.706653Z"
    },
    "papermill": {
     "duration": 0.031936,
     "end_time": "2021-08-26T12:05:27.706831",
     "exception": false,
     "start_time": "2021-08-26T12:05:27.674895",
     "status": "completed"
    },
    "tags": []
   },
   "outputs": [],
   "source": [
    "# Lines below will give you a hint or solution code\n",
    "#q2.hint()\n",
    "#q2.solution()"
   ]
  },
  {
   "cell_type": "markdown",
   "id": "0a12c151",
   "metadata": {
    "papermill": {
     "duration": 0.025054,
     "end_time": "2021-08-26T12:05:27.760760",
     "exception": false,
     "start_time": "2021-08-26T12:05:27.735706",
     "status": "completed"
    },
    "tags": []
   },
   "source": [
    "# 3) Figure out why the data is missing\n",
    "\n",
    "Look at the columns **\"Street Number Suffix\"** and **\"Zipcode\"** from the [San Francisco Building Permits dataset](https://www.kaggle.com/aparnashastry/building-permit-applications-data). Both of these contain missing values. \n",
    "- Which, if either, are missing because they don't exist? \n",
    "- Which, if either, are missing because they weren't recorded?  \n",
    "\n",
    "Once you have an answer, run the code cell below."
   ]
  },
  {
   "cell_type": "code",
   "execution_count": 8,
   "id": "2efd56a4",
   "metadata": {
    "execution": {
     "iopub.execute_input": "2021-08-26T12:05:27.813723Z",
     "iopub.status.busy": "2021-08-26T12:05:27.813086Z",
     "iopub.status.idle": "2021-08-26T12:05:27.821166Z",
     "shell.execute_reply": "2021-08-26T12:05:27.820294Z",
     "shell.execute_reply.started": "2021-08-26T10:59:31.764782Z"
    },
    "papermill": {
     "duration": 0.035414,
     "end_time": "2021-08-26T12:05:27.821350",
     "exception": false,
     "start_time": "2021-08-26T12:05:27.785936",
     "status": "completed"
    },
    "tags": []
   },
   "outputs": [
    {
     "data": {
      "application/javascript": [
       "parent.postMessage({\"jupyterEvent\": \"custom.exercise_interaction\", \"data\": {\"outcomeType\": 1, \"valueTowardsCompletion\": 0.16666666666666666, \"interactionType\": 1, \"questionType\": 4, \"questionId\": \"3_WhyDataMissing\", \"learnToolsVersion\": \"0.3.4\", \"failureMessage\": \"\", \"exceptionClass\": \"\", \"trace\": \"\"}}, \"*\")"
      ],
      "text/plain": [
       "<IPython.core.display.Javascript object>"
      ]
     },
     "metadata": {},
     "output_type": "display_data"
    },
    {
     "data": {
      "text/markdown": [
       "<span style=\"color:#33cc33\">Correct:</span> \n",
       "\n",
       "If a value in the \"Street Number Suffix\" column is missing, it is likely because it does not exist. If a value in the \"Zipcode\" column is missing, it was not recorded."
      ],
      "text/plain": [
       "Correct: \n",
       "\n",
       "If a value in the \"Street Number Suffix\" column is missing, it is likely because it does not exist. If a value in the \"Zipcode\" column is missing, it was not recorded."
      ]
     },
     "metadata": {},
     "output_type": "display_data"
    }
   ],
   "source": [
    "# Check your answer (Run this code cell to receive credit!)\n",
    "q3.check()"
   ]
  },
  {
   "cell_type": "code",
   "execution_count": 9,
   "id": "086d9280",
   "metadata": {
    "execution": {
     "iopub.execute_input": "2021-08-26T12:05:27.880597Z",
     "iopub.status.busy": "2021-08-26T12:05:27.879891Z",
     "iopub.status.idle": "2021-08-26T12:05:27.883116Z",
     "shell.execute_reply": "2021-08-26T12:05:27.882578Z"
    },
    "papermill": {
     "duration": 0.034509,
     "end_time": "2021-08-26T12:05:27.883277",
     "exception": false,
     "start_time": "2021-08-26T12:05:27.848768",
     "status": "completed"
    },
    "tags": []
   },
   "outputs": [],
   "source": [
    "# Line below will give you a hint\n",
    "#q3.hint()"
   ]
  },
  {
   "cell_type": "markdown",
   "id": "6d26377c",
   "metadata": {
    "papermill": {
     "duration": 0.026156,
     "end_time": "2021-08-26T12:05:27.934824",
     "exception": false,
     "start_time": "2021-08-26T12:05:27.908668",
     "status": "completed"
    },
    "tags": []
   },
   "source": [
    "# 4) Drop missing values: rows\n",
    "\n",
    "If you removed all of the rows of `sf_permits` with missing values, how many rows are left?\n",
    "\n",
    "**Note**: Do not change the value of `sf_permits` when checking this.  "
   ]
  },
  {
   "cell_type": "code",
   "execution_count": 10,
   "id": "01455fa7",
   "metadata": {
    "execution": {
     "iopub.execute_input": "2021-08-26T12:05:27.992852Z",
     "iopub.status.busy": "2021-08-26T12:05:27.992141Z",
     "iopub.status.idle": "2021-08-26T12:05:28.472063Z",
     "shell.execute_reply": "2021-08-26T12:05:28.470981Z",
     "shell.execute_reply.started": "2021-08-26T11:04:35.670813Z"
    },
    "papermill": {
     "duration": 0.511025,
     "end_time": "2021-08-26T12:05:28.472321",
     "exception": false,
     "start_time": "2021-08-26T12:05:27.961296",
     "status": "completed"
    },
    "tags": []
   },
   "outputs": [
    {
     "name": "stdout",
     "output_type": "stream",
     "text": [
      "Rows in original dataset: 198900 \n",
      "\n",
      "Rows with na's dropped: 0\n"
     ]
    }
   ],
   "source": [
    "# TODO: Your code here!\n",
    "rows_with_na_dropped = sf_permits.dropna()\n",
    "print(\"Rows in original dataset: %d \\n\" % sf_permits.shape[0])\n",
    "print(\"Rows with na's dropped: %d\" % rows_with_na_dropped.shape[0])"
   ]
  },
  {
   "cell_type": "markdown",
   "id": "c98c311e",
   "metadata": {
    "papermill": {
     "duration": 0.025853,
     "end_time": "2021-08-26T12:05:28.526880",
     "exception": false,
     "start_time": "2021-08-26T12:05:28.501027",
     "status": "completed"
    },
    "tags": []
   },
   "source": [
    "Once you have an answer, run the code cell below."
   ]
  },
  {
   "cell_type": "code",
   "execution_count": 11,
   "id": "0d45664c",
   "metadata": {
    "execution": {
     "iopub.execute_input": "2021-08-26T12:05:28.584047Z",
     "iopub.status.busy": "2021-08-26T12:05:28.583356Z",
     "iopub.status.idle": "2021-08-26T12:05:28.589765Z",
     "shell.execute_reply": "2021-08-26T12:05:28.590296Z",
     "shell.execute_reply.started": "2021-08-26T11:04:43.17911Z"
    },
    "papermill": {
     "duration": 0.038134,
     "end_time": "2021-08-26T12:05:28.590473",
     "exception": false,
     "start_time": "2021-08-26T12:05:28.552339",
     "status": "completed"
    },
    "tags": []
   },
   "outputs": [
    {
     "data": {
      "application/javascript": [
       "parent.postMessage({\"jupyterEvent\": \"custom.exercise_interaction\", \"data\": {\"outcomeType\": 1, \"valueTowardsCompletion\": 0.16666666666666666, \"interactionType\": 1, \"questionType\": 4, \"questionId\": \"4_DropMissingRows\", \"learnToolsVersion\": \"0.3.4\", \"failureMessage\": \"\", \"exceptionClass\": \"\", \"trace\": \"\"}}, \"*\")"
      ],
      "text/plain": [
       "<IPython.core.display.Javascript object>"
      ]
     },
     "metadata": {},
     "output_type": "display_data"
    },
    {
     "data": {
      "text/markdown": [
       "<span style=\"color:#33cc33\">Correct:</span> \n",
       "\n",
       "There are no rows remaining in the dataset!"
      ],
      "text/plain": [
       "Correct: \n",
       "\n",
       "There are no rows remaining in the dataset!"
      ]
     },
     "metadata": {},
     "output_type": "display_data"
    }
   ],
   "source": [
    "# Check your answer (Run this code cell to receive credit!)\n",
    "q4.check()"
   ]
  },
  {
   "cell_type": "code",
   "execution_count": 12,
   "id": "a49ab02f",
   "metadata": {
    "execution": {
     "iopub.execute_input": "2021-08-26T12:05:28.650126Z",
     "iopub.status.busy": "2021-08-26T12:05:28.649401Z",
     "iopub.status.idle": "2021-08-26T12:05:28.652662Z",
     "shell.execute_reply": "2021-08-26T12:05:28.652111Z"
    },
    "papermill": {
     "duration": 0.033417,
     "end_time": "2021-08-26T12:05:28.652813",
     "exception": false,
     "start_time": "2021-08-26T12:05:28.619396",
     "status": "completed"
    },
    "tags": []
   },
   "outputs": [],
   "source": [
    "# Line below will give you a hint\n",
    "#q4.hint()"
   ]
  },
  {
   "cell_type": "markdown",
   "id": "3f511ecc",
   "metadata": {
    "papermill": {
     "duration": 0.028007,
     "end_time": "2021-08-26T12:05:28.709178",
     "exception": false,
     "start_time": "2021-08-26T12:05:28.681171",
     "status": "completed"
    },
    "tags": []
   },
   "source": [
    "# 5) Drop missing values: columns\n",
    "\n",
    "Now try removing all the columns with empty values.  \n",
    "- Create a new DataFrame called `sf_permits_with_na_dropped` that has all of the columns with empty values removed.  \n",
    "- How many columns were removed from the original `sf_permits` DataFrame? Use this number to set the value of the `dropped_columns` variable below."
   ]
  },
  {
   "cell_type": "code",
   "execution_count": 13,
   "id": "41618072",
   "metadata": {
    "execution": {
     "iopub.execute_input": "2021-08-26T12:05:28.776888Z",
     "iopub.status.busy": "2021-08-26T12:05:28.775601Z",
     "iopub.status.idle": "2021-08-26T12:05:29.290145Z",
     "shell.execute_reply": "2021-08-26T12:05:29.289506Z",
     "shell.execute_reply.started": "2021-08-26T11:12:52.847717Z"
    },
    "papermill": {
     "duration": 0.551829,
     "end_time": "2021-08-26T12:05:29.290328",
     "exception": false,
     "start_time": "2021-08-26T12:05:28.738499",
     "status": "completed"
    },
    "tags": []
   },
   "outputs": [
    {
     "name": "stdout",
     "output_type": "stream",
     "text": [
      "31\n"
     ]
    },
    {
     "data": {
      "application/javascript": [
       "parent.postMessage({\"jupyterEvent\": \"custom.exercise_interaction\", \"data\": {\"outcomeType\": 1, \"valueTowardsCompletion\": 0.16666666666666666, \"interactionType\": 1, \"questionType\": 1, \"questionId\": \"5_DropMissingCols\", \"learnToolsVersion\": \"0.3.4\", \"failureMessage\": \"\", \"exceptionClass\": \"\", \"trace\": \"\"}}, \"*\")"
      ],
      "text/plain": [
       "<IPython.core.display.Javascript object>"
      ]
     },
     "metadata": {},
     "output_type": "display_data"
    },
    {
     "data": {
      "text/markdown": [
       "<span style=\"color:#33cc33\">Correct</span>"
      ],
      "text/plain": [
       "Correct"
      ]
     },
     "metadata": {},
     "output_type": "display_data"
    }
   ],
   "source": [
    "# TODO: Your code here\n",
    "\n",
    "#dropped_columns = sf_permits_with_na_dropped.shape[1]\n",
    "sf_permits_with_na_dropped = sf_permits.dropna(axis=1)\n",
    "\n",
    "# calculate number of dropped columns\n",
    "cols_in_original_dataset = sf_permits.shape[1]\n",
    "cols_in_na_dropped = sf_permits_with_na_dropped.shape[1]\n",
    "dropped_columns = cols_in_original_dataset - cols_in_na_dropped\n",
    "print(\"%d\" % dropped_columns)\n",
    "# Check your answer\n",
    "q5.check()"
   ]
  },
  {
   "cell_type": "code",
   "execution_count": null,
   "id": "ac678440",
   "metadata": {
    "papermill": {
     "duration": 0.027457,
     "end_time": "2021-08-26T12:05:29.345775",
     "exception": false,
     "start_time": "2021-08-26T12:05:29.318318",
     "status": "completed"
    },
    "tags": []
   },
   "outputs": [],
   "source": []
  },
  {
   "cell_type": "code",
   "execution_count": 14,
   "id": "208b4c00",
   "metadata": {
    "execution": {
     "iopub.execute_input": "2021-08-26T12:05:29.407042Z",
     "iopub.status.busy": "2021-08-26T12:05:29.406302Z",
     "iopub.status.idle": "2021-08-26T12:05:29.408922Z",
     "shell.execute_reply": "2021-08-26T12:05:29.408276Z",
     "shell.execute_reply.started": "2021-08-26T11:13:01.071378Z"
    },
    "papermill": {
     "duration": 0.034176,
     "end_time": "2021-08-26T12:05:29.409064",
     "exception": false,
     "start_time": "2021-08-26T12:05:29.374888",
     "status": "completed"
    },
    "tags": []
   },
   "outputs": [],
   "source": [
    "# Lines below will give you a hint or solution code\n",
    "#q5.hint()\n",
    "#q5.solution()"
   ]
  },
  {
   "cell_type": "markdown",
   "id": "4f36825d",
   "metadata": {
    "papermill": {
     "duration": 0.028737,
     "end_time": "2021-08-26T12:05:29.467689",
     "exception": false,
     "start_time": "2021-08-26T12:05:29.438952",
     "status": "completed"
    },
    "tags": []
   },
   "source": [
    "# 6) Fill in missing values automatically\n",
    "\n",
    "Try replacing all the NaN's in the `sf_permits` data with the one that comes directly after it and then replacing any remaining NaN's with 0.  Set the result to a new DataFrame `sf_permits_with_na_imputed`."
   ]
  },
  {
   "cell_type": "code",
   "execution_count": 15,
   "id": "525d303f",
   "metadata": {
    "execution": {
     "iopub.execute_input": "2021-08-26T12:05:29.531230Z",
     "iopub.status.busy": "2021-08-26T12:05:29.530573Z",
     "iopub.status.idle": "2021-08-26T12:05:30.936695Z",
     "shell.execute_reply": "2021-08-26T12:05:30.936130Z",
     "shell.execute_reply.started": "2021-08-26T11:14:24.619475Z"
    },
    "papermill": {
     "duration": 1.438288,
     "end_time": "2021-08-26T12:05:30.936835",
     "exception": false,
     "start_time": "2021-08-26T12:05:29.498547",
     "status": "completed"
    },
    "tags": []
   },
   "outputs": [
    {
     "data": {
      "application/javascript": [
       "parent.postMessage({\"jupyterEvent\": \"custom.exercise_interaction\", \"data\": {\"outcomeType\": 1, \"valueTowardsCompletion\": 0.16666666666666666, \"interactionType\": 1, \"questionType\": 1, \"questionId\": \"6_ImputeAutomatically\", \"learnToolsVersion\": \"0.3.4\", \"failureMessage\": \"\", \"exceptionClass\": \"\", \"trace\": \"\"}}, \"*\")"
      ],
      "text/plain": [
       "<IPython.core.display.Javascript object>"
      ]
     },
     "metadata": {},
     "output_type": "display_data"
    },
    {
     "data": {
      "text/markdown": [
       "<span style=\"color:#33cc33\">Correct</span>"
      ],
      "text/plain": [
       "Correct"
      ]
     },
     "metadata": {},
     "output_type": "display_data"
    }
   ],
   "source": [
    "# TODO: Your code here\n",
    "sf_permits_with_na_imputed = sf_permits.fillna(method='bfill', axis=0).fillna(0)\n",
    "\n",
    "# Check your answer\n",
    "q6.check()"
   ]
  },
  {
   "cell_type": "code",
   "execution_count": 16,
   "id": "bfd84e83",
   "metadata": {
    "execution": {
     "iopub.execute_input": "2021-08-26T12:05:31.000774Z",
     "iopub.status.busy": "2021-08-26T12:05:30.999557Z",
     "iopub.status.idle": "2021-08-26T12:05:31.002819Z",
     "shell.execute_reply": "2021-08-26T12:05:31.002119Z"
    },
    "papermill": {
     "duration": 0.037249,
     "end_time": "2021-08-26T12:05:31.002970",
     "exception": false,
     "start_time": "2021-08-26T12:05:30.965721",
     "status": "completed"
    },
    "tags": []
   },
   "outputs": [],
   "source": [
    "# Lines below will give you a hint or solution code\n",
    "#q6.hint()\n",
    "#q6.solution()"
   ]
  },
  {
   "cell_type": "markdown",
   "id": "8088bd23",
   "metadata": {
    "papermill": {
     "duration": 0.028524,
     "end_time": "2021-08-26T12:05:31.060482",
     "exception": false,
     "start_time": "2021-08-26T12:05:31.031958",
     "status": "completed"
    },
    "tags": []
   },
   "source": [
    "# More practice\n",
    "\n",
    "If you're looking for more practice handling missing values:\n",
    "\n",
    "* Check out [this noteboook](https://www.kaggle.com/alexisbcook/missing-values) on handling missing values using scikit-learn's imputer. \n",
    "* Look back at the \"Zipcode\" column in the `sf_permits` dataset, which has some missing values. How would you go about figuring out what the actual zipcode of each address should be? (You might try using another dataset. You can search for datasets about San Fransisco on the [Datasets listing](https://www.kaggle.com/datasets).) \n",
    "\n",
    "# Keep going\n",
    "\n",
    "In the next lesson, learn how to [**apply scaling and normalization**](https://www.kaggle.com/alexisbcook/scaling-and-normalization) to transform your data."
   ]
  },
  {
   "cell_type": "markdown",
   "id": "3eaa43b4",
   "metadata": {
    "papermill": {
     "duration": 0.029165,
     "end_time": "2021-08-26T12:05:31.119141",
     "exception": false,
     "start_time": "2021-08-26T12:05:31.089976",
     "status": "completed"
    },
    "tags": []
   },
   "source": [
    "---\n",
    "\n",
    "\n",
    "\n",
    "\n",
    "*Have questions or comments? Visit the [Learn Discussion forum](https://www.kaggle.com/learn-forum/172650) to chat with other Learners.*"
   ]
  }
 ],
 "metadata": {
  "kernelspec": {
   "display_name": "Python 3",
   "language": "python",
   "name": "python3"
  },
  "language_info": {
   "codemirror_mode": {
    "name": "ipython",
    "version": 3
   },
   "file_extension": ".py",
   "mimetype": "text/x-python",
   "name": "python",
   "nbconvert_exporter": "python",
   "pygments_lexer": "ipython3",
   "version": "3.7.10"
  },
  "papermill": {
   "default_parameters": {},
   "duration": 22.952986,
   "end_time": "2021-08-26T12:05:32.437737",
   "environment_variables": {},
   "exception": null,
   "input_path": "__notebook__.ipynb",
   "output_path": "__notebook__.ipynb",
   "parameters": {},
   "start_time": "2021-08-26T12:05:09.484751",
   "version": "2.3.3"
  }
 },
 "nbformat": 4,
 "nbformat_minor": 5
}
