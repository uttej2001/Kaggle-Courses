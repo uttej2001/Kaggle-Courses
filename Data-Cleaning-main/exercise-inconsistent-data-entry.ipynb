{
 "cells": [
  {
   "cell_type": "markdown",
   "id": "655522cc",
   "metadata": {
    "papermill": {
     "duration": 0.016313,
     "end_time": "2021-08-26T12:02:27.579216",
     "exception": false,
     "start_time": "2021-08-26T12:02:27.562903",
     "status": "completed"
    },
    "tags": []
   },
   "source": [
    "**This notebook is an exercise in the [Data Cleaning](https://www.kaggle.com/learn/data-cleaning) course.  You can reference the tutorial at [this link](https://www.kaggle.com/alexisbcook/inconsistent-data-entry).**\n",
    "\n",
    "---\n"
   ]
  },
  {
   "cell_type": "markdown",
   "id": "64b3859f",
   "metadata": {
    "papermill": {
     "duration": 0.014509,
     "end_time": "2021-08-26T12:02:27.609610",
     "exception": false,
     "start_time": "2021-08-26T12:02:27.595101",
     "status": "completed"
    },
    "tags": []
   },
   "source": [
    "In this exercise, you'll apply what you learned in the **Inconsistent data entry** tutorial.\n",
    "\n",
    "# Setup\n",
    "\n",
    "The questions below will give you feedback on your work. Run the following cell to set up the feedback system."
   ]
  },
  {
   "cell_type": "code",
   "execution_count": 1,
   "id": "7b812561",
   "metadata": {
    "execution": {
     "iopub.execute_input": "2021-08-26T12:02:27.643259Z",
     "iopub.status.busy": "2021-08-26T12:02:27.642123Z",
     "iopub.status.idle": "2021-08-26T12:02:27.836746Z",
     "shell.execute_reply": "2021-08-26T12:02:27.835922Z",
     "shell.execute_reply.started": "2021-08-26T11:56:52.732216Z"
    },
    "papermill": {
     "duration": 0.212537,
     "end_time": "2021-08-26T12:02:27.836907",
     "exception": false,
     "start_time": "2021-08-26T12:02:27.624370",
     "status": "completed"
    },
    "tags": []
   },
   "outputs": [
    {
     "name": "stdout",
     "output_type": "stream",
     "text": [
      "Setup Complete\n"
     ]
    }
   ],
   "source": [
    "from learntools.core import binder\n",
    "binder.bind(globals())\n",
    "from learntools.data_cleaning.ex5 import *\n",
    "print(\"Setup Complete\")"
   ]
  },
  {
   "cell_type": "markdown",
   "id": "a9b05e00",
   "metadata": {
    "papermill": {
     "duration": 0.014937,
     "end_time": "2021-08-26T12:02:27.867578",
     "exception": false,
     "start_time": "2021-08-26T12:02:27.852641",
     "status": "completed"
    },
    "tags": []
   },
   "source": [
    "# Get our environment set up\n",
    "\n",
    "The first thing we'll need to do is load in the libraries and dataset we'll be using.  We use the same dataset from the tutorial."
   ]
  },
  {
   "cell_type": "code",
   "execution_count": 2,
   "id": "d6827643",
   "metadata": {
    "execution": {
     "iopub.execute_input": "2021-08-26T12:02:27.905091Z",
     "iopub.status.busy": "2021-08-26T12:02:27.904352Z",
     "iopub.status.idle": "2021-08-26T12:02:27.918409Z",
     "shell.execute_reply": "2021-08-26T12:02:27.917716Z",
     "shell.execute_reply.started": "2021-08-26T11:56:55.865102Z"
    },
    "papermill": {
     "duration": 0.035675,
     "end_time": "2021-08-26T12:02:27.918552",
     "exception": false,
     "start_time": "2021-08-26T12:02:27.882877",
     "status": "completed"
    },
    "tags": []
   },
   "outputs": [],
   "source": [
    "# modules we'll use\n",
    "import pandas as pd\n",
    "import numpy as np\n",
    "\n",
    "# helpful modules\n",
    "import fuzzywuzzy\n",
    "from fuzzywuzzy import process\n",
    "import chardet\n",
    "\n",
    "# read in all our data\n",
    "professors = pd.read_csv(\"../input/pakistan-intellectual-capital/pakistan_intellectual_capital.csv\")\n",
    "\n",
    "# set seed for reproducibility\n",
    "np.random.seed(0)"
   ]
  },
  {
   "cell_type": "markdown",
   "id": "7ff9fe3f",
   "metadata": {
    "papermill": {
     "duration": 0.015139,
     "end_time": "2021-08-26T12:02:27.949016",
     "exception": false,
     "start_time": "2021-08-26T12:02:27.933877",
     "status": "completed"
    },
    "tags": []
   },
   "source": [
    "Next, we'll redo all of the work that we did in the tutorial."
   ]
  },
  {
   "cell_type": "code",
   "execution_count": 3,
   "id": "3f59fbdd",
   "metadata": {
    "execution": {
     "iopub.execute_input": "2021-08-26T12:02:27.994139Z",
     "iopub.status.busy": "2021-08-26T12:02:27.990935Z",
     "iopub.status.idle": "2021-08-26T12:02:27.998152Z",
     "shell.execute_reply": "2021-08-26T12:02:27.998621Z",
     "shell.execute_reply.started": "2021-08-26T11:56:59.051786Z"
    },
    "papermill": {
     "duration": 0.034531,
     "end_time": "2021-08-26T12:02:27.998798",
     "exception": false,
     "start_time": "2021-08-26T12:02:27.964267",
     "status": "completed"
    },
    "tags": []
   },
   "outputs": [
    {
     "name": "stdout",
     "output_type": "stream",
     "text": [
      "All done!\n"
     ]
    }
   ],
   "source": [
    "# convert to lower case\n",
    "professors['Country'] = professors['Country'].str.lower()\n",
    "# remove trailing white spaces\n",
    "professors['Country'] = professors['Country'].str.strip()\n",
    "\n",
    "# get the top 10 closest matches to \"south korea\"\n",
    "countries = professors['Country'].unique()\n",
    "matches = fuzzywuzzy.process.extract(\"south korea\", countries, limit=10, scorer=fuzzywuzzy.fuzz.token_sort_ratio)\n",
    "\n",
    "def replace_matches_in_column(df, column, string_to_match, min_ratio = 47):\n",
    "    # get a list of unique strings\n",
    "    strings = df[column].unique()\n",
    "    \n",
    "    # get the top 10 closest matches to our input string\n",
    "    matches = fuzzywuzzy.process.extract(string_to_match, strings, \n",
    "                                         limit=10, scorer=fuzzywuzzy.fuzz.token_sort_ratio)\n",
    "\n",
    "    # only get matches with a ratio > 90\n",
    "    close_matches = [matches[0] for matches in matches if matches[1] >= min_ratio]\n",
    "\n",
    "    # get the rows of all the close matches in our dataframe\n",
    "    rows_with_matches = df[column].isin(close_matches)\n",
    "\n",
    "    # replace all rows with close matches with the input matches \n",
    "    df.loc[rows_with_matches, column] = string_to_match\n",
    "    \n",
    "    # let us know the function's done\n",
    "    print(\"All done!\")\n",
    "    \n",
    "replace_matches_in_column(df=professors, column='Country', string_to_match=\"south korea\")\n",
    "countries = professors['Country'].unique()"
   ]
  },
  {
   "cell_type": "markdown",
   "id": "e1e77ad7",
   "metadata": {
    "papermill": {
     "duration": 0.015292,
     "end_time": "2021-08-26T12:02:28.029918",
     "exception": false,
     "start_time": "2021-08-26T12:02:28.014626",
     "status": "completed"
    },
    "tags": []
   },
   "source": [
    "# 1) Examine another column\n",
    "\n",
    "Write code below to take a look at all the unique values in the \"Graduated from\" column."
   ]
  },
  {
   "cell_type": "code",
   "execution_count": 4,
   "id": "3a2e6c4a",
   "metadata": {
    "execution": {
     "iopub.execute_input": "2021-08-26T12:02:28.066349Z",
     "iopub.status.busy": "2021-08-26T12:02:28.065666Z",
     "iopub.status.idle": "2021-08-26T12:02:28.069055Z",
     "shell.execute_reply": "2021-08-26T12:02:28.068543Z",
     "shell.execute_reply.started": "2021-08-26T11:57:02.219329Z"
    },
    "papermill": {
     "duration": 0.023549,
     "end_time": "2021-08-26T12:02:28.069196",
     "exception": false,
     "start_time": "2021-08-26T12:02:28.045647",
     "status": "completed"
    },
    "tags": []
   },
   "outputs": [],
   "source": [
    "# TODO: Your code here\n",
    "countries = professors['Graduated from'].unique()"
   ]
  },
  {
   "cell_type": "markdown",
   "id": "4df33f84",
   "metadata": {
    "papermill": {
     "duration": 0.015345,
     "end_time": "2021-08-26T12:02:28.100718",
     "exception": false,
     "start_time": "2021-08-26T12:02:28.085373",
     "status": "completed"
    },
    "tags": []
   },
   "source": [
    "Do you notice any inconsistencies in the data?  Can any of the inconsistencies in the data be fixed by removing white spaces at the beginning and end of cells?\n",
    "\n",
    "Once you have answered these questions, run the code cell below to get credit for your work."
   ]
  },
  {
   "cell_type": "code",
   "execution_count": 5,
   "id": "0bc2a8b0",
   "metadata": {
    "execution": {
     "iopub.execute_input": "2021-08-26T12:02:28.139497Z",
     "iopub.status.busy": "2021-08-26T12:02:28.138759Z",
     "iopub.status.idle": "2021-08-26T12:02:28.144831Z",
     "shell.execute_reply": "2021-08-26T12:02:28.144244Z",
     "shell.execute_reply.started": "2021-08-26T11:57:06.041007Z"
    },
    "papermill": {
     "duration": 0.028671,
     "end_time": "2021-08-26T12:02:28.144998",
     "exception": false,
     "start_time": "2021-08-26T12:02:28.116327",
     "status": "completed"
    },
    "tags": []
   },
   "outputs": [
    {
     "data": {
      "application/javascript": [
       "parent.postMessage({\"jupyterEvent\": \"custom.exercise_interaction\", \"data\": {\"outcomeType\": 1, \"valueTowardsCompletion\": 0.3333333333333333, \"interactionType\": 1, \"questionType\": 4, \"questionId\": \"1_ExamineProvince\", \"learnToolsVersion\": \"0.3.4\", \"failureMessage\": \"\", \"exceptionClass\": \"\", \"trace\": \"\"}}, \"*\")"
      ],
      "text/plain": [
       "<IPython.core.display.Javascript object>"
      ]
     },
     "metadata": {},
     "output_type": "display_data"
    },
    {
     "data": {
      "text/markdown": [
       "<span style=\"color:#33cc33\">Correct:</span> \n",
       "\n",
       "There are inconsistencies that can be fixed by removing white spaces at the beginning and end of cells.  For instance, \"University of Central Florida\" and \" University of Central Florida\" both appear in the column."
      ],
      "text/plain": [
       "Correct: \n",
       "\n",
       "There are inconsistencies that can be fixed by removing white spaces at the beginning and end of cells.  For instance, \"University of Central Florida\" and \" University of Central Florida\" both appear in the column."
      ]
     },
     "metadata": {},
     "output_type": "display_data"
    }
   ],
   "source": [
    "# Check your answer (Run this code cell to receive credit!)\n",
    "q1.check()"
   ]
  },
  {
   "cell_type": "code",
   "execution_count": 6,
   "id": "ba1e94ee",
   "metadata": {
    "execution": {
     "iopub.execute_input": "2021-08-26T12:02:28.182781Z",
     "iopub.status.busy": "2021-08-26T12:02:28.181919Z",
     "iopub.status.idle": "2021-08-26T12:02:28.185225Z",
     "shell.execute_reply": "2021-08-26T12:02:28.184577Z"
    },
    "papermill": {
     "duration": 0.023489,
     "end_time": "2021-08-26T12:02:28.185366",
     "exception": false,
     "start_time": "2021-08-26T12:02:28.161877",
     "status": "completed"
    },
    "tags": []
   },
   "outputs": [],
   "source": [
    "# Line below will give you a hint\n",
    "#q1.hint()"
   ]
  },
  {
   "cell_type": "markdown",
   "id": "5da386dc",
   "metadata": {
    "papermill": {
     "duration": 0.016346,
     "end_time": "2021-08-26T12:02:28.218625",
     "exception": false,
     "start_time": "2021-08-26T12:02:28.202279",
     "status": "completed"
    },
    "tags": []
   },
   "source": [
    "# 2) Do some text pre-processing\n",
    "\n",
    "Convert every entry in the \"Graduated from\" column in the `professors` DataFrame to remove white spaces at the beginning and end of cells."
   ]
  },
  {
   "cell_type": "code",
   "execution_count": 7,
   "id": "0daa77b3",
   "metadata": {
    "execution": {
     "iopub.execute_input": "2021-08-26T12:02:28.262730Z",
     "iopub.status.busy": "2021-08-26T12:02:28.261812Z",
     "iopub.status.idle": "2021-08-26T12:02:28.268222Z",
     "shell.execute_reply": "2021-08-26T12:02:28.267585Z",
     "shell.execute_reply.started": "2021-08-26T11:58:05.18078Z"
    },
    "papermill": {
     "duration": 0.032979,
     "end_time": "2021-08-26T12:02:28.268362",
     "exception": false,
     "start_time": "2021-08-26T12:02:28.235383",
     "status": "completed"
    },
    "tags": []
   },
   "outputs": [
    {
     "data": {
      "application/javascript": [
       "parent.postMessage({\"jupyterEvent\": \"custom.exercise_interaction\", \"data\": {\"outcomeType\": 1, \"valueTowardsCompletion\": 0.3333333333333333, \"interactionType\": 1, \"questionType\": 1, \"questionId\": \"2_TextProcessing\", \"learnToolsVersion\": \"0.3.4\", \"failureMessage\": \"\", \"exceptionClass\": \"\", \"trace\": \"\"}}, \"*\")"
      ],
      "text/plain": [
       "<IPython.core.display.Javascript object>"
      ]
     },
     "metadata": {},
     "output_type": "display_data"
    },
    {
     "data": {
      "text/markdown": [
       "<span style=\"color:#33cc33\">Correct</span>"
      ],
      "text/plain": [
       "Correct"
      ]
     },
     "metadata": {},
     "output_type": "display_data"
    }
   ],
   "source": [
    "# TODO: Your code here\n",
    "professors['Graduated from'] = professors['Graduated from'].str.strip()\n",
    "# Check your answer\n",
    "q2.check()"
   ]
  },
  {
   "cell_type": "code",
   "execution_count": 8,
   "id": "6f9b1435",
   "metadata": {
    "execution": {
     "iopub.execute_input": "2021-08-26T12:02:28.321242Z",
     "iopub.status.busy": "2021-08-26T12:02:28.320019Z",
     "iopub.status.idle": "2021-08-26T12:02:28.323825Z",
     "shell.execute_reply": "2021-08-26T12:02:28.322856Z",
     "shell.execute_reply.started": "2021-08-26T11:58:22.470916Z"
    },
    "papermill": {
     "duration": 0.033091,
     "end_time": "2021-08-26T12:02:28.324004",
     "exception": false,
     "start_time": "2021-08-26T12:02:28.290913",
     "status": "completed"
    },
    "tags": []
   },
   "outputs": [],
   "source": [
    "# Lines below will give you a hint or solution code\n",
    "#q2.hint()\n",
    "#q2.solution()"
   ]
  },
  {
   "cell_type": "markdown",
   "id": "af308648",
   "metadata": {
    "papermill": {
     "duration": 0.024936,
     "end_time": "2021-08-26T12:02:28.372420",
     "exception": false,
     "start_time": "2021-08-26T12:02:28.347484",
     "status": "completed"
    },
    "tags": []
   },
   "source": [
    "# 3) Continue working with countries\n",
    "\n",
    "In the tutorial, we focused on cleaning up inconsistencies in the \"Country\" column.  Run the code cell below to view the list of unique values that we ended with."
   ]
  },
  {
   "cell_type": "code",
   "execution_count": 9,
   "id": "0fb4dedc",
   "metadata": {
    "execution": {
     "iopub.execute_input": "2021-08-26T12:02:28.421324Z",
     "iopub.status.busy": "2021-08-26T12:02:28.418443Z",
     "iopub.status.idle": "2021-08-26T12:02:28.426063Z",
     "shell.execute_reply": "2021-08-26T12:02:28.425500Z",
     "shell.execute_reply.started": "2021-08-26T11:58:31.530633Z"
    },
    "papermill": {
     "duration": 0.030683,
     "end_time": "2021-08-26T12:02:28.426219",
     "exception": false,
     "start_time": "2021-08-26T12:02:28.395536",
     "status": "completed"
    },
    "tags": []
   },
   "outputs": [
    {
     "data": {
      "text/plain": [
       "array(['australia', 'austria', 'canada', 'china', 'finland', 'france',\n",
       "       'germany', 'greece', 'hongkong', 'ireland', 'italy', 'japan',\n",
       "       'macau', 'malaysia', 'mauritius', 'netherland', 'new zealand',\n",
       "       'norway', 'pakistan', 'portugal', 'russian federation',\n",
       "       'saudi arabia', 'scotland', 'singapore', 'south korea', 'spain',\n",
       "       'sweden', 'thailand', 'turkey', 'uk', 'urbana', 'usa', 'usofa'],\n",
       "      dtype=object)"
      ]
     },
     "execution_count": 9,
     "metadata": {},
     "output_type": "execute_result"
    }
   ],
   "source": [
    "# get all the unique values in the 'City' column\n",
    "countries = professors['Country'].unique()\n",
    "\n",
    "# sort them alphabetically and then take a closer look\n",
    "countries.sort()\n",
    "countries"
   ]
  },
  {
   "cell_type": "markdown",
   "id": "7979ea76",
   "metadata": {
    "papermill": {
     "duration": 0.018743,
     "end_time": "2021-08-26T12:02:28.463423",
     "exception": false,
     "start_time": "2021-08-26T12:02:28.444680",
     "status": "completed"
    },
    "tags": []
   },
   "source": [
    "Take another look at the \"Country\" column and see if there's any more data cleaning we need to do.\n",
    "\n",
    "It looks like 'usa' and 'usofa' should be the same country.  Correct the \"Country\" column in the dataframe so that 'usofa' appears instead as 'usa'.\n",
    "\n",
    "**Use the most recent version of the DataFrame (with the whitespaces at the beginning and end of cells removed) from question 2.**"
   ]
  },
  {
   "cell_type": "code",
   "execution_count": 10,
   "id": "6b70d6aa",
   "metadata": {
    "execution": {
     "iopub.execute_input": "2021-08-26T12:02:28.511504Z",
     "iopub.status.busy": "2021-08-26T12:02:28.510462Z",
     "iopub.status.idle": "2021-08-26T12:02:28.517819Z",
     "shell.execute_reply": "2021-08-26T12:02:28.518303Z",
     "shell.execute_reply.started": "2021-08-26T12:00:34.343969Z"
    },
    "papermill": {
     "duration": 0.036404,
     "end_time": "2021-08-26T12:02:28.518472",
     "exception": false,
     "start_time": "2021-08-26T12:02:28.482068",
     "status": "completed"
    },
    "tags": []
   },
   "outputs": [
    {
     "name": "stdout",
     "output_type": "stream",
     "text": [
      "All done!\n"
     ]
    },
    {
     "data": {
      "application/javascript": [
       "parent.postMessage({\"jupyterEvent\": \"custom.exercise_interaction\", \"data\": {\"outcomeType\": 1, \"valueTowardsCompletion\": 0.3333333333333333, \"interactionType\": 1, \"questionType\": 1, \"questionId\": \"3_WorkingWithCities\", \"learnToolsVersion\": \"0.3.4\", \"failureMessage\": \"\", \"exceptionClass\": \"\", \"trace\": \"\"}}, \"*\")"
      ],
      "text/plain": [
       "<IPython.core.display.Javascript object>"
      ]
     },
     "metadata": {},
     "output_type": "display_data"
    },
    {
     "data": {
      "text/markdown": [
       "<span style=\"color:#33cc33\">Correct</span>"
      ],
      "text/plain": [
       "Correct"
      ]
     },
     "metadata": {},
     "output_type": "display_data"
    }
   ],
   "source": [
    "# TODO: Your code here!\n",
    "matches = fuzzywuzzy.process.extract(\"usa\", countries, limit=10, scorer=fuzzywuzzy.fuzz.token_sort_ratio)\n",
    "replace_matches_in_column(df=professors, column='Country', string_to_match=\"usa\", min_ratio=70)\n",
    "\n",
    "# Check your answer\n",
    "q3.check()"
   ]
  },
  {
   "cell_type": "code",
   "execution_count": 11,
   "id": "d7da6821",
   "metadata": {
    "execution": {
     "iopub.execute_input": "2021-08-26T12:02:28.561620Z",
     "iopub.status.busy": "2021-08-26T12:02:28.560904Z",
     "iopub.status.idle": "2021-08-26T12:02:28.563440Z",
     "shell.execute_reply": "2021-08-26T12:02:28.562808Z",
     "shell.execute_reply.started": "2021-08-26T12:00:14.766733Z"
    },
    "papermill": {
     "duration": 0.025364,
     "end_time": "2021-08-26T12:02:28.563574",
     "exception": false,
     "start_time": "2021-08-26T12:02:28.538210",
     "status": "completed"
    },
    "tags": []
   },
   "outputs": [],
   "source": [
    "# Lines below will give you a hint or solution code\n",
    "#q3.hint()\n",
    "#q3.solution()"
   ]
  },
  {
   "cell_type": "markdown",
   "id": "4b614a51",
   "metadata": {
    "papermill": {
     "duration": 0.019194,
     "end_time": "2021-08-26T12:02:28.602483",
     "exception": false,
     "start_time": "2021-08-26T12:02:28.583289",
     "status": "completed"
    },
    "tags": []
   },
   "source": [
    "# Congratulations!\n",
    "\n",
    "Congratulations for completing the **Data Cleaning** course on Kaggle Learn!\n",
    "\n",
    "To practice your new skills, you're encouraged to download and investigate some of [Kaggle's Datasets](https://www.kaggle.com/datasets)."
   ]
  },
  {
   "cell_type": "markdown",
   "id": "025d99ba",
   "metadata": {
    "papermill": {
     "duration": 0.020084,
     "end_time": "2021-08-26T12:02:28.642164",
     "exception": false,
     "start_time": "2021-08-26T12:02:28.622080",
     "status": "completed"
    },
    "tags": []
   },
   "source": [
    "---\n",
    "\n",
    "\n",
    "\n",
    "\n",
    "*Have questions or comments? Visit the [Learn Discussion forum](https://www.kaggle.com/learn-forum/172650) to chat with other Learners.*"
   ]
  }
 ],
 "metadata": {
  "kernelspec": {
   "display_name": "Python 3",
   "language": "python",
   "name": "python3"
  },
  "language_info": {
   "codemirror_mode": {
    "name": "ipython",
    "version": 3
   },
   "file_extension": ".py",
   "mimetype": "text/x-python",
   "name": "python",
   "nbconvert_exporter": "python",
   "pygments_lexer": "ipython3",
   "version": "3.7.10"
  },
  "papermill": {
   "default_parameters": {},
   "duration": 9.757021,
   "end_time": "2021-08-26T12:02:29.271754",
   "environment_variables": {},
   "exception": null,
   "input_path": "__notebook__.ipynb",
   "output_path": "__notebook__.ipynb",
   "parameters": {},
   "start_time": "2021-08-26T12:02:19.514733",
   "version": "2.3.3"
  }
 },
 "nbformat": 4,
 "nbformat_minor": 5
}
