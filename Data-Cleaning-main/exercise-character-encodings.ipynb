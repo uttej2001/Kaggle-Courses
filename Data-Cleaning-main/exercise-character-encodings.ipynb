{
 "cells": [
  {
   "cell_type": "markdown",
   "id": "3a87d48b",
   "metadata": {
    "papermill": {
     "duration": 0.016507,
     "end_time": "2021-08-26T11:53:03.972902",
     "exception": false,
     "start_time": "2021-08-26T11:53:03.956395",
     "status": "completed"
    },
    "tags": []
   },
   "source": [
    "**This notebook is an exercise in the [Data Cleaning](https://www.kaggle.com/learn/data-cleaning) course.  You can reference the tutorial at [this link](https://www.kaggle.com/alexisbcook/character-encodings).**\n",
    "\n",
    "---\n"
   ]
  },
  {
   "cell_type": "markdown",
   "id": "ff634f3b",
   "metadata": {
    "papermill": {
     "duration": 0.01392,
     "end_time": "2021-08-26T11:53:04.002409",
     "exception": false,
     "start_time": "2021-08-26T11:53:03.988489",
     "status": "completed"
    },
    "tags": []
   },
   "source": [
    "In this exercise, you'll apply what you learned in the **Character encodings** tutorial.\n",
    "\n",
    "# Setup\n",
    "\n",
    "The questions below will give you feedback on your work. Run the following cell to set up the feedback system."
   ]
  },
  {
   "cell_type": "code",
   "execution_count": 1,
   "id": "09fa59e9",
   "metadata": {
    "execution": {
     "iopub.execute_input": "2021-08-26T11:53:04.034885Z",
     "iopub.status.busy": "2021-08-26T11:53:04.033656Z",
     "iopub.status.idle": "2021-08-26T11:53:04.219236Z",
     "shell.execute_reply": "2021-08-26T11:53:04.219932Z",
     "shell.execute_reply.started": "2021-08-26T11:47:27.543654Z"
    },
    "papermill": {
     "duration": 0.204146,
     "end_time": "2021-08-26T11:53:04.220349",
     "exception": false,
     "start_time": "2021-08-26T11:53:04.016203",
     "status": "completed"
    },
    "tags": []
   },
   "outputs": [
    {
     "name": "stdout",
     "output_type": "stream",
     "text": [
      "Setup Complete\n"
     ]
    }
   ],
   "source": [
    "from learntools.core import binder\n",
    "binder.bind(globals())\n",
    "from learntools.data_cleaning.ex4 import *\n",
    "print(\"Setup Complete\")"
   ]
  },
  {
   "cell_type": "markdown",
   "id": "17763e44",
   "metadata": {
    "papermill": {
     "duration": 0.013637,
     "end_time": "2021-08-26T11:53:04.249221",
     "exception": false,
     "start_time": "2021-08-26T11:53:04.235584",
     "status": "completed"
    },
    "tags": []
   },
   "source": [
    "# Get our environment set up\n",
    "\n",
    "The first thing we'll need to do is load in the libraries we'll be using."
   ]
  },
  {
   "cell_type": "code",
   "execution_count": 2,
   "id": "5475d2b4",
   "metadata": {
    "execution": {
     "iopub.execute_input": "2021-08-26T11:53:04.280296Z",
     "iopub.status.busy": "2021-08-26T11:53:04.279594Z",
     "iopub.status.idle": "2021-08-26T11:53:04.284390Z",
     "shell.execute_reply": "2021-08-26T11:53:04.283812Z",
     "shell.execute_reply.started": "2021-08-26T11:47:27.723056Z"
    },
    "papermill": {
     "duration": 0.021437,
     "end_time": "2021-08-26T11:53:04.284544",
     "exception": false,
     "start_time": "2021-08-26T11:53:04.263107",
     "status": "completed"
    },
    "tags": []
   },
   "outputs": [],
   "source": [
    "# modules we'll use\n",
    "import pandas as pd\n",
    "import numpy as np\n",
    "\n",
    "# helpful character encoding module\n",
    "import chardet\n",
    "\n",
    "# set seed for reproducibility\n",
    "np.random.seed(0)"
   ]
  },
  {
   "cell_type": "markdown",
   "id": "96f6c123",
   "metadata": {
    "papermill": {
     "duration": 0.01367,
     "end_time": "2021-08-26T11:53:04.312160",
     "exception": false,
     "start_time": "2021-08-26T11:53:04.298490",
     "status": "completed"
    },
    "tags": []
   },
   "source": [
    "# 1) What are encodings?\n",
    "\n",
    "You're working with a dataset composed of bytes.  Run the code cell below to print a sample entry."
   ]
  },
  {
   "cell_type": "code",
   "execution_count": 3,
   "id": "e3e25852",
   "metadata": {
    "execution": {
     "iopub.execute_input": "2021-08-26T11:53:04.345363Z",
     "iopub.status.busy": "2021-08-26T11:53:04.344515Z",
     "iopub.status.idle": "2021-08-26T11:53:04.349001Z",
     "shell.execute_reply": "2021-08-26T11:53:04.348311Z",
     "shell.execute_reply.started": "2021-08-26T11:47:27.730571Z"
    },
    "papermill": {
     "duration": 0.023213,
     "end_time": "2021-08-26T11:53:04.349222",
     "exception": false,
     "start_time": "2021-08-26T11:53:04.326009",
     "status": "completed"
    },
    "tags": []
   },
   "outputs": [
    {
     "name": "stdout",
     "output_type": "stream",
     "text": [
      "b'\\xa7A\\xa6n'\n",
      "data type: <class 'bytes'>\n"
     ]
    }
   ],
   "source": [
    "sample_entry = b'\\xa7A\\xa6n'\n",
    "print(sample_entry)\n",
    "print('data type:', type(sample_entry))"
   ]
  },
  {
   "cell_type": "markdown",
   "id": "60e2e1f0",
   "metadata": {
    "papermill": {
     "duration": 0.013887,
     "end_time": "2021-08-26T11:53:04.378258",
     "exception": false,
     "start_time": "2021-08-26T11:53:04.364371",
     "status": "completed"
    },
    "tags": []
   },
   "source": [
    "You notice that it doesn't use the standard UTF-8 encoding. \n",
    "\n",
    "Use the next code cell to create a variable `new_entry` that changes the encoding from `\"big5-tw\"` to `\"utf-8\"`.  `new_entry` should have the bytes datatype."
   ]
  },
  {
   "cell_type": "code",
   "execution_count": 4,
   "id": "d8b00134",
   "metadata": {
    "execution": {
     "iopub.execute_input": "2021-08-26T11:53:04.414256Z",
     "iopub.status.busy": "2021-08-26T11:53:04.413575Z",
     "iopub.status.idle": "2021-08-26T11:53:04.418270Z",
     "shell.execute_reply": "2021-08-26T11:53:04.418852Z",
     "shell.execute_reply.started": "2021-08-26T11:49:52.377541Z"
    },
    "papermill": {
     "duration": 0.026722,
     "end_time": "2021-08-26T11:53:04.419021",
     "exception": false,
     "start_time": "2021-08-26T11:53:04.392299",
     "status": "completed"
    },
    "tags": []
   },
   "outputs": [
    {
     "data": {
      "application/javascript": [
       "parent.postMessage({\"jupyterEvent\": \"custom.exercise_interaction\", \"data\": {\"outcomeType\": 1, \"valueTowardsCompletion\": 0.3333333333333333, \"interactionType\": 1, \"questionType\": 1, \"questionId\": \"1_EncodingsIntro\", \"learnToolsVersion\": \"0.3.4\", \"failureMessage\": \"\", \"exceptionClass\": \"\", \"trace\": \"\"}}, \"*\")"
      ],
      "text/plain": [
       "<IPython.core.display.Javascript object>"
      ]
     },
     "metadata": {},
     "output_type": "display_data"
    },
    {
     "data": {
      "text/markdown": [
       "<span style=\"color:#33cc33\">Correct</span>"
      ],
      "text/plain": [
       "Correct"
      ]
     },
     "metadata": {},
     "output_type": "display_data"
    }
   ],
   "source": [
    "before = sample_entry.decode(\"big5-tw\")\n",
    "new_entry = before.encode(\"utf-8\")\n",
    "# Check your answer\n",
    "q1.check()"
   ]
  },
  {
   "cell_type": "code",
   "execution_count": 5,
   "id": "331f6092",
   "metadata": {
    "execution": {
     "iopub.execute_input": "2021-08-26T11:53:04.452116Z",
     "iopub.status.busy": "2021-08-26T11:53:04.451527Z",
     "iopub.status.idle": "2021-08-26T11:53:04.454595Z",
     "shell.execute_reply": "2021-08-26T11:53:04.455183Z",
     "shell.execute_reply.started": "2021-08-26T11:50:00.475388Z"
    },
    "papermill": {
     "duration": 0.021165,
     "end_time": "2021-08-26T11:53:04.455358",
     "exception": false,
     "start_time": "2021-08-26T11:53:04.434193",
     "status": "completed"
    },
    "tags": []
   },
   "outputs": [],
   "source": [
    "# Lines below will give you a hint or solution code\n",
    "#q1.hint()\n",
    "#q1.solution()"
   ]
  },
  {
   "cell_type": "markdown",
   "id": "4560dde9",
   "metadata": {
    "papermill": {
     "duration": 0.01485,
     "end_time": "2021-08-26T11:53:04.485407",
     "exception": false,
     "start_time": "2021-08-26T11:53:04.470557",
     "status": "completed"
    },
    "tags": []
   },
   "source": [
    "# 2) Reading in files with encoding problems\n",
    "\n",
    "Use the code cell below to read in this file at path `\"../input/fatal-police-shootings-in-the-us/PoliceKillingsUS.csv\"`.  \n",
    "\n",
    "Figure out what the correct encoding should be and read in the file to a DataFrame `police_killings`."
   ]
  },
  {
   "cell_type": "code",
   "execution_count": 6,
   "id": "ccb001c9",
   "metadata": {
    "execution": {
     "iopub.execute_input": "2021-08-26T11:53:04.519020Z",
     "iopub.status.busy": "2021-08-26T11:53:04.518372Z",
     "iopub.status.idle": "2021-08-26T11:53:04.543274Z",
     "shell.execute_reply": "2021-08-26T11:53:04.543815Z",
     "shell.execute_reply.started": "2021-08-26T11:51:10.203392Z"
    },
    "papermill": {
     "duration": 0.043449,
     "end_time": "2021-08-26T11:53:04.543978",
     "exception": false,
     "start_time": "2021-08-26T11:53:04.500529",
     "status": "completed"
    },
    "tags": []
   },
   "outputs": [
    {
     "data": {
      "application/javascript": [
       "parent.postMessage({\"jupyterEvent\": \"custom.exercise_interaction\", \"data\": {\"outcomeType\": 1, \"valueTowardsCompletion\": 0.3333333333333333, \"interactionType\": 1, \"questionType\": 1, \"questionId\": \"2_ReadIn\", \"learnToolsVersion\": \"0.3.4\", \"failureMessage\": \"\", \"exceptionClass\": \"\", \"trace\": \"\"}}, \"*\")"
      ],
      "text/plain": [
       "<IPython.core.display.Javascript object>"
      ]
     },
     "metadata": {},
     "output_type": "display_data"
    },
    {
     "data": {
      "text/markdown": [
       "<span style=\"color:#33cc33\">Correct</span>"
      ],
      "text/plain": [
       "Correct"
      ]
     },
     "metadata": {},
     "output_type": "display_data"
    }
   ],
   "source": [
    "# TODO: Load in the DataFrame correctly.\n",
    "police_killings = pd.read_csv(\"../input/fatal-police-shootings-in-the-us/PoliceKillingsUS.csv\")\n",
    "# Check your answer\n",
    "q2.check()"
   ]
  },
  {
   "cell_type": "markdown",
   "id": "fc97e7ad",
   "metadata": {
    "papermill": {
     "duration": 0.015894,
     "end_time": "2021-08-26T11:53:04.576520",
     "exception": false,
     "start_time": "2021-08-26T11:53:04.560626",
     "status": "completed"
    },
    "tags": []
   },
   "source": [
    "Feel free to use any additional code cells for supplemental work.  To get credit for finishing this question, you'll need to run `q2.check()` and get a result of **Correct**."
   ]
  },
  {
   "cell_type": "code",
   "execution_count": 7,
   "id": "32a92f3d",
   "metadata": {
    "execution": {
     "iopub.execute_input": "2021-08-26T11:53:04.611842Z",
     "iopub.status.busy": "2021-08-26T11:53:04.611178Z",
     "iopub.status.idle": "2021-08-26T11:53:04.615765Z",
     "shell.execute_reply": "2021-08-26T11:53:04.615264Z"
    },
    "papermill": {
     "duration": 0.023239,
     "end_time": "2021-08-26T11:53:04.615905",
     "exception": false,
     "start_time": "2021-08-26T11:53:04.592666",
     "status": "completed"
    },
    "tags": []
   },
   "outputs": [],
   "source": [
    "# (Optional) Use this code cell for any additional work."
   ]
  },
  {
   "cell_type": "code",
   "execution_count": 8,
   "id": "1b47bd62",
   "metadata": {
    "execution": {
     "iopub.execute_input": "2021-08-26T11:53:04.652843Z",
     "iopub.status.busy": "2021-08-26T11:53:04.652146Z",
     "iopub.status.idle": "2021-08-26T11:53:04.654150Z",
     "shell.execute_reply": "2021-08-26T11:53:04.654671Z"
    },
    "papermill": {
     "duration": 0.022626,
     "end_time": "2021-08-26T11:53:04.654854",
     "exception": false,
     "start_time": "2021-08-26T11:53:04.632228",
     "status": "completed"
    },
    "tags": []
   },
   "outputs": [],
   "source": [
    "# Lines below will give you a hint or solution code\n",
    "#q2.hint()\n",
    "#q2.solution()"
   ]
  },
  {
   "cell_type": "markdown",
   "id": "26d73509",
   "metadata": {
    "papermill": {
     "duration": 0.015942,
     "end_time": "2021-08-26T11:53:04.687172",
     "exception": false,
     "start_time": "2021-08-26T11:53:04.671230",
     "status": "completed"
    },
    "tags": []
   },
   "source": [
    "# 3) Saving your files with UTF-8 encoding\n",
    "\n",
    "Save a version of the police killings dataset to CSV with UTF-8 encoding.  Your answer will be marked correct after saving this file.  \n",
    "\n",
    "Note: When using the `to_csv()` method, supply only the name of the file (e.g., `\"my_file.csv\"`).  This saves the file at the filepath `\"/kaggle/working/my_file.csv\"`."
   ]
  },
  {
   "cell_type": "code",
   "execution_count": 9,
   "id": "816f18f8",
   "metadata": {
    "execution": {
     "iopub.execute_input": "2021-08-26T11:53:04.723852Z",
     "iopub.status.busy": "2021-08-26T11:53:04.723173Z",
     "iopub.status.idle": "2021-08-26T11:53:04.774669Z",
     "shell.execute_reply": "2021-08-26T11:53:04.775503Z",
     "shell.execute_reply.started": "2021-08-26T11:52:39.533062Z"
    },
    "papermill": {
     "duration": 0.072257,
     "end_time": "2021-08-26T11:53:04.775795",
     "exception": false,
     "start_time": "2021-08-26T11:53:04.703538",
     "status": "completed"
    },
    "tags": []
   },
   "outputs": [
    {
     "data": {
      "application/javascript": [
       "parent.postMessage({\"jupyterEvent\": \"custom.exercise_interaction\", \"data\": {\"outcomeType\": 1, \"valueTowardsCompletion\": 0.3333333333333333, \"interactionType\": 1, \"questionType\": 2, \"questionId\": \"3_SaveCSV\", \"learnToolsVersion\": \"0.3.4\", \"failureMessage\": \"\", \"exceptionClass\": \"\", \"trace\": \"\"}}, \"*\")"
      ],
      "text/plain": [
       "<IPython.core.display.Javascript object>"
      ]
     },
     "metadata": {},
     "output_type": "display_data"
    },
    {
     "data": {
      "text/markdown": [
       "<span style=\"color:#33cc33\">Correct</span>"
      ],
      "text/plain": [
       "Correct"
      ]
     },
     "metadata": {},
     "output_type": "display_data"
    }
   ],
   "source": [
    "# TODO: Save the police killings dataset to CSV\n",
    "police_killings.to_csv(\"/kaggle/working/my_file.csv\")\n",
    "\n",
    "# Check your answer\n",
    "q3.check()"
   ]
  },
  {
   "cell_type": "code",
   "execution_count": 10,
   "id": "26c61026",
   "metadata": {
    "execution": {
     "iopub.execute_input": "2021-08-26T11:53:04.825167Z",
     "iopub.status.busy": "2021-08-26T11:53:04.823606Z",
     "iopub.status.idle": "2021-08-26T11:53:04.828650Z",
     "shell.execute_reply": "2021-08-26T11:53:04.828047Z"
    },
    "papermill": {
     "duration": 0.033121,
     "end_time": "2021-08-26T11:53:04.828807",
     "exception": false,
     "start_time": "2021-08-26T11:53:04.795686",
     "status": "completed"
    },
    "tags": []
   },
   "outputs": [],
   "source": [
    "# Lines below will give you a hint or solution code\n",
    "#q3.hint()\n",
    "#q3.solution()"
   ]
  },
  {
   "cell_type": "markdown",
   "id": "b9499ecd",
   "metadata": {
    "papermill": {
     "duration": 0.023816,
     "end_time": "2021-08-26T11:53:04.873614",
     "exception": false,
     "start_time": "2021-08-26T11:53:04.849798",
     "status": "completed"
    },
    "tags": []
   },
   "source": [
    "# (Optional) More practice\n",
    "\n",
    "Check out [this dataset of files in different character encodings](https://www.kaggle.com/rtatman/character-encoding-examples). Can you read in all the files with their original encodings and them save them out as UTF-8 files?\n",
    "\n",
    "If you have a file that's in UTF-8 but has just a couple of weird-looking characters in it, you can try out the [ftfy module](https://ftfy.readthedocs.io/en/latest/#) and see if it helps. \n",
    "\n",
    "# Keep going\n",
    "\n",
    "In the final lesson, learn how to [**clean up inconsistent text entries**](https://www.kaggle.com/alexisbcook/inconsistent-data-entry) in your dataset."
   ]
  },
  {
   "cell_type": "markdown",
   "id": "8a5c9f03",
   "metadata": {
    "papermill": {
     "duration": 0.021257,
     "end_time": "2021-08-26T11:53:04.916602",
     "exception": false,
     "start_time": "2021-08-26T11:53:04.895345",
     "status": "completed"
    },
    "tags": []
   },
   "source": [
    "---\n",
    "\n",
    "\n",
    "\n",
    "\n",
    "*Have questions or comments? Visit the [Learn Discussion forum](https://www.kaggle.com/learn-forum/172650) to chat with other Learners.*"
   ]
  }
 ],
 "metadata": {
  "kernelspec": {
   "display_name": "Python 3",
   "language": "python",
   "name": "python3"
  },
  "language_info": {
   "codemirror_mode": {
    "name": "ipython",
    "version": 3
   },
   "file_extension": ".py",
   "mimetype": "text/x-python",
   "name": "python",
   "nbconvert_exporter": "python",
   "pygments_lexer": "ipython3",
   "version": "3.7.10"
  },
  "papermill": {
   "default_parameters": {},
   "duration": 10.743743,
   "end_time": "2021-08-26T11:53:06.561744",
   "environment_variables": {},
   "exception": null,
   "input_path": "__notebook__.ipynb",
   "output_path": "__notebook__.ipynb",
   "parameters": {},
   "start_time": "2021-08-26T11:52:55.818001",
   "version": "2.3.3"
  }
 },
 "nbformat": 4,
 "nbformat_minor": 5
}
