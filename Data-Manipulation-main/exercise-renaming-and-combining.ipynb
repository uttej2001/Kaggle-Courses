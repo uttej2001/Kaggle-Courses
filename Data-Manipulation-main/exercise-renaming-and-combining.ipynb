{
 "cells": [
  {
   "cell_type": "markdown",
   "id": "932825b5",
   "metadata": {
    "papermill": {
     "duration": 0.02473,
     "end_time": "2021-08-30T04:39:25.996150",
     "exception": false,
     "start_time": "2021-08-30T04:39:25.971420",
     "status": "completed"
    },
    "tags": []
   },
   "source": [
    "**This notebook is an exercise in the [Pandas](https://www.kaggle.com/learn/pandas) course.  You can reference the tutorial at [this link](https://www.kaggle.com/residentmario/renaming-and-combining).**\n",
    "\n",
    "---\n"
   ]
  },
  {
   "cell_type": "markdown",
   "id": "49f6d94c",
   "metadata": {
    "papermill": {
     "duration": 0.016151,
     "end_time": "2021-08-30T04:39:26.031252",
     "exception": false,
     "start_time": "2021-08-30T04:39:26.015101",
     "status": "completed"
    },
    "tags": []
   },
   "source": [
    "# Introduction\n",
    "\n",
    "Run the following cell to load your data and some utility functions."
   ]
  },
  {
   "cell_type": "code",
   "execution_count": 1,
   "id": "1f738a38",
   "metadata": {
    "execution": {
     "iopub.execute_input": "2021-08-30T04:39:26.079420Z",
     "iopub.status.busy": "2021-08-30T04:39:26.078646Z",
     "iopub.status.idle": "2021-08-30T04:39:30.987453Z",
     "shell.execute_reply": "2021-08-30T04:39:30.988053Z",
     "shell.execute_reply.started": "2021-08-30T04:32:21.239988Z"
    },
    "papermill": {
     "duration": 4.940717,
     "end_time": "2021-08-30T04:39:30.988410",
     "exception": false,
     "start_time": "2021-08-30T04:39:26.047693",
     "status": "completed"
    },
    "tags": []
   },
   "outputs": [
    {
     "name": "stdout",
     "output_type": "stream",
     "text": [
      "Setup complete.\n"
     ]
    }
   ],
   "source": [
    "import pandas as pd\n",
    "\n",
    "reviews = pd.read_csv(\"../input/wine-reviews/winemag-data-130k-v2.csv\", index_col=0)\n",
    "\n",
    "from learntools.core import binder; binder.bind(globals())\n",
    "from learntools.pandas.renaming_and_combining import *\n",
    "print(\"Setup complete.\")"
   ]
  },
  {
   "cell_type": "markdown",
   "id": "b9a92b77",
   "metadata": {
    "papermill": {
     "duration": 0.016244,
     "end_time": "2021-08-30T04:39:31.021779",
     "exception": false,
     "start_time": "2021-08-30T04:39:31.005535",
     "status": "completed"
    },
    "tags": []
   },
   "source": [
    "# Exercises\n",
    "\n",
    "View the first several lines of your data by running the cell below:"
   ]
  },
  {
   "cell_type": "code",
   "execution_count": 2,
   "id": "e100ee9b",
   "metadata": {
    "execution": {
     "iopub.execute_input": "2021-08-30T04:39:31.062810Z",
     "iopub.status.busy": "2021-08-30T04:39:31.061852Z",
     "iopub.status.idle": "2021-08-30T04:39:31.086954Z",
     "shell.execute_reply": "2021-08-30T04:39:31.087458Z",
     "shell.execute_reply.started": "2021-08-30T04:32:25.785001Z"
    },
    "papermill": {
     "duration": 0.049761,
     "end_time": "2021-08-30T04:39:31.087654",
     "exception": false,
     "start_time": "2021-08-30T04:39:31.037893",
     "status": "completed"
    },
    "tags": []
   },
   "outputs": [
    {
     "data": {
      "text/html": [
       "<div>\n",
       "<style scoped>\n",
       "    .dataframe tbody tr th:only-of-type {\n",
       "        vertical-align: middle;\n",
       "    }\n",
       "\n",
       "    .dataframe tbody tr th {\n",
       "        vertical-align: top;\n",
       "    }\n",
       "\n",
       "    .dataframe thead th {\n",
       "        text-align: right;\n",
       "    }\n",
       "</style>\n",
       "<table border=\"1\" class=\"dataframe\">\n",
       "  <thead>\n",
       "    <tr style=\"text-align: right;\">\n",
       "      <th></th>\n",
       "      <th>country</th>\n",
       "      <th>description</th>\n",
       "      <th>designation</th>\n",
       "      <th>points</th>\n",
       "      <th>price</th>\n",
       "      <th>province</th>\n",
       "      <th>region_1</th>\n",
       "      <th>region_2</th>\n",
       "      <th>taster_name</th>\n",
       "      <th>taster_twitter_handle</th>\n",
       "      <th>title</th>\n",
       "      <th>variety</th>\n",
       "      <th>winery</th>\n",
       "    </tr>\n",
       "  </thead>\n",
       "  <tbody>\n",
       "    <tr>\n",
       "      <th>0</th>\n",
       "      <td>Italy</td>\n",
       "      <td>Aromas include tropical fruit, broom, brimston...</td>\n",
       "      <td>Vulkà Bianco</td>\n",
       "      <td>87</td>\n",
       "      <td>NaN</td>\n",
       "      <td>Sicily &amp; Sardinia</td>\n",
       "      <td>Etna</td>\n",
       "      <td>NaN</td>\n",
       "      <td>Kerin O’Keefe</td>\n",
       "      <td>@kerinokeefe</td>\n",
       "      <td>Nicosia 2013 Vulkà Bianco  (Etna)</td>\n",
       "      <td>White Blend</td>\n",
       "      <td>Nicosia</td>\n",
       "    </tr>\n",
       "    <tr>\n",
       "      <th>1</th>\n",
       "      <td>Portugal</td>\n",
       "      <td>This is ripe and fruity, a wine that is smooth...</td>\n",
       "      <td>Avidagos</td>\n",
       "      <td>87</td>\n",
       "      <td>15.0</td>\n",
       "      <td>Douro</td>\n",
       "      <td>NaN</td>\n",
       "      <td>NaN</td>\n",
       "      <td>Roger Voss</td>\n",
       "      <td>@vossroger</td>\n",
       "      <td>Quinta dos Avidagos 2011 Avidagos Red (Douro)</td>\n",
       "      <td>Portuguese Red</td>\n",
       "      <td>Quinta dos Avidagos</td>\n",
       "    </tr>\n",
       "    <tr>\n",
       "      <th>2</th>\n",
       "      <td>US</td>\n",
       "      <td>Tart and snappy, the flavors of lime flesh and...</td>\n",
       "      <td>NaN</td>\n",
       "      <td>87</td>\n",
       "      <td>14.0</td>\n",
       "      <td>Oregon</td>\n",
       "      <td>Willamette Valley</td>\n",
       "      <td>Willamette Valley</td>\n",
       "      <td>Paul Gregutt</td>\n",
       "      <td>@paulgwine</td>\n",
       "      <td>Rainstorm 2013 Pinot Gris (Willamette Valley)</td>\n",
       "      <td>Pinot Gris</td>\n",
       "      <td>Rainstorm</td>\n",
       "    </tr>\n",
       "    <tr>\n",
       "      <th>3</th>\n",
       "      <td>US</td>\n",
       "      <td>Pineapple rind, lemon pith and orange blossom ...</td>\n",
       "      <td>Reserve Late Harvest</td>\n",
       "      <td>87</td>\n",
       "      <td>13.0</td>\n",
       "      <td>Michigan</td>\n",
       "      <td>Lake Michigan Shore</td>\n",
       "      <td>NaN</td>\n",
       "      <td>Alexander Peartree</td>\n",
       "      <td>NaN</td>\n",
       "      <td>St. Julian 2013 Reserve Late Harvest Riesling ...</td>\n",
       "      <td>Riesling</td>\n",
       "      <td>St. Julian</td>\n",
       "    </tr>\n",
       "    <tr>\n",
       "      <th>4</th>\n",
       "      <td>US</td>\n",
       "      <td>Much like the regular bottling from 2012, this...</td>\n",
       "      <td>Vintner's Reserve Wild Child Block</td>\n",
       "      <td>87</td>\n",
       "      <td>65.0</td>\n",
       "      <td>Oregon</td>\n",
       "      <td>Willamette Valley</td>\n",
       "      <td>Willamette Valley</td>\n",
       "      <td>Paul Gregutt</td>\n",
       "      <td>@paulgwine</td>\n",
       "      <td>Sweet Cheeks 2012 Vintner's Reserve Wild Child...</td>\n",
       "      <td>Pinot Noir</td>\n",
       "      <td>Sweet Cheeks</td>\n",
       "    </tr>\n",
       "  </tbody>\n",
       "</table>\n",
       "</div>"
      ],
      "text/plain": [
       "    country                                        description  \\\n",
       "0     Italy  Aromas include tropical fruit, broom, brimston...   \n",
       "1  Portugal  This is ripe and fruity, a wine that is smooth...   \n",
       "2        US  Tart and snappy, the flavors of lime flesh and...   \n",
       "3        US  Pineapple rind, lemon pith and orange blossom ...   \n",
       "4        US  Much like the regular bottling from 2012, this...   \n",
       "\n",
       "                          designation  points  price           province  \\\n",
       "0                        Vulkà Bianco      87    NaN  Sicily & Sardinia   \n",
       "1                            Avidagos      87   15.0              Douro   \n",
       "2                                 NaN      87   14.0             Oregon   \n",
       "3                Reserve Late Harvest      87   13.0           Michigan   \n",
       "4  Vintner's Reserve Wild Child Block      87   65.0             Oregon   \n",
       "\n",
       "              region_1           region_2         taster_name  \\\n",
       "0                 Etna                NaN       Kerin O’Keefe   \n",
       "1                  NaN                NaN          Roger Voss   \n",
       "2    Willamette Valley  Willamette Valley        Paul Gregutt   \n",
       "3  Lake Michigan Shore                NaN  Alexander Peartree   \n",
       "4    Willamette Valley  Willamette Valley        Paul Gregutt   \n",
       "\n",
       "  taster_twitter_handle                                              title  \\\n",
       "0          @kerinokeefe                  Nicosia 2013 Vulkà Bianco  (Etna)   \n",
       "1            @vossroger      Quinta dos Avidagos 2011 Avidagos Red (Douro)   \n",
       "2           @paulgwine       Rainstorm 2013 Pinot Gris (Willamette Valley)   \n",
       "3                   NaN  St. Julian 2013 Reserve Late Harvest Riesling ...   \n",
       "4           @paulgwine   Sweet Cheeks 2012 Vintner's Reserve Wild Child...   \n",
       "\n",
       "          variety               winery  \n",
       "0     White Blend              Nicosia  \n",
       "1  Portuguese Red  Quinta dos Avidagos  \n",
       "2      Pinot Gris            Rainstorm  \n",
       "3        Riesling           St. Julian  \n",
       "4      Pinot Noir         Sweet Cheeks  "
      ]
     },
     "execution_count": 2,
     "metadata": {},
     "output_type": "execute_result"
    }
   ],
   "source": [
    "reviews.head()"
   ]
  },
  {
   "cell_type": "markdown",
   "id": "6c3e9ea7",
   "metadata": {
    "papermill": {
     "duration": 0.01636,
     "end_time": "2021-08-30T04:39:31.120702",
     "exception": false,
     "start_time": "2021-08-30T04:39:31.104342",
     "status": "completed"
    },
    "tags": []
   },
   "source": [
    "## 1.\n",
    "`region_1` and `region_2` are pretty uninformative names for locale columns in the dataset. Create a copy of `reviews` with these columns renamed to `region` and `locale`, respectively."
   ]
  },
  {
   "cell_type": "code",
   "execution_count": 3,
   "id": "3f6e314a",
   "metadata": {
    "execution": {
     "iopub.execute_input": "2021-08-30T04:39:31.160653Z",
     "iopub.status.busy": "2021-08-30T04:39:31.159574Z",
     "iopub.status.idle": "2021-08-30T04:39:31.195297Z",
     "shell.execute_reply": "2021-08-30T04:39:31.194765Z",
     "shell.execute_reply.started": "2021-08-30T04:34:10.564909Z"
    },
    "papermill": {
     "duration": 0.057958,
     "end_time": "2021-08-30T04:39:31.195469",
     "exception": false,
     "start_time": "2021-08-30T04:39:31.137511",
     "status": "completed"
    },
    "tags": []
   },
   "outputs": [
    {
     "data": {
      "application/javascript": [
       "parent.postMessage({\"jupyterEvent\": \"custom.exercise_interaction\", \"data\": {\"outcomeType\": 1, \"valueTowardsCompletion\": 0.25, \"interactionType\": 1, \"questionType\": 1, \"questionId\": \"1_RenameCols\", \"learnToolsVersion\": \"0.3.4\", \"failureMessage\": \"\", \"exceptionClass\": \"\", \"trace\": \"\"}}, \"*\")"
      ],
      "text/plain": [
       "<IPython.core.display.Javascript object>"
      ]
     },
     "metadata": {},
     "output_type": "display_data"
    },
    {
     "data": {
      "text/markdown": [
       "<span style=\"color:#33cc33\">Correct</span>"
      ],
      "text/plain": [
       "Correct"
      ]
     },
     "metadata": {},
     "output_type": "display_data"
    }
   ],
   "source": [
    "# Your code here\n",
    "renamed = reviews.rename(columns={'region_1': 'region', 'region_2':'locale'})\n",
    "\n",
    "# Check your answer\n",
    "q1.check()"
   ]
  },
  {
   "cell_type": "code",
   "execution_count": 4,
   "id": "50c991c7",
   "metadata": {
    "execution": {
     "iopub.execute_input": "2021-08-30T04:39:31.236483Z",
     "iopub.status.busy": "2021-08-30T04:39:31.235442Z",
     "iopub.status.idle": "2021-08-30T04:39:31.238806Z",
     "shell.execute_reply": "2021-08-30T04:39:31.238107Z"
    },
    "papermill": {
     "duration": 0.02564,
     "end_time": "2021-08-30T04:39:31.238961",
     "exception": false,
     "start_time": "2021-08-30T04:39:31.213321",
     "status": "completed"
    },
    "tags": []
   },
   "outputs": [],
   "source": [
    "#q1.hint()\n",
    "#q1.solution()"
   ]
  },
  {
   "cell_type": "markdown",
   "id": "0e8d4b2e",
   "metadata": {
    "papermill": {
     "duration": 0.017623,
     "end_time": "2021-08-30T04:39:31.274581",
     "exception": false,
     "start_time": "2021-08-30T04:39:31.256958",
     "status": "completed"
    },
    "tags": []
   },
   "source": [
    "## 2.\n",
    "Set the index name in the dataset to `wines`."
   ]
  },
  {
   "cell_type": "code",
   "execution_count": 5,
   "id": "7990c977",
   "metadata": {
    "execution": {
     "iopub.execute_input": "2021-08-30T04:39:31.317073Z",
     "iopub.status.busy": "2021-08-30T04:39:31.315980Z",
     "iopub.status.idle": "2021-08-30T04:39:31.349329Z",
     "shell.execute_reply": "2021-08-30T04:39:31.349852Z",
     "shell.execute_reply.started": "2021-08-30T04:35:52.678642Z"
    },
    "papermill": {
     "duration": 0.05726,
     "end_time": "2021-08-30T04:39:31.350049",
     "exception": false,
     "start_time": "2021-08-30T04:39:31.292789",
     "status": "completed"
    },
    "tags": []
   },
   "outputs": [
    {
     "data": {
      "application/javascript": [
       "parent.postMessage({\"jupyterEvent\": \"custom.exercise_interaction\", \"data\": {\"outcomeType\": 1, \"valueTowardsCompletion\": 0.25, \"interactionType\": 1, \"questionType\": 1, \"questionId\": \"2_RenameIndex\", \"learnToolsVersion\": \"0.3.4\", \"failureMessage\": \"\", \"exceptionClass\": \"\", \"trace\": \"\"}}, \"*\")"
      ],
      "text/plain": [
       "<IPython.core.display.Javascript object>"
      ]
     },
     "metadata": {},
     "output_type": "display_data"
    },
    {
     "data": {
      "text/markdown": [
       "<span style=\"color:#33cc33\">Correct</span>"
      ],
      "text/plain": [
       "Correct"
      ]
     },
     "metadata": {},
     "output_type": "display_data"
    }
   ],
   "source": [
    "reindexed = reviews.rename_axis('wines', axis='rows')\n",
    "\n",
    "# Check your answer\n",
    "q2.check()"
   ]
  },
  {
   "cell_type": "code",
   "execution_count": 6,
   "id": "2bd8aa5f",
   "metadata": {
    "execution": {
     "iopub.execute_input": "2021-08-30T04:39:31.392495Z",
     "iopub.status.busy": "2021-08-30T04:39:31.391525Z",
     "iopub.status.idle": "2021-08-30T04:39:31.394878Z",
     "shell.execute_reply": "2021-08-30T04:39:31.394319Z",
     "shell.execute_reply.started": "2021-08-30T04:35:35.007012Z"
    },
    "papermill": {
     "duration": 0.026331,
     "end_time": "2021-08-30T04:39:31.395033",
     "exception": false,
     "start_time": "2021-08-30T04:39:31.368702",
     "status": "completed"
    },
    "tags": []
   },
   "outputs": [],
   "source": [
    "#q2.hint()\n",
    "#q2.solution()"
   ]
  },
  {
   "cell_type": "markdown",
   "id": "dee36ff4",
   "metadata": {
    "papermill": {
     "duration": 0.018247,
     "end_time": "2021-08-30T04:39:31.432140",
     "exception": false,
     "start_time": "2021-08-30T04:39:31.413893",
     "status": "completed"
    },
    "tags": []
   },
   "source": [
    "## 3.\n",
    "The [Things on Reddit](https://www.kaggle.com/residentmario/things-on-reddit/data) dataset includes product links from a selection of top-ranked forums (\"subreddits\") on reddit.com. Run the cell below to load a dataframe of products mentioned on the */r/gaming* subreddit and another dataframe for products mentioned on the *r//movies* subreddit."
   ]
  },
  {
   "cell_type": "code",
   "execution_count": 7,
   "id": "75214312",
   "metadata": {
    "execution": {
     "iopub.execute_input": "2021-08-30T04:39:31.476629Z",
     "iopub.status.busy": "2021-08-30T04:39:31.475613Z",
     "iopub.status.idle": "2021-08-30T04:39:31.490865Z",
     "shell.execute_reply": "2021-08-30T04:39:31.490161Z",
     "shell.execute_reply.started": "2021-08-30T04:36:04.830061Z"
    },
    "papermill": {
     "duration": 0.040097,
     "end_time": "2021-08-30T04:39:31.491038",
     "exception": false,
     "start_time": "2021-08-30T04:39:31.450941",
     "status": "completed"
    },
    "tags": []
   },
   "outputs": [],
   "source": [
    "gaming_products = pd.read_csv(\"../input/things-on-reddit/top-things/top-things/reddits/g/gaming.csv\")\n",
    "gaming_products['subreddit'] = \"r/gaming\"\n",
    "movie_products = pd.read_csv(\"../input/things-on-reddit/top-things/top-things/reddits/m/movies.csv\")\n",
    "movie_products['subreddit'] = \"r/movies\""
   ]
  },
  {
   "cell_type": "markdown",
   "id": "5a1e9408",
   "metadata": {
    "papermill": {
     "duration": 0.018543,
     "end_time": "2021-08-30T04:39:31.528619",
     "exception": false,
     "start_time": "2021-08-30T04:39:31.510076",
     "status": "completed"
    },
    "tags": []
   },
   "source": [
    "Create a `DataFrame` of products mentioned on *either* subreddit."
   ]
  },
  {
   "cell_type": "code",
   "execution_count": 8,
   "id": "5a82fe74",
   "metadata": {
    "execution": {
     "iopub.execute_input": "2021-08-30T04:39:31.580478Z",
     "iopub.status.busy": "2021-08-30T04:39:31.572837Z",
     "iopub.status.idle": "2021-08-30T04:39:31.587023Z",
     "shell.execute_reply": "2021-08-30T04:39:31.586347Z",
     "shell.execute_reply.started": "2021-08-30T04:36:42.790199Z"
    },
    "papermill": {
     "duration": 0.039863,
     "end_time": "2021-08-30T04:39:31.587200",
     "exception": false,
     "start_time": "2021-08-30T04:39:31.547337",
     "status": "completed"
    },
    "tags": []
   },
   "outputs": [
    {
     "data": {
      "application/javascript": [
       "parent.postMessage({\"jupyterEvent\": \"custom.exercise_interaction\", \"data\": {\"outcomeType\": 1, \"valueTowardsCompletion\": 0.25, \"interactionType\": 1, \"questionType\": 2, \"questionId\": \"3_ConcatReddit\", \"learnToolsVersion\": \"0.3.4\", \"failureMessage\": \"\", \"exceptionClass\": \"\", \"trace\": \"\"}}, \"*\")"
      ],
      "text/plain": [
       "<IPython.core.display.Javascript object>"
      ]
     },
     "metadata": {},
     "output_type": "display_data"
    },
    {
     "data": {
      "text/markdown": [
       "<span style=\"color:#33cc33\">Correct</span>"
      ],
      "text/plain": [
       "Correct"
      ]
     },
     "metadata": {},
     "output_type": "display_data"
    }
   ],
   "source": [
    "combined_products = pd.concat([gaming_products,movie_products])\n",
    "\n",
    "# Check your answer\n",
    "q3.check()"
   ]
  },
  {
   "cell_type": "code",
   "execution_count": 9,
   "id": "69582d94",
   "metadata": {
    "execution": {
     "iopub.execute_input": "2021-08-30T04:39:31.632856Z",
     "iopub.status.busy": "2021-08-30T04:39:31.632092Z",
     "iopub.status.idle": "2021-08-30T04:39:31.635177Z",
     "shell.execute_reply": "2021-08-30T04:39:31.634542Z"
    },
    "papermill": {
     "duration": 0.02806,
     "end_time": "2021-08-30T04:39:31.635337",
     "exception": false,
     "start_time": "2021-08-30T04:39:31.607277",
     "status": "completed"
    },
    "tags": []
   },
   "outputs": [],
   "source": [
    "#q3.hint()\n",
    "#q3.solution()"
   ]
  },
  {
   "cell_type": "markdown",
   "id": "ede71abf",
   "metadata": {
    "papermill": {
     "duration": 0.019773,
     "end_time": "2021-08-30T04:39:31.675098",
     "exception": false,
     "start_time": "2021-08-30T04:39:31.655325",
     "status": "completed"
    },
    "tags": []
   },
   "source": [
    "## 4.\n",
    "The [Powerlifting Database](https://www.kaggle.com/open-powerlifting/powerlifting-database) dataset on Kaggle includes one CSV table for powerlifting meets and a separate one for powerlifting competitors. Run the cell below to load these datasets into dataframes:"
   ]
  },
  {
   "cell_type": "code",
   "execution_count": 10,
   "id": "39980668",
   "metadata": {
    "execution": {
     "iopub.execute_input": "2021-08-30T04:39:31.720181Z",
     "iopub.status.busy": "2021-08-30T04:39:31.719506Z",
     "iopub.status.idle": "2021-08-30T04:39:32.744926Z",
     "shell.execute_reply": "2021-08-30T04:39:32.744317Z",
     "shell.execute_reply.started": "2021-08-30T04:36:46.645384Z"
    },
    "papermill": {
     "duration": 1.049893,
     "end_time": "2021-08-30T04:39:32.745098",
     "exception": false,
     "start_time": "2021-08-30T04:39:31.695205",
     "status": "completed"
    },
    "tags": []
   },
   "outputs": [],
   "source": [
    "powerlifting_meets = pd.read_csv(\"../input/powerlifting-database/meets.csv\")\n",
    "powerlifting_competitors = pd.read_csv(\"../input/powerlifting-database/openpowerlifting.csv\")"
   ]
  },
  {
   "cell_type": "markdown",
   "id": "4400467d",
   "metadata": {
    "papermill": {
     "duration": 0.020323,
     "end_time": "2021-08-30T04:39:32.786954",
     "exception": false,
     "start_time": "2021-08-30T04:39:32.766631",
     "status": "completed"
    },
    "tags": []
   },
   "source": [
    "Both tables include references to a `MeetID`, a unique key for each meet (competition) included in the database. Using this, generate a dataset combining the two tables into one."
   ]
  },
  {
   "cell_type": "code",
   "execution_count": 11,
   "id": "ca750fb3",
   "metadata": {
    "execution": {
     "iopub.execute_input": "2021-08-30T04:39:32.835179Z",
     "iopub.status.busy": "2021-08-30T04:39:32.834432Z",
     "iopub.status.idle": "2021-08-30T04:39:34.428508Z",
     "shell.execute_reply": "2021-08-30T04:39:34.427878Z",
     "shell.execute_reply.started": "2021-08-30T04:38:53.094362Z"
    },
    "papermill": {
     "duration": 1.620985,
     "end_time": "2021-08-30T04:39:34.428666",
     "exception": false,
     "start_time": "2021-08-30T04:39:32.807681",
     "status": "completed"
    },
    "tags": []
   },
   "outputs": [
    {
     "data": {
      "application/javascript": [
       "parent.postMessage({\"jupyterEvent\": \"custom.exercise_interaction\", \"data\": {\"outcomeType\": 1, \"valueTowardsCompletion\": 0.25, \"interactionType\": 1, \"questionType\": 2, \"questionId\": \"4_JoinLifting\", \"learnToolsVersion\": \"0.3.4\", \"failureMessage\": \"\", \"exceptionClass\": \"\", \"trace\": \"\"}}, \"*\")"
      ],
      "text/plain": [
       "<IPython.core.display.Javascript object>"
      ]
     },
     "metadata": {},
     "output_type": "display_data"
    },
    {
     "data": {
      "text/markdown": [
       "<span style=\"color:#33cc33\">Correct</span>"
      ],
      "text/plain": [
       "Correct"
      ]
     },
     "metadata": {},
     "output_type": "display_data"
    }
   ],
   "source": [
    "powerlifting_combined = powerlifting_meets.set_index(\"MeetID\").join(powerlifting_competitors.set_index(\"MeetID\"))\n",
    "\n",
    "# Check your answer\n",
    "q4.check()"
   ]
  },
  {
   "cell_type": "code",
   "execution_count": 12,
   "id": "f40d632f",
   "metadata": {
    "execution": {
     "iopub.execute_input": "2021-08-30T04:39:34.475059Z",
     "iopub.status.busy": "2021-08-30T04:39:34.474353Z",
     "iopub.status.idle": "2021-08-30T04:39:34.477686Z",
     "shell.execute_reply": "2021-08-30T04:39:34.477019Z",
     "shell.execute_reply.started": "2021-08-30T04:38:35.068197Z"
    },
    "papermill": {
     "duration": 0.028281,
     "end_time": "2021-08-30T04:39:34.477856",
     "exception": false,
     "start_time": "2021-08-30T04:39:34.449575",
     "status": "completed"
    },
    "tags": []
   },
   "outputs": [],
   "source": [
    "#q4.hint()\n",
    "#q4.solution()"
   ]
  },
  {
   "cell_type": "markdown",
   "id": "01fa54ae",
   "metadata": {
    "papermill": {
     "duration": 0.020578,
     "end_time": "2021-08-30T04:39:34.519756",
     "exception": false,
     "start_time": "2021-08-30T04:39:34.499178",
     "status": "completed"
    },
    "tags": []
   },
   "source": [
    "# Congratulations!\n",
    "\n",
    "You've finished the Pandas micro-course.  Many data scientists feel efficiency with Pandas is the most useful and practical skill they have, because it allows you to progress quickly in any project you have.\n",
    "\n",
    "If you'd like to apply your new skills to examining geospatial data, you're encouraged to check out our **[Geospatial Analysis](https://www.kaggle.com/learn/geospatial-analysis)** micro-course.\n",
    "\n",
    "You can also take advantage of your Pandas skills by entering a **[Kaggle Competition](https://www.kaggle.com/competitions)** or by answering a question you find interesting using **[Kaggle Datasets](https://www.kaggle.com/datasets)**."
   ]
  },
  {
   "cell_type": "markdown",
   "id": "1a33a755",
   "metadata": {
    "papermill": {
     "duration": 0.02053,
     "end_time": "2021-08-30T04:39:34.561130",
     "exception": false,
     "start_time": "2021-08-30T04:39:34.540600",
     "status": "completed"
    },
    "tags": []
   },
   "source": [
    "---\n",
    "\n",
    "\n",
    "\n",
    "\n",
    "*Have questions or comments? Visit the [Learn Discussion forum](https://www.kaggle.com/learn-forum/161299) to chat with other Learners.*"
   ]
  }
 ],
 "metadata": {
  "kernelspec": {
   "display_name": "Python 3",
   "language": "python",
   "name": "python3"
  },
  "language_info": {
   "codemirror_mode": {
    "name": "ipython",
    "version": 3
   },
   "file_extension": ".py",
   "mimetype": "text/x-python",
   "name": "python",
   "nbconvert_exporter": "python",
   "pygments_lexer": "ipython3",
   "version": "3.7.10"
  },
  "papermill": {
   "default_parameters": {},
   "duration": 18.907964,
   "end_time": "2021-08-30T04:39:36.157116",
   "environment_variables": {},
   "exception": null,
   "input_path": "__notebook__.ipynb",
   "output_path": "__notebook__.ipynb",
   "parameters": {},
   "start_time": "2021-08-30T04:39:17.249152",
   "version": "2.3.3"
  }
 },
 "nbformat": 4,
 "nbformat_minor": 5
}
