{
 "cells": [
  {
   "cell_type": "markdown",
   "id": "12dcc0e4",
   "metadata": {
    "papermill": {
     "duration": 0.01089,
     "end_time": "2021-08-30T04:31:53.461080",
     "exception": false,
     "start_time": "2021-08-30T04:31:53.450190",
     "status": "completed"
    },
    "tags": []
   },
   "source": [
    "**This notebook is an exercise in the [Pandas](https://www.kaggle.com/learn/pandas) course.  You can reference the tutorial at [this link](https://www.kaggle.com/residentmario/data-types-and-missing-values).**\n",
    "\n",
    "---\n"
   ]
  },
  {
   "cell_type": "markdown",
   "id": "d843b147",
   "metadata": {
    "papermill": {
     "duration": 0.013734,
     "end_time": "2021-08-30T04:31:53.488118",
     "exception": false,
     "start_time": "2021-08-30T04:31:53.474384",
     "status": "completed"
    },
    "tags": []
   },
   "source": [
    "# Introduction\n",
    "\n",
    "Run the following cell to load your data and some utility functions."
   ]
  },
  {
   "cell_type": "code",
   "execution_count": 1,
   "id": "546772fa",
   "metadata": {
    "execution": {
     "iopub.execute_input": "2021-08-30T04:31:53.527365Z",
     "iopub.status.busy": "2021-08-30T04:31:53.526358Z",
     "iopub.status.idle": "2021-08-30T04:31:56.946133Z",
     "shell.execute_reply": "2021-08-30T04:31:56.946617Z",
     "shell.execute_reply.started": "2021-08-30T04:28:07.252186Z"
    },
    "papermill": {
     "duration": 3.448102,
     "end_time": "2021-08-30T04:31:56.946953",
     "exception": false,
     "start_time": "2021-08-30T04:31:53.498851",
     "status": "completed"
    },
    "tags": []
   },
   "outputs": [
    {
     "name": "stdout",
     "output_type": "stream",
     "text": [
      "Setup complete.\n"
     ]
    }
   ],
   "source": [
    "import pandas as pd\n",
    "\n",
    "reviews = pd.read_csv(\"../input/wine-reviews/winemag-data-130k-v2.csv\", index_col=0)\n",
    "\n",
    "from learntools.core import binder; binder.bind(globals())\n",
    "from learntools.pandas.data_types_and_missing_data import *\n",
    "print(\"Setup complete.\")"
   ]
  },
  {
   "cell_type": "markdown",
   "id": "ca6037e0",
   "metadata": {
    "papermill": {
     "duration": 0.00925,
     "end_time": "2021-08-30T04:31:56.966103",
     "exception": false,
     "start_time": "2021-08-30T04:31:56.956853",
     "status": "completed"
    },
    "tags": []
   },
   "source": [
    "# Exercises"
   ]
  },
  {
   "cell_type": "markdown",
   "id": "21a4a24f",
   "metadata": {
    "papermill": {
     "duration": 0.008951,
     "end_time": "2021-08-30T04:31:56.984497",
     "exception": false,
     "start_time": "2021-08-30T04:31:56.975546",
     "status": "completed"
    },
    "tags": []
   },
   "source": [
    "## 1. \n",
    "What is the data type of the `points` column in the dataset?"
   ]
  },
  {
   "cell_type": "code",
   "execution_count": 2,
   "id": "1247d30c",
   "metadata": {
    "execution": {
     "iopub.execute_input": "2021-08-30T04:31:57.012049Z",
     "iopub.status.busy": "2021-08-30T04:31:57.010991Z",
     "iopub.status.idle": "2021-08-30T04:31:57.017396Z",
     "shell.execute_reply": "2021-08-30T04:31:57.016830Z",
     "shell.execute_reply.started": "2021-08-30T04:28:24.704996Z"
    },
    "papermill": {
     "duration": 0.023739,
     "end_time": "2021-08-30T04:31:57.017539",
     "exception": false,
     "start_time": "2021-08-30T04:31:56.993800",
     "status": "completed"
    },
    "tags": []
   },
   "outputs": [
    {
     "data": {
      "application/javascript": [
       "parent.postMessage({\"jupyterEvent\": \"custom.exercise_interaction\", \"data\": {\"outcomeType\": 1, \"valueTowardsCompletion\": 0.25, \"interactionType\": 1, \"questionType\": 1, \"questionId\": \"1_PointsDtype\", \"learnToolsVersion\": \"0.3.4\", \"failureMessage\": \"\", \"exceptionClass\": \"\", \"trace\": \"\"}}, \"*\")"
      ],
      "text/plain": [
       "<IPython.core.display.Javascript object>"
      ]
     },
     "metadata": {},
     "output_type": "display_data"
    },
    {
     "data": {
      "text/markdown": [
       "<span style=\"color:#33cc33\">Correct</span>"
      ],
      "text/plain": [
       "Correct"
      ]
     },
     "metadata": {},
     "output_type": "display_data"
    }
   ],
   "source": [
    "# Your code here\n",
    "dtype = reviews.points.dtype\n",
    "\n",
    "# Check your answer\n",
    "q1.check()"
   ]
  },
  {
   "cell_type": "code",
   "execution_count": 3,
   "id": "14b4981e",
   "metadata": {
    "execution": {
     "iopub.execute_input": "2021-08-30T04:31:57.043062Z",
     "iopub.status.busy": "2021-08-30T04:31:57.041947Z",
     "iopub.status.idle": "2021-08-30T04:31:57.044919Z",
     "shell.execute_reply": "2021-08-30T04:31:57.044310Z"
    },
    "papermill": {
     "duration": 0.017037,
     "end_time": "2021-08-30T04:31:57.045062",
     "exception": false,
     "start_time": "2021-08-30T04:31:57.028025",
     "status": "completed"
    },
    "tags": []
   },
   "outputs": [],
   "source": [
    "#q1.hint()\n",
    "#q1.solution()"
   ]
  },
  {
   "cell_type": "markdown",
   "id": "d585b199",
   "metadata": {
    "papermill": {
     "duration": 0.010436,
     "end_time": "2021-08-30T04:31:57.066031",
     "exception": false,
     "start_time": "2021-08-30T04:31:57.055595",
     "status": "completed"
    },
    "tags": []
   },
   "source": [
    "## 2. \n",
    "Create a Series from entries in the `points` column, but convert the entries to strings. Hint: strings are `str` in native Python."
   ]
  },
  {
   "cell_type": "code",
   "execution_count": 4,
   "id": "50cce483",
   "metadata": {
    "execution": {
     "iopub.execute_input": "2021-08-30T04:31:57.090154Z",
     "iopub.status.busy": "2021-08-30T04:31:57.089567Z",
     "iopub.status.idle": "2021-08-30T04:31:57.185479Z",
     "shell.execute_reply": "2021-08-30T04:31:57.185038Z",
     "shell.execute_reply.started": "2021-08-30T04:29:08.142880Z"
    },
    "papermill": {
     "duration": 0.109034,
     "end_time": "2021-08-30T04:31:57.185629",
     "exception": false,
     "start_time": "2021-08-30T04:31:57.076595",
     "status": "completed"
    },
    "tags": []
   },
   "outputs": [
    {
     "data": {
      "application/javascript": [
       "parent.postMessage({\"jupyterEvent\": \"custom.exercise_interaction\", \"data\": {\"outcomeType\": 1, \"valueTowardsCompletion\": 0.25, \"interactionType\": 1, \"questionType\": 1, \"questionId\": \"2_StrPoints\", \"learnToolsVersion\": \"0.3.4\", \"failureMessage\": \"\", \"exceptionClass\": \"\", \"trace\": \"\"}}, \"*\")"
      ],
      "text/plain": [
       "<IPython.core.display.Javascript object>"
      ]
     },
     "metadata": {},
     "output_type": "display_data"
    },
    {
     "data": {
      "text/markdown": [
       "<span style=\"color:#33cc33\">Correct</span>"
      ],
      "text/plain": [
       "Correct"
      ]
     },
     "metadata": {},
     "output_type": "display_data"
    }
   ],
   "source": [
    "point_strings = reviews.points.astype('str')\n",
    "\n",
    "# Check your answer\n",
    "q2.check()"
   ]
  },
  {
   "cell_type": "code",
   "execution_count": 5,
   "id": "07dba9bc",
   "metadata": {
    "execution": {
     "iopub.execute_input": "2021-08-30T04:31:57.212159Z",
     "iopub.status.busy": "2021-08-30T04:31:57.211533Z",
     "iopub.status.idle": "2021-08-30T04:31:57.213347Z",
     "shell.execute_reply": "2021-08-30T04:31:57.213803Z"
    },
    "papermill": {
     "duration": 0.01712,
     "end_time": "2021-08-30T04:31:57.213974",
     "exception": false,
     "start_time": "2021-08-30T04:31:57.196854",
     "status": "completed"
    },
    "tags": []
   },
   "outputs": [],
   "source": [
    "#q2.hint()\n",
    "#q2.solution()"
   ]
  },
  {
   "cell_type": "markdown",
   "id": "21edb3f1",
   "metadata": {
    "papermill": {
     "duration": 0.010872,
     "end_time": "2021-08-30T04:31:57.236455",
     "exception": false,
     "start_time": "2021-08-30T04:31:57.225583",
     "status": "completed"
    },
    "tags": []
   },
   "source": [
    "## 3.\n",
    "Sometimes the price column is null. How many reviews in the dataset are missing a price?"
   ]
  },
  {
   "cell_type": "code",
   "execution_count": 6,
   "id": "3cc256b6",
   "metadata": {
    "execution": {
     "iopub.execute_input": "2021-08-30T04:31:57.262234Z",
     "iopub.status.busy": "2021-08-30T04:31:57.261630Z",
     "iopub.status.idle": "2021-08-30T04:31:57.268725Z",
     "shell.execute_reply": "2021-08-30T04:31:57.269158Z",
     "shell.execute_reply.started": "2021-08-30T04:30:46.118430Z"
    },
    "papermill": {
     "duration": 0.021529,
     "end_time": "2021-08-30T04:31:57.269328",
     "exception": false,
     "start_time": "2021-08-30T04:31:57.247799",
     "status": "completed"
    },
    "tags": []
   },
   "outputs": [
    {
     "data": {
      "application/javascript": [
       "parent.postMessage({\"jupyterEvent\": \"custom.exercise_interaction\", \"data\": {\"outcomeType\": 1, \"valueTowardsCompletion\": 0.25, \"interactionType\": 1, \"questionType\": 1, \"questionId\": \"3_CountMissingPrices\", \"learnToolsVersion\": \"0.3.4\", \"failureMessage\": \"\", \"exceptionClass\": \"\", \"trace\": \"\"}}, \"*\")"
      ],
      "text/plain": [
       "<IPython.core.display.Javascript object>"
      ]
     },
     "metadata": {},
     "output_type": "display_data"
    },
    {
     "data": {
      "text/markdown": [
       "<span style=\"color:#33cc33\">Correct</span>"
      ],
      "text/plain": [
       "Correct"
      ]
     },
     "metadata": {},
     "output_type": "display_data"
    }
   ],
   "source": [
    "n_missing_prices = pd.isnull(reviews.price).sum()\n",
    "\n",
    "# Check your answer\n",
    "q3.check()"
   ]
  },
  {
   "cell_type": "code",
   "execution_count": 7,
   "id": "fd9a57a8",
   "metadata": {
    "execution": {
     "iopub.execute_input": "2021-08-30T04:31:57.296116Z",
     "iopub.status.busy": "2021-08-30T04:31:57.295523Z",
     "iopub.status.idle": "2021-08-30T04:31:57.298317Z",
     "shell.execute_reply": "2021-08-30T04:31:57.298719Z"
    },
    "papermill": {
     "duration": 0.017647,
     "end_time": "2021-08-30T04:31:57.298883",
     "exception": false,
     "start_time": "2021-08-30T04:31:57.281236",
     "status": "completed"
    },
    "tags": []
   },
   "outputs": [],
   "source": [
    "#q3.hint()\n",
    "#q3.solution()"
   ]
  },
  {
   "cell_type": "markdown",
   "id": "e23eeb4c",
   "metadata": {
    "papermill": {
     "duration": 0.01176,
     "end_time": "2021-08-30T04:31:57.322558",
     "exception": false,
     "start_time": "2021-08-30T04:31:57.310798",
     "status": "completed"
    },
    "tags": []
   },
   "source": [
    "## 4.\n",
    "What are the most common wine-producing regions? Create a Series counting the number of times each value occurs in the `region_1` field. This field is often missing data, so replace missing values with `Unknown`. Sort in descending order.  Your output should look something like this:\n",
    "\n",
    "```\n",
    "Unknown                    21247\n",
    "Napa Valley                 4480\n",
    "                           ...  \n",
    "Bardolino Superiore            1\n",
    "Primitivo del Tarantino        1\n",
    "Name: region_1, Length: 1230, dtype: int64\n",
    "```"
   ]
  },
  {
   "cell_type": "code",
   "execution_count": 8,
   "id": "590bb222",
   "metadata": {
    "execution": {
     "iopub.execute_input": "2021-08-30T04:31:57.356781Z",
     "iopub.status.busy": "2021-08-30T04:31:57.356146Z",
     "iopub.status.idle": "2021-08-30T04:31:57.398873Z",
     "shell.execute_reply": "2021-08-30T04:31:57.398289Z",
     "shell.execute_reply.started": "2021-08-30T04:31:31.498508Z"
    },
    "papermill": {
     "duration": 0.064478,
     "end_time": "2021-08-30T04:31:57.399024",
     "exception": false,
     "start_time": "2021-08-30T04:31:57.334546",
     "status": "completed"
    },
    "tags": []
   },
   "outputs": [
    {
     "data": {
      "application/javascript": [
       "parent.postMessage({\"jupyterEvent\": \"custom.exercise_interaction\", \"data\": {\"outcomeType\": 1, \"valueTowardsCompletion\": 0.25, \"interactionType\": 1, \"questionType\": 2, \"questionId\": \"4_ReviewsPerRegion\", \"learnToolsVersion\": \"0.3.4\", \"failureMessage\": \"\", \"exceptionClass\": \"\", \"trace\": \"\"}}, \"*\")"
      ],
      "text/plain": [
       "<IPython.core.display.Javascript object>"
      ]
     },
     "metadata": {},
     "output_type": "display_data"
    },
    {
     "data": {
      "text/markdown": [
       "<span style=\"color:#33cc33\">Correct</span>"
      ],
      "text/plain": [
       "Correct"
      ]
     },
     "metadata": {},
     "output_type": "display_data"
    }
   ],
   "source": [
    "reviews_per_region = reviews.region_1.fillna('Unknown').value_counts().sort_values(ascending=False)\n",
    "\n",
    "# Check your answer\n",
    "q4.check()"
   ]
  },
  {
   "cell_type": "code",
   "execution_count": 9,
   "id": "e0edb733",
   "metadata": {
    "execution": {
     "iopub.execute_input": "2021-08-30T04:31:57.429158Z",
     "iopub.status.busy": "2021-08-30T04:31:57.428459Z",
     "iopub.status.idle": "2021-08-30T04:31:57.431283Z",
     "shell.execute_reply": "2021-08-30T04:31:57.430810Z",
     "shell.execute_reply.started": "2021-08-30T04:31:14.035823Z"
    },
    "papermill": {
     "duration": 0.019449,
     "end_time": "2021-08-30T04:31:57.431422",
     "exception": false,
     "start_time": "2021-08-30T04:31:57.411973",
     "status": "completed"
    },
    "tags": []
   },
   "outputs": [],
   "source": [
    "#q4.hint()\n",
    "#q4.solution()"
   ]
  },
  {
   "cell_type": "markdown",
   "id": "bf69dacc",
   "metadata": {
    "papermill": {
     "duration": 0.013024,
     "end_time": "2021-08-30T04:31:57.457480",
     "exception": false,
     "start_time": "2021-08-30T04:31:57.444456",
     "status": "completed"
    },
    "tags": []
   },
   "source": [
    "# Keep going\n",
    "\n",
    "Move on to **[renaming and combining](https://www.kaggle.com/residentmario/renaming-and-combining)**."
   ]
  },
  {
   "cell_type": "markdown",
   "id": "08d80a5f",
   "metadata": {
    "papermill": {
     "duration": 0.012287,
     "end_time": "2021-08-30T04:31:57.483018",
     "exception": false,
     "start_time": "2021-08-30T04:31:57.470731",
     "status": "completed"
    },
    "tags": []
   },
   "source": [
    "---\n",
    "\n",
    "\n",
    "\n",
    "\n",
    "*Have questions or comments? Visit the [Learn Discussion forum](https://www.kaggle.com/learn-forum/161299) to chat with other Learners.*"
   ]
  }
 ],
 "metadata": {
  "kernelspec": {
   "display_name": "Python 3",
   "language": "python",
   "name": "python3"
  },
  "language_info": {
   "codemirror_mode": {
    "name": "ipython",
    "version": 3
   },
   "file_extension": ".py",
   "mimetype": "text/x-python",
   "name": "python",
   "nbconvert_exporter": "python",
   "pygments_lexer": "ipython3",
   "version": "3.7.10"
  },
  "papermill": {
   "default_parameters": {},
   "duration": 12.793047,
   "end_time": "2021-08-30T04:31:59.017452",
   "environment_variables": {},
   "exception": null,
   "input_path": "__notebook__.ipynb",
   "output_path": "__notebook__.ipynb",
   "parameters": {},
   "start_time": "2021-08-30T04:31:46.224405",
   "version": "2.3.3"
  }
 },
 "nbformat": 4,
 "nbformat_minor": 5
}
