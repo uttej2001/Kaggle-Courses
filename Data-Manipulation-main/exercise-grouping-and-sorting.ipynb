{
 "cells": [
  {
   "cell_type": "markdown",
   "id": "702e56a4",
   "metadata": {
    "papermill": {
     "duration": 0.018539,
     "end_time": "2021-08-30T04:27:19.168046",
     "exception": false,
     "start_time": "2021-08-30T04:27:19.149507",
     "status": "completed"
    },
    "tags": []
   },
   "source": [
    "**This notebook is an exercise in the [Pandas](https://www.kaggle.com/learn/pandas) course.  You can reference the tutorial at [this link](https://www.kaggle.com/residentmario/grouping-and-sorting).**\n",
    "\n",
    "---\n"
   ]
  },
  {
   "cell_type": "markdown",
   "id": "81a1a4bc",
   "metadata": {
    "papermill": {
     "duration": 0.017168,
     "end_time": "2021-08-30T04:27:19.202955",
     "exception": false,
     "start_time": "2021-08-30T04:27:19.185787",
     "status": "completed"
    },
    "tags": []
   },
   "source": [
    "# Introduction\n",
    "\n",
    "In these exercises we'll apply groupwise analysis to our dataset.\n",
    "\n",
    "Run the code cell below to load the data before running the exercises."
   ]
  },
  {
   "cell_type": "code",
   "execution_count": 1,
   "id": "d2f3c24f",
   "metadata": {
    "execution": {
     "iopub.execute_input": "2021-08-30T04:27:19.247205Z",
     "iopub.status.busy": "2021-08-30T04:27:19.245930Z",
     "iopub.status.idle": "2021-08-30T04:27:22.492008Z",
     "shell.execute_reply": "2021-08-30T04:27:22.491328Z",
     "shell.execute_reply.started": "2021-08-30T04:10:10.530027Z"
    },
    "papermill": {
     "duration": 3.27181,
     "end_time": "2021-08-30T04:27:22.492270",
     "exception": false,
     "start_time": "2021-08-30T04:27:19.220460",
     "status": "completed"
    },
    "tags": []
   },
   "outputs": [
    {
     "name": "stdout",
     "output_type": "stream",
     "text": [
      "Setup complete.\n"
     ]
    }
   ],
   "source": [
    "import pandas as pd\n",
    "\n",
    "reviews = pd.read_csv(\"../input/wine-reviews/winemag-data-130k-v2.csv\", index_col=0)\n",
    "#pd.set_option(\"display.max_rows\", 5)\n",
    "\n",
    "from learntools.core import binder; binder.bind(globals())\n",
    "from learntools.pandas.grouping_and_sorting import *\n",
    "print(\"Setup complete.\")"
   ]
  },
  {
   "cell_type": "markdown",
   "id": "8b3aa6c8",
   "metadata": {
    "papermill": {
     "duration": 0.017687,
     "end_time": "2021-08-30T04:27:22.529424",
     "exception": false,
     "start_time": "2021-08-30T04:27:22.511737",
     "status": "completed"
    },
    "tags": []
   },
   "source": [
    "# Exercises"
   ]
  },
  {
   "cell_type": "markdown",
   "id": "a638457a",
   "metadata": {
    "papermill": {
     "duration": 0.017577,
     "end_time": "2021-08-30T04:27:22.565232",
     "exception": false,
     "start_time": "2021-08-30T04:27:22.547655",
     "status": "completed"
    },
    "tags": []
   },
   "source": [
    "## 1.\n",
    "Who are the most common wine reviewers in the dataset? Create a `Series` whose index is the `taster_twitter_handle` category from the dataset, and whose values count how many reviews each person wrote."
   ]
  },
  {
   "cell_type": "code",
   "execution_count": 2,
   "id": "5257403e",
   "metadata": {
    "execution": {
     "iopub.execute_input": "2021-08-30T04:27:22.604216Z",
     "iopub.status.busy": "2021-08-30T04:27:22.603582Z",
     "iopub.status.idle": "2021-08-30T04:27:22.642562Z",
     "shell.execute_reply": "2021-08-30T04:27:22.643059Z",
     "shell.execute_reply.started": "2021-08-30T04:14:35.444313Z"
    },
    "papermill": {
     "duration": 0.060017,
     "end_time": "2021-08-30T04:27:22.643228",
     "exception": false,
     "start_time": "2021-08-30T04:27:22.583211",
     "status": "completed"
    },
    "tags": []
   },
   "outputs": [
    {
     "data": {
      "application/javascript": [
       "parent.postMessage({\"jupyterEvent\": \"custom.exercise_interaction\", \"data\": {\"outcomeType\": 1, \"valueTowardsCompletion\": 0.16666666666666666, \"interactionType\": 1, \"questionType\": 1, \"questionId\": \"1_ReviewsWritten\", \"learnToolsVersion\": \"0.3.4\", \"failureMessage\": \"\", \"exceptionClass\": \"\", \"trace\": \"\"}}, \"*\")"
      ],
      "text/plain": [
       "<IPython.core.display.Javascript object>"
      ]
     },
     "metadata": {},
     "output_type": "display_data"
    },
    {
     "data": {
      "text/markdown": [
       "<span style=\"color:#33cc33\">Correct:</span> \n",
       "\n",
       "\n",
       "```python\n",
       "reviews_written = reviews.groupby('taster_twitter_handle').size()\n",
       "```\n",
       "or\n",
       "```python\n",
       "reviews_written = reviews.groupby('taster_twitter_handle').taster_twitter_handle.count()\n",
       "```\n"
      ],
      "text/plain": [
       "Correct: \n",
       "\n",
       "\n",
       "```python\n",
       "reviews_written = reviews.groupby('taster_twitter_handle').size()\n",
       "```\n",
       "or\n",
       "```python\n",
       "reviews_written = reviews.groupby('taster_twitter_handle').taster_twitter_handle.count()\n",
       "```"
      ]
     },
     "metadata": {},
     "output_type": "display_data"
    }
   ],
   "source": [
    "# Your code here\n",
    "reviews_written = reviews.groupby('taster_twitter_handle').taster_twitter_handle.count()\n",
    "\n",
    "# Check your answer\n",
    "q1.check()"
   ]
  },
  {
   "cell_type": "code",
   "execution_count": 3,
   "id": "4e87c9b5",
   "metadata": {
    "execution": {
     "iopub.execute_input": "2021-08-30T04:27:22.687218Z",
     "iopub.status.busy": "2021-08-30T04:27:22.686573Z",
     "iopub.status.idle": "2021-08-30T04:27:22.689802Z",
     "shell.execute_reply": "2021-08-30T04:27:22.690339Z",
     "shell.execute_reply.started": "2021-08-30T04:13:41.811557Z"
    },
    "papermill": {
     "duration": 0.027367,
     "end_time": "2021-08-30T04:27:22.690515",
     "exception": false,
     "start_time": "2021-08-30T04:27:22.663148",
     "status": "completed"
    },
    "tags": []
   },
   "outputs": [],
   "source": [
    "#q1.hint()\n",
    "#q1.solution()"
   ]
  },
  {
   "cell_type": "markdown",
   "id": "321832f2",
   "metadata": {
    "papermill": {
     "duration": 0.018918,
     "end_time": "2021-08-30T04:27:22.729075",
     "exception": false,
     "start_time": "2021-08-30T04:27:22.710157",
     "status": "completed"
    },
    "tags": []
   },
   "source": [
    "## 2.\n",
    "What is the best wine I can buy for a given amount of money? Create a `Series` whose index is wine prices and whose values is the maximum number of points a wine costing that much was given in a review. Sort the values by price, ascending (so that `4.0` dollars is at the top and `3300.0` dollars is at the bottom)."
   ]
  },
  {
   "cell_type": "code",
   "execution_count": 4,
   "id": "13524347",
   "metadata": {
    "execution": {
     "iopub.execute_input": "2021-08-30T04:27:22.770774Z",
     "iopub.status.busy": "2021-08-30T04:27:22.770129Z",
     "iopub.status.idle": "2021-08-30T04:27:22.783715Z",
     "shell.execute_reply": "2021-08-30T04:27:22.783217Z",
     "shell.execute_reply.started": "2021-08-30T04:17:20.212196Z"
    },
    "papermill": {
     "duration": 0.035525,
     "end_time": "2021-08-30T04:27:22.783896",
     "exception": false,
     "start_time": "2021-08-30T04:27:22.748371",
     "status": "completed"
    },
    "tags": []
   },
   "outputs": [
    {
     "data": {
      "application/javascript": [
       "parent.postMessage({\"jupyterEvent\": \"custom.exercise_interaction\", \"data\": {\"outcomeType\": 1, \"valueTowardsCompletion\": 0.16666666666666666, \"interactionType\": 1, \"questionType\": 1, \"questionId\": \"2_BestRatingPerPrice\", \"learnToolsVersion\": \"0.3.4\", \"failureMessage\": \"\", \"exceptionClass\": \"\", \"trace\": \"\"}}, \"*\")"
      ],
      "text/plain": [
       "<IPython.core.display.Javascript object>"
      ]
     },
     "metadata": {},
     "output_type": "display_data"
    },
    {
     "data": {
      "text/markdown": [
       "<span style=\"color:#33cc33\">Correct</span>"
      ],
      "text/plain": [
       "Correct"
      ]
     },
     "metadata": {},
     "output_type": "display_data"
    }
   ],
   "source": [
    "best_rating_per_price = reviews.groupby('price')['points'].max().sort_index()\n",
    "\n",
    "# Check your answer\n",
    "q2.check()"
   ]
  },
  {
   "cell_type": "code",
   "execution_count": 5,
   "id": "25eba51e",
   "metadata": {
    "execution": {
     "iopub.execute_input": "2021-08-30T04:27:22.828643Z",
     "iopub.status.busy": "2021-08-30T04:27:22.827998Z",
     "iopub.status.idle": "2021-08-30T04:27:22.831983Z",
     "shell.execute_reply": "2021-08-30T04:27:22.832492Z",
     "shell.execute_reply.started": "2021-08-30T04:16:50.831749Z"
    },
    "papermill": {
     "duration": 0.028881,
     "end_time": "2021-08-30T04:27:22.832668",
     "exception": false,
     "start_time": "2021-08-30T04:27:22.803787",
     "status": "completed"
    },
    "tags": []
   },
   "outputs": [],
   "source": [
    "#q2.hint()\n",
    "#q2.solution()"
   ]
  },
  {
   "cell_type": "markdown",
   "id": "40cba25f",
   "metadata": {
    "papermill": {
     "duration": 0.020091,
     "end_time": "2021-08-30T04:27:22.872733",
     "exception": false,
     "start_time": "2021-08-30T04:27:22.852642",
     "status": "completed"
    },
    "tags": []
   },
   "source": [
    "## 3.\n",
    "What are the minimum and maximum prices for each `variety` of wine? Create a `DataFrame` whose index is the `variety` category from the dataset and whose values are the `min` and `max` values thereof."
   ]
  },
  {
   "cell_type": "code",
   "execution_count": 6,
   "id": "f1169bc5",
   "metadata": {
    "execution": {
     "iopub.execute_input": "2021-08-30T04:27:22.918612Z",
     "iopub.status.busy": "2021-08-30T04:27:22.917961Z",
     "iopub.status.idle": "2021-08-30T04:27:22.956306Z",
     "shell.execute_reply": "2021-08-30T04:27:22.955619Z",
     "shell.execute_reply.started": "2021-08-30T04:19:14.664613Z"
    },
    "papermill": {
     "duration": 0.063354,
     "end_time": "2021-08-30T04:27:22.956464",
     "exception": false,
     "start_time": "2021-08-30T04:27:22.893110",
     "status": "completed"
    },
    "tags": []
   },
   "outputs": [
    {
     "data": {
      "application/javascript": [
       "parent.postMessage({\"jupyterEvent\": \"custom.exercise_interaction\", \"data\": {\"outcomeType\": 1, \"valueTowardsCompletion\": 0.16666666666666666, \"interactionType\": 1, \"questionType\": 1, \"questionId\": \"3_PriceExtremes\", \"learnToolsVersion\": \"0.3.4\", \"failureMessage\": \"\", \"exceptionClass\": \"\", \"trace\": \"\"}}, \"*\")"
      ],
      "text/plain": [
       "<IPython.core.display.Javascript object>"
      ]
     },
     "metadata": {},
     "output_type": "display_data"
    },
    {
     "data": {
      "text/markdown": [
       "<span style=\"color:#33cc33\">Correct</span>"
      ],
      "text/plain": [
       "Correct"
      ]
     },
     "metadata": {},
     "output_type": "display_data"
    }
   ],
   "source": [
    "price_extremes = reviews.groupby(['variety']).price.agg([min, max])\n",
    "\n",
    "# Check your answer\n",
    "q3.check()"
   ]
  },
  {
   "cell_type": "code",
   "execution_count": 7,
   "id": "7c3e5834",
   "metadata": {
    "execution": {
     "iopub.execute_input": "2021-08-30T04:27:23.001669Z",
     "iopub.status.busy": "2021-08-30T04:27:23.000710Z",
     "iopub.status.idle": "2021-08-30T04:27:23.004127Z",
     "shell.execute_reply": "2021-08-30T04:27:23.004651Z"
    },
    "papermill": {
     "duration": 0.027669,
     "end_time": "2021-08-30T04:27:23.004818",
     "exception": false,
     "start_time": "2021-08-30T04:27:22.977149",
     "status": "completed"
    },
    "tags": []
   },
   "outputs": [],
   "source": [
    "#q3.hint()\n",
    "#q3.solution()"
   ]
  },
  {
   "cell_type": "markdown",
   "id": "47ca328f",
   "metadata": {
    "papermill": {
     "duration": 0.020767,
     "end_time": "2021-08-30T04:27:23.046502",
     "exception": false,
     "start_time": "2021-08-30T04:27:23.025735",
     "status": "completed"
    },
    "tags": []
   },
   "source": [
    "## 4.\n",
    "What are the most expensive wine varieties? Create a variable `sorted_varieties` containing a copy of the dataframe from the previous question where varieties are sorted in descending order based on minimum price, then on maximum price (to break ties)."
   ]
  },
  {
   "cell_type": "code",
   "execution_count": 8,
   "id": "ca95acb4",
   "metadata": {
    "execution": {
     "iopub.execute_input": "2021-08-30T04:27:23.092092Z",
     "iopub.status.busy": "2021-08-30T04:27:23.091123Z",
     "iopub.status.idle": "2021-08-30T04:27:23.101294Z",
     "shell.execute_reply": "2021-08-30T04:27:23.101899Z",
     "shell.execute_reply.started": "2021-08-30T04:22:45.448296Z"
    },
    "papermill": {
     "duration": 0.03463,
     "end_time": "2021-08-30T04:27:23.102082",
     "exception": false,
     "start_time": "2021-08-30T04:27:23.067452",
     "status": "completed"
    },
    "tags": []
   },
   "outputs": [
    {
     "data": {
      "application/javascript": [
       "parent.postMessage({\"jupyterEvent\": \"custom.exercise_interaction\", \"data\": {\"outcomeType\": 1, \"valueTowardsCompletion\": 0.16666666666666666, \"interactionType\": 1, \"questionType\": 1, \"questionId\": \"4_SortedVarieties\", \"learnToolsVersion\": \"0.3.4\", \"failureMessage\": \"\", \"exceptionClass\": \"\", \"trace\": \"\"}}, \"*\")"
      ],
      "text/plain": [
       "<IPython.core.display.Javascript object>"
      ]
     },
     "metadata": {},
     "output_type": "display_data"
    },
    {
     "data": {
      "text/markdown": [
       "<span style=\"color:#33cc33\">Correct</span>"
      ],
      "text/plain": [
       "Correct"
      ]
     },
     "metadata": {},
     "output_type": "display_data"
    }
   ],
   "source": [
    "sorted_varieties = price_extremes.sort_values(by=['min', 'max'], ascending=False)\n",
    "\n",
    "# Check your answer\n",
    "q4.check()"
   ]
  },
  {
   "cell_type": "code",
   "execution_count": 9,
   "id": "2932ef94",
   "metadata": {
    "execution": {
     "iopub.execute_input": "2021-08-30T04:27:23.149127Z",
     "iopub.status.busy": "2021-08-30T04:27:23.148476Z",
     "iopub.status.idle": "2021-08-30T04:27:23.151474Z",
     "shell.execute_reply": "2021-08-30T04:27:23.152019Z",
     "shell.execute_reply.started": "2021-08-30T04:22:28.954466Z"
    },
    "papermill": {
     "duration": 0.027981,
     "end_time": "2021-08-30T04:27:23.152183",
     "exception": false,
     "start_time": "2021-08-30T04:27:23.124202",
     "status": "completed"
    },
    "tags": []
   },
   "outputs": [],
   "source": [
    "#q4.hint()\n",
    "#q4.solution()"
   ]
  },
  {
   "cell_type": "markdown",
   "id": "66e83821",
   "metadata": {
    "papermill": {
     "duration": 0.021417,
     "end_time": "2021-08-30T04:27:23.195521",
     "exception": false,
     "start_time": "2021-08-30T04:27:23.174104",
     "status": "completed"
    },
    "tags": []
   },
   "source": [
    "## 5.\n",
    "Create a `Series` whose index is reviewers and whose values is the average review score given out by that reviewer. Hint: you will need the `taster_name` and `points` columns."
   ]
  },
  {
   "cell_type": "code",
   "execution_count": 10,
   "id": "20378ba0",
   "metadata": {
    "execution": {
     "iopub.execute_input": "2021-08-30T04:27:23.242769Z",
     "iopub.status.busy": "2021-08-30T04:27:23.242142Z",
     "iopub.status.idle": "2021-08-30T04:27:23.269402Z",
     "shell.execute_reply": "2021-08-30T04:27:23.268843Z",
     "shell.execute_reply.started": "2021-08-30T04:25:32.798166Z"
    },
    "papermill": {
     "duration": 0.052148,
     "end_time": "2021-08-30T04:27:23.269540",
     "exception": false,
     "start_time": "2021-08-30T04:27:23.217392",
     "status": "completed"
    },
    "tags": []
   },
   "outputs": [
    {
     "data": {
      "application/javascript": [
       "parent.postMessage({\"jupyterEvent\": \"custom.exercise_interaction\", \"data\": {\"outcomeType\": 1, \"valueTowardsCompletion\": 0.16666666666666666, \"interactionType\": 1, \"questionType\": 1, \"questionId\": \"5_ReviewerMeanRatings\", \"learnToolsVersion\": \"0.3.4\", \"failureMessage\": \"\", \"exceptionClass\": \"\", \"trace\": \"\"}}, \"*\")"
      ],
      "text/plain": [
       "<IPython.core.display.Javascript object>"
      ]
     },
     "metadata": {},
     "output_type": "display_data"
    },
    {
     "data": {
      "text/markdown": [
       "<span style=\"color:#33cc33\">Correct</span>"
      ],
      "text/plain": [
       "Correct"
      ]
     },
     "metadata": {},
     "output_type": "display_data"
    }
   ],
   "source": [
    "reviewer_mean_ratings = reviews.groupby('taster_name').points.mean()\n",
    "\n",
    "# Check your answer\n",
    "q5.check()"
   ]
  },
  {
   "cell_type": "code",
   "execution_count": 11,
   "id": "623b93a3",
   "metadata": {
    "execution": {
     "iopub.execute_input": "2021-08-30T04:27:23.322613Z",
     "iopub.status.busy": "2021-08-30T04:27:23.321662Z",
     "iopub.status.idle": "2021-08-30T04:27:23.324699Z",
     "shell.execute_reply": "2021-08-30T04:27:23.324181Z",
     "shell.execute_reply.started": "2021-08-30T04:25:14.076044Z"
    },
    "papermill": {
     "duration": 0.032309,
     "end_time": "2021-08-30T04:27:23.324838",
     "exception": false,
     "start_time": "2021-08-30T04:27:23.292529",
     "status": "completed"
    },
    "tags": []
   },
   "outputs": [],
   "source": [
    "#q5.hint()\n",
    "#q5.solution()"
   ]
  },
  {
   "cell_type": "markdown",
   "id": "ea05c5f3",
   "metadata": {
    "papermill": {
     "duration": 0.023347,
     "end_time": "2021-08-30T04:27:23.371054",
     "exception": false,
     "start_time": "2021-08-30T04:27:23.347707",
     "status": "completed"
    },
    "tags": []
   },
   "source": [
    "Are there significant differences in the average scores assigned by the various reviewers? Run the cell below to use the `describe()` method to see a summary of the range of values."
   ]
  },
  {
   "cell_type": "code",
   "execution_count": 12,
   "id": "3a734a76",
   "metadata": {
    "execution": {
     "iopub.execute_input": "2021-08-30T04:27:23.420247Z",
     "iopub.status.busy": "2021-08-30T04:27:23.419255Z",
     "iopub.status.idle": "2021-08-30T04:27:23.434742Z",
     "shell.execute_reply": "2021-08-30T04:27:23.434224Z",
     "shell.execute_reply.started": "2021-08-30T04:25:44.047596Z"
    },
    "papermill": {
     "duration": 0.041134,
     "end_time": "2021-08-30T04:27:23.434915",
     "exception": false,
     "start_time": "2021-08-30T04:27:23.393781",
     "status": "completed"
    },
    "tags": []
   },
   "outputs": [
    {
     "data": {
      "text/plain": [
       "count    19.000000\n",
       "mean     88.233026\n",
       "std       1.243610\n",
       "min      85.855422\n",
       "25%      87.323501\n",
       "50%      88.536235\n",
       "75%      88.975256\n",
       "max      90.562551\n",
       "Name: points, dtype: float64"
      ]
     },
     "execution_count": 12,
     "metadata": {},
     "output_type": "execute_result"
    }
   ],
   "source": [
    "reviewer_mean_ratings.describe()"
   ]
  },
  {
   "cell_type": "markdown",
   "id": "e9826e52",
   "metadata": {
    "papermill": {
     "duration": 0.023159,
     "end_time": "2021-08-30T04:27:23.481591",
     "exception": false,
     "start_time": "2021-08-30T04:27:23.458432",
     "status": "completed"
    },
    "tags": []
   },
   "source": [
    "## 6.\n",
    "What combination of countries and varieties are most common? Create a `Series` whose index is a `MultiIndex`of `{country, variety}` pairs. For example, a pinot noir produced in the US should map to `{\"US\", \"Pinot Noir\"}`. Sort the values in the `Series` in descending order based on wine count."
   ]
  },
  {
   "cell_type": "code",
   "execution_count": 13,
   "id": "74bf1f7b",
   "metadata": {
    "execution": {
     "iopub.execute_input": "2021-08-30T04:27:23.551688Z",
     "iopub.status.busy": "2021-08-30T04:27:23.550996Z",
     "iopub.status.idle": "2021-08-30T04:27:23.580767Z",
     "shell.execute_reply": "2021-08-30T04:27:23.581267Z",
     "shell.execute_reply.started": "2021-08-30T04:26:57.213796Z"
    },
    "papermill": {
     "duration": 0.076082,
     "end_time": "2021-08-30T04:27:23.581443",
     "exception": false,
     "start_time": "2021-08-30T04:27:23.505361",
     "status": "completed"
    },
    "tags": []
   },
   "outputs": [
    {
     "data": {
      "application/javascript": [
       "parent.postMessage({\"jupyterEvent\": \"custom.exercise_interaction\", \"data\": {\"outcomeType\": 1, \"valueTowardsCompletion\": 0.16666666666666666, \"interactionType\": 1, \"questionType\": 1, \"questionId\": \"6_GroupbyCountryVariety\", \"learnToolsVersion\": \"0.3.4\", \"failureMessage\": \"\", \"exceptionClass\": \"\", \"trace\": \"\"}}, \"*\")"
      ],
      "text/plain": [
       "<IPython.core.display.Javascript object>"
      ]
     },
     "metadata": {},
     "output_type": "display_data"
    },
    {
     "data": {
      "text/markdown": [
       "<span style=\"color:#33cc33\">Correct</span>"
      ],
      "text/plain": [
       "Correct"
      ]
     },
     "metadata": {},
     "output_type": "display_data"
    }
   ],
   "source": [
    "country_variety_counts = reviews.groupby(['country', 'variety']).size().sort_values(ascending=False)\n",
    "\n",
    "# Check your answer\n",
    "q6.check()"
   ]
  },
  {
   "cell_type": "code",
   "execution_count": 14,
   "id": "dad4143b",
   "metadata": {
    "execution": {
     "iopub.execute_input": "2021-08-30T04:27:23.634004Z",
     "iopub.status.busy": "2021-08-30T04:27:23.633354Z",
     "iopub.status.idle": "2021-08-30T04:27:23.637372Z",
     "shell.execute_reply": "2021-08-30T04:27:23.636798Z",
     "shell.execute_reply.started": "2021-08-30T04:26:37.442641Z"
    },
    "papermill": {
     "duration": 0.031907,
     "end_time": "2021-08-30T04:27:23.637510",
     "exception": false,
     "start_time": "2021-08-30T04:27:23.605603",
     "status": "completed"
    },
    "tags": []
   },
   "outputs": [],
   "source": [
    "#q6.hint()\n",
    "#q6.solution()"
   ]
  },
  {
   "cell_type": "markdown",
   "id": "bfcb67ff",
   "metadata": {
    "papermill": {
     "duration": 0.024272,
     "end_time": "2021-08-30T04:27:23.686581",
     "exception": false,
     "start_time": "2021-08-30T04:27:23.662309",
     "status": "completed"
    },
    "tags": []
   },
   "source": [
    "# Keep going\n",
    "\n",
    "Move on to the [**data types and missing data**](https://www.kaggle.com/residentmario/data-types-and-missing-values)."
   ]
  },
  {
   "cell_type": "markdown",
   "id": "127bc509",
   "metadata": {
    "papermill": {
     "duration": 0.024672,
     "end_time": "2021-08-30T04:27:23.736324",
     "exception": false,
     "start_time": "2021-08-30T04:27:23.711652",
     "status": "completed"
    },
    "tags": []
   },
   "source": [
    "---\n",
    "\n",
    "\n",
    "\n",
    "\n",
    "*Have questions or comments? Visit the [Learn Discussion forum](https://www.kaggle.com/learn-forum/161299) to chat with other Learners.*"
   ]
  }
 ],
 "metadata": {
  "kernelspec": {
   "display_name": "Python 3",
   "language": "python",
   "name": "python3"
  },
  "language_info": {
   "codemirror_mode": {
    "name": "ipython",
    "version": 3
   },
   "file_extension": ".py",
   "mimetype": "text/x-python",
   "name": "python",
   "nbconvert_exporter": "python",
   "pygments_lexer": "ipython3",
   "version": "3.7.10"
  },
  "papermill": {
   "default_parameters": {},
   "duration": 13.853027,
   "end_time": "2021-08-30T04:27:24.472423",
   "environment_variables": {},
   "exception": null,
   "input_path": "__notebook__.ipynb",
   "output_path": "__notebook__.ipynb",
   "parameters": {},
   "start_time": "2021-08-30T04:27:10.619396",
   "version": "2.3.3"
  }
 },
 "nbformat": 4,
 "nbformat_minor": 5
}
