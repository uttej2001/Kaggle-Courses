{
 "cells": [
  {
   "cell_type": "markdown",
   "id": "5de5429c",
   "metadata": {
    "papermill": {
     "duration": 0.022874,
     "end_time": "2021-08-30T04:09:43.631467",
     "exception": false,
     "start_time": "2021-08-30T04:09:43.608593",
     "status": "completed"
    },
    "tags": []
   },
   "source": [
    "**This notebook is an exercise in the [Pandas](https://www.kaggle.com/learn/pandas) course.  You can reference the tutorial at [this link](https://www.kaggle.com/residentmario/summary-functions-and-maps).**\n",
    "\n",
    "---\n"
   ]
  },
  {
   "cell_type": "markdown",
   "id": "c5108495",
   "metadata": {
    "papermill": {
     "duration": 0.02544,
     "end_time": "2021-08-30T04:09:43.679554",
     "exception": false,
     "start_time": "2021-08-30T04:09:43.654114",
     "status": "completed"
    },
    "tags": []
   },
   "source": [
    "# Introduction\n",
    "\n",
    "Now you are ready to get a deeper understanding of your data.\n",
    "\n",
    "Run the following cell to load your data and some utility functions (including code to check your answers)."
   ]
  },
  {
   "cell_type": "code",
   "execution_count": 1,
   "id": "8a1ab2c7",
   "metadata": {
    "execution": {
     "iopub.execute_input": "2021-08-30T04:09:43.736561Z",
     "iopub.status.busy": "2021-08-30T04:09:43.735371Z",
     "iopub.status.idle": "2021-08-30T04:09:52.737662Z",
     "shell.execute_reply": "2021-08-30T04:09:52.738195Z",
     "shell.execute_reply.started": "2021-08-30T03:56:42.762925Z"
    },
    "papermill": {
     "duration": 9.032637,
     "end_time": "2021-08-30T04:09:52.738498",
     "exception": false,
     "start_time": "2021-08-30T04:09:43.705861",
     "status": "completed"
    },
    "tags": []
   },
   "outputs": [
    {
     "name": "stdout",
     "output_type": "stream",
     "text": [
      "Setup complete.\n"
     ]
    },
    {
     "data": {
      "text/html": [
       "<div>\n",
       "<style scoped>\n",
       "    .dataframe tbody tr th:only-of-type {\n",
       "        vertical-align: middle;\n",
       "    }\n",
       "\n",
       "    .dataframe tbody tr th {\n",
       "        vertical-align: top;\n",
       "    }\n",
       "\n",
       "    .dataframe thead th {\n",
       "        text-align: right;\n",
       "    }\n",
       "</style>\n",
       "<table border=\"1\" class=\"dataframe\">\n",
       "  <thead>\n",
       "    <tr style=\"text-align: right;\">\n",
       "      <th></th>\n",
       "      <th>country</th>\n",
       "      <th>description</th>\n",
       "      <th>designation</th>\n",
       "      <th>points</th>\n",
       "      <th>price</th>\n",
       "      <th>province</th>\n",
       "      <th>region_1</th>\n",
       "      <th>region_2</th>\n",
       "      <th>taster_name</th>\n",
       "      <th>taster_twitter_handle</th>\n",
       "      <th>title</th>\n",
       "      <th>variety</th>\n",
       "      <th>winery</th>\n",
       "    </tr>\n",
       "  </thead>\n",
       "  <tbody>\n",
       "    <tr>\n",
       "      <th>0</th>\n",
       "      <td>Italy</td>\n",
       "      <td>Aromas include tropical fruit, broom, brimston...</td>\n",
       "      <td>Vulkà Bianco</td>\n",
       "      <td>87</td>\n",
       "      <td>NaN</td>\n",
       "      <td>Sicily &amp; Sardinia</td>\n",
       "      <td>Etna</td>\n",
       "      <td>NaN</td>\n",
       "      <td>Kerin O’Keefe</td>\n",
       "      <td>@kerinokeefe</td>\n",
       "      <td>Nicosia 2013 Vulkà Bianco  (Etna)</td>\n",
       "      <td>White Blend</td>\n",
       "      <td>Nicosia</td>\n",
       "    </tr>\n",
       "    <tr>\n",
       "      <th>1</th>\n",
       "      <td>Portugal</td>\n",
       "      <td>This is ripe and fruity, a wine that is smooth...</td>\n",
       "      <td>Avidagos</td>\n",
       "      <td>87</td>\n",
       "      <td>15.0</td>\n",
       "      <td>Douro</td>\n",
       "      <td>NaN</td>\n",
       "      <td>NaN</td>\n",
       "      <td>Roger Voss</td>\n",
       "      <td>@vossroger</td>\n",
       "      <td>Quinta dos Avidagos 2011 Avidagos Red (Douro)</td>\n",
       "      <td>Portuguese Red</td>\n",
       "      <td>Quinta dos Avidagos</td>\n",
       "    </tr>\n",
       "    <tr>\n",
       "      <th>2</th>\n",
       "      <td>US</td>\n",
       "      <td>Tart and snappy, the flavors of lime flesh and...</td>\n",
       "      <td>NaN</td>\n",
       "      <td>87</td>\n",
       "      <td>14.0</td>\n",
       "      <td>Oregon</td>\n",
       "      <td>Willamette Valley</td>\n",
       "      <td>Willamette Valley</td>\n",
       "      <td>Paul Gregutt</td>\n",
       "      <td>@paulgwine</td>\n",
       "      <td>Rainstorm 2013 Pinot Gris (Willamette Valley)</td>\n",
       "      <td>Pinot Gris</td>\n",
       "      <td>Rainstorm</td>\n",
       "    </tr>\n",
       "    <tr>\n",
       "      <th>3</th>\n",
       "      <td>US</td>\n",
       "      <td>Pineapple rind, lemon pith and orange blossom ...</td>\n",
       "      <td>Reserve Late Harvest</td>\n",
       "      <td>87</td>\n",
       "      <td>13.0</td>\n",
       "      <td>Michigan</td>\n",
       "      <td>Lake Michigan Shore</td>\n",
       "      <td>NaN</td>\n",
       "      <td>Alexander Peartree</td>\n",
       "      <td>NaN</td>\n",
       "      <td>St. Julian 2013 Reserve Late Harvest Riesling ...</td>\n",
       "      <td>Riesling</td>\n",
       "      <td>St. Julian</td>\n",
       "    </tr>\n",
       "    <tr>\n",
       "      <th>4</th>\n",
       "      <td>US</td>\n",
       "      <td>Much like the regular bottling from 2012, this...</td>\n",
       "      <td>Vintner's Reserve Wild Child Block</td>\n",
       "      <td>87</td>\n",
       "      <td>65.0</td>\n",
       "      <td>Oregon</td>\n",
       "      <td>Willamette Valley</td>\n",
       "      <td>Willamette Valley</td>\n",
       "      <td>Paul Gregutt</td>\n",
       "      <td>@paulgwine</td>\n",
       "      <td>Sweet Cheeks 2012 Vintner's Reserve Wild Child...</td>\n",
       "      <td>Pinot Noir</td>\n",
       "      <td>Sweet Cheeks</td>\n",
       "    </tr>\n",
       "  </tbody>\n",
       "</table>\n",
       "</div>"
      ],
      "text/plain": [
       "    country                                        description  \\\n",
       "0     Italy  Aromas include tropical fruit, broom, brimston...   \n",
       "1  Portugal  This is ripe and fruity, a wine that is smooth...   \n",
       "2        US  Tart and snappy, the flavors of lime flesh and...   \n",
       "3        US  Pineapple rind, lemon pith and orange blossom ...   \n",
       "4        US  Much like the regular bottling from 2012, this...   \n",
       "\n",
       "                          designation  points  price           province  \\\n",
       "0                        Vulkà Bianco      87    NaN  Sicily & Sardinia   \n",
       "1                            Avidagos      87   15.0              Douro   \n",
       "2                                 NaN      87   14.0             Oregon   \n",
       "3                Reserve Late Harvest      87   13.0           Michigan   \n",
       "4  Vintner's Reserve Wild Child Block      87   65.0             Oregon   \n",
       "\n",
       "              region_1           region_2         taster_name  \\\n",
       "0                 Etna                NaN       Kerin O’Keefe   \n",
       "1                  NaN                NaN          Roger Voss   \n",
       "2    Willamette Valley  Willamette Valley        Paul Gregutt   \n",
       "3  Lake Michigan Shore                NaN  Alexander Peartree   \n",
       "4    Willamette Valley  Willamette Valley        Paul Gregutt   \n",
       "\n",
       "  taster_twitter_handle                                              title  \\\n",
       "0          @kerinokeefe                  Nicosia 2013 Vulkà Bianco  (Etna)   \n",
       "1            @vossroger      Quinta dos Avidagos 2011 Avidagos Red (Douro)   \n",
       "2           @paulgwine       Rainstorm 2013 Pinot Gris (Willamette Valley)   \n",
       "3                   NaN  St. Julian 2013 Reserve Late Harvest Riesling ...   \n",
       "4           @paulgwine   Sweet Cheeks 2012 Vintner's Reserve Wild Child...   \n",
       "\n",
       "          variety               winery  \n",
       "0     White Blend              Nicosia  \n",
       "1  Portuguese Red  Quinta dos Avidagos  \n",
       "2      Pinot Gris            Rainstorm  \n",
       "3        Riesling           St. Julian  \n",
       "4      Pinot Noir         Sweet Cheeks  "
      ]
     },
     "execution_count": 1,
     "metadata": {},
     "output_type": "execute_result"
    }
   ],
   "source": [
    "import pandas as pd\n",
    "pd.set_option(\"display.max_rows\", 5)\n",
    "reviews = pd.read_csv(\"../input/wine-reviews/winemag-data-130k-v2.csv\", index_col=0)\n",
    "\n",
    "from learntools.core import binder; binder.bind(globals())\n",
    "from learntools.pandas.summary_functions_and_maps import *\n",
    "print(\"Setup complete.\")\n",
    "\n",
    "reviews.head()"
   ]
  },
  {
   "cell_type": "markdown",
   "id": "127c3630",
   "metadata": {
    "papermill": {
     "duration": 0.02297,
     "end_time": "2021-08-30T04:09:52.785307",
     "exception": false,
     "start_time": "2021-08-30T04:09:52.762337",
     "status": "completed"
    },
    "tags": []
   },
   "source": [
    "# Exercises"
   ]
  },
  {
   "cell_type": "markdown",
   "id": "99f69414",
   "metadata": {
    "papermill": {
     "duration": 0.023027,
     "end_time": "2021-08-30T04:09:52.831873",
     "exception": false,
     "start_time": "2021-08-30T04:09:52.808846",
     "status": "completed"
    },
    "tags": []
   },
   "source": [
    "## 1.\n",
    "\n",
    "What is the median of the `points` column in the `reviews` DataFrame?"
   ]
  },
  {
   "cell_type": "code",
   "execution_count": 2,
   "id": "a000d09e",
   "metadata": {
    "execution": {
     "iopub.execute_input": "2021-08-30T04:09:52.885452Z",
     "iopub.status.busy": "2021-08-30T04:09:52.884193Z",
     "iopub.status.idle": "2021-08-30T04:09:52.890176Z",
     "shell.execute_reply": "2021-08-30T04:09:52.890682Z",
     "shell.execute_reply.started": "2021-08-30T03:58:43.415730Z"
    },
    "papermill": {
     "duration": 0.034837,
     "end_time": "2021-08-30T04:09:52.890886",
     "exception": false,
     "start_time": "2021-08-30T04:09:52.856049",
     "status": "completed"
    },
    "tags": []
   },
   "outputs": [
    {
     "data": {
      "application/javascript": [
       "parent.postMessage({\"jupyterEvent\": \"custom.exercise_interaction\", \"data\": {\"outcomeType\": 1, \"valueTowardsCompletion\": 0.14285714285714285, \"interactionType\": 1, \"questionType\": 1, \"questionId\": \"1_MedianPoints\", \"learnToolsVersion\": \"0.3.4\", \"failureMessage\": \"\", \"exceptionClass\": \"\", \"trace\": \"\"}}, \"*\")"
      ],
      "text/plain": [
       "<IPython.core.display.Javascript object>"
      ]
     },
     "metadata": {},
     "output_type": "display_data"
    },
    {
     "data": {
      "text/markdown": [
       "<span style=\"color:#33cc33\">Correct</span>"
      ],
      "text/plain": [
       "Correct"
      ]
     },
     "metadata": {},
     "output_type": "display_data"
    }
   ],
   "source": [
    "median_points = reviews.points.median()\n",
    "\n",
    "# Check your answer\n",
    "q1.check()"
   ]
  },
  {
   "cell_type": "code",
   "execution_count": 3,
   "id": "44f4e09d",
   "metadata": {
    "execution": {
     "iopub.execute_input": "2021-08-30T04:09:52.943496Z",
     "iopub.status.busy": "2021-08-30T04:09:52.943015Z",
     "iopub.status.idle": "2021-08-30T04:09:52.947215Z",
     "shell.execute_reply": "2021-08-30T04:09:52.946689Z"
    },
    "papermill": {
     "duration": 0.031897,
     "end_time": "2021-08-30T04:09:52.947341",
     "exception": false,
     "start_time": "2021-08-30T04:09:52.915444",
     "status": "completed"
    },
    "tags": []
   },
   "outputs": [],
   "source": [
    "#q1.hint()\n",
    "#q1.solution()"
   ]
  },
  {
   "cell_type": "markdown",
   "id": "52d0b296",
   "metadata": {
    "papermill": {
     "duration": 0.016378,
     "end_time": "2021-08-30T04:09:52.980518",
     "exception": false,
     "start_time": "2021-08-30T04:09:52.964140",
     "status": "completed"
    },
    "tags": []
   },
   "source": [
    "## 2. \n",
    "What countries are represented in the dataset? (Your answer should not include any duplicates.)"
   ]
  },
  {
   "cell_type": "code",
   "execution_count": 4,
   "id": "dfcb7415",
   "metadata": {
    "execution": {
     "iopub.execute_input": "2021-08-30T04:09:53.023805Z",
     "iopub.status.busy": "2021-08-30T04:09:53.023193Z",
     "iopub.status.idle": "2021-08-30T04:09:53.030204Z",
     "shell.execute_reply": "2021-08-30T04:09:53.029700Z",
     "shell.execute_reply.started": "2021-08-30T03:59:42.654218Z"
    },
    "papermill": {
     "duration": 0.033195,
     "end_time": "2021-08-30T04:09:53.030333",
     "exception": false,
     "start_time": "2021-08-30T04:09:52.997138",
     "status": "completed"
    },
    "tags": []
   },
   "outputs": [
    {
     "data": {
      "application/javascript": [
       "parent.postMessage({\"jupyterEvent\": \"custom.exercise_interaction\", \"data\": {\"outcomeType\": 1, \"valueTowardsCompletion\": 0.14285714285714285, \"interactionType\": 1, \"questionType\": 2, \"questionId\": \"2_UniqueCountries\", \"learnToolsVersion\": \"0.3.4\", \"failureMessage\": \"\", \"exceptionClass\": \"\", \"trace\": \"\"}}, \"*\")"
      ],
      "text/plain": [
       "<IPython.core.display.Javascript object>"
      ]
     },
     "metadata": {},
     "output_type": "display_data"
    },
    {
     "data": {
      "text/markdown": [
       "<span style=\"color:#33cc33\">Correct</span>"
      ],
      "text/plain": [
       "Correct"
      ]
     },
     "metadata": {},
     "output_type": "display_data"
    }
   ],
   "source": [
    "countries = reviews.country.unique()\n",
    "\n",
    "# Check your answer\n",
    "q2.check()"
   ]
  },
  {
   "cell_type": "code",
   "execution_count": 5,
   "id": "78dfbecc",
   "metadata": {
    "execution": {
     "iopub.execute_input": "2021-08-30T04:09:53.069356Z",
     "iopub.status.busy": "2021-08-30T04:09:53.068857Z",
     "iopub.status.idle": "2021-08-30T04:09:53.072807Z",
     "shell.execute_reply": "2021-08-30T04:09:53.072344Z"
    },
    "papermill": {
     "duration": 0.025036,
     "end_time": "2021-08-30T04:09:53.072964",
     "exception": false,
     "start_time": "2021-08-30T04:09:53.047928",
     "status": "completed"
    },
    "tags": []
   },
   "outputs": [],
   "source": [
    "#q2.hint()\n",
    "#q2.solution()"
   ]
  },
  {
   "cell_type": "markdown",
   "id": "f33e14de",
   "metadata": {
    "papermill": {
     "duration": 0.016933,
     "end_time": "2021-08-30T04:09:53.107327",
     "exception": false,
     "start_time": "2021-08-30T04:09:53.090394",
     "status": "completed"
    },
    "tags": []
   },
   "source": [
    "## 3.\n",
    "How often does each country appear in the dataset? Create a Series `reviews_per_country` mapping countries to the count of reviews of wines from that country."
   ]
  },
  {
   "cell_type": "code",
   "execution_count": 6,
   "id": "6d01778e",
   "metadata": {
    "execution": {
     "iopub.execute_input": "2021-08-30T04:09:53.158837Z",
     "iopub.status.busy": "2021-08-30T04:09:53.158244Z",
     "iopub.status.idle": "2021-08-30T04:09:53.166724Z",
     "shell.execute_reply": "2021-08-30T04:09:53.167234Z",
     "shell.execute_reply.started": "2021-08-30T04:00:29.229396Z"
    },
    "papermill": {
     "duration": 0.042504,
     "end_time": "2021-08-30T04:09:53.167413",
     "exception": false,
     "start_time": "2021-08-30T04:09:53.124909",
     "status": "completed"
    },
    "tags": []
   },
   "outputs": [
    {
     "data": {
      "application/javascript": [
       "parent.postMessage({\"jupyterEvent\": \"custom.exercise_interaction\", \"data\": {\"outcomeType\": 1, \"valueTowardsCompletion\": 0.14285714285714285, \"interactionType\": 1, \"questionType\": 1, \"questionId\": \"3_ReviewsPerCountry\", \"learnToolsVersion\": \"0.3.4\", \"failureMessage\": \"\", \"exceptionClass\": \"\", \"trace\": \"\"}}, \"*\")"
      ],
      "text/plain": [
       "<IPython.core.display.Javascript object>"
      ]
     },
     "metadata": {},
     "output_type": "display_data"
    },
    {
     "data": {
      "text/markdown": [
       "<span style=\"color:#33cc33\">Correct</span>"
      ],
      "text/plain": [
       "Correct"
      ]
     },
     "metadata": {},
     "output_type": "display_data"
    }
   ],
   "source": [
    "reviews_per_country = reviews.country.value_counts()\n",
    "\n",
    "# Check your answer\n",
    "q3.check()"
   ]
  },
  {
   "cell_type": "code",
   "execution_count": 7,
   "id": "66980565",
   "metadata": {
    "execution": {
     "iopub.execute_input": "2021-08-30T04:09:53.227139Z",
     "iopub.status.busy": "2021-08-30T04:09:53.226485Z",
     "iopub.status.idle": "2021-08-30T04:09:53.230377Z",
     "shell.execute_reply": "2021-08-30T04:09:53.229801Z"
    },
    "papermill": {
     "duration": 0.035343,
     "end_time": "2021-08-30T04:09:53.230533",
     "exception": false,
     "start_time": "2021-08-30T04:09:53.195190",
     "status": "completed"
    },
    "tags": []
   },
   "outputs": [],
   "source": [
    "#q3.hint()\n",
    "#q3.solution()"
   ]
  },
  {
   "cell_type": "markdown",
   "id": "bf8dc927",
   "metadata": {
    "papermill": {
     "duration": 0.026627,
     "end_time": "2021-08-30T04:09:53.284900",
     "exception": false,
     "start_time": "2021-08-30T04:09:53.258273",
     "status": "completed"
    },
    "tags": []
   },
   "source": [
    "## 4.\n",
    "Create variable `centered_price` containing a version of the `price` column with the mean price subtracted.\n",
    "\n",
    "(Note: this 'centering' transformation is a common preprocessing step before applying various machine learning algorithms.) "
   ]
  },
  {
   "cell_type": "code",
   "execution_count": 8,
   "id": "b00bd065",
   "metadata": {
    "execution": {
     "iopub.execute_input": "2021-08-30T04:09:53.344735Z",
     "iopub.status.busy": "2021-08-30T04:09:53.343916Z",
     "iopub.status.idle": "2021-08-30T04:09:53.350409Z",
     "shell.execute_reply": "2021-08-30T04:09:53.349954Z",
     "shell.execute_reply.started": "2021-08-30T04:03:30.735719Z"
    },
    "papermill": {
     "duration": 0.037841,
     "end_time": "2021-08-30T04:09:53.350517",
     "exception": false,
     "start_time": "2021-08-30T04:09:53.312676",
     "status": "completed"
    },
    "tags": []
   },
   "outputs": [
    {
     "data": {
      "application/javascript": [
       "parent.postMessage({\"jupyterEvent\": \"custom.exercise_interaction\", \"data\": {\"outcomeType\": 1, \"valueTowardsCompletion\": 0.14285714285714285, \"interactionType\": 1, \"questionType\": 1, \"questionId\": \"4_CenteredPrice\", \"learnToolsVersion\": \"0.3.4\", \"failureMessage\": \"\", \"exceptionClass\": \"\", \"trace\": \"\"}}, \"*\")"
      ],
      "text/plain": [
       "<IPython.core.display.Javascript object>"
      ]
     },
     "metadata": {},
     "output_type": "display_data"
    },
    {
     "data": {
      "text/markdown": [
       "<span style=\"color:#33cc33\">Correct</span>"
      ],
      "text/plain": [
       "Correct"
      ]
     },
     "metadata": {},
     "output_type": "display_data"
    }
   ],
   "source": [
    "review_price_mean = reviews.price.mean()\n",
    "centered_price = reviews.price - review_price_mean\n",
    "# Check your answer\n",
    "q4.check()"
   ]
  },
  {
   "cell_type": "code",
   "execution_count": 9,
   "id": "ba7ff1c8",
   "metadata": {
    "execution": {
     "iopub.execute_input": "2021-08-30T04:09:53.393275Z",
     "iopub.status.busy": "2021-08-30T04:09:53.392740Z",
     "iopub.status.idle": "2021-08-30T04:09:53.395755Z",
     "shell.execute_reply": "2021-08-30T04:09:53.395298Z",
     "shell.execute_reply.started": "2021-08-30T04:02:43.780069Z"
    },
    "papermill": {
     "duration": 0.025837,
     "end_time": "2021-08-30T04:09:53.395882",
     "exception": false,
     "start_time": "2021-08-30T04:09:53.370045",
     "status": "completed"
    },
    "tags": []
   },
   "outputs": [],
   "source": [
    "#q4.hint()\n",
    "#q4.solution()"
   ]
  },
  {
   "cell_type": "markdown",
   "id": "37454bf8",
   "metadata": {
    "papermill": {
     "duration": 0.018822,
     "end_time": "2021-08-30T04:09:53.433772",
     "exception": false,
     "start_time": "2021-08-30T04:09:53.414950",
     "status": "completed"
    },
    "tags": []
   },
   "source": [
    "## 5.\n",
    "I'm an economical wine buyer. Which wine is the \"best bargain\"? Create a variable `bargain_wine` with the title of the wine with the highest points-to-price ratio in the dataset."
   ]
  },
  {
   "cell_type": "code",
   "execution_count": 10,
   "id": "b3f29435",
   "metadata": {
    "execution": {
     "iopub.execute_input": "2021-08-30T04:09:53.478070Z",
     "iopub.status.busy": "2021-08-30T04:09:53.477338Z",
     "iopub.status.idle": "2021-08-30T04:09:53.488198Z",
     "shell.execute_reply": "2021-08-30T04:09:53.487708Z",
     "shell.execute_reply.started": "2021-08-30T04:04:20.694321Z"
    },
    "papermill": {
     "duration": 0.034995,
     "end_time": "2021-08-30T04:09:53.488302",
     "exception": false,
     "start_time": "2021-08-30T04:09:53.453307",
     "status": "completed"
    },
    "tags": []
   },
   "outputs": [
    {
     "data": {
      "application/javascript": [
       "parent.postMessage({\"jupyterEvent\": \"custom.exercise_interaction\", \"data\": {\"outcomeType\": 1, \"valueTowardsCompletion\": 0.14285714285714285, \"interactionType\": 1, \"questionType\": 2, \"questionId\": \"5_BargainWine\", \"learnToolsVersion\": \"0.3.4\", \"failureMessage\": \"\", \"exceptionClass\": \"\", \"trace\": \"\"}}, \"*\")"
      ],
      "text/plain": [
       "<IPython.core.display.Javascript object>"
      ]
     },
     "metadata": {},
     "output_type": "display_data"
    },
    {
     "data": {
      "text/markdown": [
       "<span style=\"color:#33cc33\">Correct</span>"
      ],
      "text/plain": [
       "Correct"
      ]
     },
     "metadata": {},
     "output_type": "display_data"
    }
   ],
   "source": [
    "bargain_idx = (reviews.points / reviews.price).idxmax()\n",
    "bargain_wine = reviews.loc[bargain_idx, 'title']\n",
    "\n",
    "# Check your answer\n",
    "q5.check()"
   ]
  },
  {
   "cell_type": "code",
   "execution_count": 11,
   "id": "270c4977",
   "metadata": {
    "execution": {
     "iopub.execute_input": "2021-08-30T04:09:53.533346Z",
     "iopub.status.busy": "2021-08-30T04:09:53.532762Z",
     "iopub.status.idle": "2021-08-30T04:09:53.536628Z",
     "shell.execute_reply": "2021-08-30T04:09:53.536170Z",
     "shell.execute_reply.started": "2021-08-30T04:04:10.054397Z"
    },
    "papermill": {
     "duration": 0.027861,
     "end_time": "2021-08-30T04:09:53.536749",
     "exception": false,
     "start_time": "2021-08-30T04:09:53.508888",
     "status": "completed"
    },
    "tags": []
   },
   "outputs": [],
   "source": [
    "#q5.hint()\n",
    "#q5.solution()"
   ]
  },
  {
   "cell_type": "markdown",
   "id": "c5d9b404",
   "metadata": {
    "papermill": {
     "duration": 0.019511,
     "end_time": "2021-08-30T04:09:53.576106",
     "exception": false,
     "start_time": "2021-08-30T04:09:53.556595",
     "status": "completed"
    },
    "tags": []
   },
   "source": [
    "## 6.\n",
    "There are only so many words you can use when describing a bottle of wine. Is a wine more likely to be \"tropical\" or \"fruity\"? Create a Series `descriptor_counts` counting how many times each of these two words appears in the `description` column in the dataset."
   ]
  },
  {
   "cell_type": "code",
   "execution_count": 12,
   "id": "cf046b3b",
   "metadata": {
    "execution": {
     "iopub.execute_input": "2021-08-30T04:09:53.634211Z",
     "iopub.status.busy": "2021-08-30T04:09:53.633486Z",
     "iopub.status.idle": "2021-08-30T04:09:53.737717Z",
     "shell.execute_reply": "2021-08-30T04:09:53.736886Z",
     "shell.execute_reply.started": "2021-08-30T04:07:06.885759Z"
    },
    "papermill": {
     "duration": 0.142069,
     "end_time": "2021-08-30T04:09:53.737854",
     "exception": false,
     "start_time": "2021-08-30T04:09:53.595785",
     "status": "completed"
    },
    "tags": []
   },
   "outputs": [
    {
     "data": {
      "application/javascript": [
       "parent.postMessage({\"jupyterEvent\": \"custom.exercise_interaction\", \"data\": {\"outcomeType\": 1, \"valueTowardsCompletion\": 0.14285714285714285, \"interactionType\": 1, \"questionType\": 1, \"questionId\": \"6_DescriptorCounts\", \"learnToolsVersion\": \"0.3.4\", \"failureMessage\": \"\", \"exceptionClass\": \"\", \"trace\": \"\"}}, \"*\")"
      ],
      "text/plain": [
       "<IPython.core.display.Javascript object>"
      ]
     },
     "metadata": {},
     "output_type": "display_data"
    },
    {
     "data": {
      "text/markdown": [
       "<span style=\"color:#33cc33\">Correct</span>"
      ],
      "text/plain": [
       "Correct"
      ]
     },
     "metadata": {},
     "output_type": "display_data"
    }
   ],
   "source": [
    "n_trop = reviews.description.map(lambda desc: \"tropical\" in desc).sum()\n",
    "n_fruity = reviews.description.map(lambda desc: \"fruity\" in desc).sum()\n",
    "descriptor_counts = pd.Series([n_trop, n_fruity], index=['tropical', 'fruity'])\n",
    "# Check your answer\n",
    "q6.check()"
   ]
  },
  {
   "cell_type": "code",
   "execution_count": 13,
   "id": "ab7c655b",
   "metadata": {
    "execution": {
     "iopub.execute_input": "2021-08-30T04:09:53.782620Z",
     "iopub.status.busy": "2021-08-30T04:09:53.782110Z",
     "iopub.status.idle": "2021-08-30T04:09:53.784704Z",
     "shell.execute_reply": "2021-08-30T04:09:53.784294Z",
     "shell.execute_reply.started": "2021-08-30T04:06:20.446848Z"
    },
    "papermill": {
     "duration": 0.026473,
     "end_time": "2021-08-30T04:09:53.784811",
     "exception": false,
     "start_time": "2021-08-30T04:09:53.758338",
     "status": "completed"
    },
    "tags": []
   },
   "outputs": [],
   "source": [
    "#q6.hint()\n",
    "#q6.solution()"
   ]
  },
  {
   "cell_type": "markdown",
   "id": "5f2020fc",
   "metadata": {
    "papermill": {
     "duration": 0.020157,
     "end_time": "2021-08-30T04:09:53.825566",
     "exception": false,
     "start_time": "2021-08-30T04:09:53.805409",
     "status": "completed"
    },
    "tags": []
   },
   "source": [
    "## 7.\n",
    "We'd like to host these wine reviews on our website, but a rating system ranging from 80 to 100 points is too hard to understand - we'd like to translate them into simple star ratings. A score of 95 or higher counts as 3 stars, a score of at least 85 but less than 95 is 2 stars. Any other score is 1 star.\n",
    "\n",
    "Also, the Canadian Vintners Association bought a lot of ads on the site, so any wines from Canada should automatically get 3 stars, regardless of points.\n",
    "\n",
    "Create a series `star_ratings` with the number of stars corresponding to each review in the dataset."
   ]
  },
  {
   "cell_type": "code",
   "execution_count": 14,
   "id": "0d58520a",
   "metadata": {
    "execution": {
     "iopub.execute_input": "2021-08-30T04:09:53.871782Z",
     "iopub.status.busy": "2021-08-30T04:09:53.871281Z",
     "iopub.status.idle": "2021-08-30T04:09:57.039425Z",
     "shell.execute_reply": "2021-08-30T04:09:57.039002Z",
     "shell.execute_reply.started": "2021-08-30T04:09:03.361444Z"
    },
    "papermill": {
     "duration": 3.193296,
     "end_time": "2021-08-30T04:09:57.039541",
     "exception": false,
     "start_time": "2021-08-30T04:09:53.846245",
     "status": "completed"
    },
    "tags": []
   },
   "outputs": [
    {
     "data": {
      "application/javascript": [
       "parent.postMessage({\"jupyterEvent\": \"custom.exercise_interaction\", \"data\": {\"outcomeType\": 1, \"valueTowardsCompletion\": 0.14285714285714285, \"interactionType\": 1, \"questionType\": 1, \"questionId\": \"7_StarRatings\", \"learnToolsVersion\": \"0.3.4\", \"failureMessage\": \"\", \"exceptionClass\": \"\", \"trace\": \"\"}}, \"*\")"
      ],
      "text/plain": [
       "<IPython.core.display.Javascript object>"
      ]
     },
     "metadata": {},
     "output_type": "display_data"
    },
    {
     "data": {
      "text/markdown": [
       "<span style=\"color:#33cc33\">Correct</span>"
      ],
      "text/plain": [
       "Correct"
      ]
     },
     "metadata": {},
     "output_type": "display_data"
    }
   ],
   "source": [
    "def stars(row):\n",
    "    if row.country == 'Canada':\n",
    "        return 3\n",
    "    elif row.points >= 95:\n",
    "        return 3\n",
    "    elif row.points >= 85:\n",
    "        return 2\n",
    "    else:\n",
    "        return 1\n",
    "\n",
    "star_ratings = reviews.apply(stars, axis='columns')\n",
    "\n",
    "# Check your answer\n",
    "q7.check()"
   ]
  },
  {
   "cell_type": "code",
   "execution_count": 15,
   "id": "b0e9ccae",
   "metadata": {
    "execution": {
     "iopub.execute_input": "2021-08-30T04:09:57.086861Z",
     "iopub.status.busy": "2021-08-30T04:09:57.086354Z",
     "iopub.status.idle": "2021-08-30T04:09:57.088679Z",
     "shell.execute_reply": "2021-08-30T04:09:57.089059Z",
     "shell.execute_reply.started": "2021-08-30T04:08:48.659664Z"
    },
    "papermill": {
     "duration": 0.027693,
     "end_time": "2021-08-30T04:09:57.089200",
     "exception": false,
     "start_time": "2021-08-30T04:09:57.061507",
     "status": "completed"
    },
    "tags": []
   },
   "outputs": [],
   "source": [
    "#q7.hint()\n",
    "#q7.solution()"
   ]
  },
  {
   "cell_type": "markdown",
   "id": "066d0625",
   "metadata": {
    "papermill": {
     "duration": 0.021003,
     "end_time": "2021-08-30T04:09:57.131875",
     "exception": false,
     "start_time": "2021-08-30T04:09:57.110872",
     "status": "completed"
    },
    "tags": []
   },
   "source": [
    "# Keep going\n",
    "Continue to **[grouping and sorting](https://www.kaggle.com/residentmario/grouping-and-sorting)**."
   ]
  },
  {
   "cell_type": "markdown",
   "id": "427ce851",
   "metadata": {
    "papermill": {
     "duration": 0.021033,
     "end_time": "2021-08-30T04:09:57.174390",
     "exception": false,
     "start_time": "2021-08-30T04:09:57.153357",
     "status": "completed"
    },
    "tags": []
   },
   "source": [
    "---\n",
    "\n",
    "\n",
    "\n",
    "\n",
    "*Have questions or comments? Visit the [Learn Discussion forum](https://www.kaggle.com/learn-forum/161299) to chat with other Learners.*"
   ]
  }
 ],
 "metadata": {
  "kernelspec": {
   "display_name": "Python 3",
   "language": "python",
   "name": "python3"
  },
  "language_info": {
   "codemirror_mode": {
    "name": "ipython",
    "version": 3
   },
   "file_extension": ".py",
   "mimetype": "text/x-python",
   "name": "python",
   "nbconvert_exporter": "python",
   "pygments_lexer": "ipython3",
   "version": "3.7.10"
  },
  "papermill": {
   "default_parameters": {},
   "duration": 23.623853,
   "end_time": "2021-08-30T04:09:58.005381",
   "environment_variables": {},
   "exception": null,
   "input_path": "__notebook__.ipynb",
   "output_path": "__notebook__.ipynb",
   "parameters": {},
   "start_time": "2021-08-30T04:09:34.381528",
   "version": "2.3.3"
  }
 },
 "nbformat": 4,
 "nbformat_minor": 5
}
